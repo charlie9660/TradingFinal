{
 "cells": [
  {
   "cell_type": "markdown",
   "metadata": {},
   "source": [
    "Charles Deng 12334214\n",
    "\n",
    "Sosuke Kohda 12160736\n",
    "\n",
    "Owen Howell 12104004\n",
    "\n",
    "Holly Cao 12333838"
   ]
  },
  {
   "cell_type": "markdown",
   "metadata": {},
   "source": [
    "### This notebook performs feature selection"
   ]
  },
  {
   "cell_type": "code",
   "execution_count": 1,
   "metadata": {
    "ExecuteTime": {
     "end_time": "2020-03-03T02:04:18.675044Z",
     "start_time": "2020-03-03T02:04:15.120387Z"
    }
   },
   "outputs": [],
   "source": [
    "import pandas as pd\n",
    "import numpy as np\n",
    "import matplotlib.pyplot as plt\n",
    "%matplotlib inline\n",
    "from sklearn.metrics import accuracy_score, confusion_matrix\n",
    "from sklearn.tree import DecisionTreeClassifier\n",
    "from sklearn.ensemble import RandomForestClassifier\n",
    "from sklearn.ensemble import RandomForestRegressor\n",
    "import sklearn\n",
    "pd.set_option('use_inf_as_na', True)\n",
    "from collections import Counter\n",
    "\n",
    "import optuna\n",
    "from optuna.trial import Trial\n",
    "optuna.logging.set_verbosity(optuna.logging.FATAL)\n",
    "import warnings\n",
    "import pickle\n",
    "warnings.filterwarnings(\"ignore\")"
   ]
  },
  {
   "cell_type": "markdown",
   "metadata": {},
   "source": [
    "### Load data"
   ]
  },
  {
   "cell_type": "code",
   "execution_count": 2,
   "metadata": {
    "ExecuteTime": {
     "end_time": "2020-03-03T02:04:21.903526Z",
     "start_time": "2020-03-03T02:04:19.923963Z"
    }
   },
   "outputs": [],
   "source": [
    "raw_data = pd.read_pickle(r'data_new.pickle')\n",
    "data = raw_data.copy()\n",
    "data.fillna(0.0,inplace=True)\n",
    "data.iloc[:,1:] = data.iloc[:,1:].apply(pd.to_numeric)"
   ]
  },
  {
   "cell_type": "code",
   "execution_count": 3,
   "metadata": {
    "ExecuteTime": {
     "end_time": "2020-03-03T02:04:24.516696Z",
     "start_time": "2020-03-03T02:04:24.512695Z"
    }
   },
   "outputs": [],
   "source": [
    "def f(x):\n",
    "    if x > 0.01:\n",
    "        return 1\n",
    "    elif x < -0.01:\n",
    "        return -1\n",
    "    else:\n",
    "    \n",
    "        return 0"
   ]
  },
  {
   "cell_type": "code",
   "execution_count": 4,
   "metadata": {
    "ExecuteTime": {
     "end_time": "2020-03-03T02:04:30.421746Z",
     "start_time": "2020-03-03T02:04:30.370536Z"
    }
   },
   "outputs": [],
   "source": [
    "data['rel_performance'] = data['ret'].apply(f)\n",
    "data.reset_index(inplace=True,)\n",
    "data.set_index('statistic_date',inplace=True)"
   ]
  },
  {
   "cell_type": "code",
   "execution_count": 5,
   "metadata": {
    "ExecuteTime": {
     "end_time": "2020-03-03T02:04:34.295145Z",
     "start_time": "2020-03-03T02:04:34.274571Z"
    }
   },
   "outputs": [],
   "source": [
    "df_1 = data.loc['2017-01-01':'2020-01-01']\n",
    "df_valid = data.loc['2020-01-01':'2020-06-01']\n",
    "df_test = data.loc['2020-06-01':'2022-07-01']"
   ]
  },
  {
   "cell_type": "code",
   "execution_count": 6,
   "metadata": {
    "ExecuteTime": {
     "end_time": "2020-03-03T02:04:37.819124Z",
     "start_time": "2020-03-03T02:04:37.692118Z"
    }
   },
   "outputs": [],
   "source": [
    "train_1 = df_1.reset_index().drop(['index','fund_id','ret','rel_performance','ret_2m','ret_3m','statistic_date'],axis=1)\n",
    "valid = df_valid.reset_index().drop(['index','fund_id','ret','rel_performance','ret_2m','ret_3m','statistic_date'],axis=1)\n",
    "test = df_test.reset_index().drop(['index','fund_id','ret','rel_performance','ret_2m','ret_3m','statistic_date'],axis=1)"
   ]
  },
  {
   "cell_type": "code",
   "execution_count": 7,
   "metadata": {
    "ExecuteTime": {
     "end_time": "2020-03-03T02:04:41.533183Z",
     "start_time": "2020-03-03T02:04:41.527143Z"
    }
   },
   "outputs": [],
   "source": [
    "train_1_stock_returns = df_1['ret']\n",
    "valid_stock_returns = df_valid['ret']\n",
    "test_stock_returns = df_test['ret']\n",
    "\n",
    "y_1 = df_1['rel_performance']\n",
    "y_valid = df_valid['rel_performance']\n",
    "y_test = df_test['rel_performance']\n",
    "\n",
    "y_1 = y_1.values\n",
    "y_valid = y_valid.values\n",
    "y_test = y_test.values"
   ]
  },
  {
   "cell_type": "markdown",
   "metadata": {},
   "source": [
    "### Optuna objective function"
   ]
  },
  {
   "cell_type": "code",
   "execution_count": 8,
   "metadata": {
    "ExecuteTime": {
     "end_time": "2020-02-09T18:42:30.850795Z",
     "start_time": "2020-02-09T18:42:30.843799Z"
    }
   },
   "outputs": [],
   "source": [
    "def profit_importance(m,df,rets):\n",
    "    \"\"\" Compute profit importance as mean profit of 100 trials on shuffled feature.\n",
    "    :param m: classifer\n",
    "    :param df: dataframe containing features\n",
    "    :param rets: returns\n",
    "    return: arary of profit scores for the input features\n",
    "    \"\"\"\n",
    "    profit = []\n",
    "    for col in df.columns:\n",
    "        prof = []\n",
    "        for _ in range(100):\n",
    "            X = df.copy()\n",
    "            X[col] = np.random.permutation(df[col].values)\n",
    "            prediction = m.predict(X)\n",
    "            prof.append((prediction * rets).sum())\n",
    "        profit.append(np.mean(prof))\n",
    "    return profit"
   ]
  },
  {
   "cell_type": "code",
   "execution_count": 9,
   "metadata": {
    "ExecuteTime": {
     "end_time": "2020-02-11T00:48:51.812297Z",
     "start_time": "2020-02-11T00:48:51.806329Z"
    }
   },
   "outputs": [],
   "source": [
    "def randomforest_profit_importance(m, df,rets):\n",
    "    \"\"\" Compute profit importance as mean profit of 100 trials on shuffled feature.\n",
    "    :param m: classifer\n",
    "    :param df: dataframe containing features\n",
    "    :param rets: returns\n",
    "    return: dataframe of profit scores for the input features\n",
    "    \"\"\"\n",
    "    return pd.DataFrame({'cols':df.columns, 'pi_imp':profit_importance(m,df,rets)}\n",
    "                       ).sort_values('pi_imp', ascending=True)"
   ]
  },
  {
   "cell_type": "code",
   "execution_count": 20,
   "metadata": {
    "ExecuteTime": {
     "end_time": "2020-02-11T00:30:26.233418Z",
     "start_time": "2020-02-11T00:30:26.207352Z"
    }
   },
   "outputs": [],
   "source": [
    "def randomforest_feat_importances(m, df):\n",
    "    \"\"\" Return importance of the features from randomforest library\n",
    "    :param m: classifer\n",
    "    :param df: dataframe containing features\n",
    "    return: dataframe of profit scores for the input features\n",
    "    \"\"\"\n",
    "    return pd.DataFrame({'cols':df.columns, 'feat_imp': m.feature_importances_}\n",
    "                       ).sort_values('feat_imp', ascending=False)\n",
    "\n",
    "def plot_fi(fi): return fi.plot('cols', 'feat_imp', 'barh', figsize=(12,7), legend=False)"
   ]
  },
  {
   "cell_type": "code",
   "execution_count": 21,
   "metadata": {},
   "outputs": [],
   "source": [
    "def objective(trial:Trial,train=None,labels=None,val=None,val_labels=None,val_rets=None):\n",
    "    \"\"\" Objective function to perform Bayesian search using optuna\n",
    "    :param train: training data\n",
    "    :param labels: training labels\n",
    "    :param val: validation data\n",
    "    :param val_labels: validation data labels\n",
    "    :param val_rets: validation period returns (before being transformed into labels)\n",
    "    return: total profit on the validation set\n",
    "    \"\"\"\n",
    "    rf_n_estimators = trial.suggest_int('n_estimators', 10,40,step=5)\n",
    "    rf_max_features = trial.suggest_categorical('max_features',['sqrt','log2'])\n",
    "    rf_min_samples_leaf = trial.suggest_int('min_samples_leaf',800,2400,step=800)\n",
    "    rf_max_depth = trial.suggest_int('max_depth',4,15)\n",
    "    \n",
    "    rf_clf = RandomForestClassifier(n_estimators=rf_n_estimators,\n",
    "                                    max_depth=rf_max_depth,\n",
    "                                    min_samples_leaf=rf_min_samples_leaf,\n",
    "                                    max_features=rf_max_features)\n",
    "    rf_clf.fit(train,labels)\n",
    "    preds = rf_clf.predict(val)\n",
    "    profit = (preds * val_rets).sum()\n",
    " \n",
    "    return profit"
   ]
  },
  {
   "cell_type": "code",
   "execution_count": 12,
   "metadata": {},
   "outputs": [],
   "source": [
    "study = optuna.create_study(direction=\"maximize\")"
   ]
  },
  {
   "cell_type": "code",
   "execution_count": 13,
   "metadata": {},
   "outputs": [],
   "source": [
    "from functools import partial"
   ]
  },
  {
   "cell_type": "markdown",
   "metadata": {},
   "source": [
    "### Get Best Hyperparameters"
   ]
  },
  {
   "cell_type": "code",
   "execution_count": 17,
   "metadata": {},
   "outputs": [
    {
     "name": "stdout",
     "output_type": "stream",
     "text": [
      "CPU times: user 2min 42s, sys: 927 ms, total: 2min 43s\n",
      "Wall time: 27.4 s\n"
     ]
    }
   ],
   "source": [
    "%%time\n",
    "study.optimize(partial(objective,train=train_1,labels=y_1,val=valid,val_labels=y_valid,val_rets=valid_stock_returns), n_trials=100,n_jobs=-1)"
   ]
  },
  {
   "cell_type": "code",
   "execution_count": 15,
   "metadata": {
    "scrolled": true
   },
   "outputs": [
    {
     "data": {
      "text/plain": [
       "{'n_estimators': 10,\n",
       " 'max_features': 'sqrt',\n",
       " 'min_samples_leaf': 800,\n",
       " 'max_depth': 4}"
      ]
     },
     "execution_count": 15,
     "metadata": {},
     "output_type": "execute_result"
    }
   ],
   "source": [
    "study.best_params"
   ]
  },
  {
   "cell_type": "code",
   "execution_count": 18,
   "metadata": {},
   "outputs": [],
   "source": [
    "start_dates = [pd.to_datetime('2017-01-01') + pd.DateOffset(months = 1 * i) for i in range(54)]\n",
    "end_dates = [d + pd.DateOffset(months = 6) for d in start_dates]\n",
    "\n",
    "training_frames = [data.loc[d.strftime(\"%Y-%m-%d\"):(d+pd.DateOffset(months = 6)).strftime(\"%Y-%m-%d\")] for d in start_dates]\n",
    "validation_frames = [data.loc[d.strftime(\"%Y-%m-%d\"):(d+pd.DateOffset(months = 3)).strftime(\"%Y-%m-%d\")] for d in end_dates]\n",
    "test_frames =  [data.loc[(d+pd.DateOffset(months = 3)).strftime(\"%Y-%m-%d\"):(d+pd.DateOffset(months = 4)).strftime(\"%Y-%m-%d\")] for d in end_dates]\n",
    "\n",
    "training_data = [d.reset_index().drop\n",
    "                                 (['index','fund_id','ret','rel_performance','ret_2m','ret_3m','statistic_date'],axis=1) for d in training_frames]\n",
    "\n",
    "validation_data = [d.reset_index().drop(['index','fund_id','ret','rel_performance','ret_2m','ret_3m','statistic_date'],axis=1) for d in validation_frames]\n",
    "\n",
    "test_data = [d.reset_index().drop(['index','fund_id','ret','rel_performance','ret_2m','ret_3m','statistic_date'],axis=1) for d in test_frames]\n",
    "\n",
    "training_labels = [d['rel_performance'].values for d in training_frames]\n",
    "validation_labels = [d['rel_performance'].values for d in validation_frames]"
   ]
  },
  {
   "cell_type": "markdown",
   "metadata": {},
   "source": [
    "## Compute optimal features at each Month"
   ]
  },
  {
   "cell_type": "code",
   "execution_count": 19,
   "metadata": {},
   "outputs": [
    {
     "name": "stdout",
     "output_type": "stream",
     "text": [
      "Month 0\n",
      "Index(['year_n_earning_days', 'm3_con_fall_days', 'm3_excess_a',\n",
      "       'y1_return_Msqr', 'year_kurtosis', 'y1_max_return', 'm6_return',\n",
      "       'm3_max_return', 'year_return', 'y1_return'],\n",
      "      dtype='object')\n",
      "42.05089211394887\n",
      "Month 1\n",
      "Index(['year_persistence', 'total_assets', 'year_p_earning_days',\n",
      "       'year_max_return', 'org_compensation_payable', 'stock_income',\n",
      "       'transaction_monetary_assets', 'trustee_payable', 'paid_up_capital',\n",
      "       'y1_ERCVaR', 'y1_return_a', 'm6_return_a', 'total_VaR', 'y1_sor_a'],\n",
      "      dtype='object')\n",
      "10.926265391410984\n",
      "Month 2\n",
      "Index(['total_liabilities_and_owners_equity', 'bank_deposit', 'y1_downsidecap',\n",
      "       'refundable_deposits', 'owner_equity', 'year_stdev',\n",
      "       'year_max_drawdown', 'm6_downsidecap', 'year_con_rise_days',\n",
      "       'org_compensation_payable'],\n",
      "      dtype='object')\n",
      "5.228057872585589\n",
      "Month 3\n",
      "Index(['year_max_return', 'm6_beta', 'm6_timing_hm', 'm6_average_drawdown',\n",
      "       'm6_max_return', 'm6_sharpe_a', 'm6_pain_index', 'y1_max_return',\n",
      "       'y1_beta_timing_camp', 'm3_tracking_error_a', 'year_return',\n",
      "       'y1_corr_spearman', 'y1_max_drawdown'],\n",
      "      dtype='object')\n",
      "8.117168886862988\n",
      "Month 4\n",
      "Index(['m3_min_return', 'm3_dd_a', 'm6_timing_hm', 'm6_ERVaR',\n",
      "       'm3_p_earning_days', 'year_con_rise_days', 'm6_stdev_a',\n",
      "       'm3_n_earning_days', 'm3_ERVaR', 'm6_unsys_risk',\n",
      "       'total_corr_spearman'],\n",
      "      dtype='object')\n",
      "-2.0268886384859814\n",
      "Month 5\n",
      "Index(['m3_corr', 'm6_corr', 'm6_upbeta_cl', 'year_p_earning_days',\n",
      "       'year_persistence', 'm6_timing_hm', 'm6_stdev_a', 'year_max_drawdown',\n",
      "       'm6_unsys_risk', 'y1_kappa_a'],\n",
      "      dtype='object')\n",
      "-8.064592479377474\n",
      "Month 6\n",
      "Index(['m6_stdev', 'm3_corr', 'm3_sor_a', 'm3_beta', 'y1_kappa_a', 'm6_corr',\n",
      "       'year_min_return', 'm3_stdev_a', 'year_max_drawdown',\n",
      "       'total_tracking_error_a', 'm6_persistence', 'm6_skewness',\n",
      "       'm3_tracking_error_a', 'm6_tracking_error_a'],\n",
      "      dtype='object')\n",
      "-47.27432293224201\n",
      "Month 7\n",
      "Index(['year_return', 'm6_odds', 'year_odds', 'year_min_return',\n",
      "       'year_p_earning_days', 'y1_info_a', 'm6_max_return',\n",
      "       'year_max_drawdown', 'y1_CVaR', 'total_odds', 'y1_sor_a'],\n",
      "      dtype='object')\n",
      "19.5369107179662\n",
      "Month 8\n",
      "Index(['year_skewness', 'm3_stdev', 'y1_return_a', 'm6_sharpe_a', 'm3_return',\n",
      "       'm3_tracking_error_a'],\n",
      "      dtype='object')\n",
      "64.59104811463445\n",
      "Month 9\n",
      "Index(['year_con_rise_days', 'm3_tr_a', 'm6_average_drawdown', 'm6_dd_a',\n",
      "       'm6_VaR', 'm6_timing_hm', 'm6_min_return'],\n",
      "      dtype='object')\n",
      "42.22594949345341\n",
      "Month 10\n",
      "Index(['m3_dd_a', 'm3_stdev_a', 'y1_mdd_time'], dtype='object')\n",
      "88.24237852080185\n",
      "Month 11\n",
      "Index(['m3_stdev', 'm6_max_drawdown', 'm3_max_return', 'm3_max_drawdown',\n",
      "       'm6_dd_a', 'm3_sor_a', 'm3_ERVaR', 'y1_dd_a', 'm6_assess_ratio',\n",
      "       'm6_ERCVaR', 'm6_hurst', 'y1_corr_spearman'],\n",
      "      dtype='object')\n",
      "32.93242627743898\n",
      "Month 12\n",
      "Index(['y1_tr_a', 'm3_ERVaR', 'm3_stdev', 'y1_return', 'y1_kappa_a',\n",
      "       'm6_mdd_time', 'm6_kappa_a', 'm6_upbeta_cl', 'm3_VaR', 'm6_ERCVaR',\n",
      "       'total_assess_ratio', 'y1_burke_a', 'm3_max_return', 'm6_excess_a'],\n",
      "      dtype='object')\n",
      "97.5048097519946\n",
      "Month 13\n",
      "Index(['m3_stdev_a', 'm3_beta', 'm3_stdev', 'm3_ERVaR', 'm3_persistence',\n",
      "       'm3_corr', 'm3_tr_a', 'm3_sor_a', 'm6_average_drawdown', 'm3_return_a',\n",
      "       'm3_max_return', 'year_stdev', 'total_stdev_a'],\n",
      "      dtype='object')\n",
      "42.39641524007072\n",
      "Month 14\n",
      "Index(['m3_return_a', 'm3_return', 'm3_max_return', 'm3_ERVaR',\n",
      "       'quarter_return', 'm3_con_fall_days', 'm3_p_earning_days', 'm3_dd_a',\n",
      "       'year_skewness', 'm3_info_a', 'm6_tr_a'],\n",
      "      dtype='object')\n",
      "84.70139991632996\n",
      "Month 15\n",
      "Index(['m3_ERVaR', 'm3_skewness', 'm3_stdev_a', 'm3_excess_a', 'm3_tr_a',\n",
      "       'year_skewness', 'm6_pain_ratio', 'm3_unsys_risk', 'm6_burke_a',\n",
      "       'year_p_earning_days', 'total_corr', 'm3_dd_a'],\n",
      "      dtype='object')\n",
      "-5.993839450978459\n",
      "Month 16\n",
      "Index(['m3_VaR'], dtype='object')\n",
      "-4.393196407824548\n",
      "Month 17\n",
      "Index(['m3_sharpe_a', 'm3_skewness', 'm3_return_a', 'm3_tr_a', 'm6_pain_index',\n",
      "       'm6_average_drawdown', 'year_stdev', 'm3_dd_a', 'm6_VaR'],\n",
      "      dtype='object')\n",
      "-189.21840640618268\n",
      "Month 18\n",
      "Index(['m3_sharpe_a', 'y1_kappa_a', 'm6_mdd_time', 'm3_n_earning_days',\n",
      "       'y1_sharpe_a', 'y1_n_earning_days', 'm3_tr_a', 'm6_upsidecap',\n",
      "       'm3_stdev', 'm3_ERVaR', 'm3_return_a', 'quarter_return',\n",
      "       'm6_pain_index', 'm6_max_drawdown'],\n",
      "      dtype='object')\n",
      "-106.39260669115995\n",
      "Month 19\n",
      "Index(['total_mdd_time', 'y1_downsidecap'], dtype='object')\n",
      "3.695128725244184\n",
      "Month 20\n",
      "Index(['y1_info_a', 'm3_sharpe_a', 'y1_ERCVaR', 'm3_max_drawdown'], dtype='object')\n",
      "-0.4019000632648835\n",
      "Month 21\n",
      "Index(['m6_kurtosis', 'y1_mdd_time', 'm6_ERCVaR', 'total_mdd_time',\n",
      "       'm6_return_Msqr', 'year_skewness', 'm3_kurtosis', 'm6_info_a',\n",
      "       'm6_burke_a', 'm3_sharpe_a'],\n",
      "      dtype='object')\n",
      "4.400149923610856\n",
      "Month 22\n",
      "Index(['year_odds', 'y1_hurst', 'year_con_rise_days', 'year_min_return',\n",
      "       'year_kurtosis', 'm6_sterling_a', 'y1_omega', 'm3_return',\n",
      "       'y1_adjusted_jensen_a', 'm6_info_a', 'other_liabilities'],\n",
      "      dtype='object')\n",
      "45.782706721647735\n",
      "Month 23\n",
      "Index(['m6_info_a', 'm6_return', 'm3_excess_a'], dtype='object')\n",
      "30.892298183004847\n",
      "Month 24\n",
      "Index(['m6_mdd_time'], dtype='object')\n",
      "33.797621670485775\n",
      "Month 25\n",
      "Index(['y1_tr_a'], dtype='object')\n",
      "17.443078372805843\n",
      "Month 26\n",
      "Index(['m6_max_drawdown', 'm6_burke_a', 'm6_ERVaR', 'm6_min_return',\n",
      "       'm3_max_return', 'year_max_drawdown', 'quarter_return',\n",
      "       'm6_average_drawdown', 'm3_kurtosis'],\n",
      "      dtype='object')\n",
      "51.40958490961608\n",
      "Month 27\n",
      "Index(['m3_dd_a', 'm6_min_return', 'm6_ddr3_a', 'm6_VaR', 'm6_max_drawdown',\n",
      "       'm3_excess_a', 'm3_min_return', 'm3_jensen_a', 'm3_stdev_a',\n",
      "       'quarter_return', 'm3_tr_a', 'year_odds', 'm3_skewness',\n",
      "       'total_unsys_risk', 'y1_unsys_risk'],\n",
      "      dtype='object')\n",
      "71.2758701379579\n",
      "Month 28\n",
      "Index(['y1_ERVaR', 'total_unsys_risk', 'asset'], dtype='object')\n",
      "86.83139188379906\n",
      "Month 29\n",
      "Index(['y1_burke_a', 'y1_sor_a', 'm6_excess_a', 'm6_excess_pl'], dtype='object')\n",
      "-28.083776807814974\n",
      "Month 30\n",
      "Index(['y1_mdd_time', 'y1_corr_spearman'], dtype='object')\n",
      "15.886094220091938\n",
      "Month 31\n",
      "Index(['m3_excess_a', 'm3_unsys_risk', 'm6_adjusted_jensen_a', 'm3_return_a',\n",
      "       'm6_s_security', 'm6_stock_hm', 'm6_excess_a', 'y1_return_a', 'm3_corr',\n",
      "       'm6_max_drawdown', 'm6_min_return', 'y1_calmar_a',\n",
      "       'total_corr_spearman', 'm6_dd_a', 'y1_ERCVaR'],\n",
      "      dtype='object')\n",
      "9.18400938949999\n",
      "Month 32\n",
      "Index(['year_kurtosis', 'total_corr_spearman', 'm6_s_security',\n",
      "       'year_persistence', 'm3_stdev_a', 'm6_skewness', 'm6_corr',\n",
      "       'm3_con_rise_days', 'm6_mdd_time', 'm6_excess_a', 'm3_VaR',\n",
      "       'm6_excess_pl', 'm3_max_return', 'm3_kurtosis'],\n",
      "      dtype='object')\n",
      "54.790505805343194\n",
      "Month 33\n",
      "Index(['year_kurtosis', 'm6_skewness', 'year_persistence', 'm6_con_rise_days',\n",
      "       'year_stdev', 'm3_unsys_risk', 'year_n_earning_days',\n",
      "       'y1_con_rise_days', 'm3_min_return', 'm6_beta', 'm3_corr', 'total_corr',\n",
      "       'total_con_fall_days', 'm3_skewness'],\n",
      "      dtype='object')\n",
      "102.22363608281339\n",
      "Month 34\n",
      "Index(['year_con_rise_days', 'm3_stdev_a', 'm3_skewness', 'y1_unsys_risk',\n",
      "       'quarter_return', 'm6_return_a', 'm6_tracking_error_a',\n",
      "       'm6_sterling_a'],\n",
      "      dtype='object')\n",
      "119.92617385693683\n",
      "Month 35\n",
      "Index(['total_unsys_risk', 'm3_skewness', 'fee'], dtype='object')\n",
      "81.39905846961804\n",
      "Month 36\n",
      "Index(['m3_skewness'], dtype='object')\n",
      "13.685117552027062\n",
      "Month 37\n",
      "Index(['year_max_drawdown', 'm3_min_return', 'y1_hurst', 'm6_ddr3_a'], dtype='object')\n",
      "3.774247581065076\n",
      "Month 38\n",
      "Index(['y1_stdev', 'year_return', 'm6_calmar_a', 'year_p_earning_days',\n",
      "       'm6_kurtosis', 'year_odds', 'y1_calmar_a', 'm6_tracking_error_a',\n",
      "       'm6_return_Msqr', 'm6_p_earning_days', 'm6_mdd_time'],\n",
      "      dtype='object')\n",
      "88.41030098501386\n",
      "Month 39\n",
      "Index(['m3_dd_a', 'm3_sharpe_a', 'm6_stdev', 'm3_con_rise_days', 'year_odds',\n",
      "       'quarter_return'],\n",
      "      dtype='object')\n",
      "111.39878093099504\n",
      "Month 40\n",
      "Index(['m3_return_a', 'm6_con_rise_days', 'm3_max_drawdown', 'm3_VaR'], dtype='object')\n",
      "74.32542502948777\n",
      "Month 41\n",
      "Index(['m3_tr_a'], dtype='object')\n",
      "13.35367089505004\n",
      "Month 42\n"
     ]
    },
    {
     "name": "stdout",
     "output_type": "stream",
     "text": [
      "Index(['m3_ERVaR', 'm3_sharpe_a'], dtype='object')\n",
      "24.967713604741313\n",
      "Month 43\n",
      "Index(['m3_ERVaR'], dtype='object')\n",
      "58.24350333740057\n",
      "Month 44\n",
      "Index(['year_skewness', 'm6_info_a', 'year_p_earning_days', 'quarter_return',\n",
      "       'm6_tr_a', 'year_max_drawdown', 'year_n_earning_days', 'm6_burke_a',\n",
      "       'm6_ddr3_a', 'm6_CVaR', 'm3_return', 'm6_s_security'],\n",
      "      dtype='object')\n",
      "74.67034475102575\n",
      "Month 45\n",
      "Index(['total_tracking_error_a', 'm6_info_a', 'total_corr_spearman', 'm6_VaR',\n",
      "       'm3_sharpe_a', 'm6_adjusted_jensen_a', 'm3_sor_a', 'm3_jensen_a',\n",
      "       'quarter_return', 'm6_ddr3_a', 'm6_assess_ratio', 'total_odds',\n",
      "       'm3_n_earning_days'],\n",
      "      dtype='object')\n",
      "34.151587212256345\n",
      "Month 46\n",
      "Index(['m3_return', 'year_max_return', 'y1_ERVaR', 'm3_jensen_a'], dtype='object')\n",
      "10.603307679411467\n",
      "Month 47\n",
      "Index(['m3_max_drawdown', 'm3_return_a', 'm3_info_a', 'year_odds'], dtype='object')\n",
      "2.7449859027604546\n",
      "Month 48\n",
      "Index(['m3_con_rise_days', 'y1_timing_hm'], dtype='object')\n",
      "37.943361856637864\n",
      "Month 49\n",
      "Index(['m3_con_rise_days', 'm3_con_fall_days', 'year_p_earning_days',\n",
      "       'm3_persistence'],\n",
      "      dtype='object')\n",
      "30.92396694614321\n",
      "Month 50\n",
      "Index(['m3_persistence', 'm6_excess_a', 'm3_con_fall_days', 'y1_upbeta_cl',\n",
      "       'quarter_return'],\n",
      "      dtype='object')\n",
      "32.021316307127684\n",
      "Month 51\n",
      "Index(['m3_con_fall_days', 'year_p_earning_days', 'm3_persistence',\n",
      "       'm6_assess_ratio', 'm6_return_a', 'y1_info_a'],\n",
      "      dtype='object')\n",
      "17.189998067817914\n",
      "Month 52\n",
      "Index(['m3_max_drawdown'], dtype='object')\n",
      "38.813500130083\n",
      "Month 53\n",
      "Index(['quarter_return', 'm3_persistence'], dtype='object')\n",
      "10.780090113707093\n"
     ]
    }
   ],
   "source": [
    "optimal_features = []\n",
    "classifiers = []\n",
    "\n",
    "for i in range(len(training_data)):\n",
    "    print('Month ' + str(i))\n",
    "    #     study = optuna.create_study(direction=\"maximize\")\n",
    "    #     study.optimize(partial(objective,train=training_data[i],\n",
    "    #                            labels=training_labels[i],\n",
    "    #                            val=validation_data[i],\n",
    "    #                            val_labels=validation_labels[i],\n",
    "    #                            val_rets = validation_frames[i]['ret']),\n",
    "    #                            n_trials=100,n_jobs=-1)\n",
    "\n",
    "    #     params_1 = study.best_params\n",
    "    #     print(params_1)\n",
    "    params = study.best_params\n",
    "    \n",
    "    rf_clf = RandomForestClassifier(**params)\n",
    "\n",
    "    classifiers.append(rf_clf)\n",
    "    \n",
    "    rf_clf.fit(training_data[i],training_labels[i])\n",
    "    fi = randomforest_feat_importances(rf_clf,training_data[i])\n",
    "    features = fi[fi['feat_imp'] > 0.000]\n",
    "    \n",
    "    train = training_data[i][features['cols'].values].copy()\n",
    "    validation = validation_data[i][features['cols'].values].copy()\n",
    "    \n",
    "    \n",
    "    profits = []\n",
    "    feat=[]\n",
    "    \n",
    "    rf_clf.fit(train,training_labels[i])\n",
    "    \n",
    "    while len(train.columns)>1:\n",
    "        \n",
    "        pi = randomforest_profit_importance(rf_clf,validation,validation_frames[i]['ret'])\n",
    "        col_to_drop = pi.iloc[-1]['cols']\n",
    "        train.drop(col_to_drop,axis=1,inplace=True)\n",
    "        validation.drop(col_to_drop,axis=1,inplace=True)\n",
    "        \n",
    "        rf_clf.fit(train,training_labels[i])\n",
    "        pred_valid = rf_clf.predict(validation)\n",
    "        profits.append((pred_valid * validation_frames[i]['ret']).sum())\n",
    "        feat.append(train.columns)\n",
    "        \n",
    "    n = np.argmax(profits)\n",
    "\n",
    "    max_profits = profits[n]\n",
    "\n",
    "    optim_feats = feat[n]\n",
    "    \n",
    "    print(optim_feats)\n",
    "    print(max_profits)\n",
    "\n",
    "    optimal_features.append(optim_feats)"
   ]
  },
  {
   "cell_type": "markdown",
   "metadata": {},
   "source": [
    "### Trading each month using optimized feature with equal weight ( for preliminary assessment) "
   ]
  },
  {
   "cell_type": "code",
   "execution_count": 67,
   "metadata": {},
   "outputs": [],
   "source": [
    "P_L = []\n",
    "x = [0,1]\n",
    "ret = []\n",
    "\n",
    "for i in range(1,len(optimal_features)-1):\n",
    "\n",
    "        classifiers[i-1].fit(training_data[i][optimal_features[i-1]],training_labels[i])\n",
    "        pred_i = classifiers[i-1].predict(test_data[i][optimal_features[i-1]])\n",
    "        \n",
    "        profit_i = (pred_i * test_frames[i]['ret']).sum()\n",
    "        P_L.append(profit_i)\n",
    "        positions = np.sum(np.abs(pred_i))\n",
    "        \n",
    "        ret.append((1.0/positions) * profit_i)\n",
    "        x.append(x[i] + (x[i]/positions) * profit_i)"
   ]
  },
  {
   "cell_type": "code",
   "execution_count": 68,
   "metadata": {
    "scrolled": true
   },
   "outputs": [
    {
     "data": {
      "image/png": "[encoded data removed]",
      "text/plain": [
       "<Figure size 432x288 with 1 Axes>"
      ]
     },
     "metadata": {
      "needs_background": "light"
     },
     "output_type": "display_data"
    }
   ],
   "source": [
    "plt.plot(x[1:]);"
   ]
  },
  {
   "cell_type": "code",
   "execution_count": 69,
   "metadata": {},
   "outputs": [],
   "source": [
    "opt = [np.array(optimal_features[i]) for i in range(len(optimal_features))]\n",
    "ordered_feat = Counter(np.concatenate(opt,axis=0)).most_common()\n",
    "most_common_feat = [x[0] for x in ordered_feat if x[1]>5]"
   ]
  },
  {
   "cell_type": "code",
   "execution_count": 70,
   "metadata": {},
   "outputs": [
    {
     "data": {
      "text/plain": [
       "['m3_min_return',\n",
       " 'm3_return_a',\n",
       " 'quarter_return',\n",
       " 'm3_dd_a',\n",
       " 'm3_max_return',\n",
       " 'm3_ERVaR',\n",
       " 'm3_tr_a',\n",
       " 'm6_stdev',\n",
       " 'm3_stdev',\n",
       " 'm3_VaR',\n",
       " 'm3_sharpe_a',\n",
       " 'year_max_drawdown',\n",
       " 'year_min_return',\n",
       " 'year_p_earning_days',\n",
       " 'year_return',\n",
       " 'm3_return',\n",
       " 'm3_max_drawdown',\n",
       " 'year_kurtosis',\n",
       " 'm6_min_return',\n",
       " 'total_corr_spearman',\n",
       " 'year_n_earning_days',\n",
       " 'm6_pain_index',\n",
       " 'year_con_rise_days',\n",
       " 'm3_corr',\n",
       " 'y1_sterling_a',\n",
       " 'm6_assess_ratio',\n",
       " 'm3_sor_a',\n",
       " 'year_skewness',\n",
       " 'm3_unsys_risk',\n",
       " 'm3_con_fall_days']"
      ]
     },
     "execution_count": 70,
     "metadata": {},
     "output_type": "execute_result"
    }
   ],
   "source": [
    "most_common_feat"
   ]
  },
  {
   "cell_type": "code",
   "execution_count": 76,
   "metadata": {},
   "outputs": [],
   "source": [
    "with open('rf_optimal_features_monthly.pickle','wb') as f:\n",
    "    pickle.dump(optimal_features, f)"
   ]
  }
 ],
 "metadata": {
  "kernelspec": {
   "display_name": "Python 3 (ipykernel)",
   "language": "python",
   "name": "python3"
  },
  "language_info": {
   "codemirror_mode": {
    "name": "ipython",
    "version": 3
   },
   "file_extension": ".py",
   "mimetype": "text/x-python",
   "name": "python",
   "nbconvert_exporter": "python",
   "pygments_lexer": "ipython3",
   "version": "3.9.7"
  },
  "latex_envs": {
   "LaTeX_envs_menu_present": true,
   "autoclose": false,
   "autocomplete": true,
   "bibliofile": "biblio.bib",
   "cite_by": "apalike",
   "current_citInitial": 1,
   "eqLabelWithNumbers": true,
   "eqNumInitial": 1,
   "hotkeys": {
    "equation": "Ctrl-E",
    "itemize": "Ctrl-I"
   },
   "labels_anchors": false,
   "latex_user_defs": false,
   "report_style_numbering": false,
   "user_envs_cfg": false
  }
 },
 "nbformat": 4,
 "nbformat_minor": 2
}
