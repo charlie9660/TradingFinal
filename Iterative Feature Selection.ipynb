{
 "cells": [
  {
   "cell_type": "code",
   "execution_count": 80,
   "metadata": {
    "ExecuteTime": {
     "end_time": "2020-03-03T02:04:18.675044Z",
     "start_time": "2020-03-03T02:04:15.120387Z"
    }
   },
   "outputs": [],
   "source": [
    "import pandas as pd\n",
    "import numpy as np\n",
    "import matplotlib.pyplot as plt\n",
    "%matplotlib inline\n",
    "from sklearn.metrics import accuracy_score, confusion_matrix\n",
    "from sklearn.tree import DecisionTreeClassifier\n",
    "from sklearn.ensemble import RandomForestClassifier\n",
    "import sklearn\n",
    "pd.set_option('use_inf_as_na', True)\n",
    "from collections import Counter\n",
    "\n",
    "import optuna\n",
    "from optuna.trial import Trial\n",
    "optuna.logging.set_verbosity(optuna.logging.FATAL)\n",
    "import warnings\n",
    "import pickle\n",
    "warnings.filterwarnings(\"ignore\")"
   ]
  },
  {
   "cell_type": "markdown",
   "metadata": {},
   "source": [
    "### Load data"
   ]
  },
  {
   "cell_type": "code",
   "execution_count": 81,
   "metadata": {
    "ExecuteTime": {
     "end_time": "2020-03-03T02:04:21.903526Z",
     "start_time": "2020-03-03T02:04:19.923963Z"
    }
   },
   "outputs": [],
   "source": [
    "raw_data = pd.read_pickle(r'data_new.pickle')\n",
    "data = raw_data.copy()\n",
    "data.fillna(0.0,inplace=True)\n",
    "data.iloc[:,1:] = data.iloc[:,1:].apply(pd.to_numeric)"
   ]
  },
  {
   "cell_type": "code",
   "execution_count": 82,
   "metadata": {
    "ExecuteTime": {
     "end_time": "2020-03-03T02:04:24.516696Z",
     "start_time": "2020-03-03T02:04:24.512695Z"
    }
   },
   "outputs": [],
   "source": [
    "def f(x):\n",
    "    if x > 0.01:\n",
    "        return 1\n",
    "    elif x < -0.01:\n",
    "        return -1\n",
    "    else:\n",
    "    \n",
    "        return 0"
   ]
  },
  {
   "cell_type": "code",
   "execution_count": 83,
   "metadata": {
    "ExecuteTime": {
     "end_time": "2020-03-03T02:04:30.421746Z",
     "start_time": "2020-03-03T02:04:30.370536Z"
    }
   },
   "outputs": [],
   "source": [
    "data['rel_performance'] = data['ret'].apply(f)\n",
    "data.reset_index(inplace=True,)\n",
    "data.set_index('statistic_date',inplace=True)"
   ]
  },
  {
   "cell_type": "code",
   "execution_count": 5,
   "metadata": {
    "ExecuteTime": {
     "end_time": "2020-03-03T02:04:34.295145Z",
     "start_time": "2020-03-03T02:04:34.274571Z"
    }
   },
   "outputs": [
    {
     "name": "stderr",
     "output_type": "stream",
     "text": [
      "/var/folders/sj/x531msr155b2cnd1db8frnr00000gn/T/ipykernel_85603/2205254966.py:1: FutureWarning: Value based partial slicing on non-monotonic DatetimeIndexes with non-existing keys is deprecated and will raise a KeyError in a future Version.\n",
      "  df_1 = data.loc['2017-01-01':'2020-01-01']\n",
      "/var/folders/sj/x531msr155b2cnd1db8frnr00000gn/T/ipykernel_85603/2205254966.py:2: FutureWarning: Value based partial slicing on non-monotonic DatetimeIndexes with non-existing keys is deprecated and will raise a KeyError in a future Version.\n",
      "  df_valid = data.loc['2020-01-01':'2020-06-01']\n",
      "/var/folders/sj/x531msr155b2cnd1db8frnr00000gn/T/ipykernel_85603/2205254966.py:3: FutureWarning: Value based partial slicing on non-monotonic DatetimeIndexes with non-existing keys is deprecated and will raise a KeyError in a future Version.\n",
      "  df_test = data.loc['2020-06-01':'2022-07-01']\n"
     ]
    }
   ],
   "source": [
    "df_1 = data.loc['2017-01-01':'2020-01-01']\n",
    "df_valid = data.loc['2020-01-01':'2020-06-01']\n",
    "df_test = data.loc['2020-06-01':'2022-07-01']"
   ]
  },
  {
   "cell_type": "code",
   "execution_count": 6,
   "metadata": {
    "ExecuteTime": {
     "end_time": "2020-03-03T02:04:37.819124Z",
     "start_time": "2020-03-03T02:04:37.692118Z"
    }
   },
   "outputs": [],
   "source": [
    "train_1 = df_1.reset_index().drop(['index','fund_id','ret','rel_performance','ret_2m','ret_3m','statistic_date'],axis=1)\n",
    "valid = df_valid.reset_index().drop(['index','fund_id','ret','rel_performance','ret_2m','ret_3m','statistic_date'],axis=1)\n",
    "test = df_test.reset_index().drop(['index','fund_id','ret','rel_performance','ret_2m','ret_3m','statistic_date'],axis=1)"
   ]
  },
  {
   "cell_type": "code",
   "execution_count": 7,
   "metadata": {
    "ExecuteTime": {
     "end_time": "2020-03-03T02:04:41.533183Z",
     "start_time": "2020-03-03T02:04:41.527143Z"
    }
   },
   "outputs": [],
   "source": [
    "train_1_stock_returns = df_1['ret']\n",
    "valid_stock_returns = df_valid['ret']\n",
    "test_stock_returns = df_test['ret']\n",
    "\n",
    "y_1 = df_1['rel_performance']\n",
    "y_valid = df_valid['rel_performance']\n",
    "y_test = df_test['rel_performance']\n",
    "\n",
    "y_1 = y_1.values\n",
    "y_valid = y_valid.values\n",
    "y_test = y_test.values"
   ]
  },
  {
   "cell_type": "markdown",
   "metadata": {},
   "source": [
    "### Optuna objective function"
   ]
  },
  {
   "cell_type": "code",
   "execution_count": 9,
   "metadata": {},
   "outputs": [],
   "source": [
    "def objective(trial:Trial,train=None,labels=None,val=None,val_labels=None,val_rets=None):\n",
    "\n",
    "    rf_n_estimators = trial.suggest_int('n_estimators', 10,40,step=5)\n",
    "    rf_max_features = trial.suggest_categorical('max_features',['sqrt','log2'])\n",
    "    rf_min_samples_leaf = trial.suggest_int('min_samples_leaf',800,2400,step=800)\n",
    "    rf_max_depth = trial.suggest_int('max_depth',4,15)\n",
    "    \n",
    "    rf_clf = RandomForestClassifier(n_estimators=rf_n_estimators,\n",
    "                                    max_depth=rf_max_depth,\n",
    "                                    min_samples_leaf=rf_min_samples_leaf,\n",
    "                                    max_features=rf_max_features)\n",
    "    rf_clf.fit(train,labels)\n",
    "    preds = rf_clf.predict(val)\n",
    "    profit = (preds * val_rets).sum()\n",
    " \n",
    "    return profit"
   ]
  },
  {
   "cell_type": "code",
   "execution_count": 10,
   "metadata": {},
   "outputs": [],
   "source": [
    "study = optuna.create_study(direction=\"maximize\")"
   ]
  },
  {
   "cell_type": "code",
   "execution_count": 11,
   "metadata": {},
   "outputs": [],
   "source": [
    "from functools import partial"
   ]
  },
  {
   "cell_type": "markdown",
   "metadata": {},
   "source": [
    "### Get Best Hyperparameters"
   ]
  },
  {
   "cell_type": "code",
   "execution_count": 12,
   "metadata": {},
   "outputs": [
    {
     "name": "stdout",
     "output_type": "stream",
     "text": [
      "CPU times: user 5min 52s, sys: 1.48 s, total: 5min 54s\n",
      "Wall time: 1min 8s\n"
     ]
    }
   ],
   "source": [
    "%%time\n",
    "study.optimize(partial(objective,train=train_1,labels=y_1,val=valid,val_labels=y_valid,val_rets=valid_stock_returns), n_trials=200,n_jobs=-1)"
   ]
  },
  {
   "cell_type": "code",
   "execution_count": 13,
   "metadata": {
    "scrolled": true
   },
   "outputs": [
    {
     "data": {
      "text/plain": [
       "{'n_estimators': 15,\n",
       " 'max_features': 'sqrt',\n",
       " 'min_samples_leaf': 800,\n",
       " 'max_depth': 8}"
      ]
     },
     "execution_count": 13,
     "metadata": {},
     "output_type": "execute_result"
    }
   ],
   "source": [
    "study.best_params"
   ]
  },
  {
   "cell_type": "code",
   "execution_count": 14,
   "metadata": {},
   "outputs": [],
   "source": [
    "rf_clf = RandomForestClassifier(**study.best_params)"
   ]
  },
  {
   "cell_type": "code",
   "execution_count": 15,
   "metadata": {
    "ExecuteTime": {
     "end_time": "2020-02-11T00:26:13.188561Z",
     "start_time": "2020-02-11T00:26:13.054541Z"
    }
   },
   "outputs": [
    {
     "data": {
      "text/plain": [
       "RandomForestClassifier(max_depth=8, max_features='sqrt', min_samples_leaf=800,\n",
       "                       n_estimators=15)"
      ]
     },
     "execution_count": 15,
     "metadata": {},
     "output_type": "execute_result"
    }
   ],
   "source": [
    "rf_clf.fit(train_1,y_1)"
   ]
  },
  {
   "cell_type": "code",
   "execution_count": 16,
   "metadata": {},
   "outputs": [],
   "source": [
    "preds=rf_clf.predict(valid)"
   ]
  },
  {
   "cell_type": "code",
   "execution_count": 17,
   "metadata": {},
   "outputs": [
    {
     "data": {
      "text/plain": [
       "21.75989979410566"
      ]
     },
     "execution_count": 17,
     "metadata": {},
     "output_type": "execute_result"
    }
   ],
   "source": [
    "valid_profit = (preds * df_valid['ret']).sum()\n",
    "valid_profit"
   ]
  },
  {
   "cell_type": "code",
   "execution_count": 18,
   "metadata": {},
   "outputs": [],
   "source": [
    "pred_test=rf_clf.predict(test)"
   ]
  },
  {
   "cell_type": "code",
   "execution_count": 19,
   "metadata": {},
   "outputs": [
    {
     "data": {
      "text/plain": [
       "152.11547165029697"
      ]
     },
     "execution_count": 19,
     "metadata": {},
     "output_type": "execute_result"
    }
   ],
   "source": [
    "test_profit = (pred_test * df_test['ret']).sum()\n",
    "test_profit"
   ]
  },
  {
   "cell_type": "code",
   "execution_count": 20,
   "metadata": {
    "ExecuteTime": {
     "end_time": "2020-02-11T00:26:34.187187Z",
     "start_time": "2020-02-11T00:26:34.155597Z"
    }
   },
   "outputs": [
    {
     "data": {
      "text/plain": [
       "array([[ 388,    1, 6302],\n",
       "       [  83,   44, 2671],\n",
       "       [ 225,    0, 8397]])"
      ]
     },
     "execution_count": 20,
     "metadata": {},
     "output_type": "execute_result"
    }
   ],
   "source": [
    "confusion_matrix(y_test,pred_test)"
   ]
  },
  {
   "cell_type": "code",
   "execution_count": 21,
   "metadata": {},
   "outputs": [
    {
     "data": {
      "text/plain": [
       "0.46394828443560415"
      ]
     },
     "execution_count": 21,
     "metadata": {},
     "output_type": "execute_result"
    }
   ],
   "source": [
    "accuracy_score(preds,y_valid)"
   ]
  },
  {
   "cell_type": "code",
   "execution_count": 22,
   "metadata": {},
   "outputs": [
    {
     "data": {
      "text/plain": [
       "0.4874937883054497"
      ]
     },
     "execution_count": 22,
     "metadata": {},
     "output_type": "execute_result"
    }
   ],
   "source": [
    "accuracy_score(pred_test,y_test)"
   ]
  },
  {
   "cell_type": "code",
   "execution_count": 23,
   "metadata": {
    "ExecuteTime": {
     "end_time": "2020-02-11T00:25:49.640309Z",
     "start_time": "2020-02-11T00:25:49.632310Z"
    }
   },
   "outputs": [
    {
     "data": {
      "text/plain": [
       "228"
      ]
     },
     "execution_count": 23,
     "metadata": {},
     "output_type": "execute_result"
    }
   ],
   "source": [
    "len(train_1.columns)"
   ]
  },
  {
   "cell_type": "code",
   "execution_count": 24,
   "metadata": {
    "ExecuteTime": {
     "end_time": "2020-02-11T00:30:26.233418Z",
     "start_time": "2020-02-11T00:30:26.207352Z"
    }
   },
   "outputs": [],
   "source": [
    "def randomforest_feat_importances(m, df):\n",
    "        \n",
    "    return pd.DataFrame({'cols':df.columns, 'feat_imp': m.feature_importances_}\n",
    "                       ).sort_values('feat_imp', ascending=False)\n",
    "\n",
    "def plot_fi(fi): return fi.plot('cols', 'feat_imp', 'barh', figsize=(12,7), legend=False)"
   ]
  },
  {
   "cell_type": "code",
   "execution_count": 25,
   "metadata": {
    "ExecuteTime": {
     "end_time": "2020-02-11T00:30:29.412179Z",
     "start_time": "2020-02-11T00:30:29.298179Z"
    }
   },
   "outputs": [],
   "source": [
    "fi = randomforest_feat_importances(rf_clf,train_1)"
   ]
  },
  {
   "cell_type": "markdown",
   "metadata": {},
   "source": [
    "### Fetch most important features for training set"
   ]
  },
  {
   "cell_type": "code",
   "execution_count": 26,
   "metadata": {
    "ExecuteTime": {
     "end_time": "2020-02-11T00:31:01.727197Z",
     "start_time": "2020-02-11T00:31:01.717164Z"
    }
   },
   "outputs": [],
   "source": [
    "features = fi[(fi['feat_imp'] > 0.01)]"
   ]
  },
  {
   "cell_type": "code",
   "execution_count": 27,
   "metadata": {
    "ExecuteTime": {
     "end_time": "2020-02-11T00:31:04.292915Z",
     "start_time": "2020-02-11T00:31:04.276239Z"
    }
   },
   "outputs": [
    {
     "data": {
      "text/plain": [
       "(32, 2)"
      ]
     },
     "execution_count": 27,
     "metadata": {},
     "output_type": "execute_result"
    }
   ],
   "source": [
    "features.shape"
   ]
  },
  {
   "cell_type": "code",
   "execution_count": 28,
   "metadata": {
    "ExecuteTime": {
     "end_time": "2020-02-09T18:41:42.955393Z",
     "start_time": "2020-02-09T18:41:41.132339Z"
    },
    "scrolled": true
   },
   "outputs": [
    {
     "data": {
      "image/png": "[encoded data removed]",
      "text/plain": [
       "<Figure size 864x504 with 1 Axes>"
      ]
     },
     "metadata": {
      "needs_background": "light"
     },
     "output_type": "display_data"
    }
   ],
   "source": [
    "plot_fi(features);"
   ]
  },
  {
   "cell_type": "code",
   "execution_count": 30,
   "metadata": {
    "ExecuteTime": {
     "end_time": "2020-02-09T18:42:00.953015Z",
     "start_time": "2020-02-09T18:42:00.934981Z"
    }
   },
   "outputs": [],
   "source": [
    "train_1 = train_1[features['cols'].values]\n",
    "valid = valid[features['cols'].values]"
   ]
  },
  {
   "cell_type": "code",
   "execution_count": 31,
   "metadata": {
    "ExecuteTime": {
     "end_time": "2020-02-11T00:37:00.392945Z",
     "start_time": "2020-02-11T00:36:58.708361Z"
    }
   },
   "outputs": [
    {
     "data": {
      "text/plain": [
       "0.5922905589883604"
      ]
     },
     "execution_count": 31,
     "metadata": {},
     "output_type": "execute_result"
    }
   ],
   "source": [
    "rf_clf.fit(train_1,y_1)\n",
    "rf_clf.score(train_1,y_1)"
   ]
  },
  {
   "cell_type": "code",
   "execution_count": 32,
   "metadata": {
    "ExecuteTime": {
     "end_time": "2020-02-11T00:37:16.075277Z",
     "start_time": "2020-02-11T00:37:15.833282Z"
    }
   },
   "outputs": [
    {
     "data": {
      "text/plain": [
       "0.47389358528095477"
      ]
     },
     "execution_count": 32,
     "metadata": {},
     "output_type": "execute_result"
    }
   ],
   "source": [
    "pred_valid = rf_clf.predict(valid)\n",
    "rf_clf.score(valid,y_valid)"
   ]
  },
  {
   "cell_type": "code",
   "execution_count": 33,
   "metadata": {
    "ExecuteTime": {
     "end_time": "2020-02-11T00:39:53.813754Z",
     "start_time": "2020-02-11T00:39:53.805751Z"
    }
   },
   "outputs": [
    {
     "data": {
      "text/plain": [
       "39.65541555679389"
      ]
     },
     "execution_count": 33,
     "metadata": {},
     "output_type": "execute_result"
    }
   ],
   "source": [
    "(pred_valid * valid_stock_returns).sum()"
   ]
  },
  {
   "cell_type": "code",
   "execution_count": 34,
   "metadata": {
    "ExecuteTime": {
     "end_time": "2020-02-11T00:40:17.297207Z",
     "start_time": "2020-02-11T00:40:17.291205Z"
    }
   },
   "outputs": [
    {
     "data": {
      "text/plain": [
       "Counter({1: 3647, -1: 337, 0: 38})"
      ]
     },
     "execution_count": 34,
     "metadata": {},
     "output_type": "execute_result"
    }
   ],
   "source": [
    "Counter(pred_valid)"
   ]
  },
  {
   "cell_type": "code",
   "execution_count": 35,
   "metadata": {
    "ExecuteTime": {
     "end_time": "2020-02-09T18:42:30.850795Z",
     "start_time": "2020-02-09T18:42:30.843799Z"
    }
   },
   "outputs": [],
   "source": [
    "def profit_importance(m,df,rets):\n",
    "#     np.random.seed(123)\n",
    "    profit = []\n",
    "    for col in df.columns:\n",
    "        prof = []\n",
    "        for _ in range(100):\n",
    "            X = df.copy()\n",
    "            X[col] = np.random.permutation(df[col].values)\n",
    "            prediction = m.predict(X)\n",
    "            prof.append((prediction * rets).sum())\n",
    "        profit.append(np.mean(prof))\n",
    "    return profit"
   ]
  },
  {
   "cell_type": "code",
   "execution_count": 36,
   "metadata": {
    "ExecuteTime": {
     "end_time": "2020-02-11T00:48:51.812297Z",
     "start_time": "2020-02-11T00:48:51.806329Z"
    }
   },
   "outputs": [],
   "source": [
    "def randomforest_profit_importance(m, df,rets):\n",
    "    return pd.DataFrame({'cols':df.columns, 'pi_imp':profit_importance(m,df,rets)}\n",
    "                       ).sort_values('pi_imp', ascending=True)"
   ]
  },
  {
   "cell_type": "code",
   "execution_count": 37,
   "metadata": {
    "ExecuteTime": {
     "end_time": "2020-02-11T00:58:52.576470Z",
     "start_time": "2020-02-11T00:48:55.605627Z"
    }
   },
   "outputs": [
    {
     "data": {
      "text/html": [
       "<div>\n",
       "<style scoped>\n",
       "    .dataframe tbody tr th:only-of-type {\n",
       "        vertical-align: middle;\n",
       "    }\n",
       "\n",
       "    .dataframe tbody tr th {\n",
       "        vertical-align: top;\n",
       "    }\n",
       "\n",
       "    .dataframe thead th {\n",
       "        text-align: right;\n",
       "    }\n",
       "</style>\n",
       "<table border=\"1\" class=\"dataframe\">\n",
       "  <thead>\n",
       "    <tr style=\"text-align: right;\">\n",
       "      <th></th>\n",
       "      <th>cols</th>\n",
       "      <th>pi_imp</th>\n",
       "    </tr>\n",
       "  </thead>\n",
       "  <tbody>\n",
       "    <tr>\n",
       "      <th>0</th>\n",
       "      <td>m3_return</td>\n",
       "      <td>19.715324</td>\n",
       "    </tr>\n",
       "    <tr>\n",
       "      <th>4</th>\n",
       "      <td>year_con_rise_days</td>\n",
       "      <td>25.151753</td>\n",
       "    </tr>\n",
       "    <tr>\n",
       "      <th>12</th>\n",
       "      <td>m3_sharpe_a</td>\n",
       "      <td>31.281995</td>\n",
       "    </tr>\n",
       "    <tr>\n",
       "      <th>13</th>\n",
       "      <td>m3_return_a</td>\n",
       "      <td>32.338462</td>\n",
       "    </tr>\n",
       "    <tr>\n",
       "      <th>28</th>\n",
       "      <td>total_unsys_risk</td>\n",
       "      <td>38.141784</td>\n",
       "    </tr>\n",
       "    <tr>\n",
       "      <th>14</th>\n",
       "      <td>year_kurtosis</td>\n",
       "      <td>38.637962</td>\n",
       "    </tr>\n",
       "    <tr>\n",
       "      <th>31</th>\n",
       "      <td>m6_downbeta_cl</td>\n",
       "      <td>38.916836</td>\n",
       "    </tr>\n",
       "    <tr>\n",
       "      <th>20</th>\n",
       "      <td>m6_ERVaR</td>\n",
       "      <td>39.139012</td>\n",
       "    </tr>\n",
       "    <tr>\n",
       "      <th>17</th>\n",
       "      <td>m3_tr_a</td>\n",
       "      <td>39.144872</td>\n",
       "    </tr>\n",
       "    <tr>\n",
       "      <th>10</th>\n",
       "      <td>year_return</td>\n",
       "      <td>39.267803</td>\n",
       "    </tr>\n",
       "    <tr>\n",
       "      <th>1</th>\n",
       "      <td>m6_return_Msqr</td>\n",
       "      <td>39.277452</td>\n",
       "    </tr>\n",
       "    <tr>\n",
       "      <th>6</th>\n",
       "      <td>m3_dd_a</td>\n",
       "      <td>39.289413</td>\n",
       "    </tr>\n",
       "    <tr>\n",
       "      <th>11</th>\n",
       "      <td>m6_con_rise_days</td>\n",
       "      <td>39.510960</td>\n",
       "    </tr>\n",
       "    <tr>\n",
       "      <th>15</th>\n",
       "      <td>m6_sor_a</td>\n",
       "      <td>39.628599</td>\n",
       "    </tr>\n",
       "    <tr>\n",
       "      <th>24</th>\n",
       "      <td>y1_average_drawdown</td>\n",
       "      <td>39.654475</td>\n",
       "    </tr>\n",
       "    <tr>\n",
       "      <th>29</th>\n",
       "      <td>year_odds</td>\n",
       "      <td>39.655416</td>\n",
       "    </tr>\n",
       "    <tr>\n",
       "      <th>30</th>\n",
       "      <td>m6_calmar_a</td>\n",
       "      <td>39.655416</td>\n",
       "    </tr>\n",
       "    <tr>\n",
       "      <th>18</th>\n",
       "      <td>y1_ERVaR</td>\n",
       "      <td>39.748404</td>\n",
       "    </tr>\n",
       "    <tr>\n",
       "      <th>7</th>\n",
       "      <td>y1_ERCVaR</td>\n",
       "      <td>39.802754</td>\n",
       "    </tr>\n",
       "    <tr>\n",
       "      <th>27</th>\n",
       "      <td>m3_skewness</td>\n",
       "      <td>40.021982</td>\n",
       "    </tr>\n",
       "    <tr>\n",
       "      <th>25</th>\n",
       "      <td>m6_corr_spearman</td>\n",
       "      <td>40.072813</td>\n",
       "    </tr>\n",
       "    <tr>\n",
       "      <th>26</th>\n",
       "      <td>m6_pain_index</td>\n",
       "      <td>40.100578</td>\n",
       "    </tr>\n",
       "    <tr>\n",
       "      <th>22</th>\n",
       "      <td>m3_kurtosis</td>\n",
       "      <td>40.181577</td>\n",
       "    </tr>\n",
       "    <tr>\n",
       "      <th>3</th>\n",
       "      <td>y1_mdd_time</td>\n",
       "      <td>40.298944</td>\n",
       "    </tr>\n",
       "    <tr>\n",
       "      <th>5</th>\n",
       "      <td>m6_kurtosis</td>\n",
       "      <td>40.350559</td>\n",
       "    </tr>\n",
       "    <tr>\n",
       "      <th>21</th>\n",
       "      <td>m3_max_return</td>\n",
       "      <td>40.359868</td>\n",
       "    </tr>\n",
       "    <tr>\n",
       "      <th>2</th>\n",
       "      <td>m6_mdd_time</td>\n",
       "      <td>40.533957</td>\n",
       "    </tr>\n",
       "    <tr>\n",
       "      <th>23</th>\n",
       "      <td>m6_downsidecap</td>\n",
       "      <td>40.574478</td>\n",
       "    </tr>\n",
       "    <tr>\n",
       "      <th>9</th>\n",
       "      <td>total_mdd_time</td>\n",
       "      <td>40.936465</td>\n",
       "    </tr>\n",
       "    <tr>\n",
       "      <th>8</th>\n",
       "      <td>year_min_return</td>\n",
       "      <td>41.532923</td>\n",
       "    </tr>\n",
       "    <tr>\n",
       "      <th>19</th>\n",
       "      <td>year_max_drawdown</td>\n",
       "      <td>42.749240</td>\n",
       "    </tr>\n",
       "    <tr>\n",
       "      <th>16</th>\n",
       "      <td>year_stdev</td>\n",
       "      <td>42.840555</td>\n",
       "    </tr>\n",
       "  </tbody>\n",
       "</table>\n",
       "</div>"
      ],
      "text/plain": [
       "                   cols     pi_imp\n",
       "0             m3_return  19.715324\n",
       "4    year_con_rise_days  25.151753\n",
       "12          m3_sharpe_a  31.281995\n",
       "13          m3_return_a  32.338462\n",
       "28     total_unsys_risk  38.141784\n",
       "14        year_kurtosis  38.637962\n",
       "31       m6_downbeta_cl  38.916836\n",
       "20             m6_ERVaR  39.139012\n",
       "17              m3_tr_a  39.144872\n",
       "10          year_return  39.267803\n",
       "1        m6_return_Msqr  39.277452\n",
       "6               m3_dd_a  39.289413\n",
       "11     m6_con_rise_days  39.510960\n",
       "15             m6_sor_a  39.628599\n",
       "24  y1_average_drawdown  39.654475\n",
       "29            year_odds  39.655416\n",
       "30          m6_calmar_a  39.655416\n",
       "18             y1_ERVaR  39.748404\n",
       "7             y1_ERCVaR  39.802754\n",
       "27          m3_skewness  40.021982\n",
       "25     m6_corr_spearman  40.072813\n",
       "26        m6_pain_index  40.100578\n",
       "22          m3_kurtosis  40.181577\n",
       "3           y1_mdd_time  40.298944\n",
       "5           m6_kurtosis  40.350559\n",
       "21        m3_max_return  40.359868\n",
       "2           m6_mdd_time  40.533957\n",
       "23       m6_downsidecap  40.574478\n",
       "9        total_mdd_time  40.936465\n",
       "8       year_min_return  41.532923\n",
       "19    year_max_drawdown  42.749240\n",
       "16           year_stdev  42.840555"
      ]
     },
     "execution_count": 37,
     "metadata": {},
     "output_type": "execute_result"
    }
   ],
   "source": [
    "pi = randomforest_profit_importance(rf_clf,valid,valid_stock_returns)\n",
    "pi"
   ]
  },
  {
   "cell_type": "code",
   "execution_count": 255,
   "metadata": {
    "ExecuteTime": {
     "end_time": "2020-02-09T20:39:56.078663Z",
     "start_time": "2020-02-09T18:46:17.429778Z"
    }
   },
   "outputs": [
    {
     "name": "stdout",
     "output_type": "stream",
     "text": [
      "35.06228626391575\n",
      "50.21139702234306\n",
      "35.67236350394885\n",
      "43.113845354875124\n",
      "45.96905987395181\n",
      "46.07104516384787\n",
      "52.35105367349094\n",
      "51.72276544598516\n",
      "47.91116486818785\n",
      "46.372288259834285\n",
      "45.904459126649385\n",
      "44.5806345551606\n",
      "42.86750775357681\n",
      "44.86169755215509\n",
      "51.04466853799832\n",
      "51.89230238987167\n",
      "40.919149630353566\n",
      "52.26232315451094\n",
      "42.82924124281611\n",
      "49.70421275539028\n",
      "54.6214274744389\n",
      "61.072372788218686\n",
      "39.75073633295996\n",
      "38.507727874113826\n",
      "35.29382972869337\n",
      "42.10576139519978\n",
      "23.64523373788594\n",
      "35.43723123293818\n",
      "26.10295981720222\n",
      "28.614877620239525\n"
     ]
    }
   ],
   "source": [
    "profits = []\n",
    "feat=[]\n",
    "\n",
    "train = train_1.copy()\n",
    "validation = valid.copy()\n",
    "\n",
    "while len(train.columns)>1:\n",
    "\n",
    "    col_to_drop = pi.iloc[-1]['cols']\n",
    "    train.drop(col_to_drop,axis=1,inplace=True)\n",
    "    validation.drop(col_to_drop,axis=1,inplace=True)\n",
    "        \n",
    "    rf_clf.fit(train,y_1)\n",
    "    pi = randomforest_profit_importance(rf_clf,validation,df_valid['ret'])\n",
    "\n",
    "    pred_valid = rf_clf.predict(validation)\n",
    "        \n",
    "    print((pred_valid * df_valid['ret']).sum())\n",
    "    profits.append((pred_valid * df_valid['ret']).sum())\n",
    "    feat.append(train.columns)"
   ]
  },
  {
   "cell_type": "code",
   "execution_count": 256,
   "metadata": {
    "ExecuteTime": {
     "end_time": "2020-02-09T20:40:58.562802Z",
     "start_time": "2020-02-09T20:40:58.382807Z"
    }
   },
   "outputs": [
    {
     "data": {
      "image/png": "[encoded data removed]",
      "text/plain": [
       "<Figure size 432x288 with 1 Axes>"
      ]
     },
     "metadata": {
      "needs_background": "light"
     },
     "output_type": "display_data"
    }
   ],
   "source": [
    "plt.plot(profits);"
   ]
  },
  {
   "cell_type": "code",
   "execution_count": 257,
   "metadata": {
    "ExecuteTime": {
     "end_time": "2020-02-11T00:58:52.579476Z",
     "start_time": "2020-02-11T00:54:19.646Z"
    }
   },
   "outputs": [
    {
     "data": {
      "text/plain": [
       "61.072372788218686"
      ]
     },
     "execution_count": 257,
     "metadata": {},
     "output_type": "execute_result"
    }
   ],
   "source": [
    "n = np.argmax(profits)\n",
    "profits[n]"
   ]
  },
  {
   "cell_type": "code",
   "execution_count": 258,
   "metadata": {
    "ExecuteTime": {
     "end_time": "2020-02-11T00:58:52.581472Z",
     "start_time": "2020-02-11T00:54:23.942Z"
    }
   },
   "outputs": [
    {
     "data": {
      "text/plain": [
       "21"
      ]
     },
     "execution_count": 258,
     "metadata": {},
     "output_type": "execute_result"
    }
   ],
   "source": [
    "n"
   ]
  },
  {
   "cell_type": "code",
   "execution_count": 259,
   "metadata": {
    "ExecuteTime": {
     "end_time": "2020-02-09T20:41:12.758275Z",
     "start_time": "2020-02-09T20:41:12.752241Z"
    }
   },
   "outputs": [
    {
     "data": {
      "text/plain": [
       "Index(['total_mdd_time', 'm3_return_a', 'year_con_rise_days', 'year_return',\n",
       "       'm6_p_earning_days', 'm6_kurtosis', 'y1_ERCVaR', 'm3_ERVaR',\n",
       "       'y1_sterling_a'],\n",
       "      dtype='object')"
      ]
     },
     "execution_count": 259,
     "metadata": {},
     "output_type": "execute_result"
    }
   ],
   "source": [
    "optim_feats = feat[n]\n",
    "optim_feats\n"
   ]
  },
  {
   "cell_type": "code",
   "execution_count": 260,
   "metadata": {
    "ExecuteTime": {
     "end_time": "2020-02-11T00:58:52.583473Z",
     "start_time": "2020-02-11T00:55:04.793Z"
    }
   },
   "outputs": [
    {
     "name": "stdout",
     "output_type": "stream",
     "text": [
      "0.5693705992240264\n",
      "0.4855793137742417\n"
     ]
    },
    {
     "data": {
      "text/plain": [
       "15.525612674284378"
      ]
     },
     "execution_count": 260,
     "metadata": {},
     "output_type": "execute_result"
    }
   ],
   "source": [
    "train_1_optim = train_1[optim_feats]\n",
    "valid_optim = valid[optim_feats]\n",
    "\n",
    "\n",
    "rf_clf.fit(train_1_optim,y_1)\n",
    "print(rf_clf.score(train_1_optim,y_1))\n",
    "pred_valid_tree = rf_clf.predict(valid_optim)\n",
    "print(rf_clf.score(valid_optim,y_valid))\n",
    "(pred_valid_tree * valid_stock_returns).sum()"
   ]
  },
  {
   "cell_type": "code",
   "execution_count": 40,
   "metadata": {},
   "outputs": [],
   "source": [
    "start_dates = [pd.to_datetime('2017-01-01') + pd.DateOffset(months = 1 * i) for i in range(54)]\n",
    "end_dates = [d + pd.DateOffset(months = 6) for d in start_dates]\n",
    "\n",
    "training_frames = [data.loc[d.strftime(\"%Y-%m-%d\"):(d+pd.DateOffset(months = 6)).strftime(\"%Y-%m-%d\")] for d in start_dates]\n",
    "validation_frames = [data.loc[d.strftime(\"%Y-%m-%d\"):(d+pd.DateOffset(months = 3)).strftime(\"%Y-%m-%d\")] for d in end_dates]\n",
    "test_frames =  [data.loc[(d+pd.DateOffset(months = 3)).strftime(\"%Y-%m-%d\"):(d+pd.DateOffset(months = 4)).strftime(\"%Y-%m-%d\")] for d in end_dates]\n",
    "\n",
    "training_data = [d.reset_index().drop\n",
    "                                 (['index','fund_id','ret','rel_performance','ret_2m','ret_3m','statistic_date'],axis=1) for d in training_frames]\n",
    "\n",
    "validation_data = [d.reset_index().drop(['index','fund_id','ret','rel_performance','ret_2m','ret_3m','statistic_date'],axis=1) for d in validation_frames]\n",
    "\n",
    "test_data = [d.reset_index().drop(['index','fund_id','ret','rel_performance','ret_2m','ret_3m','statistic_date'],axis=1) for d in test_frames]\n",
    "\n",
    "training_labels = [d['rel_performance'].values for d in training_frames]\n",
    "validation_labels = [d['rel_performance'].values for d in validation_frames]"
   ]
  },
  {
   "cell_type": "markdown",
   "metadata": {},
   "source": [
    "### optimal hyper-parameters and optimal features computed on the first quarter data"
   ]
  },
  {
   "cell_type": "code",
   "execution_count": 100,
   "metadata": {
    "ExecuteTime": {
     "end_time": "2020-02-11T01:00:33.994294Z",
     "start_time": "2020-02-11T01:00:33.869286Z"
    }
   },
   "outputs": [],
   "source": [
    "opt_training_data = [t[features.cols] for t in training_data]\n",
    "opt_test_data = [v[features.cols] for v in test_data]"
   ]
  },
  {
   "cell_type": "code",
   "execution_count": 101,
   "metadata": {
    "ExecuteTime": {
     "end_time": "2020-02-11T01:01:15.387898Z",
     "start_time": "2020-02-11T01:00:58.271824Z"
    }
   },
   "outputs": [],
   "source": [
    "P_L = []\n",
    "x = [1]\n",
    "ret = []\n",
    "\n",
    "for i in range(len(training_labels)-1):\n",
    "        rf_clf.fit(opt_training_data[i],training_labels[i])\n",
    "        pred_i = rf_clf.predict(opt_test_data[i])\n",
    "        profit_i = (pred_i * test_frames[i]['ret']).sum()\n",
    "        P_L.append(profit_i)\n",
    "        num_positions = len(pred_i)\n",
    "        ret.append((1.0/num_positions) * profit_i)\n",
    "        x.append(x[i] + (x[i]/num_positions) * profit_i)"
   ]
  },
  {
   "cell_type": "code",
   "execution_count": 102,
   "metadata": {
    "ExecuteTime": {
     "end_time": "2020-02-11T01:01:20.294124Z",
     "start_time": "2020-02-11T01:01:20.107095Z"
    }
   },
   "outputs": [
    {
     "data": {
      "image/png": "[encoded data removed]",
      "text/plain": [
       "<Figure size 432x288 with 1 Axes>"
      ]
     },
     "metadata": {
      "needs_background": "light"
     },
     "output_type": "display_data"
    }
   ],
   "source": [
    "plt.plot(x);"
   ]
  },
  {
   "cell_type": "markdown",
   "metadata": {},
   "source": [
    "## Compute optimal features at each Month"
   ]
  },
  {
   "cell_type": "code",
   "execution_count": 48,
   "metadata": {},
   "outputs": [
    {
     "name": "stdout",
     "output_type": "stream",
     "text": [
      "Month 0\n",
      "{'n_estimators': 10, 'max_features': 'sqrt', 'min_samples_leaf': 2400, 'max_depth': 8}\n",
      "Index(['year_max_drawdown', 'year_stdev', 'y1_timing_hm', 'y1_return',\n",
      "       'y1_s_time', 'm3_jensen_a', 'year_min_return', 'y1_sharpe_a',\n",
      "       'year_n_earning_days', 'm6_pain_ratio', 'total_unsys_risk', 'm6_ddr3_a',\n",
      "       'm6_unsys_risk'],\n",
      "      dtype='object')\n",
      "42.05089211394887\n",
      "Month 1\n",
      "{'n_estimators': 10, 'max_features': 'sqrt', 'min_samples_leaf': 1600, 'max_depth': 10}\n",
      "Index(['year_con_fall_days', 'year_max_drawdown', 'org_compensation_payable',\n",
      "       'm6_return_Msqr', 'year_min_return',\n",
      "       'total_liabilities_and_owners_equity', 'asset', 'm6_hurst',\n",
      "       'm6_burke_a', 'y1_p_earning_days'],\n",
      "      dtype='object')\n",
      "10.929491034642592\n",
      "Month 2\n",
      "{'n_estimators': 15, 'max_features': 'sqrt', 'min_samples_leaf': 2400, 'max_depth': 4}\n",
      "Index(['year_max_return', 'm6_pain_ratio', 'year_p_earning_days',\n",
      "       'total_liabilities_and_owners_equity', 'm3_min_return', 'm3_max_return',\n",
      "       'trustee_payable', 'year_con_fall_days', 'y1_beta_timing_camp',\n",
      "       'm6_beta', 'total_assets', 'y1_timing_hm', 'm6_timing_hm', 'm6_ddr3_a',\n",
      "       'year_stdev', 'asset', 'm6_downsidecap', 'm3_stdev_a'],\n",
      "      dtype='object')\n",
      "5.228057872585589\n",
      "Month 3\n",
      "{'n_estimators': 15, 'max_features': 'sqrt', 'min_samples_leaf': 2400, 'max_depth': 7}\n",
      "Index(['m6_omega', 'm3_dd_a', 'm6_beta', 'total_corr_spearman', 'y1_upbeta_cl',\n",
      "       'm3_min_return', 'm6_return_a', 'm3_beta', 'quarter_return',\n",
      "       'm6_burke_a', 'm3_n_earning_days', 'm6_ERCVaR', 'm6_sor_a',\n",
      "       'year_min_return', 'y1_return_a'],\n",
      "      dtype='object')\n",
      "8.117168886862988\n",
      "Month 4\n",
      "{'n_estimators': 15, 'max_features': 'sqrt', 'min_samples_leaf': 1600, 'max_depth': 14}\n",
      "Index(['year_p_earning_days', 'm6_downsidecap', 'm3_n_earning_days',\n",
      "       'refundable_deposits', 'transaction_payable', 'm3_stdev', 'm3_dd_a',\n",
      "       'other_liabilities', 'm3_p_earning_days', 'year_min_return',\n",
      "       'stock_income', 'total_liabilities_and_owners_equity', 'm3_VaR',\n",
      "       'trustee_payable', 'm6_upsidecap', 'year_max_drawdown', 'm3_excess_a',\n",
      "       'provision_settlement_fund', 'm6_tracking_error_a'],\n",
      "      dtype='object')\n",
      "-2.0268886384859814\n",
      "Month 5\n",
      "{'n_estimators': 10, 'max_features': 'log2', 'min_samples_leaf': 1600, 'max_depth': 5}\n",
      "Index(['m3_beta', 'm6_corr', 'm6_upbeta_cl', 'm3_max_return', 'm6_stdev_a',\n",
      "       'm6_s_security', 'm6_pain_index', 'year_stdev', 'm6_beta',\n",
      "       'year_max_drawdown', 'm6_max_drawdown', 'm3_stdev', 'm3_jensen_a',\n",
      "       'year_max_return', 'm6_unsys_risk'],\n",
      "      dtype='object')\n",
      "-8.064592479377474\n",
      "Month 6\n",
      "{'n_estimators': 10, 'max_features': 'sqrt', 'min_samples_leaf': 1600, 'max_depth': 6}\n",
      "Index(['m3_corr', 'm6_corr', 'm6_beta', 'm6_excess_a', 'm6_stdev', 'm3_tr_a',\n",
      "       'year_max_drawdown', 'm6_stdev_a', 'm6_upbeta_cl', 'y1_return_Msqr',\n",
      "       'm6_min_return', 'm6_unsys_risk', 'm6_tracking_error_a', 'm6_skewness',\n",
      "       'm3_beta', 'm6_stock_hm', 'y1_persistence', 'm6_downbeta_cl'],\n",
      "      dtype='object')\n",
      "-47.27432293224201\n",
      "Month 7\n",
      "{'n_estimators': 35, 'max_features': 'sqrt', 'min_samples_leaf': 800, 'max_depth': 11}\n",
      "Index(['year_kurtosis', 'year_persistence', 'year_return',\n",
      "       'm6_tracking_error_a', 'y1_unsys_risk', 'm6_corr', 'm3_tr_a',\n",
      "       'm3_tracking_error_a', 'y1_max_drawdown', 'y1_kappa_a',\n",
      "       'total_p_earning_days'],\n",
      "      dtype='object')\n",
      "26.429518335741733\n",
      "Month 8\n",
      "{'n_estimators': 40, 'max_features': 'log2', 'min_samples_leaf': 800, 'max_depth': 10}\n",
      "Index(['m6_info_a', 'm6_min_return', 'year_odds', 'm6_stdev_a',\n",
      "       'year_con_rise_days', 'y1_beta', 'y1_excess_a', 'm6_con_rise_days',\n",
      "       'm3_stdev', 'm6_omega', 'year_stdev', 'm3_info_a', 'total_unsys_risk',\n",
      "       'm6_sor_a', 'y1_excess_pl', 'm6_s_security'],\n",
      "      dtype='object')\n",
      "64.50570481993267\n",
      "Month 9\n",
      "{'n_estimators': 10, 'max_features': 'sqrt', 'min_samples_leaf': 1600, 'max_depth': 9}\n",
      "Index(['m6_CVaR', 'm3_tr_a', 'year_p_earning_days', 'm6_VaR', 'm6_min_return',\n",
      "       'm6_stdev', 'year_con_rise_days', 'm3_stdev', 'm3_excess_a',\n",
      "       'm6_s_time', 'm6_dd_a', 'year_stdev', 'year_return', 'm6_sharpe_a',\n",
      "       'y1_downbeta_cl', 'm6_downbeta_cl', 'm3_stdev_a', 'total_ddr3_a',\n",
      "       'm3_max_return'],\n",
      "      dtype='object')\n",
      "42.22594949345341\n",
      "Month 10\n",
      "{'n_estimators': 25, 'max_features': 'sqrt', 'min_samples_leaf': 800, 'max_depth': 7}\n",
      "Index(['m3_stdev', 'm6_VaR', 'm6_ddr3_a', 'year_kurtosis', 'm3_min_return',\n",
      "       'm3_VaR', 'm6_CVaR', 'm3_dd_a', 'm3_return_a', 'm6_kappa_a', 'y1_CVaR',\n",
      "       'total_beta', 'y1_persistence'],\n",
      "      dtype='object')\n",
      "90.51290872484094\n",
      "Month 11\n",
      "{'n_estimators': 10, 'max_features': 'log2', 'min_samples_leaf': 1600, 'max_depth': 12}\n",
      "Index(['m3_stdev', 'm3_stdev_a', 'year_min_return', 'm6_min_return', 'm3_dd_a',\n",
      "       'm3_beta', 'm3_min_return', 'year_stdev', 'year_kurtosis', 'm6_stdev_a',\n",
      "       'm3_sharpe_a', 'm6_corr_spearman', 'm3_sor_a', 'total_upbeta_cl',\n",
      "       'm3_VaR', 'm3_corr', 'y1_corr', 'm6_upsidecap', 'm6_stdev',\n",
      "       'm3_tracking_error_a', 'y1_ERVaR'],\n",
      "      dtype='object')\n",
      "32.93242627743898\n",
      "Month 12\n",
      "{'n_estimators': 10, 'max_features': 'log2', 'min_samples_leaf': 2400, 'max_depth': 4}\n",
      "Index(['m6_p_earning_days', 'm3_stdev', 'm3_max_return', 'm3_tr_a',\n",
      "       'm6_max_return', 'm6_tr_a', 'm3_return', 'y1_return', 'm6_kappa_a',\n",
      "       'y1_mdd_time', 'y1_sharpe_a', 'y1_return_a', 'm6_average_drawdown',\n",
      "       'm3_stdev_a', 'year_return', 'year_odds', 'm6_sterling_a',\n",
      "       'm3_return_a', 'm3_sor_a', 'm3_ERVaR', 'm6_adjusted_jensen_a',\n",
      "       'm6_corr', 'total_corr'],\n",
      "      dtype='object')\n",
      "97.5048097519946\n",
      "Month 13\n",
      "{'n_estimators': 10, 'max_features': 'log2', 'min_samples_leaf': 2400, 'max_depth': 9}\n",
      "Index(['m3_stdev', 'y1_s_time', 'm3_beta', 'm3_tr_a', 'm3_stdev_a',\n",
      "       'quarter_return', 'm3_max_drawdown', 'm3_max_return', 'm6_downbeta_cl',\n",
      "       'm3_sharpe_a', 'm3_sor_a', 'year_return', 'm6_persistence',\n",
      "       'year_max_return', 'm6_ddr3_a', 'm6_skewness', 'm6_corr_spearman',\n",
      "       'm6_corr'],\n",
      "      dtype='object')\n",
      "42.39641524007072\n",
      "Month 14\n",
      "{'n_estimators': 10, 'max_features': 'log2', 'min_samples_leaf': 1600, 'max_depth': 4}\n",
      "Index(['m3_tr_a', 'm3_return', 'm3_ERVaR', 'm3_return_a', 'm3_sharpe_a',\n",
      "       'm3_sor_a', 'm3_tracking_error_a', 'm3_dd_a', 'year_skewness',\n",
      "       'm6_tr_a', 'year_con_fall_days', 'm3_unsys_risk', 'total_corr',\n",
      "       'year_kurtosis', 'y1_info_a', 'm3_VaR'],\n",
      "      dtype='object')\n",
      "84.70139991632996\n",
      "Month 15\n",
      "{'n_estimators': 20, 'max_features': 'sqrt', 'min_samples_leaf': 2400, 'max_depth': 15}\n",
      "Index(['m3_return', 'm3_sharpe_a', 'm3_sor_a', 'm3_tr_a', 'm3_unsys_risk',\n",
      "       'm3_stdev_a', 'm3_max_drawdown', 'm3_p_earning_days',\n",
      "       'm3_n_earning_days', 'total_s_time', 'm3_excess_a', 'year_odds',\n",
      "       'm6_downsidecap', 'year_p_earning_days', 'm3_VaR', 'm6_burke_a',\n",
      "       'm3_stdev', 'total_downbeta_cl', 'total_ddr3_a'],\n",
      "      dtype='object')\n",
      "-5.993839450978459\n",
      "Month 16\n",
      "{'n_estimators': 10, 'max_features': 'sqrt', 'min_samples_leaf': 1600, 'max_depth': 13}\n",
      "Index(['m3_tr_a', 'm3_VaR', 'm3_corr', 'm3_min_return', 'm3_unsys_risk',\n",
      "       'm3_skewness', 'm3_max_drawdown', 'm3_sharpe_a', 'm6_beta',\n",
      "       'y1_sharpe_a', 'm3_sor_a', 'm6_stdev', 'y1_con_rise_days'],\n",
      "      dtype='object')\n",
      "-58.025843023049205\n",
      "Month 17\n",
      "{'n_estimators': 10, 'max_features': 'sqrt', 'min_samples_leaf': 1600, 'max_depth': 4}\n",
      "Index(['m3_tr_a', 'm3_return', 'm3_ERVaR', 'm3_VaR', 'm3_con_fall_days',\n",
      "       'm3_unsys_risk', 'm3_skewness', 'm3_persistence', 'm3_sharpe_a',\n",
      "       'm3_max_drawdown', 'm3_dd_a', 'm3_excess_a', 'm6_pain_index',\n",
      "       'quarter_return', 'm3_stdev_a', 'm3_p_earning_days', 'total_s_time',\n",
      "       'm3_max_return'],\n",
      "      dtype='object')\n",
      "-184.81521776188575\n",
      "Month 18\n",
      "{'n_estimators': 10, 'max_features': 'sqrt', 'min_samples_leaf': 800, 'max_depth': 15}\n",
      "Index(['y1_mdd_time', 'm6_kurtosis', 'm3_return', 'm3_sor_a', 'm6_mdd_time',\n",
      "       'y1_ERCVaR'],\n",
      "      dtype='object')\n",
      "-51.42551574767698\n",
      "Month 19\n",
      "{'n_estimators': 10, 'max_features': 'log2', 'min_samples_leaf': 800, 'max_depth': 15}\n",
      "Index(['y1_mdd_time', 'year_max_return', 'm6_kurtosis', 'year_stdev',\n",
      "       'total_upsidecap', 'm6_info_a', 'm3_sharpe_a', 'm3_ERVaR', 'y1_info_a',\n",
      "       'year_p_earning_days', 'm6_kappa_a', 'm6_downsidecap', 'm3_tr_a',\n",
      "       'm3_sor_a', 'm6_CVaR', 'm6_ERVaR', 'y1_return_a', 'm3_return',\n",
      "       'total_timing_hm', 'm3_unsys_risk', 'm6_tracking_error_a'],\n",
      "      dtype='object')\n",
      "41.051323511644185\n",
      "Month 20\n"
     ]
    },
    {
     "name": "stdout",
     "output_type": "stream",
     "text": [
      "{'n_estimators': 15, 'max_features': 'log2', 'min_samples_leaf': 800, 'max_depth': 11}\n",
      "Index(['m6_con_rise_days', 'm6_mdd_time', 'year_p_earning_days',\n",
      "       'total_mdd_time'],\n",
      "      dtype='object')\n",
      "-18.003162632646045\n",
      "Month 21\n",
      "{'n_estimators': 35, 'max_features': 'sqrt', 'min_samples_leaf': 800, 'max_depth': 14}\n",
      "Index(['y1_mdd_time', 'year_p_earning_days', 'm6_burke_a', 'm6_hurst',\n",
      "       'm6_sterling_a', 'y1_sharpe_a'],\n",
      "      dtype='object')\n",
      "0.95210620624868\n",
      "Month 22\n",
      "{'n_estimators': 15, 'max_features': 'log2', 'min_samples_leaf': 2400, 'max_depth': 11}\n",
      "Index(['m6_return', 'm6_sterling_a'], dtype='object')\n",
      "-40.34506096642079\n",
      "Month 23\n",
      "{'n_estimators': 25, 'max_features': 'log2', 'min_samples_leaf': 800, 'max_depth': 13}\n",
      "Index(['m6_mdd_time'], dtype='object')\n",
      "32.21675430622929\n",
      "Month 24\n",
      "{'n_estimators': 10, 'max_features': 'log2', 'min_samples_leaf': 2400, 'max_depth': 8}\n",
      "Index(['m6_mdd_time'], dtype='object')\n",
      "33.797621670485775\n",
      "Month 25\n",
      "{'n_estimators': 35, 'max_features': 'sqrt', 'min_samples_leaf': 2400, 'max_depth': 4}\n",
      "Index(['year_con_rise_days', 'year_return', 'y1_pain_ratio', 'm3_max_return',\n",
      "       'year_con_fall_days', 'm6_pain_index', 'm3_jensen_a', 'y1_omega',\n",
      "       'm6_ERVaR'],\n",
      "      dtype='object')\n",
      "18.9733093723865\n",
      "Month 26\n",
      "{'n_estimators': 20, 'max_features': 'sqrt', 'min_samples_leaf': 2400, 'max_depth': 11}\n",
      "Index(['m3_return_a', 'year_max_drawdown', 'm6_pain_index', 'm6_sor_a',\n",
      "       'm3_max_return', 'm3_stdev', 'm6_unsys_risk', 'm6_pain_ratio'],\n",
      "      dtype='object')\n",
      "70.22890307226885\n",
      "Month 27\n",
      "{'n_estimators': 15, 'max_features': 'sqrt', 'min_samples_leaf': 800, 'max_depth': 13}\n",
      "Index(['m3_ERVaR', 'year_max_drawdown', 'm6_CVaR', 'm6_pain_index',\n",
      "       'm6_burke_a', 'm6_hurst', 'y1_mdd_time', 'm3_excess_a', 'm3_stdev',\n",
      "       'm6_tr_a'],\n",
      "      dtype='object')\n",
      "71.48724127933149\n",
      "Month 28\n",
      "{'n_estimators': 10, 'max_features': 'sqrt', 'min_samples_leaf': 2400, 'max_depth': 14}\n",
      "Index(['m6_stdev_a', 'm6_adjusted_jensen_a', 'y1_sterling_a',\n",
      "       'total_unsys_risk'],\n",
      "      dtype='object')\n",
      "83.0244367532884\n",
      "Month 29\n",
      "{'n_estimators': 30, 'max_features': 'sqrt', 'min_samples_leaf': 800, 'max_depth': 10}\n",
      "Index(['y1_sterling_a', 'y1_burke_a', 'y1_sor_a', 'm3_unsys_risk',\n",
      "       'y1_calmar_a', 'y1_kappa_a', 'y1_unsys_risk', 'm3_return_a',\n",
      "       'm6_unsys_risk'],\n",
      "      dtype='object')\n",
      "-25.58463276989917\n",
      "Month 30\n",
      "{'n_estimators': 10, 'max_features': 'log2', 'min_samples_leaf': 2400, 'max_depth': 15}\n",
      "Index(['y1_sharpe_a', 'y1_return_a', 'y1_hurst', 'y1_tr_a', 'year_odds',\n",
      "       'total_kurtosis', 'm6_excess_pl', 'm6_tr_a', 'y1_stdev_a',\n",
      "       'm3_return_a', 'y1_VaR', 'm6_VaR', 'y1_kurtosis', 'y1_stdev'],\n",
      "      dtype='object')\n",
      "15.238341853328379\n",
      "Month 31\n",
      "{'n_estimators': 10, 'max_features': 'sqrt', 'min_samples_leaf': 2400, 'max_depth': 13}\n",
      "Index(['y1_sor_a', 'm6_odds', 'm6_excess_a', 'm6_stock_hm', 'year_odds',\n",
      "       'm3_return', 'm6_s_security', 'fee', 'm3_excess_a', 'y1_corr',\n",
      "       'y1_s_time', 'm6_info_a', 'y1_sterling_a', 'total_unsys_risk',\n",
      "       'm6_skewness', 'y1_tracking_error_a', 'y1_con_fall_days', 'y1_burke_a',\n",
      "       'm6_min_return', 'y1_max_drawdown', 'm3_VaR', 'y1_dd_a',\n",
      "       'total_kurtosis', 'y1_ddr3_a', 'y1_VaR', 'y1_return_Msqr',\n",
      "       'm6_jensen_a', 'm6_dd_a', 'm3_beta', 'm6_stdev_a'],\n",
      "      dtype='object')\n",
      "8.776031444331585\n",
      "Month 32\n",
      "{'n_estimators': 10, 'max_features': 'sqrt', 'min_samples_leaf': 2400, 'max_depth': 15}\n",
      "Index(['year_kurtosis', 'm6_upbeta_cl', 'year_min_return', 'year_persistence',\n",
      "       'year_return', 'year_stdev', 'm3_unsys_risk', 'm6_s_time',\n",
      "       'm6_con_fall_days', 'm3_excess_a', 'm6_skewness', 'm3_persistence',\n",
      "       'm6_excess_a', 'y1_pain_ratio', 'm6_adjusted_jensen_a', 'm6_excess_pl',\n",
      "       'm6_corr', 'm6_con_rise_days', 'y1_ERCVaR', 'total_unsys_risk',\n",
      "       'm6_ddr3_a'],\n",
      "      dtype='object')\n",
      "41.24299029036714\n",
      "Month 33\n",
      "{'n_estimators': 15, 'max_features': 'log2', 'min_samples_leaf': 2400, 'max_depth': 15}\n",
      "Index(['year_stdev', 'year_n_earning_days', 'm6_jensen_a', 'year_kurtosis',\n",
      "       'total_tracking_error_a', 'year_con_rise_days', 'y1_kurtosis',\n",
      "       'y1_con_rise_days', 'y1_ddr3_a', 'm3_excess_a'],\n",
      "      dtype='object')\n",
      "109.24567734466306\n",
      "Month 34\n",
      "{'n_estimators': 15, 'max_features': 'log2', 'min_samples_leaf': 2400, 'max_depth': 4}\n",
      "Index(['m3_skewness', 'm6_CVaR', 'm3_stdev', 'm6_assess_ratio',\n",
      "       'year_skewness', 'm6_min_return', 'm6_max_drawdown', 'm6_burke_a',\n",
      "       'm6_corr_spearman', 'year_max_return', 'y1_con_rise_days',\n",
      "       'y1_corr_spearman', 'total_tracking_error_a', 'm6_VaR', 'y1_corr',\n",
      "       'm6_omega', 'm6_adjusted_jensen_a', 'm3_jensen_a', 'total_max_drawdown',\n",
      "       'total_average_drawdown'],\n",
      "      dtype='object')\n",
      "120.97936785929369\n",
      "Month 35\n",
      "{'n_estimators': 10, 'max_features': 'log2', 'min_samples_leaf': 2400, 'max_depth': 14}\n",
      "Index(['m3_min_return', 'm3_max_drawdown', 'm6_jensen_a',\n",
      "       'm3_tracking_error_a', 'y1_persistence', 'y1_pain_index', 'y1_omega'],\n",
      "      dtype='object')\n",
      "72.77139526219452\n",
      "Month 36\n",
      "{'n_estimators': 10, 'max_features': 'log2', 'min_samples_leaf': 800, 'max_depth': 10}\n",
      "Index(['m6_min_return'], dtype='object')\n",
      "-9.203655376882995\n",
      "Month 37\n",
      "{'n_estimators': 10, 'max_features': 'sqrt', 'min_samples_leaf': 800, 'max_depth': 7}\n",
      "Index(['year_min_return', 'year_skewness', 'm3_min_return', 'year_persistence',\n",
      "       'm3_stdev', 'm6_min_return', 'm6_stock_hm', 'm6_tr_a',\n",
      "       'year_max_drawdown', 'y1_hurst', 'm6_corr_spearman',\n",
      "       'year_con_fall_days', 'm3_tr_a', 'y1_CVaR', 'm6_info_a', 'y1_burke_a'],\n",
      "      dtype='object')\n",
      "0.5100999527461112\n",
      "Month 38\n",
      "{'n_estimators': 20, 'max_features': 'log2', 'min_samples_leaf': 2400, 'max_depth': 8}\n",
      "Index(['m6_stdev_a', 'm6_stdev', 'm6_max_return', 'm3_min_return',\n",
      "       'm3_skewness', 'year_return', 'm6_return_Msqr', 'm6_adjusted_jensen_a',\n",
      "       'y1_sterling_a', 'm6_con_fall_days', 'year_odds', 'y1_excess_pl',\n",
      "       'y1_sor_a', 'total_skewness', 'y1_con_rise_days'],\n",
      "      dtype='object')\n",
      "88.41030098501386\n",
      "Month 39\n",
      "{'n_estimators': 10, 'max_features': 'log2', 'min_samples_leaf': 1600, 'max_depth': 6}\n",
      "Index(['year_p_earning_days', 'year_return', 'year_con_rise_days', 'm3_info_a',\n",
      "       'y1_sterling_a', 'quarter_return', 'y1_max_return', 'm6_tr_a',\n",
      "       'm6_s_time'],\n",
      "      dtype='object')\n",
      "111.04073278425268\n",
      "Month 40\n",
      "{'n_estimators': 10, 'max_features': 'sqrt', 'min_samples_leaf': 1600, 'max_depth': 13}\n",
      "Index(['m3_VaR', 'y1_unsys_risk', 'm3_tr_a', 'm3_corr', 'm3_ERVaR',\n",
      "       'm3_sharpe_a', 'y1_beta_timing_camp', 'm3_dd_a'],\n",
      "      dtype='object')\n",
      "72.25721646880552\n",
      "Month 41\n",
      "{'n_estimators': 15, 'max_features': 'sqrt', 'min_samples_leaf': 800, 'max_depth': 6}\n",
      "Index(['m3_VaR'], dtype='object')\n",
      "23.785895205060193\n",
      "Month 42\n",
      "{'n_estimators': 10, 'max_features': 'log2', 'min_samples_leaf': 800, 'max_depth': 11}\n",
      "Index(['m3_tr_a'], dtype='object')\n",
      "16.04711350632724\n",
      "Month 43\n",
      "{'n_estimators': 10, 'max_features': 'sqrt', 'min_samples_leaf': 800, 'max_depth': 7}\n",
      "Index(['m3_sharpe_a', 'm3_return', 'm3_dd_a', 'm3_con_rise_days', 'm6_VaR',\n",
      "       'm3_return_a', 'm3_VaR', 'year_n_earning_days', 'm6_ERCVaR', 'm3_corr',\n",
      "       'm3_min_return', 'quarter_return', 'y1_sor_a', 'm6_kappa_a',\n",
      "       'm6_calmar_a', 'm6_average_drawdown', 'm6_ERVaR', 'm6_ddr3_a'],\n",
      "      dtype='object')\n",
      "59.924730637003734\n",
      "Month 44\n",
      "{'n_estimators': 15, 'max_features': 'log2', 'min_samples_leaf': 2400, 'max_depth': 12}\n",
      "Index(['m3_corr', 'year_con_fall_days', 'y1_stdev', 'm6_CVaR', 'm6_tr_a',\n",
      "       'm3_return', 'total_excess_pl', 'm6_dd_a'],\n",
      "      dtype='object')\n",
      "82.25698876252929\n",
      "Month 45\n",
      "{'n_estimators': 15, 'max_features': 'log2', 'min_samples_leaf': 1600, 'max_depth': 7}\n",
      "Index(['year_stdev', 'year_skewness', 'year_con_fall_days', 'm6_return',\n",
      "       'y1_sterling_a'],\n",
      "      dtype='object')\n",
      "38.062320971423624\n",
      "Month 46\n",
      "{'n_estimators': 10, 'max_features': 'sqrt', 'min_samples_leaf': 800, 'max_depth': 14}\n",
      "Index(['year_p_earning_days'], dtype='object')\n",
      "9.354985261026533\n",
      "Month 47\n",
      "{'n_estimators': 10, 'max_features': 'log2', 'min_samples_leaf': 2400, 'max_depth': 9}\n",
      "Index(['m3_max_drawdown', 'm3_return_a', 'm3_ERVaR', 'm3_con_rise_days',\n",
      "       'm6_excess_a'],\n",
      "      dtype='object')\n",
      "0.5530745222872779\n",
      "Month 48\n",
      "{'n_estimators': 40, 'max_features': 'sqrt', 'min_samples_leaf': 800, 'max_depth': 10}\n"
     ]
    },
    {
     "name": "stdout",
     "output_type": "stream",
     "text": [
      "Index(['m3_return', 'm3_persistence', 'm3_p_earning_days', 'm6_upbeta_cl',\n",
      "       'y1_upbeta_cl'],\n",
      "      dtype='object')\n",
      "39.8376124318108\n",
      "Month 49\n",
      "{'n_estimators': 10, 'max_features': 'log2', 'min_samples_leaf': 800, 'max_depth': 15}\n",
      "Index(['m3_con_fall_days', 'm3_persistence'], dtype='object')\n",
      "30.965737342963877\n",
      "Month 50\n",
      "{'n_estimators': 30, 'max_features': 'sqrt', 'min_samples_leaf': 800, 'max_depth': 8}\n",
      "Index(['year_p_earning_days', 'm3_con_rise_days', 'm3_p_earning_days',\n",
      "       'm3_kurtosis', 'year_max_return', 'year_return', 'y1_upbeta_cl',\n",
      "       'm6_corr_spearman'],\n",
      "      dtype='object')\n",
      "23.15273038158739\n",
      "Month 51\n",
      "{'n_estimators': 10, 'max_features': 'sqrt', 'min_samples_leaf': 800, 'max_depth': 12}\n",
      "Index(['m3_persistence', 'y1_stdev_a', 'y1_corr', 'y1_return', 'm3_ERVaR',\n",
      "       'year_return', 'm3_con_rise_days', 'm3_tr_a', 'm6_jensen_a',\n",
      "       'm3_con_fall_days', 'm6_burke_a', 'year_p_earning_days',\n",
      "       'm6_return_Msqr', 'year_con_rise_days', 'm6_excess_pl', 'total_stdev'],\n",
      "      dtype='object')\n",
      "15.623266403842877\n",
      "Month 52\n",
      "{'n_estimators': 10, 'max_features': 'sqrt', 'min_samples_leaf': 1600, 'max_depth': 10}\n",
      "Index(['m3_max_drawdown', 'm3_persistence', 'm3_con_fall_days',\n",
      "       'y1_n_earning_days', 'm3_VaR', 'quarter_return', 'm3_info_a',\n",
      "       'm6_stdev', 'year_skewness'],\n",
      "      dtype='object')\n",
      "42.659826409883294\n",
      "Month 53\n",
      "{'n_estimators': 25, 'max_features': 'sqrt', 'min_samples_leaf': 1600, 'max_depth': 5}\n",
      "Index(['m3_con_fall_days', 'm3_persistence', 'quarter_return', 'y1_info_a'], dtype='object')\n",
      "1.0287044552491795\n"
     ]
    }
   ],
   "source": [
    "optimal_features = []\n",
    "classifiers = []\n",
    "\n",
    "for i in range(len(training_data)):\n",
    "    print('Month ' + str(i))\n",
    "    study = optuna.create_study(direction=\"maximize\")\n",
    "    study.optimize(partial(objective,train=training_data[i],\n",
    "                           labels=training_labels[i],\n",
    "                           val=validation_data[i],\n",
    "                           val_labels=validation_labels[i],\n",
    "                           val_rets = validation_frames[i]['ret']),\n",
    "                           n_trials=100,n_jobs=-1)\n",
    "\n",
    "    params_1 = study.best_params\n",
    "    print(params_1)\n",
    "    params = {'n_estimators': 15,\n",
    "     'max_features': 'sqrt',\n",
    "     'min_samples_leaf': 800,\n",
    "     'max_depth': 8}\n",
    "    \n",
    "    rf_clf = RandomForestClassifier(**params)\n",
    "\n",
    "    classifiers.append(rf_clf)\n",
    "    \n",
    "    rf_clf.fit(training_data[i],training_labels[i])\n",
    "    fi = randomforest_feat_importances(rf_clf,training_data[i])\n",
    "    features = fi[fi['feat_imp'] > 0.000]\n",
    "    \n",
    "    train = training_data[i][features['cols'].values].copy()\n",
    "    validation = validation_data[i][features['cols'].values].copy()\n",
    "    \n",
    "    \n",
    "    profits = []\n",
    "    feat=[]\n",
    "    \n",
    "    rf_clf.fit(train,training_labels[i])\n",
    "    \n",
    "    while len(train.columns)>1:\n",
    "        \n",
    "        pi = randomforest_profit_importance(rf_clf,validation,validation_frames[i]['ret'])\n",
    "\n",
    "        col_to_drop = pi.iloc[-1]['cols']\n",
    "        train.drop(col_to_drop,axis=1,inplace=True)\n",
    "        validation.drop(col_to_drop,axis=1,inplace=True)\n",
    "        \n",
    "        rf_clf.fit(train,training_labels[i])\n",
    "        pred_valid = rf_clf.predict(validation)\n",
    "        profits.append((pred_valid * validation_frames[i]['ret']).sum())\n",
    "        feat.append(train.columns)\n",
    "        \n",
    "    n = np.argmax(profits)\n",
    "\n",
    "    max_profits = profits[n]\n",
    "\n",
    "    optim_feats = feat[n]\n",
    "    \n",
    "    print(optim_feats)\n",
    "    print(max_profits)\n",
    "\n",
    "    optimal_features.append(optim_feats)"
   ]
  },
  {
   "cell_type": "code",
   "execution_count": 51,
   "metadata": {},
   "outputs": [],
   "source": [
    "P_L = []\n",
    "x = [0,1]\n",
    "ret = []\n",
    "\n",
    "for i in range(1,len(optimal_features)-1):\n",
    "\n",
    "        classifiers[i-1].fit(training_data[i][optimal_features[i-1]],training_labels[i])\n",
    "        pred_i = classifiers[i-1].predict(test_data[i][optimal_features[i-1]])\n",
    "        \n",
    "        profit_i = (pred_i * test_frames[i]['ret']).sum()\n",
    "        P_L.append(profit_i)\n",
    "        positions = np.sum(np.abs(pred_i))\n",
    "        \n",
    "        ret.append((1.0/positions) * profit_i)\n",
    "        x.append(x[i] + (x[i]/positions) * profit_i)"
   ]
  },
  {
   "cell_type": "code",
   "execution_count": 52,
   "metadata": {
    "scrolled": true
   },
   "outputs": [
    {
     "data": {
      "image/png": "[encoded data removed]",
      "text/plain": [
       "<Figure size 432x288 with 1 Axes>"
      ]
     },
     "metadata": {
      "needs_background": "light"
     },
     "output_type": "display_data"
    }
   ],
   "source": [
    "plt.plot(x[1:]);"
   ]
  },
  {
   "cell_type": "code",
   "execution_count": 62,
   "metadata": {},
   "outputs": [],
   "source": [
    "opt = [np.array(optimal_features[i]) for i in range(len(optimal_features))]\n",
    "ordered_feat = Counter(np.concatenate(opt,axis=0)).most_common()\n",
    "most_common_feat = [x[0] for x in ordered_feat if x[1]>5]"
   ]
  },
  {
   "cell_type": "code",
   "execution_count": 107,
   "metadata": {},
   "outputs": [
    {
     "data": {
      "text/plain": [
       "['m3_tr_a',\n",
       " 'm3_stdev',\n",
       " 'm3_VaR',\n",
       " 'year_p_earning_days',\n",
       " 'year_stdev',\n",
       " 'year_return',\n",
       " 'm3_return',\n",
       " 'm3_min_return',\n",
       " 'm3_sharpe_a',\n",
       " 'year_max_drawdown',\n",
       " 'm3_max_return',\n",
       " 'm3_dd_a',\n",
       " 'm3_excess_a',\n",
       " 'm6_min_return',\n",
       " 'm3_return_a',\n",
       " 'm3_sor_a',\n",
       " 'm3_ERVaR',\n",
       " 'year_min_return',\n",
       " 'year_con_fall_days',\n",
       " 'm6_burke_a',\n",
       " 'm3_stdev_a',\n",
       " 'quarter_return',\n",
       " 'm6_stdev_a',\n",
       " 'm6_tr_a',\n",
       " 'm3_max_drawdown',\n",
       " 'm3_unsys_risk',\n",
       " 'm3_persistence',\n",
       " 'm6_ddr3_a',\n",
       " 'year_max_return',\n",
       " 'm3_beta',\n",
       " 'm6_corr',\n",
       " 'm3_corr',\n",
       " 'm6_stdev',\n",
       " 'year_kurtosis',\n",
       " 'year_odds',\n",
       " 'year_con_rise_days',\n",
       " 'm6_CVaR',\n",
       " 'y1_sterling_a']"
      ]
     },
     "execution_count": 107,
     "metadata": {},
     "output_type": "execute_result"
    }
   ],
   "source": [
    "most_common_feat"
   ]
  },
  {
   "cell_type": "code",
   "execution_count": 55,
   "metadata": {},
   "outputs": [],
   "source": [
    "import lightgbm as lgb"
   ]
  },
  {
   "cell_type": "code",
   "execution_count": 56,
   "metadata": {},
   "outputs": [],
   "source": [
    "def objective_gb(trial:Trial,train=None,labels=None,val=None,val_labels=None,val_rets=None):\n",
    "    \n",
    "    params = {\n",
    "        \"objective\": \"multi_class\",\n",
    "        \"verbosity\": -1,\n",
    "        \"boosting_type\": \"gbdt\",\n",
    "        \"reg_lambda\": trial.suggest_float(\"reg_lambda\", 1e-8, 10.0, log=True),\n",
    "        \"num_leaves\": trial.suggest_int(\"num_leaves\", 5, 25),\n",
    "        'min_data_in_leaf': trial.suggest_int('min_data_in_leaf',400,2400,step=400),\n",
    "        'learning_rate': trial.suggest_float('learning_rate',0.01,0.2,step=0.01)\n",
    "    }\n",
    "    \n",
    "    gb_clf = lgb.LGBMClassifier(**params)\n",
    "    gbm = gb_clf.fit(train,labels)\n",
    "    preds = gbm.predict(val)\n",
    "    profit = (preds*val_rets).sum()\n",
    "    return profit\n",
    "#     accuracy = accuracy_score(preds,val_labels)\n",
    "#     return accuracy"
   ]
  },
  {
   "cell_type": "code",
   "execution_count": 106,
   "metadata": {},
   "outputs": [],
   "source": [
    "with open('rf_optimal_features_monthly.pickle','wb') as f:\n",
    "    pickle.dump(optimal_features, f)"
   ]
  },
  {
   "cell_type": "markdown",
   "metadata": {},
   "source": [
    "### Gradient Boosting"
   ]
  },
  {
   "cell_type": "code",
   "execution_count": 66,
   "metadata": {
    "scrolled": true
   },
   "outputs": [
    {
     "name": "stdout",
     "output_type": "stream",
     "text": [
      "0\n",
      "[LightGBM] [Warning] min_data_in_leaf is set=400, min_child_samples=20 will be ignored. Current value: min_data_in_leaf=400\n",
      "[LightGBM] [Warning] min_data_in_leaf is set=400, min_child_samples=20 will be ignored. Current value: min_data_in_leaf=400\n",
      "[LightGBM] [Warning] min_data_in_leaf is set=400, min_child_samples=20 will be ignored. Current value: min_data_in_leaf=400\n",
      "[LightGBM] [Warning] min_data_in_leaf is set=2000, min_child_samples=20 will be ignored. Current value: min_data_in_leaf=2000\n",
      "[LightGBM] [Warning] min_data_in_leaf is set=1600, min_child_samples=20 will be ignored. Current value: min_data_in_leaf=1600\n",
      "[LightGBM] [Warning] min_data_in_leaf is set=2000, min_child_samples=20 will be ignored. Current value: min_data_in_leaf=2000\n",
      "[LightGBM] [Warning] min_data_in_leaf is set=2000, min_child_samples=20 will be ignored. Current value: min_data_in_leaf=2000\n",
      "[LightGBM] [Warning] min_data_in_leaf is set=2000, min_child_samples=20 will be ignored. Current value: min_data_in_leaf=2000\n",
      "[LightGBM] [Warning] min_data_in_leaf is set=1200, min_child_samples=20 will be ignored. Current value: min_data_in_leaf=1200\n",
      "[LightGBM] [Warning] min_data_in_leaf is set=800, min_child_samples=20 will be ignored. Current value: min_data_in_leaf=800\n",
      "{'reg_lambda': 1.546600095316215e-05, 'num_leaves': 8, 'min_data_in_leaf': 2000, 'learning_rate': 0.2}\n",
      "1\n",
      "[LightGBM] [Warning] min_data_in_leaf is set=1600, min_child_samples=20 will be ignored. Current value: min_data_in_leaf=1600\n",
      "[LightGBM] [Warning] min_data_in_leaf is set=2000, min_child_samples=20 will be ignored. Current value: min_data_in_leaf=2000\n",
      "[LightGBM] [Warning] min_data_in_leaf is set=2400, min_child_samples=20 will be ignored. Current value: min_data_in_leaf=2400\n",
      "[LightGBM] [Warning] min_data_in_leaf is set=400, min_child_samples=20 will be ignored. Current value: min_data_in_leaf=400\n",
      "[LightGBM] [Warning] min_data_in_leaf is set=2400, min_child_samples=20 will be ignored. Current value: min_data_in_leaf=2400\n",
      "[LightGBM] [Warning] min_data_in_leaf is set=2000, min_child_samples=20 will be ignored. Current value: min_data_in_leaf=2000\n",
      "[LightGBM] [Warning] min_data_in_leaf is set=2400, min_child_samples=20 will be ignored. Current value: min_data_in_leaf=2400\n",
      "[LightGBM] [Warning] min_data_in_leaf is set=2000, min_child_samples=20 will be ignored. Current value: min_data_in_leaf=2000\n",
      "[LightGBM] [Warning] min_data_in_leaf is set=2000, min_child_samples=20 will be ignored. Current value: min_data_in_leaf=2000\n",
      "[LightGBM] [Warning] min_data_in_leaf is set=2400, min_child_samples=20 will be ignored. Current value: min_data_in_leaf=2400\n",
      "{'reg_lambda': 7.220186517915713e-07, 'num_leaves': 16, 'min_data_in_leaf': 2000, 'learning_rate': 0.05}\n",
      "2\n",
      "[LightGBM] [Warning] min_data_in_leaf is set=1600, min_child_samples=20 will be ignored. Current value: min_data_in_leaf=1600\n",
      "[LightGBM] [Warning] min_data_in_leaf is set=800, min_child_samples=20 will be ignored. Current value: min_data_in_leaf=800\n",
      "[LightGBM] [Warning] min_data_in_leaf is set=1200, min_child_samples=20 will be ignored. Current value: min_data_in_leaf=1200\n",
      "[LightGBM] [Warning] min_data_in_leaf is set=400, min_child_samples=20 will be ignored. Current value: min_data_in_leaf=400\n",
      "[LightGBM] [Warning] min_data_in_leaf is set=800, min_child_samples=20 will be ignored. Current value: min_data_in_leaf=800\n",
      "[LightGBM] [Warning] min_data_in_leaf is set=800, min_child_samples=20 will be ignored. Current value: min_data_in_leaf=800\n",
      "[LightGBM] [Warning] min_data_in_leaf is set=1600, min_child_samples=20 will be ignored. Current value: min_data_in_leaf=1600\n",
      "[LightGBM] [Warning] min_data_in_leaf is set=400, min_child_samples=20 will be ignored. Current value: min_data_in_leaf=400\n",
      "[LightGBM] [Warning] min_data_in_leaf is set=1200, min_child_samples=20 will be ignored. Current value: min_data_in_leaf=1200\n",
      "[LightGBM] [Warning] min_data_in_leaf is set=800, min_child_samples=20 will be ignored. Current value: min_data_in_leaf=800\n",
      "{'reg_lambda': 0.023761589987494176, 'num_leaves': 9, 'min_data_in_leaf': 800, 'learning_rate': 0.18000000000000002}\n",
      "3\n",
      "[LightGBM] [Warning] min_data_in_leaf is set=400, min_child_samples=20 will be ignored. Current value: min_data_in_leaf=400\n",
      "[LightGBM] [Warning] min_data_in_leaf is set=400, min_child_samples=20 will be ignored. Current value: min_data_in_leaf=400\n",
      "[LightGBM] [Warning] min_data_in_leaf is set=400, min_child_samples=20 will be ignored. Current value: min_data_in_leaf=400\n",
      "[LightGBM] [Warning] min_data_in_leaf is set=1600, min_child_samples=20 will be ignored. Current value: min_data_in_leaf=1600\n",
      "[LightGBM] [Warning] min_data_in_leaf is set=1600, min_child_samples=20 will be ignored. Current value: min_data_in_leaf=1600\n",
      "[LightGBM] [Warning] min_data_in_leaf is set=1200, min_child_samples=20 will be ignored. Current value: min_data_in_leaf=1200\n",
      "[LightGBM] [Warning] min_data_in_leaf is set=1600, min_child_samples=20 will be ignored. Current value: min_data_in_leaf=1600\n",
      "[LightGBM] [Warning] min_data_in_leaf is set=1200, min_child_samples=20 will be ignored. Current value: min_data_in_leaf=1200\n",
      "[LightGBM] [Warning] min_data_in_leaf is set=400, min_child_samples=20 will be ignored. Current value: min_data_in_leaf=400\n",
      "[LightGBM] [Warning] min_data_in_leaf is set=800, min_child_samples=20 will be ignored. Current value: min_data_in_leaf=800\n",
      "{'reg_lambda': 2.3625357583855213, 'num_leaves': 17, 'min_data_in_leaf': 1200, 'learning_rate': 0.2}\n",
      "4\n",
      "[LightGBM] [Warning] min_data_in_leaf is set=1600, min_child_samples=20 will be ignored. Current value: min_data_in_leaf=1600\n",
      "[LightGBM] [Warning] min_data_in_leaf is set=800, min_child_samples=20 will be ignored. Current value: min_data_in_leaf=800\n",
      "[LightGBM] [Warning] min_data_in_leaf is set=2000, min_child_samples=20 will be ignored. Current value: min_data_in_leaf=2000\n",
      "[LightGBM] [Warning] min_data_in_leaf is set=1600, min_child_samples=20 will be ignored. Current value: min_data_in_leaf=1600\n",
      "[LightGBM] [Warning] min_data_in_leaf is set=1600, min_child_samples=20 will be ignored. Current value: min_data_in_leaf=1600\n",
      "[LightGBM] [Warning] min_data_in_leaf is set=800, min_child_samples=20 will be ignored. Current value: min_data_in_leaf=800\n",
      "[LightGBM] [Warning] min_data_in_leaf is set=800, min_child_samples=20 will be ignored. Current value: min_data_in_leaf=800\n",
      "[LightGBM] [Warning] min_data_in_leaf is set=1600, min_child_samples=20 will be ignored. Current value: min_data_in_leaf=1600\n",
      "[LightGBM] [Warning] min_data_in_leaf is set=2000, min_child_samples=20 will be ignored. Current value: min_data_in_leaf=2000\n",
      "[LightGBM] [Warning] min_data_in_leaf is set=1200, min_child_samples=20 will be ignored. Current value: min_data_in_leaf=1200\n",
      "{'reg_lambda': 0.0008427584792498702, 'num_leaves': 10, 'min_data_in_leaf': 2000, 'learning_rate': 0.060000000000000005}\n",
      "5\n",
      "[LightGBM] [Warning] min_data_in_leaf is set=1600, min_child_samples=20 will be ignored. Current value: min_data_in_leaf=1600\n",
      "[LightGBM] [Warning] min_data_in_leaf is set=2000, min_child_samples=20 will be ignored. Current value: min_data_in_leaf=2000\n",
      "[LightGBM] [Warning] min_data_in_leaf is set=400, min_child_samples=20 will be ignored. Current value: min_data_in_leaf=400\n",
      "[LightGBM] [Warning] min_data_in_leaf is set=1600, min_child_samples=20 will be ignored. Current value: min_data_in_leaf=1600\n",
      "[LightGBM] [Warning] min_data_in_leaf is set=1200, min_child_samples=20 will be ignored. Current value: min_data_in_leaf=1200\n",
      "[LightGBM] [Warning] min_data_in_leaf is set=2400, min_child_samples=20 will be ignored. Current value: min_data_in_leaf=2400\n",
      "[LightGBM] [Warning] min_data_in_leaf is set=1200, min_child_samples=20 will be ignored. Current value: min_data_in_leaf=1200\n",
      "[LightGBM] [Warning] min_data_in_leaf is set=800, min_child_samples=20 will be ignored. Current value: min_data_in_leaf=800\n",
      "[LightGBM] [Warning] min_data_in_leaf is set=800, min_child_samples=20 will be ignored. Current value: min_data_in_leaf=800\n",
      "[LightGBM] [Warning] min_data_in_leaf is set=2400, min_child_samples=20 will be ignored. Current value: min_data_in_leaf=2400\n",
      "{'reg_lambda': 0.47635388096939046, 'num_leaves': 25, 'min_data_in_leaf': 2400, 'learning_rate': 0.05}\n",
      "6\n",
      "[LightGBM] [Warning] min_data_in_leaf is set=1600, min_child_samples=20 will be ignored. Current value: min_data_in_leaf=1600\n",
      "[LightGBM] [Warning] min_data_in_leaf is set=400, min_child_samples=20 will be ignored. Current value: min_data_in_leaf=400\n"
     ]
    },
    {
     "name": "stdout",
     "output_type": "stream",
     "text": [
      "[LightGBM] [Warning] min_data_in_leaf is set=2400, min_child_samples=20 will be ignored. Current value: min_data_in_leaf=2400\n",
      "[LightGBM] [Warning] min_data_in_leaf is set=1600, min_child_samples=20 will be ignored. Current value: min_data_in_leaf=1600\n",
      "[LightGBM] [Warning] min_data_in_leaf is set=800, min_child_samples=20 will be ignored. Current value: min_data_in_leaf=800\n",
      "[LightGBM] [Warning] min_data_in_leaf is set=2400, min_child_samples=20 will be ignored. Current value: min_data_in_leaf=2400\n",
      "[LightGBM] [Warning] min_data_in_leaf is set=1200, min_child_samples=20 will be ignored. Current value: min_data_in_leaf=1200\n",
      "[LightGBM] [Warning] min_data_in_leaf is set=800, min_child_samples=20 will be ignored. Current value: min_data_in_leaf=800\n",
      "[LightGBM] [Warning] min_data_in_leaf is set=2000, min_child_samples=20 will be ignored. Current value: min_data_in_leaf=2000\n",
      "[LightGBM] [Warning] min_data_in_leaf is set=400, min_child_samples=20 will be ignored. Current value: min_data_in_leaf=400\n",
      "{'reg_lambda': 3.020054395249499e-08, 'num_leaves': 15, 'min_data_in_leaf': 800, 'learning_rate': 0.19}\n",
      "7\n",
      "[LightGBM] [Warning] min_data_in_leaf is set=400, min_child_samples=20 will be ignored. Current value: min_data_in_leaf=400\n",
      "[LightGBM] [Warning] min_data_in_leaf is set=400, min_child_samples=20 will be ignored. Current value: min_data_in_leaf=400\n",
      "[LightGBM] [Warning] min_data_in_leaf is set=800, min_child_samples=20 will be ignored. Current value: min_data_in_leaf=800\n",
      "[LightGBM] [Warning] min_data_in_leaf is set=2000, min_child_samples=20 will be ignored. Current value: min_data_in_leaf=2000\n",
      "[LightGBM] [Warning] min_data_in_leaf is set=400, min_child_samples=20 will be ignored. Current value: min_data_in_leaf=400\n",
      "[LightGBM] [Warning] min_data_in_leaf is set=400, min_child_samples=20 will be ignored. Current value: min_data_in_leaf=400\n",
      "[LightGBM] [Warning] min_data_in_leaf is set=2400, min_child_samples=20 will be ignored. Current value: min_data_in_leaf=2400\n",
      "[LightGBM] [Warning] min_data_in_leaf is set=400, min_child_samples=20 will be ignored. Current value: min_data_in_leaf=400\n",
      "[LightGBM] [Warning] min_data_in_leaf is set=2400, min_child_samples=20 will be ignored. Current value: min_data_in_leaf=2400\n",
      "[LightGBM] [Warning] min_data_in_leaf is set=2000, min_child_samples=20 will be ignored. Current value: min_data_in_leaf=2000\n",
      "{'reg_lambda': 0.035346932317677535, 'num_leaves': 10, 'min_data_in_leaf': 400, 'learning_rate': 0.16}\n",
      "8\n",
      "[LightGBM] [Warning] min_data_in_leaf is set=400, min_child_samples=20 will be ignored. Current value: min_data_in_leaf=400\n",
      "[LightGBM] [Warning] min_data_in_leaf is set=800, min_child_samples=20 will be ignored. Current value: min_data_in_leaf=800\n",
      "[LightGBM] [Warning] min_data_in_leaf is set=2400, min_child_samples=20 will be ignored. Current value: min_data_in_leaf=2400\n",
      "[LightGBM] [Warning] min_data_in_leaf is set=400, min_child_samples=20 will be ignored. Current value: min_data_in_leaf=400\n",
      "[LightGBM] [Warning] min_data_in_leaf is set=1200, min_child_samples=20 will be ignored. Current value: min_data_in_leaf=1200\n",
      "[LightGBM] [Warning] min_data_in_leaf is set=800, min_child_samples=20 will be ignored. Current value: min_data_in_leaf=800\n",
      "[LightGBM] [Warning] min_data_in_leaf is set=2400, min_child_samples=20 will be ignored. Current value: min_data_in_leaf=2400\n",
      "[LightGBM] [Warning] min_data_in_leaf is set=1600, min_child_samples=20 will be ignored. Current value: min_data_in_leaf=1600\n",
      "[LightGBM] [Warning] min_data_in_leaf is set=2400, min_child_samples=20 will be ignored. Current value: min_data_in_leaf=2400\n",
      "[LightGBM] [Warning] min_data_in_leaf is set=2400, min_child_samples=20 will be ignored. Current value: min_data_in_leaf=2400\n",
      "{'reg_lambda': 6.100876896034852, 'num_leaves': 9, 'min_data_in_leaf': 2400, 'learning_rate': 0.06999999999999999}\n",
      "9\n",
      "[LightGBM] [Warning] min_data_in_leaf is set=1200, min_child_samples=20 will be ignored. Current value: min_data_in_leaf=1200\n",
      "[LightGBM] [Warning] min_data_in_leaf is set=800, min_child_samples=20 will be ignored. Current value: min_data_in_leaf=800\n",
      "[LightGBM] [Warning] min_data_in_leaf is set=400, min_child_samples=20 will be ignored. Current value: min_data_in_leaf=400\n",
      "[LightGBM] [Warning] min_data_in_leaf is set=2000, min_child_samples=20 will be ignored. Current value: min_data_in_leaf=2000\n",
      "[LightGBM] [Warning] min_data_in_leaf is set=1600, min_child_samples=20 will be ignored. Current value: min_data_in_leaf=1600\n",
      "[LightGBM] [Warning] min_data_in_leaf is set=1600, min_child_samples=20 will be ignored. Current value: min_data_in_leaf=1600\n",
      "[LightGBM] [Warning] min_data_in_leaf is set=1200, min_child_samples=20 will be ignored. Current value: min_data_in_leaf=1200\n",
      "[LightGBM] [Warning] min_data_in_leaf is set=1600, min_child_samples=20 will be ignored. Current value: min_data_in_leaf=1600\n",
      "[LightGBM] [Warning] min_data_in_leaf is set=800, min_child_samples=20 will be ignored. Current value: min_data_in_leaf=800\n",
      "[LightGBM] [Warning] min_data_in_leaf is set=400, min_child_samples=20 will be ignored. Current value: min_data_in_leaf=400\n",
      "{'reg_lambda': 0.0005909859491109635, 'num_leaves': 18, 'min_data_in_leaf': 800, 'learning_rate': 0.02}\n",
      "10\n",
      "[LightGBM] [Warning] min_data_in_leaf is set=800, min_child_samples=20 will be ignored. Current value: min_data_in_leaf=800\n",
      "[LightGBM] [Warning] min_data_in_leaf is set=800, min_child_samples=20 will be ignored. Current value: min_data_in_leaf=800\n",
      "[LightGBM] [Warning] min_data_in_leaf is set=2000, min_child_samples=20 will be ignored. Current value: min_data_in_leaf=2000\n",
      "[LightGBM] [Warning] min_data_in_leaf is set=800, min_child_samples=20 will be ignored. Current value: min_data_in_leaf=800\n",
      "[LightGBM] [Warning] min_data_in_leaf is set=1200, min_child_samples=20 will be ignored. Current value: min_data_in_leaf=1200\n",
      "[LightGBM] [Warning] min_data_in_leaf is set=1200, min_child_samples=20 will be ignored. Current value: min_data_in_leaf=1200\n",
      "[LightGBM] [Warning] min_data_in_leaf is set=2000, min_child_samples=20 will be ignored. Current value: min_data_in_leaf=2000\n",
      "[LightGBM] [Warning] min_data_in_leaf is set=400, min_child_samples=20 will be ignored. Current value: min_data_in_leaf=400\n",
      "[LightGBM] [Warning] min_data_in_leaf is set=1200, min_child_samples=20 will be ignored. Current value: min_data_in_leaf=1200\n",
      "[LightGBM] [Warning] min_data_in_leaf is set=2400, min_child_samples=20 will be ignored. Current value: min_data_in_leaf=2400\n",
      "{'reg_lambda': 0.0026552030829456873, 'num_leaves': 15, 'min_data_in_leaf': 2400, 'learning_rate': 0.060000000000000005}\n",
      "11\n",
      "[LightGBM] [Warning] min_data_in_leaf is set=2000, min_child_samples=20 will be ignored. Current value: min_data_in_leaf=2000\n",
      "[LightGBM] [Warning] min_data_in_leaf is set=2000, min_child_samples=20 will be ignored. Current value: min_data_in_leaf=2000\n",
      "[LightGBM] [Warning] min_data_in_leaf is set=2400, min_child_samples=20 will be ignored. Current value: min_data_in_leaf=2400\n",
      "[LightGBM] [Warning] min_data_in_leaf is set=800, min_child_samples=20 will be ignored. Current value: min_data_in_leaf=800\n",
      "[LightGBM] [Warning] min_data_in_leaf is set=2000, min_child_samples=20 will be ignored. Current value: min_data_in_leaf=2000\n",
      "[LightGBM] [Warning] min_data_in_leaf is set=800, min_child_samples=20 will be ignored. Current value: min_data_in_leaf=800\n",
      "[LightGBM] [Warning] min_data_in_leaf is set=2000, min_child_samples=20 will be ignored. Current value: min_data_in_leaf=2000\n",
      "[LightGBM] [Warning] min_data_in_leaf is set=400, min_child_samples=20 will be ignored. Current value: min_data_in_leaf=400\n",
      "[LightGBM] [Warning] min_data_in_leaf is set=400, min_child_samples=20 will be ignored. Current value: min_data_in_leaf=400\n",
      "[LightGBM] [Warning] min_data_in_leaf is set=400, min_child_samples=20 will be ignored. Current value: min_data_in_leaf=400\n",
      "{'reg_lambda': 1.249377383525583e-07, 'num_leaves': 8, 'min_data_in_leaf': 2400, 'learning_rate': 0.08}\n",
      "12\n",
      "[LightGBM] [Warning] min_data_in_leaf is set=2400, min_child_samples=20 will be ignored. Current value: min_data_in_leaf=2400\n",
      "[LightGBM] [Warning] min_data_in_leaf is set=2400, min_child_samples=20 will be ignored. Current value: min_data_in_leaf=2400\n",
      "[LightGBM] [Warning] min_data_in_leaf is set=800, min_child_samples=20 will be ignored. Current value: min_data_in_leaf=800\n",
      "[LightGBM] [Warning] min_data_in_leaf is set=400, min_child_samples=20 will be ignored. Current value: min_data_in_leaf=400\n"
     ]
    },
    {
     "name": "stdout",
     "output_type": "stream",
     "text": [
      "[LightGBM] [Warning] min_data_in_leaf is set=1600, min_child_samples=20 will be ignored. Current value: min_data_in_leaf=1600\n",
      "[LightGBM] [Warning] min_data_in_leaf is set=1600, min_child_samples=20 will be ignored. Current value: min_data_in_leaf=1600\n",
      "[LightGBM] [Warning] min_data_in_leaf is set=800, min_child_samples=20 will be ignored. Current value: min_data_in_leaf=800\n",
      "[LightGBM] [Warning] min_data_in_leaf is set=800, min_child_samples=20 will be ignored. Current value: min_data_in_leaf=800\n",
      "[LightGBM] [Warning] min_data_in_leaf is set=800, min_child_samples=20 will be ignored. Current value: min_data_in_leaf=800\n",
      "[LightGBM] [Warning] min_data_in_leaf is set=1600, min_child_samples=20 will be ignored. Current value: min_data_in_leaf=1600\n",
      "{'reg_lambda': 1.2608410921902717e-08, 'num_leaves': 7, 'min_data_in_leaf': 2400, 'learning_rate': 0.04}\n",
      "13\n",
      "[LightGBM] [Warning] min_data_in_leaf is set=800, min_child_samples=20 will be ignored. Current value: min_data_in_leaf=800\n",
      "[LightGBM] [Warning] min_data_in_leaf is set=1600, min_child_samples=20 will be ignored. Current value: min_data_in_leaf=1600\n",
      "[LightGBM] [Warning] min_data_in_leaf is set=400, min_child_samples=20 will be ignored. Current value: min_data_in_leaf=400\n",
      "[LightGBM] [Warning] min_data_in_leaf is set=1600, min_child_samples=20 will be ignored. Current value: min_data_in_leaf=1600\n",
      "[LightGBM] [Warning] min_data_in_leaf is set=2400, min_child_samples=20 will be ignored. Current value: min_data_in_leaf=2400\n",
      "[LightGBM] [Warning] min_data_in_leaf is set=2400, min_child_samples=20 will be ignored. Current value: min_data_in_leaf=2400\n",
      "[LightGBM] [Warning] min_data_in_leaf is set=400, min_child_samples=20 will be ignored. Current value: min_data_in_leaf=400\n",
      "[LightGBM] [Warning] min_data_in_leaf is set=2400, min_child_samples=20 will be ignored. Current value: min_data_in_leaf=2400\n",
      "[LightGBM] [Warning] min_data_in_leaf is set=2400, min_child_samples=20 will be ignored. Current value: min_data_in_leaf=2400\n",
      "[LightGBM] [Warning] min_data_in_leaf is set=2400, min_child_samples=20 will be ignored. Current value: min_data_in_leaf=2400\n",
      "{'reg_lambda': 0.0010127145629966105, 'num_leaves': 24, 'min_data_in_leaf': 2400, 'learning_rate': 0.11}\n",
      "14\n",
      "[LightGBM] [Warning] min_data_in_leaf is set=800, min_child_samples=20 will be ignored. Current value: min_data_in_leaf=800\n",
      "[LightGBM] [Warning] min_data_in_leaf is set=400, min_child_samples=20 will be ignored. Current value: min_data_in_leaf=400\n",
      "[LightGBM] [Warning] min_data_in_leaf is set=800, min_child_samples=20 will be ignored. Current value: min_data_in_leaf=800\n",
      "[LightGBM] [Warning] min_data_in_leaf is set=1600, min_child_samples=20 will be ignored. Current value: min_data_in_leaf=1600\n",
      "[LightGBM] [Warning] min_data_in_leaf is set=2400, min_child_samples=20 will be ignored. Current value: min_data_in_leaf=2400\n",
      "[LightGBM] [Warning] min_data_in_leaf is set=800, min_child_samples=20 will be ignored. Current value: min_data_in_leaf=800\n",
      "[LightGBM] [Warning] min_data_in_leaf is set=1200, min_child_samples=20 will be ignored. Current value: min_data_in_leaf=1200\n",
      "[LightGBM] [Warning] min_data_in_leaf is set=400, min_child_samples=20 will be ignored. Current value: min_data_in_leaf=400\n",
      "[LightGBM] [Warning] min_data_in_leaf is set=400, min_child_samples=20 will be ignored. Current value: min_data_in_leaf=400\n",
      "[LightGBM] [Warning] min_data_in_leaf is set=400, min_child_samples=20 will be ignored. Current value: min_data_in_leaf=400\n",
      "{'reg_lambda': 0.21483667577802668, 'num_leaves': 23, 'min_data_in_leaf': 1600, 'learning_rate': 0.01}\n",
      "15\n",
      "[LightGBM] [Warning] min_data_in_leaf is set=400, min_child_samples=20 will be ignored. Current value: min_data_in_leaf=400\n",
      "[LightGBM] [Warning] min_data_in_leaf is set=400, min_child_samples=20 will be ignored. Current value: min_data_in_leaf=400\n",
      "[LightGBM] [Warning] min_data_in_leaf is set=800, min_child_samples=20 will be ignored. Current value: min_data_in_leaf=800\n",
      "[LightGBM] [Warning] min_data_in_leaf is set=800, min_child_samples=20 will be ignored. Current value: min_data_in_leaf=800\n",
      "[LightGBM] [Warning] min_data_in_leaf is set=2000, min_child_samples=20 will be ignored. Current value: min_data_in_leaf=2000\n",
      "[LightGBM] [Warning] min_data_in_leaf is set=1200, min_child_samples=20 will be ignored. Current value: min_data_in_leaf=1200\n",
      "[LightGBM] [Warning] min_data_in_leaf is set=800, min_child_samples=20 will be ignored. Current value: min_data_in_leaf=800\n",
      "[LightGBM] [Warning] min_data_in_leaf is set=1200, min_child_samples=20 will be ignored. Current value: min_data_in_leaf=1200\n",
      "[LightGBM] [Warning] min_data_in_leaf is set=800, min_child_samples=20 will be ignored. Current value: min_data_in_leaf=800\n",
      "[LightGBM] [Warning] min_data_in_leaf is set=2400, min_child_samples=20 will be ignored. Current value: min_data_in_leaf=2400\n",
      "{'reg_lambda': 1.957039120728207e-06, 'num_leaves': 25, 'min_data_in_leaf': 800, 'learning_rate': 0.18000000000000002}\n",
      "16\n",
      "[LightGBM] [Warning] min_data_in_leaf is set=400, min_child_samples=20 will be ignored. Current value: min_data_in_leaf=400\n",
      "[LightGBM] [Warning] min_data_in_leaf is set=400, min_child_samples=20 will be ignored. Current value: min_data_in_leaf=400\n",
      "[LightGBM] [Warning] min_data_in_leaf is set=1600, min_child_samples=20 will be ignored. Current value: min_data_in_leaf=1600\n",
      "[LightGBM] [Warning] min_data_in_leaf is set=400, min_child_samples=20 will be ignored. Current value: min_data_in_leaf=400\n",
      "[LightGBM] [Warning] min_data_in_leaf is set=2400, min_child_samples=20 will be ignored. Current value: min_data_in_leaf=2400\n",
      "[LightGBM] [Warning] min_data_in_leaf is set=2000, min_child_samples=20 will be ignored. Current value: min_data_in_leaf=2000\n",
      "[LightGBM] [Warning] min_data_in_leaf is set=2400, min_child_samples=20 will be ignored. Current value: min_data_in_leaf=2400\n",
      "[LightGBM] [Warning] min_data_in_leaf is set=400, min_child_samples=20 will be ignored. Current value: min_data_in_leaf=400\n",
      "[LightGBM] [Warning] min_data_in_leaf is set=400, min_child_samples=20 will be ignored. Current value: min_data_in_leaf=400\n",
      "[LightGBM] [Warning] min_data_in_leaf is set=800, min_child_samples=20 will be ignored. Current value: min_data_in_leaf=800\n",
      "{'reg_lambda': 2.8488454509428786e-07, 'num_leaves': 21, 'min_data_in_leaf': 400, 'learning_rate': 0.04}\n",
      "17\n",
      "[LightGBM] [Warning] min_data_in_leaf is set=400, min_child_samples=20 will be ignored. Current value: min_data_in_leaf=400\n",
      "[LightGBM] [Warning] min_data_in_leaf is set=2400, min_child_samples=20 will be ignored. Current value: min_data_in_leaf=2400\n",
      "[LightGBM] [Warning] min_data_in_leaf is set=1200, min_child_samples=20 will be ignored. Current value: min_data_in_leaf=1200\n",
      "[LightGBM] [Warning] min_data_in_leaf is set=800, min_child_samples=20 will be ignored. Current value: min_data_in_leaf=800\n",
      "[LightGBM] [Warning] min_data_in_leaf is set=2000, min_child_samples=20 will be ignored. Current value: min_data_in_leaf=2000\n",
      "[LightGBM] [Warning] min_data_in_leaf is set=1600, min_child_samples=20 will be ignored. Current value: min_data_in_leaf=1600\n",
      "[LightGBM] [Warning] min_data_in_leaf is set=1600, min_child_samples=20 will be ignored. Current value: min_data_in_leaf=1600\n",
      "[LightGBM] [Warning] min_data_in_leaf is set=2400, min_child_samples=20 will be ignored. Current value: min_data_in_leaf=2400\n",
      "[LightGBM] [Warning] min_data_in_leaf is set=1600, min_child_samples=20 will be ignored. Current value: min_data_in_leaf=1600\n",
      "[LightGBM] [Warning] min_data_in_leaf is set=1200, min_child_samples=20 will be ignored. Current value: min_data_in_leaf=1200\n",
      "{'reg_lambda': 5.953212302665962e-07, 'num_leaves': 22, 'min_data_in_leaf': 1200, 'learning_rate': 0.11}\n",
      "18\n",
      "[LightGBM] [Warning] min_data_in_leaf is set=400, min_child_samples=20 will be ignored. Current value: min_data_in_leaf=400\n",
      "[LightGBM] [Warning] min_data_in_leaf is set=2000, min_child_samples=20 will be ignored. Current value: min_data_in_leaf=2000\n",
      "[LightGBM] [Warning] min_data_in_leaf is set=2400, min_child_samples=20 will be ignored. Current value: min_data_in_leaf=2400\n",
      "[LightGBM] [Warning] min_data_in_leaf is set=2000, min_child_samples=20 will be ignored. Current value: min_data_in_leaf=2000\n",
      "[LightGBM] [Warning] min_data_in_leaf is set=400, min_child_samples=20 will be ignored. Current value: min_data_in_leaf=400\n"
     ]
    },
    {
     "name": "stdout",
     "output_type": "stream",
     "text": [
      "[LightGBM] [Warning] min_data_in_leaf is set=1200, min_child_samples=20 will be ignored. Current value: min_data_in_leaf=1200\n",
      "[LightGBM] [Warning] min_data_in_leaf is set=1600, min_child_samples=20 will be ignored. Current value: min_data_in_leaf=1600\n",
      "[LightGBM] [Warning] min_data_in_leaf is set=1600, min_child_samples=20 will be ignored. Current value: min_data_in_leaf=1600\n",
      "[LightGBM] [Warning] min_data_in_leaf is set=2400, min_child_samples=20 will be ignored. Current value: min_data_in_leaf=2400\n",
      "[LightGBM] [Warning] min_data_in_leaf is set=800, min_child_samples=20 will be ignored. Current value: min_data_in_leaf=800\n",
      "{'reg_lambda': 1.207296087459738e-07, 'num_leaves': 24, 'min_data_in_leaf': 800, 'learning_rate': 0.060000000000000005}\n",
      "19\n",
      "[LightGBM] [Warning] min_data_in_leaf is set=800, min_child_samples=20 will be ignored. Current value: min_data_in_leaf=800\n",
      "[LightGBM] [Warning] min_data_in_leaf is set=1600, min_child_samples=20 will be ignored. Current value: min_data_in_leaf=1600\n",
      "[LightGBM] [Warning] min_data_in_leaf is set=1200, min_child_samples=20 will be ignored. Current value: min_data_in_leaf=1200\n",
      "[LightGBM] [Warning] min_data_in_leaf is set=1600, min_child_samples=20 will be ignored. Current value: min_data_in_leaf=1600\n",
      "[LightGBM] [Warning] min_data_in_leaf is set=2000, min_child_samples=20 will be ignored. Current value: min_data_in_leaf=2000\n",
      "[LightGBM] [Warning] min_data_in_leaf is set=1600, min_child_samples=20 will be ignored. Current value: min_data_in_leaf=1600\n",
      "[LightGBM] [Warning] min_data_in_leaf is set=1200, min_child_samples=20 will be ignored. Current value: min_data_in_leaf=1200\n",
      "[LightGBM] [Warning] min_data_in_leaf is set=1600, min_child_samples=20 will be ignored. Current value: min_data_in_leaf=1600\n",
      "[LightGBM] [Warning] min_data_in_leaf is set=800, min_child_samples=20 will be ignored. Current value: min_data_in_leaf=800\n",
      "[LightGBM] [Warning] min_data_in_leaf is set=800, min_child_samples=20 will be ignored. Current value: min_data_in_leaf=800\n",
      "{'reg_lambda': 1.9192337993591028e-07, 'num_leaves': 12, 'min_data_in_leaf': 800, 'learning_rate': 0.12}\n",
      "20\n",
      "[LightGBM] [Warning] min_data_in_leaf is set=800, min_child_samples=20 will be ignored. Current value: min_data_in_leaf=800\n",
      "[LightGBM] [Warning] min_data_in_leaf is set=2400, min_child_samples=20 will be ignored. Current value: min_data_in_leaf=2400\n",
      "[LightGBM] [Warning] min_data_in_leaf is set=1600, min_child_samples=20 will be ignored. Current value: min_data_in_leaf=1600\n",
      "[LightGBM] [Warning] min_data_in_leaf is set=1200, min_child_samples=20 will be ignored. Current value: min_data_in_leaf=1200\n",
      "[LightGBM] [Warning] min_data_in_leaf is set=400, min_child_samples=20 will be ignored. Current value: min_data_in_leaf=400\n",
      "[LightGBM] [Warning] min_data_in_leaf is set=2000, min_child_samples=20 will be ignored. Current value: min_data_in_leaf=2000\n",
      "[LightGBM] [Warning] min_data_in_leaf is set=800, min_child_samples=20 will be ignored. Current value: min_data_in_leaf=800\n",
      "[LightGBM] [Warning] min_data_in_leaf is set=2000, min_child_samples=20 will be ignored. Current value: min_data_in_leaf=2000\n",
      "[LightGBM] [Warning] min_data_in_leaf is set=1600, min_child_samples=20 will be ignored. Current value: min_data_in_leaf=1600\n",
      "[LightGBM] [Warning] min_data_in_leaf is set=1200, min_child_samples=20 will be ignored. Current value: min_data_in_leaf=1200\n",
      "{'reg_lambda': 9.969606530352271, 'num_leaves': 6, 'min_data_in_leaf': 800, 'learning_rate': 0.12}\n",
      "21\n",
      "[LightGBM] [Warning] min_data_in_leaf is set=2400, min_child_samples=20 will be ignored. Current value: min_data_in_leaf=2400\n",
      "[LightGBM] [Warning] min_data_in_leaf is set=2400, min_child_samples=20 will be ignored. Current value: min_data_in_leaf=2400\n",
      "[LightGBM] [Warning] min_data_in_leaf is set=2000, min_child_samples=20 will be ignored. Current value: min_data_in_leaf=2000\n",
      "[LightGBM] [Warning] min_data_in_leaf is set=2400, min_child_samples=20 will be ignored. Current value: min_data_in_leaf=2400\n",
      "[LightGBM] [Warning] min_data_in_leaf is set=2000, min_child_samples=20 will be ignored. Current value: min_data_in_leaf=2000\n",
      "[LightGBM] [Warning] min_data_in_leaf is set=400, min_child_samples=20 will be ignored. Current value: min_data_in_leaf=400\n",
      "[LightGBM] [Warning] min_data_in_leaf is set=400, min_child_samples=20 will be ignored. Current value: min_data_in_leaf=400\n",
      "[LightGBM] [Warning] min_data_in_leaf is set=2400, min_child_samples=20 will be ignored. Current value: min_data_in_leaf=2400\n",
      "[LightGBM] [Warning] min_data_in_leaf is set=400, min_child_samples=20 will be ignored. Current value: min_data_in_leaf=400\n",
      "[LightGBM] [Warning] min_data_in_leaf is set=2000, min_child_samples=20 will be ignored. Current value: min_data_in_leaf=2000\n",
      "{'reg_lambda': 0.1354231998506448, 'num_leaves': 24, 'min_data_in_leaf': 400, 'learning_rate': 0.17}\n",
      "22\n",
      "[LightGBM] [Warning] min_data_in_leaf is set=1600, min_child_samples=20 will be ignored. Current value: min_data_in_leaf=1600\n",
      "[LightGBM] [Warning] min_data_in_leaf is set=2000, min_child_samples=20 will be ignored. Current value: min_data_in_leaf=2000\n",
      "[LightGBM] [Warning] min_data_in_leaf is set=400, min_child_samples=20 will be ignored. Current value: min_data_in_leaf=400\n",
      "[LightGBM] [Warning] min_data_in_leaf is set=1600, min_child_samples=20 will be ignored. Current value: min_data_in_leaf=1600\n",
      "[LightGBM] [Warning] min_data_in_leaf is set=400, min_child_samples=20 will be ignored. Current value: min_data_in_leaf=400\n",
      "[LightGBM] [Warning] min_data_in_leaf is set=2400, min_child_samples=20 will be ignored. Current value: min_data_in_leaf=2400\n",
      "[LightGBM] [Warning] min_data_in_leaf is set=2400, min_child_samples=20 will be ignored. Current value: min_data_in_leaf=2400\n",
      "[LightGBM] [Warning] min_data_in_leaf is set=2000, min_child_samples=20 will be ignored. Current value: min_data_in_leaf=2000\n",
      "[LightGBM] [Warning] min_data_in_leaf is set=2400, min_child_samples=20 will be ignored. Current value: min_data_in_leaf=2400\n",
      "[LightGBM] [Warning] min_data_in_leaf is set=1200, min_child_samples=20 will be ignored. Current value: min_data_in_leaf=1200\n",
      "{'reg_lambda': 0.12026666820848561, 'num_leaves': 7, 'min_data_in_leaf': 400, 'learning_rate': 0.17}\n",
      "23\n",
      "[LightGBM] [Warning] min_data_in_leaf is set=400, min_child_samples=20 will be ignored. Current value: min_data_in_leaf=400\n",
      "[LightGBM] [Warning] min_data_in_leaf is set=1600, min_child_samples=20 will be ignored. Current value: min_data_in_leaf=1600\n",
      "[LightGBM] [Warning] min_data_in_leaf is set=1200, min_child_samples=20 will be ignored. Current value: min_data_in_leaf=1200\n",
      "[LightGBM] [Warning] min_data_in_leaf is set=2400, min_child_samples=20 will be ignored. Current value: min_data_in_leaf=2400\n",
      "[LightGBM] [Warning] min_data_in_leaf is set=2400, min_child_samples=20 will be ignored. Current value: min_data_in_leaf=2400\n",
      "[LightGBM] [Warning] min_data_in_leaf is set=2000, min_child_samples=20 will be ignored. Current value: min_data_in_leaf=2000\n",
      "[LightGBM] [Warning] min_data_in_leaf is set=800, min_child_samples=20 will be ignored. Current value: min_data_in_leaf=800\n",
      "[LightGBM] [Warning] min_data_in_leaf is set=800, min_child_samples=20 will be ignored. Current value: min_data_in_leaf=800\n",
      "[LightGBM] [Warning] min_data_in_leaf is set=1200, min_child_samples=20 will be ignored. Current value: min_data_in_leaf=1200\n",
      "[LightGBM] [Warning] min_data_in_leaf is set=2400, min_child_samples=20 will be ignored. Current value: min_data_in_leaf=2400\n",
      "{'reg_lambda': 0.4592252665396801, 'num_leaves': 17, 'min_data_in_leaf': 1200, 'learning_rate': 0.060000000000000005}\n",
      "24\n",
      "[LightGBM] [Warning] min_data_in_leaf is set=800, min_child_samples=20 will be ignored. Current value: min_data_in_leaf=800\n",
      "[LightGBM] [Warning] min_data_in_leaf is set=1600, min_child_samples=20 will be ignored. Current value: min_data_in_leaf=1600\n",
      "[LightGBM] [Warning] min_data_in_leaf is set=2000, min_child_samples=20 will be ignored. Current value: min_data_in_leaf=2000\n",
      "[LightGBM] [Warning] min_data_in_leaf is set=800, min_child_samples=20 will be ignored. Current value: min_data_in_leaf=800\n",
      "[LightGBM] [Warning] min_data_in_leaf is set=2000, min_child_samples=20 will be ignored. Current value: min_data_in_leaf=2000\n",
      "[LightGBM] [Warning] min_data_in_leaf is set=2400, min_child_samples=20 will be ignored. Current value: min_data_in_leaf=2400\n",
      "[LightGBM] [Warning] min_data_in_leaf is set=2400, min_child_samples=20 will be ignored. Current value: min_data_in_leaf=2400\n",
      "[LightGBM] [Warning] min_data_in_leaf is set=1200, min_child_samples=20 will be ignored. Current value: min_data_in_leaf=1200\n"
     ]
    },
    {
     "name": "stdout",
     "output_type": "stream",
     "text": [
      "[LightGBM] [Warning] min_data_in_leaf is set=2400, min_child_samples=20 will be ignored. Current value: min_data_in_leaf=2400\n",
      "[LightGBM] [Warning] min_data_in_leaf is set=800, min_child_samples=20 will be ignored. Current value: min_data_in_leaf=800\n",
      "{'reg_lambda': 0.03630559598897607, 'num_leaves': 24, 'min_data_in_leaf': 800, 'learning_rate': 0.13}\n",
      "25\n",
      "[LightGBM] [Warning] min_data_in_leaf is set=800, min_child_samples=20 will be ignored. Current value: min_data_in_leaf=800\n",
      "[LightGBM] [Warning] min_data_in_leaf is set=2400, min_child_samples=20 will be ignored. Current value: min_data_in_leaf=2400\n",
      "[LightGBM] [Warning] min_data_in_leaf is set=2400, min_child_samples=20 will be ignored. Current value: min_data_in_leaf=2400\n",
      "[LightGBM] [Warning] min_data_in_leaf is set=2000, min_child_samples=20 will be ignored. Current value: min_data_in_leaf=2000\n",
      "[LightGBM] [Warning] min_data_in_leaf is set=800, min_child_samples=20 will be ignored. Current value: min_data_in_leaf=800\n",
      "[LightGBM] [Warning] min_data_in_leaf is set=1200, min_child_samples=20 will be ignored. Current value: min_data_in_leaf=1200\n",
      "[LightGBM] [Warning] min_data_in_leaf is set=2400, min_child_samples=20 will be ignored. Current value: min_data_in_leaf=2400\n",
      "[LightGBM] [Warning] min_data_in_leaf is set=800, min_child_samples=20 will be ignored. Current value: min_data_in_leaf=800\n",
      "[LightGBM] [Warning] min_data_in_leaf is set=400, min_child_samples=20 will be ignored. Current value: min_data_in_leaf=400\n",
      "[LightGBM] [Warning] min_data_in_leaf is set=800, min_child_samples=20 will be ignored. Current value: min_data_in_leaf=800\n",
      "{'reg_lambda': 5.976915367459686e-08, 'num_leaves': 13, 'min_data_in_leaf': 2400, 'learning_rate': 0.01}\n",
      "26\n",
      "[LightGBM] [Warning] min_data_in_leaf is set=2000, min_child_samples=20 will be ignored. Current value: min_data_in_leaf=2000\n",
      "[LightGBM] [Warning] min_data_in_leaf is set=2000, min_child_samples=20 will be ignored. Current value: min_data_in_leaf=2000\n",
      "[LightGBM] [Warning] min_data_in_leaf is set=400, min_child_samples=20 will be ignored. Current value: min_data_in_leaf=400\n",
      "[LightGBM] [Warning] min_data_in_leaf is set=2400, min_child_samples=20 will be ignored. Current value: min_data_in_leaf=2400\n",
      "[LightGBM] [Warning] min_data_in_leaf is set=400, min_child_samples=20 will be ignored. Current value: min_data_in_leaf=400\n",
      "[LightGBM] [Warning] min_data_in_leaf is set=1200, min_child_samples=20 will be ignored. Current value: min_data_in_leaf=1200\n",
      "[LightGBM] [Warning] min_data_in_leaf is set=800, min_child_samples=20 will be ignored. Current value: min_data_in_leaf=800\n",
      "[LightGBM] [Warning] min_data_in_leaf is set=1200, min_child_samples=20 will be ignored. Current value: min_data_in_leaf=1200\n",
      "[LightGBM] [Warning] min_data_in_leaf is set=400, min_child_samples=20 will be ignored. Current value: min_data_in_leaf=400\n",
      "[LightGBM] [Warning] min_data_in_leaf is set=1200, min_child_samples=20 will be ignored. Current value: min_data_in_leaf=1200\n",
      "{'reg_lambda': 0.027015754510867067, 'num_leaves': 24, 'min_data_in_leaf': 400, 'learning_rate': 0.01}\n",
      "27\n",
      "[LightGBM] [Warning] min_data_in_leaf is set=400, min_child_samples=20 will be ignored. Current value: min_data_in_leaf=400\n",
      "[LightGBM] [Warning] min_data_in_leaf is set=2400, min_child_samples=20 will be ignored. Current value: min_data_in_leaf=2400\n",
      "[LightGBM] [Warning] min_data_in_leaf is set=1200, min_child_samples=20 will be ignored. Current value: min_data_in_leaf=1200\n",
      "[LightGBM] [Warning] min_data_in_leaf is set=1200, min_child_samples=20 will be ignored. Current value: min_data_in_leaf=1200\n",
      "[LightGBM] [Warning] min_data_in_leaf is set=1600, min_child_samples=20 will be ignored. Current value: min_data_in_leaf=1600\n",
      "[LightGBM] [Warning] min_data_in_leaf is set=800, min_child_samples=20 will be ignored. Current value: min_data_in_leaf=800\n",
      "[LightGBM] [Warning] min_data_in_leaf is set=2000, min_child_samples=20 will be ignored. Current value: min_data_in_leaf=2000\n",
      "[LightGBM] [Warning] min_data_in_leaf is set=800, min_child_samples=20 will be ignored. Current value: min_data_in_leaf=800\n",
      "[LightGBM] [Warning] min_data_in_leaf is set=1600, min_child_samples=20 will be ignored. Current value: min_data_in_leaf=1600\n",
      "[LightGBM] [Warning] min_data_in_leaf is set=1600, min_child_samples=20 will be ignored. Current value: min_data_in_leaf=1600\n",
      "{'reg_lambda': 6.315786148683975e-06, 'num_leaves': 8, 'min_data_in_leaf': 2000, 'learning_rate': 0.01}\n",
      "28\n",
      "[LightGBM] [Warning] min_data_in_leaf is set=1200, min_child_samples=20 will be ignored. Current value: min_data_in_leaf=1200\n",
      "[LightGBM] [Warning] min_data_in_leaf is set=1600, min_child_samples=20 will be ignored. Current value: min_data_in_leaf=1600\n",
      "[LightGBM] [Warning] min_data_in_leaf is set=1600, min_child_samples=20 will be ignored. Current value: min_data_in_leaf=1600\n",
      "[LightGBM] [Warning] min_data_in_leaf is set=2400, min_child_samples=20 will be ignored. Current value: min_data_in_leaf=2400\n",
      "[LightGBM] [Warning] min_data_in_leaf is set=2400, min_child_samples=20 will be ignored. Current value: min_data_in_leaf=2400\n",
      "[LightGBM] [Warning] min_data_in_leaf is set=800, min_child_samples=20 will be ignored. Current value: min_data_in_leaf=800\n",
      "[LightGBM] [Warning] min_data_in_leaf is set=800, min_child_samples=20 will be ignored. Current value: min_data_in_leaf=800\n",
      "[LightGBM] [Warning] min_data_in_leaf is set=2000, min_child_samples=20 will be ignored. Current value: min_data_in_leaf=2000\n",
      "[LightGBM] [Warning] min_data_in_leaf is set=2000, min_child_samples=20 will be ignored. Current value: min_data_in_leaf=2000\n",
      "[LightGBM] [Warning] min_data_in_leaf is set=1200, min_child_samples=20 will be ignored. Current value: min_data_in_leaf=1200\n",
      "{'reg_lambda': 0.5305646607466177, 'num_leaves': 13, 'min_data_in_leaf': 2000, 'learning_rate': 0.01}\n",
      "29\n",
      "[LightGBM] [Warning] min_data_in_leaf is set=800, min_child_samples=20 will be ignored. Current value: min_data_in_leaf=800\n",
      "[LightGBM] [Warning] min_data_in_leaf is set=800, min_child_samples=20 will be ignored. Current value: min_data_in_leaf=800\n",
      "[LightGBM] [Warning] min_data_in_leaf is set=400, min_child_samples=20 will be ignored. Current value: min_data_in_leaf=400\n",
      "[LightGBM] [Warning] min_data_in_leaf is set=2400, min_child_samples=20 will be ignored. Current value: min_data_in_leaf=2400\n",
      "[LightGBM] [Warning] min_data_in_leaf is set=2400, min_child_samples=20 will be ignored. Current value: min_data_in_leaf=2400\n",
      "[LightGBM] [Warning] min_data_in_leaf is set=2000, min_child_samples=20 will be ignored. Current value: min_data_in_leaf=2000\n",
      "[LightGBM] [Warning] min_data_in_leaf is set=800, min_child_samples=20 will be ignored. Current value: min_data_in_leaf=800\n",
      "[LightGBM] [Warning] min_data_in_leaf is set=1600, min_child_samples=20 will be ignored. Current value: min_data_in_leaf=1600\n",
      "[LightGBM] [Warning] min_data_in_leaf is set=800, min_child_samples=20 will be ignored. Current value: min_data_in_leaf=800\n",
      "[LightGBM] [Warning] min_data_in_leaf is set=1200, min_child_samples=20 will be ignored. Current value: min_data_in_leaf=1200\n",
      "{'reg_lambda': 2.040200259759583e-07, 'num_leaves': 21, 'min_data_in_leaf': 1200, 'learning_rate': 0.12}\n",
      "30\n",
      "[LightGBM] [Warning] min_data_in_leaf is set=1200, min_child_samples=20 will be ignored. Current value: min_data_in_leaf=1200\n",
      "[LightGBM] [Warning] min_data_in_leaf is set=2400, min_child_samples=20 will be ignored. Current value: min_data_in_leaf=2400\n",
      "[LightGBM] [Warning] min_data_in_leaf is set=400, min_child_samples=20 will be ignored. Current value: min_data_in_leaf=400\n",
      "[LightGBM] [Warning] min_data_in_leaf is set=2000, min_child_samples=20 will be ignored. Current value: min_data_in_leaf=2000\n",
      "[LightGBM] [Warning] min_data_in_leaf is set=2000, min_child_samples=20 will be ignored. Current value: min_data_in_leaf=2000\n",
      "[LightGBM] [Warning] min_data_in_leaf is set=2000, min_child_samples=20 will be ignored. Current value: min_data_in_leaf=2000\n",
      "[LightGBM] [Warning] min_data_in_leaf is set=2400, min_child_samples=20 will be ignored. Current value: min_data_in_leaf=2400\n",
      "[LightGBM] [Warning] min_data_in_leaf is set=400, min_child_samples=20 will be ignored. Current value: min_data_in_leaf=400\n",
      "[LightGBM] [Warning] min_data_in_leaf is set=400, min_child_samples=20 will be ignored. Current value: min_data_in_leaf=400\n"
     ]
    },
    {
     "name": "stdout",
     "output_type": "stream",
     "text": [
      "[LightGBM] [Warning] min_data_in_leaf is set=2400, min_child_samples=20 will be ignored. Current value: min_data_in_leaf=2400\n",
      "{'reg_lambda': 9.807267654970721e-05, 'num_leaves': 6, 'min_data_in_leaf': 400, 'learning_rate': 0.11}\n",
      "31\n",
      "[LightGBM] [Warning] min_data_in_leaf is set=1200, min_child_samples=20 will be ignored. Current value: min_data_in_leaf=1200\n",
      "[LightGBM] [Warning] min_data_in_leaf is set=1200, min_child_samples=20 will be ignored. Current value: min_data_in_leaf=1200\n",
      "[LightGBM] [Warning] min_data_in_leaf is set=400, min_child_samples=20 will be ignored. Current value: min_data_in_leaf=400\n",
      "[LightGBM] [Warning] min_data_in_leaf is set=1600, min_child_samples=20 will be ignored. Current value: min_data_in_leaf=1600\n",
      "[LightGBM] [Warning] min_data_in_leaf is set=800, min_child_samples=20 will be ignored. Current value: min_data_in_leaf=800\n",
      "[LightGBM] [Warning] min_data_in_leaf is set=1600, min_child_samples=20 will be ignored. Current value: min_data_in_leaf=1600\n",
      "[LightGBM] [Warning] min_data_in_leaf is set=2400, min_child_samples=20 will be ignored. Current value: min_data_in_leaf=2400\n",
      "[LightGBM] [Warning] min_data_in_leaf is set=1200, min_child_samples=20 will be ignored. Current value: min_data_in_leaf=1200\n",
      "[LightGBM] [Warning] min_data_in_leaf is set=2000, min_child_samples=20 will be ignored. Current value: min_data_in_leaf=2000\n",
      "[LightGBM] [Warning] min_data_in_leaf is set=2400, min_child_samples=20 will be ignored. Current value: min_data_in_leaf=2400\n",
      "{'reg_lambda': 2.1841324531107293e-05, 'num_leaves': 8, 'min_data_in_leaf': 1200, 'learning_rate': 0.12}\n",
      "32\n",
      "[LightGBM] [Warning] min_data_in_leaf is set=400, min_child_samples=20 will be ignored. Current value: min_data_in_leaf=400\n",
      "[LightGBM] [Warning] min_data_in_leaf is set=2400, min_child_samples=20 will be ignored. Current value: min_data_in_leaf=2400\n",
      "[LightGBM] [Warning] min_data_in_leaf is set=1200, min_child_samples=20 will be ignored. Current value: min_data_in_leaf=1200\n",
      "[LightGBM] [Warning] min_data_in_leaf is set=2000, min_child_samples=20 will be ignored. Current value: min_data_in_leaf=2000\n",
      "[LightGBM] [Warning] min_data_in_leaf is set=2400, min_child_samples=20 will be ignored. Current value: min_data_in_leaf=2400\n",
      "[LightGBM] [Warning] min_data_in_leaf is set=800, min_child_samples=20 will be ignored. Current value: min_data_in_leaf=800\n",
      "[LightGBM] [Warning] min_data_in_leaf is set=2000, min_child_samples=20 will be ignored. Current value: min_data_in_leaf=2000\n",
      "[LightGBM] [Warning] min_data_in_leaf is set=400, min_child_samples=20 will be ignored. Current value: min_data_in_leaf=400\n",
      "[LightGBM] [Warning] min_data_in_leaf is set=1600, min_child_samples=20 will be ignored. Current value: min_data_in_leaf=1600\n",
      "[LightGBM] [Warning] min_data_in_leaf is set=2400, min_child_samples=20 will be ignored. Current value: min_data_in_leaf=2400\n",
      "{'reg_lambda': 2.5455363391629766e-06, 'num_leaves': 12, 'min_data_in_leaf': 2400, 'learning_rate': 0.01}\n",
      "33\n",
      "[LightGBM] [Warning] min_data_in_leaf is set=1600, min_child_samples=20 will be ignored. Current value: min_data_in_leaf=1600\n",
      "[LightGBM] [Warning] min_data_in_leaf is set=800, min_child_samples=20 will be ignored. Current value: min_data_in_leaf=800\n",
      "[LightGBM] [Warning] min_data_in_leaf is set=400, min_child_samples=20 will be ignored. Current value: min_data_in_leaf=400\n",
      "[LightGBM] [Warning] min_data_in_leaf is set=800, min_child_samples=20 will be ignored. Current value: min_data_in_leaf=800\n",
      "[LightGBM] [Warning] min_data_in_leaf is set=1200, min_child_samples=20 will be ignored. Current value: min_data_in_leaf=1200\n",
      "[LightGBM] [Warning] min_data_in_leaf is set=400, min_child_samples=20 will be ignored. Current value: min_data_in_leaf=400\n",
      "[LightGBM] [Warning] min_data_in_leaf is set=2400, min_child_samples=20 will be ignored. Current value: min_data_in_leaf=2400\n",
      "[LightGBM] [Warning] min_data_in_leaf is set=2400, min_child_samples=20 will be ignored. Current value: min_data_in_leaf=2400\n",
      "[LightGBM] [Warning] min_data_in_leaf is set=1200, min_child_samples=20 will be ignored. Current value: min_data_in_leaf=1200\n",
      "[LightGBM] [Warning] min_data_in_leaf is set=1600, min_child_samples=20 will be ignored. Current value: min_data_in_leaf=1600\n",
      "{'reg_lambda': 0.008707271371007025, 'num_leaves': 24, 'min_data_in_leaf': 800, 'learning_rate': 0.01}\n",
      "34\n",
      "[LightGBM] [Warning] min_data_in_leaf is set=800, min_child_samples=20 will be ignored. Current value: min_data_in_leaf=800\n",
      "[LightGBM] [Warning] min_data_in_leaf is set=1200, min_child_samples=20 will be ignored. Current value: min_data_in_leaf=1200\n",
      "[LightGBM] [Warning] min_data_in_leaf is set=2000, min_child_samples=20 will be ignored. Current value: min_data_in_leaf=2000\n",
      "[LightGBM] [Warning] min_data_in_leaf is set=1200, min_child_samples=20 will be ignored. Current value: min_data_in_leaf=1200\n",
      "[LightGBM] [Warning] min_data_in_leaf is set=800, min_child_samples=20 will be ignored. Current value: min_data_in_leaf=800\n",
      "[LightGBM] [Warning] min_data_in_leaf is set=2400, min_child_samples=20 will be ignored. Current value: min_data_in_leaf=2400\n",
      "[LightGBM] [Warning] min_data_in_leaf is set=400, min_child_samples=20 will be ignored. Current value: min_data_in_leaf=400\n",
      "[LightGBM] [Warning] min_data_in_leaf is set=2400, min_child_samples=20 will be ignored. Current value: min_data_in_leaf=2400\n",
      "[LightGBM] [Warning] min_data_in_leaf is set=1200, min_child_samples=20 will be ignored. Current value: min_data_in_leaf=1200\n",
      "[LightGBM] [Warning] min_data_in_leaf is set=1200, min_child_samples=20 will be ignored. Current value: min_data_in_leaf=1200\n",
      "{'reg_lambda': 0.003074094102222297, 'num_leaves': 6, 'min_data_in_leaf': 2400, 'learning_rate': 0.09999999999999999}\n",
      "35\n",
      "[LightGBM] [Warning] min_data_in_leaf is set=800, min_child_samples=20 will be ignored. Current value: min_data_in_leaf=800\n",
      "[LightGBM] [Warning] min_data_in_leaf is set=400, min_child_samples=20 will be ignored. Current value: min_data_in_leaf=400\n",
      "[LightGBM] [Warning] min_data_in_leaf is set=1200, min_child_samples=20 will be ignored. Current value: min_data_in_leaf=1200\n",
      "[LightGBM] [Warning] min_data_in_leaf is set=400, min_child_samples=20 will be ignored. Current value: min_data_in_leaf=400\n",
      "[LightGBM] [Warning] min_data_in_leaf is set=2000, min_child_samples=20 will be ignored. Current value: min_data_in_leaf=2000\n",
      "[LightGBM] [Warning] min_data_in_leaf is set=800, min_child_samples=20 will be ignored. Current value: min_data_in_leaf=800\n",
      "[LightGBM] [Warning] min_data_in_leaf is set=1200, min_child_samples=20 will be ignored. Current value: min_data_in_leaf=1200\n",
      "[LightGBM] [Warning] min_data_in_leaf is set=800, min_child_samples=20 will be ignored. Current value: min_data_in_leaf=800\n",
      "[LightGBM] [Warning] min_data_in_leaf is set=1600, min_child_samples=20 will be ignored. Current value: min_data_in_leaf=1600\n",
      "[LightGBM] [Warning] min_data_in_leaf is set=2400, min_child_samples=20 will be ignored. Current value: min_data_in_leaf=2400\n",
      "{'reg_lambda': 0.00012763482942413433, 'num_leaves': 17, 'min_data_in_leaf': 1600, 'learning_rate': 0.08}\n",
      "36\n",
      "[LightGBM] [Warning] min_data_in_leaf is set=2400, min_child_samples=20 will be ignored. Current value: min_data_in_leaf=2400\n",
      "[LightGBM] [Warning] min_data_in_leaf is set=1200, min_child_samples=20 will be ignored. Current value: min_data_in_leaf=1200\n",
      "[LightGBM] [Warning] min_data_in_leaf is set=1200, min_child_samples=20 will be ignored. Current value: min_data_in_leaf=1200\n",
      "[LightGBM] [Warning] min_data_in_leaf is set=1600, min_child_samples=20 will be ignored. Current value: min_data_in_leaf=1600\n",
      "[LightGBM] [Warning] min_data_in_leaf is set=2400, min_child_samples=20 will be ignored. Current value: min_data_in_leaf=2400\n",
      "[LightGBM] [Warning] min_data_in_leaf is set=2400, min_child_samples=20 will be ignored. Current value: min_data_in_leaf=2400\n",
      "[LightGBM] [Warning] min_data_in_leaf is set=1200, min_child_samples=20 will be ignored. Current value: min_data_in_leaf=1200\n",
      "[LightGBM] [Warning] min_data_in_leaf is set=800, min_child_samples=20 will be ignored. Current value: min_data_in_leaf=800\n",
      "[LightGBM] [Warning] min_data_in_leaf is set=2000, min_child_samples=20 will be ignored. Current value: min_data_in_leaf=2000\n",
      "[LightGBM] [Warning] min_data_in_leaf is set=800, min_child_samples=20 will be ignored. Current value: min_data_in_leaf=800\n"
     ]
    },
    {
     "name": "stdout",
     "output_type": "stream",
     "text": [
      "{'reg_lambda': 5.088237070948477e-07, 'num_leaves': 18, 'min_data_in_leaf': 1600, 'learning_rate': 0.12}\n",
      "37\n",
      "[LightGBM] [Warning] min_data_in_leaf is set=2400, min_child_samples=20 will be ignored. Current value: min_data_in_leaf=2400\n",
      "[LightGBM] [Warning] min_data_in_leaf is set=2000, min_child_samples=20 will be ignored. Current value: min_data_in_leaf=2000\n",
      "[LightGBM] [Warning] min_data_in_leaf is set=1200, min_child_samples=20 will be ignored. Current value: min_data_in_leaf=1200\n",
      "[LightGBM] [Warning] min_data_in_leaf is set=2000, min_child_samples=20 will be ignored. Current value: min_data_in_leaf=2000\n",
      "[LightGBM] [Warning] min_data_in_leaf is set=800, min_child_samples=20 will be ignored. Current value: min_data_in_leaf=800\n",
      "[LightGBM] [Warning] min_data_in_leaf is set=1600, min_child_samples=20 will be ignored. Current value: min_data_in_leaf=1600\n",
      "[LightGBM] [Warning] min_data_in_leaf is set=800, min_child_samples=20 will be ignored. Current value: min_data_in_leaf=800\n",
      "[LightGBM] [Warning] min_data_in_leaf is set=800, min_child_samples=20 will be ignored. Current value: min_data_in_leaf=800\n",
      "[LightGBM] [Warning] min_data_in_leaf is set=1200, min_child_samples=20 will be ignored. Current value: min_data_in_leaf=1200\n",
      "[LightGBM] [Warning] min_data_in_leaf is set=1200, min_child_samples=20 will be ignored. Current value: min_data_in_leaf=1200\n",
      "{'reg_lambda': 2.7960435791808405e-07, 'num_leaves': 25, 'min_data_in_leaf': 800, 'learning_rate': 0.04}\n",
      "38\n",
      "[LightGBM] [Warning] min_data_in_leaf is set=2400, min_child_samples=20 will be ignored. Current value: min_data_in_leaf=2400\n",
      "[LightGBM] [Warning] min_data_in_leaf is set=2400, min_child_samples=20 will be ignored. Current value: min_data_in_leaf=2400\n",
      "[LightGBM] [Warning] min_data_in_leaf is set=800, min_child_samples=20 will be ignored. Current value: min_data_in_leaf=800\n",
      "[LightGBM] [Warning] min_data_in_leaf is set=400, min_child_samples=20 will be ignored. Current value: min_data_in_leaf=400\n",
      "[LightGBM] [Warning] min_data_in_leaf is set=2400, min_child_samples=20 will be ignored. Current value: min_data_in_leaf=2400\n",
      "[LightGBM] [Warning] min_data_in_leaf is set=2400, min_child_samples=20 will be ignored. Current value: min_data_in_leaf=2400\n",
      "[LightGBM] [Warning] min_data_in_leaf is set=1200, min_child_samples=20 will be ignored. Current value: min_data_in_leaf=1200\n",
      "[LightGBM] [Warning] min_data_in_leaf is set=400, min_child_samples=20 will be ignored. Current value: min_data_in_leaf=400\n",
      "[LightGBM] [Warning] min_data_in_leaf is set=2400, min_child_samples=20 will be ignored. Current value: min_data_in_leaf=2400\n",
      "[LightGBM] [Warning] min_data_in_leaf is set=1200, min_child_samples=20 will be ignored. Current value: min_data_in_leaf=1200\n",
      "{'reg_lambda': 2.6721033850903065e-05, 'num_leaves': 17, 'min_data_in_leaf': 2400, 'learning_rate': 0.060000000000000005}\n",
      "39\n",
      "[LightGBM] [Warning] min_data_in_leaf is set=1200, min_child_samples=20 will be ignored. Current value: min_data_in_leaf=1200\n",
      "[LightGBM] [Warning] min_data_in_leaf is set=400, min_child_samples=20 will be ignored. Current value: min_data_in_leaf=400\n",
      "[LightGBM] [Warning] min_data_in_leaf is set=1600, min_child_samples=20 will be ignored. Current value: min_data_in_leaf=1600\n",
      "[LightGBM] [Warning] min_data_in_leaf is set=2400, min_child_samples=20 will be ignored. Current value: min_data_in_leaf=2400\n",
      "[LightGBM] [Warning] min_data_in_leaf is set=2000, min_child_samples=20 will be ignored. Current value: min_data_in_leaf=2000\n",
      "[LightGBM] [Warning] min_data_in_leaf is set=2000, min_child_samples=20 will be ignored. Current value: min_data_in_leaf=2000\n",
      "[LightGBM] [Warning] min_data_in_leaf is set=1200, min_child_samples=20 will be ignored. Current value: min_data_in_leaf=1200\n",
      "[LightGBM] [Warning] min_data_in_leaf is set=2400, min_child_samples=20 will be ignored. Current value: min_data_in_leaf=2400\n",
      "[LightGBM] [Warning] min_data_in_leaf is set=400, min_child_samples=20 will be ignored. Current value: min_data_in_leaf=400\n",
      "[LightGBM] [Warning] min_data_in_leaf is set=2000, min_child_samples=20 will be ignored. Current value: min_data_in_leaf=2000\n",
      "{'reg_lambda': 5.0439501271751956e-08, 'num_leaves': 16, 'min_data_in_leaf': 2400, 'learning_rate': 0.17}\n",
      "40\n",
      "[LightGBM] [Warning] min_data_in_leaf is set=400, min_child_samples=20 will be ignored. Current value: min_data_in_leaf=400\n",
      "[LightGBM] [Warning] min_data_in_leaf is set=2400, min_child_samples=20 will be ignored. Current value: min_data_in_leaf=2400\n",
      "[LightGBM] [Warning] min_data_in_leaf is set=400, min_child_samples=20 will be ignored. Current value: min_data_in_leaf=400\n",
      "[LightGBM] [Warning] min_data_in_leaf is set=400, min_child_samples=20 will be ignored. Current value: min_data_in_leaf=400\n",
      "[LightGBM] [Warning] min_data_in_leaf is set=400, min_child_samples=20 will be ignored. Current value: min_data_in_leaf=400\n",
      "[LightGBM] [Warning] min_data_in_leaf is set=1200, min_child_samples=20 will be ignored. Current value: min_data_in_leaf=1200\n",
      "[LightGBM] [Warning] min_data_in_leaf is set=1200, min_child_samples=20 will be ignored. Current value: min_data_in_leaf=1200\n",
      "[LightGBM] [Warning] min_data_in_leaf is set=2000, min_child_samples=20 will be ignored. Current value: min_data_in_leaf=2000\n",
      "[LightGBM] [Warning] min_data_in_leaf is set=1200, min_child_samples=20 will be ignored. Current value: min_data_in_leaf=1200\n",
      "[LightGBM] [Warning] min_data_in_leaf is set=2400, min_child_samples=20 will be ignored. Current value: min_data_in_leaf=2400\n",
      "{'reg_lambda': 0.6070281156759377, 'num_leaves': 11, 'min_data_in_leaf': 1200, 'learning_rate': 0.06999999999999999}\n",
      "41\n",
      "[LightGBM] [Warning] min_data_in_leaf is set=400, min_child_samples=20 will be ignored. Current value: min_data_in_leaf=400\n",
      "[LightGBM] [Warning] min_data_in_leaf is set=1200, min_child_samples=20 will be ignored. Current value: min_data_in_leaf=1200\n",
      "[LightGBM] [Warning] min_data_in_leaf is set=1600, min_child_samples=20 will be ignored. Current value: min_data_in_leaf=1600\n",
      "[LightGBM] [Warning] min_data_in_leaf is set=2400, min_child_samples=20 will be ignored. Current value: min_data_in_leaf=2400\n",
      "[LightGBM] [Warning] min_data_in_leaf is set=2400, min_child_samples=20 will be ignored. Current value: min_data_in_leaf=2400\n",
      "[LightGBM] [Warning] min_data_in_leaf is set=400, min_child_samples=20 will be ignored. Current value: min_data_in_leaf=400\n",
      "[LightGBM] [Warning] min_data_in_leaf is set=1600, min_child_samples=20 will be ignored. Current value: min_data_in_leaf=1600\n",
      "[LightGBM] [Warning] min_data_in_leaf is set=2000, min_child_samples=20 will be ignored. Current value: min_data_in_leaf=2000\n",
      "[LightGBM] [Warning] min_data_in_leaf is set=2000, min_child_samples=20 will be ignored. Current value: min_data_in_leaf=2000\n",
      "[LightGBM] [Warning] min_data_in_leaf is set=1200, min_child_samples=20 will be ignored. Current value: min_data_in_leaf=1200\n",
      "{'reg_lambda': 0.019322242025674854, 'num_leaves': 21, 'min_data_in_leaf': 1200, 'learning_rate': 0.060000000000000005}\n",
      "42\n",
      "[LightGBM] [Warning] min_data_in_leaf is set=1200, min_child_samples=20 will be ignored. Current value: min_data_in_leaf=1200\n",
      "[LightGBM] [Warning] min_data_in_leaf is set=2000, min_child_samples=20 will be ignored. Current value: min_data_in_leaf=2000\n",
      "[LightGBM] [Warning] min_data_in_leaf is set=800, min_child_samples=20 will be ignored. Current value: min_data_in_leaf=800\n",
      "[LightGBM] [Warning] min_data_in_leaf is set=2000, min_child_samples=20 will be ignored. Current value: min_data_in_leaf=2000\n",
      "[LightGBM] [Warning] min_data_in_leaf is set=800, min_child_samples=20 will be ignored. Current value: min_data_in_leaf=800\n",
      "[LightGBM] [Warning] min_data_in_leaf is set=1200, min_child_samples=20 will be ignored. Current value: min_data_in_leaf=1200\n",
      "[LightGBM] [Warning] min_data_in_leaf is set=800, min_child_samples=20 will be ignored. Current value: min_data_in_leaf=800\n",
      "[LightGBM] [Warning] min_data_in_leaf is set=800, min_child_samples=20 will be ignored. Current value: min_data_in_leaf=800\n",
      "[LightGBM] [Warning] min_data_in_leaf is set=1600, min_child_samples=20 will be ignored. Current value: min_data_in_leaf=1600\n",
      "[LightGBM] [Warning] min_data_in_leaf is set=400, min_child_samples=20 will be ignored. Current value: min_data_in_leaf=400\n"
     ]
    },
    {
     "name": "stdout",
     "output_type": "stream",
     "text": [
      "{'reg_lambda': 0.15248975692270964, 'num_leaves': 21, 'min_data_in_leaf': 2000, 'learning_rate': 0.11}\n",
      "43\n",
      "[LightGBM] [Warning] min_data_in_leaf is set=800, min_child_samples=20 will be ignored. Current value: min_data_in_leaf=800\n",
      "[LightGBM] [Warning] min_data_in_leaf is set=2000, min_child_samples=20 will be ignored. Current value: min_data_in_leaf=2000\n",
      "[LightGBM] [Warning] min_data_in_leaf is set=1200, min_child_samples=20 will be ignored. Current value: min_data_in_leaf=1200\n",
      "[LightGBM] [Warning] min_data_in_leaf is set=1200, min_child_samples=20 will be ignored. Current value: min_data_in_leaf=1200\n",
      "[LightGBM] [Warning] min_data_in_leaf is set=1200, min_child_samples=20 will be ignored. Current value: min_data_in_leaf=1200\n",
      "[LightGBM] [Warning] min_data_in_leaf is set=1200, min_child_samples=20 will be ignored. Current value: min_data_in_leaf=1200\n",
      "[LightGBM] [Warning] min_data_in_leaf is set=2000, min_child_samples=20 will be ignored. Current value: min_data_in_leaf=2000\n",
      "[LightGBM] [Warning] min_data_in_leaf is set=400, min_child_samples=20 will be ignored. Current value: min_data_in_leaf=400\n",
      "[LightGBM] [Warning] min_data_in_leaf is set=400, min_child_samples=20 will be ignored. Current value: min_data_in_leaf=400\n",
      "[LightGBM] [Warning] min_data_in_leaf is set=1600, min_child_samples=20 will be ignored. Current value: min_data_in_leaf=1600\n",
      "{'reg_lambda': 0.0031484121238905065, 'num_leaves': 8, 'min_data_in_leaf': 1200, 'learning_rate': 0.09}\n",
      "44\n",
      "[LightGBM] [Warning] min_data_in_leaf is set=1600, min_child_samples=20 will be ignored. Current value: min_data_in_leaf=1600\n",
      "[LightGBM] [Warning] min_data_in_leaf is set=400, min_child_samples=20 will be ignored. Current value: min_data_in_leaf=400\n",
      "[LightGBM] [Warning] min_data_in_leaf is set=2400, min_child_samples=20 will be ignored. Current value: min_data_in_leaf=2400\n",
      "[LightGBM] [Warning] min_data_in_leaf is set=2400, min_child_samples=20 will be ignored. Current value: min_data_in_leaf=2400\n",
      "[LightGBM] [Warning] min_data_in_leaf is set=1200, min_child_samples=20 will be ignored. Current value: min_data_in_leaf=1200\n",
      "[LightGBM] [Warning] min_data_in_leaf is set=400, min_child_samples=20 will be ignored. Current value: min_data_in_leaf=400\n",
      "[LightGBM] [Warning] min_data_in_leaf is set=1200, min_child_samples=20 will be ignored. Current value: min_data_in_leaf=1200\n",
      "[LightGBM] [Warning] min_data_in_leaf is set=2000, min_child_samples=20 will be ignored. Current value: min_data_in_leaf=2000\n",
      "[LightGBM] [Warning] min_data_in_leaf is set=800, min_child_samples=20 will be ignored. Current value: min_data_in_leaf=800\n",
      "[LightGBM] [Warning] min_data_in_leaf is set=1200, min_child_samples=20 will be ignored. Current value: min_data_in_leaf=1200\n",
      "{'reg_lambda': 0.001002836129365414, 'num_leaves': 15, 'min_data_in_leaf': 2400, 'learning_rate': 0.05}\n",
      "45\n",
      "[LightGBM] [Warning] min_data_in_leaf is set=800, min_child_samples=20 will be ignored. Current value: min_data_in_leaf=800\n",
      "[LightGBM] [Warning] min_data_in_leaf is set=800, min_child_samples=20 will be ignored. Current value: min_data_in_leaf=800\n",
      "[LightGBM] [Warning] min_data_in_leaf is set=400, min_child_samples=20 will be ignored. Current value: min_data_in_leaf=400\n",
      "[LightGBM] [Warning] min_data_in_leaf is set=2400, min_child_samples=20 will be ignored. Current value: min_data_in_leaf=2400\n",
      "[LightGBM] [Warning] min_data_in_leaf is set=1600, min_child_samples=20 will be ignored. Current value: min_data_in_leaf=1600\n",
      "[LightGBM] [Warning] min_data_in_leaf is set=1200, min_child_samples=20 will be ignored. Current value: min_data_in_leaf=1200\n",
      "[LightGBM] [Warning] min_data_in_leaf is set=800, min_child_samples=20 will be ignored. Current value: min_data_in_leaf=800\n",
      "[LightGBM] [Warning] min_data_in_leaf is set=2000, min_child_samples=20 will be ignored. Current value: min_data_in_leaf=2000\n",
      "[LightGBM] [Warning] min_data_in_leaf is set=800, min_child_samples=20 will be ignored. Current value: min_data_in_leaf=800\n",
      "[LightGBM] [Warning] min_data_in_leaf is set=800, min_child_samples=20 will be ignored. Current value: min_data_in_leaf=800\n",
      "{'reg_lambda': 0.09864332773306346, 'num_leaves': 12, 'min_data_in_leaf': 2000, 'learning_rate': 0.04}\n",
      "46\n",
      "[LightGBM] [Warning] min_data_in_leaf is set=800, min_child_samples=20 will be ignored. Current value: min_data_in_leaf=800\n",
      "[LightGBM] [Warning] min_data_in_leaf is set=1200, min_child_samples=20 will be ignored. Current value: min_data_in_leaf=1200\n",
      "[LightGBM] [Warning] min_data_in_leaf is set=1200, min_child_samples=20 will be ignored. Current value: min_data_in_leaf=1200\n",
      "[LightGBM] [Warning] min_data_in_leaf is set=1600, min_child_samples=20 will be ignored. Current value: min_data_in_leaf=1600\n",
      "[LightGBM] [Warning] min_data_in_leaf is set=1600, min_child_samples=20 will be ignored. Current value: min_data_in_leaf=1600\n",
      "[LightGBM] [Warning] min_data_in_leaf is set=2400, min_child_samples=20 will be ignored. Current value: min_data_in_leaf=2400\n",
      "[LightGBM] [Warning] min_data_in_leaf is set=1200, min_child_samples=20 will be ignored. Current value: min_data_in_leaf=1200\n",
      "[LightGBM] [Warning] min_data_in_leaf is set=2000, min_child_samples=20 will be ignored. Current value: min_data_in_leaf=2000\n",
      "[LightGBM] [Warning] min_data_in_leaf is set=1600, min_child_samples=20 will be ignored. Current value: min_data_in_leaf=1600\n",
      "[LightGBM] [Warning] min_data_in_leaf is set=2400, min_child_samples=20 will be ignored. Current value: min_data_in_leaf=2400\n",
      "{'reg_lambda': 0.42564787307739554, 'num_leaves': 23, 'min_data_in_leaf': 1200, 'learning_rate': 0.09}\n",
      "47\n",
      "[LightGBM] [Warning] min_data_in_leaf is set=2000, min_child_samples=20 will be ignored. Current value: min_data_in_leaf=2000\n",
      "[LightGBM] [Warning] min_data_in_leaf is set=2400, min_child_samples=20 will be ignored. Current value: min_data_in_leaf=2400\n",
      "[LightGBM] [Warning] min_data_in_leaf is set=1600, min_child_samples=20 will be ignored. Current value: min_data_in_leaf=1600\n",
      "[LightGBM] [Warning] min_data_in_leaf is set=800, min_child_samples=20 will be ignored. Current value: min_data_in_leaf=800\n",
      "[LightGBM] [Warning] min_data_in_leaf is set=800, min_child_samples=20 will be ignored. Current value: min_data_in_leaf=800\n",
      "[LightGBM] [Warning] min_data_in_leaf is set=2000, min_child_samples=20 will be ignored. Current value: min_data_in_leaf=2000\n",
      "[LightGBM] [Warning] min_data_in_leaf is set=1600, min_child_samples=20 will be ignored. Current value: min_data_in_leaf=1600\n",
      "[LightGBM] [Warning] min_data_in_leaf is set=800, min_child_samples=20 will be ignored. Current value: min_data_in_leaf=800\n",
      "[LightGBM] [Warning] min_data_in_leaf is set=400, min_child_samples=20 will be ignored. Current value: min_data_in_leaf=400\n",
      "[LightGBM] [Warning] min_data_in_leaf is set=1600, min_child_samples=20 will be ignored. Current value: min_data_in_leaf=1600\n",
      "{'reg_lambda': 4.637870576998267e-05, 'num_leaves': 12, 'min_data_in_leaf': 1600, 'learning_rate': 0.05}\n",
      "48\n",
      "[LightGBM] [Warning] min_data_in_leaf is set=2400, min_child_samples=20 will be ignored. Current value: min_data_in_leaf=2400\n",
      "[LightGBM] [Warning] min_data_in_leaf is set=2000, min_child_samples=20 will be ignored. Current value: min_data_in_leaf=2000\n",
      "[LightGBM] [Warning] min_data_in_leaf is set=400, min_child_samples=20 will be ignored. Current value: min_data_in_leaf=400\n",
      "[LightGBM] [Warning] min_data_in_leaf is set=2000, min_child_samples=20 will be ignored. Current value: min_data_in_leaf=2000\n",
      "[LightGBM] [Warning] min_data_in_leaf is set=2400, min_child_samples=20 will be ignored. Current value: min_data_in_leaf=2400\n",
      "[LightGBM] [Warning] min_data_in_leaf is set=1200, min_child_samples=20 will be ignored. Current value: min_data_in_leaf=1200\n",
      "[LightGBM] [Warning] min_data_in_leaf is set=1200, min_child_samples=20 will be ignored. Current value: min_data_in_leaf=1200\n",
      "[LightGBM] [Warning] min_data_in_leaf is set=1200, min_child_samples=20 will be ignored. Current value: min_data_in_leaf=1200\n",
      "[LightGBM] [Warning] min_data_in_leaf is set=800, min_child_samples=20 will be ignored. Current value: min_data_in_leaf=800\n",
      "[LightGBM] [Warning] min_data_in_leaf is set=800, min_child_samples=20 will be ignored. Current value: min_data_in_leaf=800\n",
      "{'reg_lambda': 0.0002503289551900511, 'num_leaves': 22, 'min_data_in_leaf': 2000, 'learning_rate': 0.06999999999999999}\n",
      "49\n",
      "[LightGBM] [Warning] min_data_in_leaf is set=800, min_child_samples=20 will be ignored. Current value: min_data_in_leaf=800\n",
      "[LightGBM] [Warning] min_data_in_leaf is set=2000, min_child_samples=20 will be ignored. Current value: min_data_in_leaf=2000\n"
     ]
    },
    {
     "name": "stdout",
     "output_type": "stream",
     "text": [
      "[LightGBM] [Warning] min_data_in_leaf is set=1200, min_child_samples=20 will be ignored. Current value: min_data_in_leaf=1200\n",
      "[LightGBM] [Warning] min_data_in_leaf is set=1600, min_child_samples=20 will be ignored. Current value: min_data_in_leaf=1600\n",
      "[LightGBM] [Warning] min_data_in_leaf is set=2400, min_child_samples=20 will be ignored. Current value: min_data_in_leaf=2400\n",
      "[LightGBM] [Warning] min_data_in_leaf is set=1600, min_child_samples=20 will be ignored. Current value: min_data_in_leaf=1600\n",
      "[LightGBM] [Warning] min_data_in_leaf is set=800, min_child_samples=20 will be ignored. Current value: min_data_in_leaf=800\n",
      "[LightGBM] [Warning] min_data_in_leaf is set=400, min_child_samples=20 will be ignored. Current value: min_data_in_leaf=400\n",
      "[LightGBM] [Warning] min_data_in_leaf is set=1200, min_child_samples=20 will be ignored. Current value: min_data_in_leaf=1200\n",
      "[LightGBM] [Warning] min_data_in_leaf is set=400, min_child_samples=20 will be ignored. Current value: min_data_in_leaf=400\n",
      "{'reg_lambda': 2.669329063335588e-05, 'num_leaves': 9, 'min_data_in_leaf': 400, 'learning_rate': 0.08}\n",
      "50\n",
      "[LightGBM] [Warning] min_data_in_leaf is set=1200, min_child_samples=20 will be ignored. Current value: min_data_in_leaf=1200\n",
      "[LightGBM] [Warning] min_data_in_leaf is set=400, min_child_samples=20 will be ignored. Current value: min_data_in_leaf=400\n",
      "[LightGBM] [Warning] min_data_in_leaf is set=800, min_child_samples=20 will be ignored. Current value: min_data_in_leaf=800\n",
      "[LightGBM] [Warning] min_data_in_leaf is set=2400, min_child_samples=20 will be ignored. Current value: min_data_in_leaf=2400\n",
      "[LightGBM] [Warning] min_data_in_leaf is set=2000, min_child_samples=20 will be ignored. Current value: min_data_in_leaf=2000\n",
      "[LightGBM] [Warning] min_data_in_leaf is set=800, min_child_samples=20 will be ignored. Current value: min_data_in_leaf=800\n",
      "[LightGBM] [Warning] min_data_in_leaf is set=2000, min_child_samples=20 will be ignored. Current value: min_data_in_leaf=2000\n",
      "[LightGBM] [Warning] min_data_in_leaf is set=1200, min_child_samples=20 will be ignored. Current value: min_data_in_leaf=1200\n",
      "[LightGBM] [Warning] min_data_in_leaf is set=1600, min_child_samples=20 will be ignored. Current value: min_data_in_leaf=1600\n",
      "[LightGBM] [Warning] min_data_in_leaf is set=2000, min_child_samples=20 will be ignored. Current value: min_data_in_leaf=2000\n",
      "{'reg_lambda': 0.26850338310955785, 'num_leaves': 12, 'min_data_in_leaf': 2400, 'learning_rate': 0.01}\n",
      "51\n",
      "[LightGBM] [Warning] min_data_in_leaf is set=400, min_child_samples=20 will be ignored. Current value: min_data_in_leaf=400\n",
      "[LightGBM] [Warning] min_data_in_leaf is set=2400, min_child_samples=20 will be ignored. Current value: min_data_in_leaf=2400\n",
      "[LightGBM] [Warning] min_data_in_leaf is set=800, min_child_samples=20 will be ignored. Current value: min_data_in_leaf=800\n",
      "[LightGBM] [Warning] min_data_in_leaf is set=1200, min_child_samples=20 will be ignored. Current value: min_data_in_leaf=1200\n",
      "[LightGBM] [Warning] min_data_in_leaf is set=2000, min_child_samples=20 will be ignored. Current value: min_data_in_leaf=2000\n",
      "[LightGBM] [Warning] min_data_in_leaf is set=2400, min_child_samples=20 will be ignored. Current value: min_data_in_leaf=2400\n",
      "[LightGBM] [Warning] min_data_in_leaf is set=1200, min_child_samples=20 will be ignored. Current value: min_data_in_leaf=1200\n",
      "[LightGBM] [Warning] min_data_in_leaf is set=1200, min_child_samples=20 will be ignored. Current value: min_data_in_leaf=1200\n",
      "[LightGBM] [Warning] min_data_in_leaf is set=400, min_child_samples=20 will be ignored. Current value: min_data_in_leaf=400\n",
      "[LightGBM] [Warning] min_data_in_leaf is set=1600, min_child_samples=20 will be ignored. Current value: min_data_in_leaf=1600\n",
      "{'reg_lambda': 1.4069859957184943e-08, 'num_leaves': 11, 'min_data_in_leaf': 2000, 'learning_rate': 0.15000000000000002}\n",
      "52\n",
      "[LightGBM] [Warning] min_data_in_leaf is set=1200, min_child_samples=20 will be ignored. Current value: min_data_in_leaf=1200\n",
      "[LightGBM] [Warning] min_data_in_leaf is set=1200, min_child_samples=20 will be ignored. Current value: min_data_in_leaf=1200\n",
      "[LightGBM] [Warning] min_data_in_leaf is set=2000, min_child_samples=20 will be ignored. Current value: min_data_in_leaf=2000\n",
      "[LightGBM] [Warning] min_data_in_leaf is set=1600, min_child_samples=20 will be ignored. Current value: min_data_in_leaf=1600\n",
      "[LightGBM] [Warning] min_data_in_leaf is set=1200, min_child_samples=20 will be ignored. Current value: min_data_in_leaf=1200\n",
      "[LightGBM] [Warning] min_data_in_leaf is set=1200, min_child_samples=20 will be ignored. Current value: min_data_in_leaf=1200\n",
      "[LightGBM] [Warning] min_data_in_leaf is set=2400, min_child_samples=20 will be ignored. Current value: min_data_in_leaf=2400\n",
      "[LightGBM] [Warning] min_data_in_leaf is set=800, min_child_samples=20 will be ignored. Current value: min_data_in_leaf=800\n",
      "[LightGBM] [Warning] min_data_in_leaf is set=800, min_child_samples=20 will be ignored. Current value: min_data_in_leaf=800\n",
      "[LightGBM] [Warning] min_data_in_leaf is set=1200, min_child_samples=20 will be ignored. Current value: min_data_in_leaf=1200\n",
      "{'reg_lambda': 3.246221679619531e-07, 'num_leaves': 13, 'min_data_in_leaf': 1200, 'learning_rate': 0.16}\n",
      "53\n",
      "[LightGBM] [Warning] min_data_in_leaf is set=1200, min_child_samples=20 will be ignored. Current value: min_data_in_leaf=1200\n",
      "[LightGBM] [Warning] min_data_in_leaf is set=2400, min_child_samples=20 will be ignored. Current value: min_data_in_leaf=2400\n",
      "[LightGBM] [Warning] min_data_in_leaf is set=1200, min_child_samples=20 will be ignored. Current value: min_data_in_leaf=1200\n",
      "[LightGBM] [Warning] min_data_in_leaf is set=1200, min_child_samples=20 will be ignored. Current value: min_data_in_leaf=1200\n",
      "[LightGBM] [Warning] min_data_in_leaf is set=400, min_child_samples=20 will be ignored. Current value: min_data_in_leaf=400\n",
      "[LightGBM] [Warning] min_data_in_leaf is set=2400, min_child_samples=20 will be ignored. Current value: min_data_in_leaf=2400\n",
      "[LightGBM] [Warning] min_data_in_leaf is set=400, min_child_samples=20 will be ignored. Current value: min_data_in_leaf=400\n",
      "[LightGBM] [Warning] min_data_in_leaf is set=400, min_child_samples=20 will be ignored. Current value: min_data_in_leaf=400\n",
      "[LightGBM] [Warning] min_data_in_leaf is set=2000, min_child_samples=20 will be ignored. Current value: min_data_in_leaf=2000\n",
      "[LightGBM] [Warning] min_data_in_leaf is set=1600, min_child_samples=20 will be ignored. Current value: min_data_in_leaf=1600\n",
      "{'reg_lambda': 1.842001212720758e-07, 'num_leaves': 16, 'min_data_in_leaf': 1600, 'learning_rate': 0.14}\n",
      "CPU times: user 3min 48s, sys: 4min 41s, total: 8min 29s\n",
      "Wall time: 3min 31s\n"
     ]
    }
   ],
   "source": [
    "%%time\n",
    "classifiers = []\n",
    "\n",
    "for i in range(len(training_data)):\n",
    "    print(i)\n",
    "    \n",
    "    study = optuna.create_study(direction=\"maximize\")\n",
    "    study.optimize(partial(objective_gb,train=training_data[i][optimal_features[i]],\n",
    "                           labels=training_labels[i],\n",
    "                           val=validation_data[i][optimal_features[i]],\n",
    "                           val_labels=validation_labels[i],\n",
    "                           val_rets = validation_frames[i]['ret']),\n",
    "                           n_trials=10,n_jobs=2)\n",
    "    params = study.best_params\n",
    "    \n",
    "    print(params)\n",
    "    gb_clf = lgb.LGBMClassifier(**params)\n",
    "\n",
    "    classifiers.append(gb_clf)"
   ]
  },
  {
   "cell_type": "code",
   "execution_count": 71,
   "metadata": {
    "scrolled": true
   },
   "outputs": [
    {
     "name": "stdout",
     "output_type": "stream",
     "text": [
      "[LightGBM] [Warning] min_data_in_leaf is set=2000, min_child_samples=20 will be ignored. Current value: min_data_in_leaf=2000\n",
      "[LightGBM] [Warning] min_data_in_leaf is set=800, min_child_samples=20 will be ignored. Current value: min_data_in_leaf=800\n",
      "[LightGBM] [Warning] min_data_in_leaf is set=1200, min_child_samples=20 will be ignored. Current value: min_data_in_leaf=1200\n",
      "[LightGBM] [Warning] min_data_in_leaf is set=2000, min_child_samples=20 will be ignored. Current value: min_data_in_leaf=2000\n",
      "[LightGBM] [Warning] min_data_in_leaf is set=2400, min_child_samples=20 will be ignored. Current value: min_data_in_leaf=2400\n",
      "[LightGBM] [Warning] min_data_in_leaf is set=800, min_child_samples=20 will be ignored. Current value: min_data_in_leaf=800\n",
      "[LightGBM] [Warning] min_data_in_leaf is set=400, min_child_samples=20 will be ignored. Current value: min_data_in_leaf=400\n",
      "[LightGBM] [Warning] min_data_in_leaf is set=2400, min_child_samples=20 will be ignored. Current value: min_data_in_leaf=2400\n",
      "[LightGBM] [Warning] min_data_in_leaf is set=800, min_child_samples=20 will be ignored. Current value: min_data_in_leaf=800\n",
      "[LightGBM] [Warning] min_data_in_leaf is set=2400, min_child_samples=20 will be ignored. Current value: min_data_in_leaf=2400\n",
      "[LightGBM] [Warning] min_data_in_leaf is set=2400, min_child_samples=20 will be ignored. Current value: min_data_in_leaf=2400\n",
      "[LightGBM] [Warning] min_data_in_leaf is set=2400, min_child_samples=20 will be ignored. Current value: min_data_in_leaf=2400\n",
      "[LightGBM] [Warning] min_data_in_leaf is set=2400, min_child_samples=20 will be ignored. Current value: min_data_in_leaf=2400\n",
      "[LightGBM] [Warning] min_data_in_leaf is set=1600, min_child_samples=20 will be ignored. Current value: min_data_in_leaf=1600\n",
      "[LightGBM] [Warning] min_data_in_leaf is set=800, min_child_samples=20 will be ignored. Current value: min_data_in_leaf=800\n",
      "[LightGBM] [Warning] min_data_in_leaf is set=400, min_child_samples=20 will be ignored. Current value: min_data_in_leaf=400\n",
      "[LightGBM] [Warning] min_data_in_leaf is set=1200, min_child_samples=20 will be ignored. Current value: min_data_in_leaf=1200\n",
      "[LightGBM] [Warning] min_data_in_leaf is set=800, min_child_samples=20 will be ignored. Current value: min_data_in_leaf=800\n",
      "[LightGBM] [Warning] min_data_in_leaf is set=800, min_child_samples=20 will be ignored. Current value: min_data_in_leaf=800\n",
      "[LightGBM] [Warning] min_data_in_leaf is set=800, min_child_samples=20 will be ignored. Current value: min_data_in_leaf=800\n",
      "[LightGBM] [Warning] min_data_in_leaf is set=400, min_child_samples=20 will be ignored. Current value: min_data_in_leaf=400\n",
      "[LightGBM] [Warning] min_data_in_leaf is set=400, min_child_samples=20 will be ignored. Current value: min_data_in_leaf=400\n",
      "[LightGBM] [Warning] min_data_in_leaf is set=1200, min_child_samples=20 will be ignored. Current value: min_data_in_leaf=1200\n",
      "[LightGBM] [Warning] min_data_in_leaf is set=800, min_child_samples=20 will be ignored. Current value: min_data_in_leaf=800\n",
      "[LightGBM] [Warning] min_data_in_leaf is set=2400, min_child_samples=20 will be ignored. Current value: min_data_in_leaf=2400\n",
      "[LightGBM] [Warning] min_data_in_leaf is set=400, min_child_samples=20 will be ignored. Current value: min_data_in_leaf=400\n",
      "[LightGBM] [Warning] min_data_in_leaf is set=2000, min_child_samples=20 will be ignored. Current value: min_data_in_leaf=2000\n",
      "[LightGBM] [Warning] min_data_in_leaf is set=2000, min_child_samples=20 will be ignored. Current value: min_data_in_leaf=2000\n",
      "[LightGBM] [Warning] min_data_in_leaf is set=1200, min_child_samples=20 will be ignored. Current value: min_data_in_leaf=1200\n",
      "[LightGBM] [Warning] min_data_in_leaf is set=400, min_child_samples=20 will be ignored. Current value: min_data_in_leaf=400\n",
      "[LightGBM] [Warning] min_data_in_leaf is set=1200, min_child_samples=20 will be ignored. Current value: min_data_in_leaf=1200\n",
      "[LightGBM] [Warning] min_data_in_leaf is set=2400, min_child_samples=20 will be ignored. Current value: min_data_in_leaf=2400\n",
      "[LightGBM] [Warning] min_data_in_leaf is set=800, min_child_samples=20 will be ignored. Current value: min_data_in_leaf=800\n",
      "[LightGBM] [Warning] min_data_in_leaf is set=2400, min_child_samples=20 will be ignored. Current value: min_data_in_leaf=2400\n",
      "[LightGBM] [Warning] min_data_in_leaf is set=1600, min_child_samples=20 will be ignored. Current value: min_data_in_leaf=1600\n",
      "[LightGBM] [Warning] min_data_in_leaf is set=1600, min_child_samples=20 will be ignored. Current value: min_data_in_leaf=1600\n",
      "[LightGBM] [Warning] min_data_in_leaf is set=800, min_child_samples=20 will be ignored. Current value: min_data_in_leaf=800\n",
      "[LightGBM] [Warning] min_data_in_leaf is set=2400, min_child_samples=20 will be ignored. Current value: min_data_in_leaf=2400\n",
      "[LightGBM] [Warning] min_data_in_leaf is set=2400, min_child_samples=20 will be ignored. Current value: min_data_in_leaf=2400\n",
      "[LightGBM] [Warning] min_data_in_leaf is set=1200, min_child_samples=20 will be ignored. Current value: min_data_in_leaf=1200\n",
      "[LightGBM] [Warning] min_data_in_leaf is set=1200, min_child_samples=20 will be ignored. Current value: min_data_in_leaf=1200\n",
      "[LightGBM] [Warning] min_data_in_leaf is set=2000, min_child_samples=20 will be ignored. Current value: min_data_in_leaf=2000\n",
      "[LightGBM] [Warning] min_data_in_leaf is set=1200, min_child_samples=20 will be ignored. Current value: min_data_in_leaf=1200\n",
      "[LightGBM] [Warning] min_data_in_leaf is set=2400, min_child_samples=20 will be ignored. Current value: min_data_in_leaf=2400\n",
      "[LightGBM] [Warning] min_data_in_leaf is set=2000, min_child_samples=20 will be ignored. Current value: min_data_in_leaf=2000\n",
      "[LightGBM] [Warning] min_data_in_leaf is set=1200, min_child_samples=20 will be ignored. Current value: min_data_in_leaf=1200\n",
      "[LightGBM] [Warning] min_data_in_leaf is set=1600, min_child_samples=20 will be ignored. Current value: min_data_in_leaf=1600\n",
      "[LightGBM] [Warning] min_data_in_leaf is set=2000, min_child_samples=20 will be ignored. Current value: min_data_in_leaf=2000\n",
      "[LightGBM] [Warning] min_data_in_leaf is set=400, min_child_samples=20 will be ignored. Current value: min_data_in_leaf=400\n",
      "[LightGBM] [Warning] min_data_in_leaf is set=2400, min_child_samples=20 will be ignored. Current value: min_data_in_leaf=2400\n",
      "[LightGBM] [Warning] min_data_in_leaf is set=2000, min_child_samples=20 will be ignored. Current value: min_data_in_leaf=2000\n"
     ]
    }
   ],
   "source": [
    "P_L = []\n",
    "x = [0,1]\n",
    "ret = []\n",
    "\n",
    "for i in range(1,len(optimal_features)-1):\n",
    "\n",
    "        gbm = classifiers[i-1].fit(training_data[i][optimal_features[i-1]],training_labels[i],verbose=False)\n",
    "        pred_i = gbm.predict(test_data[i][optimal_features[i-1]])\n",
    "        \n",
    "        profit_i = (pred_i * test_frames[i]['ret']).sum()\n",
    "        P_L.append(profit_i)\n",
    "        positions = np.sum(np.abs(pred_i))\n",
    "        \n",
    "        ret.append((1.0/positions) * profit_i)\n",
    "        x.append(x[i] + (x[i]/positions) * profit_i)"
   ]
  },
  {
   "cell_type": "code",
   "execution_count": 72,
   "metadata": {},
   "outputs": [
    {
     "data": {
      "image/png": "[encoded data removed]",
      "text/plain": [
       "<Figure size 432x288 with 1 Axes>"
      ]
     },
     "metadata": {
      "needs_background": "light"
     },
     "output_type": "display_data"
    }
   ],
   "source": [
    "plt.plot(x[1:]);"
   ]
  }
 ],
 "metadata": {
  "kernelspec": {
   "display_name": "Python 3 (ipykernel)",
   "language": "python",
   "name": "python3"
  },
  "language_info": {
   "codemirror_mode": {
    "name": "ipython",
    "version": 3
   },
   "file_extension": ".py",
   "mimetype": "text/x-python",
   "name": "python",
   "nbconvert_exporter": "python",
   "pygments_lexer": "ipython3",
   "version": "3.8.8"
  },
  "latex_envs": {
   "LaTeX_envs_menu_present": true,
   "autoclose": false,
   "autocomplete": true,
   "bibliofile": "biblio.bib",
   "cite_by": "apalike",
   "current_citInitial": 1,
   "eqLabelWithNumbers": true,
   "eqNumInitial": 1,
   "hotkeys": {
    "equation": "Ctrl-E",
    "itemize": "Ctrl-I"
   },
   "labels_anchors": false,
   "latex_user_defs": false,
   "report_style_numbering": false,
   "user_envs_cfg": false
  }
 },
 "nbformat": 4,
 "nbformat_minor": 2
}
