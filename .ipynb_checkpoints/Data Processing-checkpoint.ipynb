{
 "cells": [
  {
   "cell_type": "markdown",
   "id": "fd97eaef",
   "metadata": {},
   "source": [
    "Charles Deng 12334214\n",
    "\n",
    "Sosuke Kohda 12160736\n",
    "\n",
    "Owen Howell 12104004\n",
    "\n",
    "Holly Cao 12333838\n",
    "\n",
    "\n"
   ]
  },
  {
   "cell_type": "markdown",
   "id": "d19fbb83",
   "metadata": {},
   "source": [
    "This file: Data engineering and EDA analysis\n",
    "\n",
    "sqlconnector.py: Wrapper for SQL connection\n",
    "\n",
    "feature_selection.py: preliminary analysis through ridge regression\n",
    "\n",
    "report.html: EDA for 15 most relevant features with 1-month return"
   ]
  },
  {
   "cell_type": "code",
   "execution_count": 1,
   "id": "5f4a1562",
   "metadata": {},
   "outputs": [],
   "source": [
    "import pandas as pd\n",
    "import numpy as np\n",
    "import matplotlib.pyplot as plt\n",
    "import credentials\n",
    "import sqlconnector as sql\n",
    "from functools import reduce\n",
    "from tqdm.notebook import tqdm\n",
    "import seaborn as sns\n",
    "from scipy.stats import zscore\n",
    "from sklearn.decomposition import PCA\n"
   ]
  },
  {
   "cell_type": "markdown",
   "id": "46d3e503",
   "metadata": {},
   "source": [
    "##### Install this before running the code"
   ]
  },
  {
   "cell_type": "code",
   "execution_count": 2,
   "id": "f6838f4d",
   "metadata": {},
   "outputs": [],
   "source": [
    "#pip install mysql-connector-python"
   ]
  },
  {
   "cell_type": "markdown",
   "id": "00433426",
   "metadata": {},
   "source": [
    "##### Establish Connection through SQL connector\n"
   ]
  },
  {
   "cell_type": "code",
   "execution_count": 3,
   "id": "6f736dae",
   "metadata": {},
   "outputs": [],
   "source": [
    "s = sql.sqlconnector(credentials.HOST,credentials.USER,credentials.PASSWORD,credentials.PORT,'product_mutual')"
   ]
  },
  {
   "cell_type": "code",
   "execution_count": 4,
   "id": "2f6c68d8",
   "metadata": {
    "scrolled": false
   },
   "outputs": [
    {
     "name": "stdout",
     "output_type": "stream",
     "text": [
      "Connection Success\n"
     ]
    }
   ],
   "source": [
    "s.connect()"
   ]
  },
  {
   "cell_type": "markdown",
   "id": "79666d0f",
   "metadata": {},
   "source": [
    "### Number of mututal fund products\n",
    "Compute the total number of distinct mutual funds with weekly returns"
   ]
  },
  {
   "cell_type": "code",
   "execution_count": 5,
   "id": "c7e954dd",
   "metadata": {},
   "outputs": [],
   "source": [
    "query = \"\"\"\n",
    "select count(DISTINCT fund_id) as fund_num,statistic_date\n",
    "from fund_weekly_risk \n",
    "where \n",
    "benchmark = 1\n",
    "group by\n",
    "statistic_date \n",
    "having \n",
    "statistic_date\n",
    "between \n",
    "'2001-01-01' and '2022-12-10'\n",
    "\"\"\""
   ]
  },
  {
   "cell_type": "code",
   "execution_count": 6,
   "id": "63e0ba57",
   "metadata": {},
   "outputs": [],
   "source": [
    "fund_num = s.fetch(query)"
   ]
  },
  {
   "cell_type": "code",
   "execution_count": 7,
   "id": "536ab5ad",
   "metadata": {},
   "outputs": [],
   "source": [
    "fund_num.set_index('statistic_date',inplace=True)"
   ]
  },
  {
   "cell_type": "code",
   "execution_count": 8,
   "id": "d6619d47",
   "metadata": {
    "scrolled": true
   },
   "outputs": [
    {
     "data": {
      "text/plain": [
       "Text(0.5, 1.0, 'Number of registered mutual fund products in China')"
      ]
     },
     "execution_count": 8,
     "metadata": {},
     "output_type": "execute_result"
    },
    {
     "data": {
      "image/png": "[encoded data removed]",
      "text/plain": [
       "<Figure size 432x288 with 1 Axes>"
      ]
     },
     "metadata": {
      "needs_background": "light"
     },
     "output_type": "display_data"
    }
   ],
   "source": [
    "fund_num.rolling(500).max().plot(kind='line',label = 'Fund Number')\n",
    "plt.title('Number of registered mutual fund products in China')\n"
   ]
  },
  {
   "cell_type": "code",
   "execution_count": 9,
   "id": "aab27f23",
   "metadata": {},
   "outputs": [],
   "source": [
    "#len(df_merged.columns)"
   ]
  },
  {
   "cell_type": "markdown",
   "id": "2b3ad187",
   "metadata": {},
   "source": [
    "### Fund Universe"
   ]
  },
  {
   "cell_type": "code",
   "execution_count": 10,
   "id": "d01590d0",
   "metadata": {},
   "outputs": [],
   "source": [
    "fund_type_query = \"select fund_type, count(*) as fund_num from fund_info where is_main_fund = 1 group by fund_type\""
   ]
  },
  {
   "cell_type": "code",
   "execution_count": 11,
   "id": "d01b9c46",
   "metadata": {},
   "outputs": [],
   "source": [
    "fund_type_count = s.fetch(fund_type_query)"
   ]
  },
  {
   "cell_type": "code",
   "execution_count": 12,
   "id": "11b4f6e2",
   "metadata": {},
   "outputs": [],
   "source": [
    "fund_type_map ={'QDII基金':'QDII Fund','债券型基金':'Bond','其他基金':'other','混合型基金':'Blend','股票型基金':'equty','货币型基金':'currency'}"
   ]
  },
  {
   "cell_type": "code",
   "execution_count": 13,
   "id": "0a694be3",
   "metadata": {},
   "outputs": [],
   "source": [
    "fund_type_count['fund_type'] = fund_type_count.fund_type.map(fund_type_map)"
   ]
  },
  {
   "cell_type": "code",
   "execution_count": 14,
   "id": "2e8e6245",
   "metadata": {},
   "outputs": [
    {
     "name": "stderr",
     "output_type": "stream",
     "text": [
      "/var/folders/sj/x531msr155b2cnd1db8frnr00000gn/T/ipykernel_35280/1298367056.py:1: FutureWarning: Dropping of nuisance columns in DataFrame reductions (with 'numeric_only=None') is deprecated; in a future version this will raise TypeError.  Select only valid columns before calling the reduction.\n",
      "  fund_type_count.sum()\n"
     ]
    },
    {
     "data": {
      "text/plain": [
       "fund_num    10700\n",
       "dtype: int64"
      ]
     },
     "execution_count": 14,
     "metadata": {},
     "output_type": "execute_result"
    }
   ],
   "source": [
    "fund_type_count.sum()"
   ]
  },
  {
   "cell_type": "code",
   "execution_count": 15,
   "id": "5cdedca4",
   "metadata": {},
   "outputs": [
    {
     "data": {
      "text/plain": [
       "Text(0.5, 1.0, 'Fund Strategy Types')"
      ]
     },
     "execution_count": 15,
     "metadata": {},
     "output_type": "execute_result"
    },
    {
     "data": {
      "image/png": "[encoded data removed]",
      "text/plain": [
       "<Figure size 432x288 with 1 Axes>"
      ]
     },
     "metadata": {
      "needs_background": "light"
     },
     "output_type": "display_data"
    }
   ],
   "source": [
    "fund_type_count.sort_values('fund_num').plot(x='fund_type',y='fund_num',kind = 'bar')\n",
    "plt.title('Fund Strategy Types')"
   ]
  },
  {
   "cell_type": "markdown",
   "id": "3d8e8acb",
   "metadata": {},
   "source": [
    "##### select products that:\n",
    "    - equity fund\n",
    "    - have at least 2 years of history\n",
    "    - is the parent product\n",
    "    - is equity focused\n",
    "    - use CSI300 index as benchmark"
   ]
  },
  {
   "cell_type": "code",
   "execution_count": 17,
   "id": "376899b7",
   "metadata": {},
   "outputs": [],
   "source": [
    "column_query = \"select * from {table} where statistic_date > '2017-01-01' limit 1\""
   ]
  },
  {
   "cell_type": "code",
   "execution_count": 137,
   "id": "434ae5a9",
   "metadata": {},
   "outputs": [],
   "source": [
    "standard_query  = (\"select * from {table} where statistic_date > '2017-01-01'\"\n",
    "\"and `benchmark` = 1 and fund_id in\"\n",
    "\" (select fund_id from fund_info where foundation_date < '2020-01-01' and is_main_fund = 1 \"\n",
    "\"and fund_type = '股票型基金' and (fund_name like '%A%' or fund_name like '%C%'))\")\n"
   ]
  },
  {
   "cell_type": "code",
   "execution_count": 146,
   "id": "f6806baf",
   "metadata": {},
   "outputs": [],
   "source": [
    "fund_ret_query = \"\"\"\n",
    "select * from (\n",
    "select * from fund_monthly_return where statistic_date > '2017-01-01'\n",
    "and `benchmark` = 1 and fund_id in\n",
    "(select fund_id from fund_info where foundation_date < '2020-01-01' and is_main_fund = 1 \n",
    "and fund_type = '股票型基金' and (fund_name like '%A%' or fund_name like '%C%'))\n",
    ") fund\n",
    "left join \n",
    "(\n",
    "select person_name,person_id, fund_id,tenure_date, if(ISNULL(dimission_date),'9999-12-31',dimission_date) as dimission_date\n",
    "from \n",
    "fund_manager_mapping\n",
    ") mapping\n",
    "on \n",
    "fund.fund_id = mapping.fund_id\n",
    "left JOIN\n",
    "manager_performance\n",
    "on mapping.person_id = manager_performance.person_id\n",
    "having \t\n",
    "fund.statistic_date between mapping.tenure_date and mapping.dimission_date\n",
    "and indicator = 'total'\n",
    "AND index_id = 'PI01'\n",
    "and fund.statistic_date = manager_performance.statistic_date\n",
    "\n",
    "\"\"\"\n"
   ]
  },
  {
   "cell_type": "markdown",
   "id": "5f136c85",
   "metadata": {},
   "source": [
    "### Fund Size"
   ]
  },
  {
   "cell_type": "code",
   "execution_count": 139,
   "id": "3c637184",
   "metadata": {},
   "outputs": [],
   "source": [
    "scale_query = (\"SELECT fund_id, AVG(NULLIF(total_assets, 0)) as total_asset\"\n",
    "\" FROM fund_balance\" \n",
    "\" GROUP BY fund_id\")"
   ]
  },
  {
   "cell_type": "code",
   "execution_count": 140,
   "id": "cafe3147",
   "metadata": {},
   "outputs": [
    {
     "name": "stdout",
     "output_type": "stream",
     "text": [
      "Unread result found\n",
      "Retrying Connection...\n",
      "Connection Success\n"
     ]
    }
   ],
   "source": [
    "fund_scale = s.fetch(scale_query)"
   ]
  },
  {
   "cell_type": "code",
   "execution_count": 141,
   "id": "03b507a9",
   "metadata": {},
   "outputs": [
    {
     "name": "stdout",
     "output_type": "stream",
     "text": [
      "There are 14119 of funds\n"
     ]
    }
   ],
   "source": [
    "print(\"There are {num} of funds\".format(num = len(set(fund_scale.fund_id))))"
   ]
  },
  {
   "cell_type": "code",
   "execution_count": 142,
   "id": "68520758",
   "metadata": {},
   "outputs": [],
   "source": [
    "fund_scale['total_asset'] = pd.to_numeric(fund_scale['total_asset'])\n"
   ]
  },
  {
   "cell_type": "markdown",
   "id": "4808e745",
   "metadata": {},
   "source": [
    "##### select funds with a total asset of at least 50 million RMB"
   ]
  },
  {
   "cell_type": "code",
   "execution_count": 143,
   "id": "dea90ad8",
   "metadata": {},
   "outputs": [],
   "source": [
    "fund_scale_selected = fund_scale[fund_scale.total_asset > 5e7]"
   ]
  },
  {
   "cell_type": "markdown",
   "id": "37a988d3",
   "metadata": {},
   "source": [
    "### Feature Engineering"
   ]
  },
  {
   "cell_type": "markdown",
   "id": "560a5ef3",
   "metadata": {},
   "source": [
    "#### Perforamnce Features"
   ]
  },
  {
   "cell_type": "code",
   "execution_count": 144,
   "id": "9ad66e84",
   "metadata": {},
   "outputs": [],
   "source": [
    "template =   s.fetch(column_query.format(table ='fund_monthly_return'))\n",
    "cols = list(template.columns)"
   ]
  },
  {
   "cell_type": "code",
   "execution_count": 147,
   "id": "8d8968c8",
   "metadata": {},
   "outputs": [],
   "source": [
    "manager_monthly_return =  s.fetch(fund_ret_query.format(table ='fund_monthly_return'))"
   ]
  },
  {
   "cell_type": "code",
   "execution_count": 148,
   "id": "d320d704",
   "metadata": {},
   "outputs": [],
   "source": [
    "manager_monthly_return = manager_monthly_return[cols + ['star','weighted_score','person_id']]"
   ]
  },
  {
   "cell_type": "code",
   "execution_count": 149,
   "id": "0139fdec",
   "metadata": {},
   "outputs": [],
   "source": [
    "manager_monthly_return = manager_monthly_return.loc[:,~manager_monthly_return.columns.duplicated()]"
   ]
  },
  {
   "cell_type": "code",
   "execution_count": 150,
   "id": "3116311d",
   "metadata": {},
   "outputs": [],
   "source": [
    "manager_monthly_return = manager_monthly_return.groupby(['fund_id','statistic_date'],as_index=False).aggregate({'weighted_score':'mean','star':'mean'})"
   ]
  },
  {
   "cell_type": "code",
   "execution_count": 151,
   "id": "3388181a",
   "metadata": {},
   "outputs": [],
   "source": [
    "fund_monthly_return =  s.fetch(standard_query.format(table ='fund_monthly_return'))"
   ]
  },
  {
   "cell_type": "code",
   "execution_count": 152,
   "id": "7c1e9c5b",
   "metadata": {},
   "outputs": [],
   "source": [
    "fund_monthly_risk=  s.fetch(standard_query.format(table ='fund_monthly_risk'))"
   ]
  },
  {
   "cell_type": "code",
   "execution_count": 153,
   "id": "46b27701",
   "metadata": {},
   "outputs": [],
   "source": [
    "fund_monthly_risk_2 =  s.fetch(standard_query.format(table ='fund_monthly_risk2'))"
   ]
  },
  {
   "cell_type": "code",
   "execution_count": 154,
   "id": "571023dd",
   "metadata": {},
   "outputs": [],
   "source": [
    "fund_monthly_subsidiary=  s.fetch(standard_query.format(table ='fund_monthly_subsidiary'))"
   ]
  },
  {
   "cell_type": "code",
   "execution_count": 155,
   "id": "c6c0358e",
   "metadata": {},
   "outputs": [],
   "source": [
    "fund_monthly_subsidiary_2=  s.fetch(standard_query.format(table ='fund_monthly_subsidiary2'))"
   ]
  },
  {
   "cell_type": "code",
   "execution_count": 156,
   "id": "68087579",
   "metadata": {},
   "outputs": [],
   "source": [
    "fund_monthly_subsidiary_3=  s.fetch(standard_query.format(table ='fund_monthly_subsidiary3'))"
   ]
  },
  {
   "cell_type": "code",
   "execution_count": 81,
   "id": "90f4ec70",
   "metadata": {},
   "outputs": [
    {
     "data": {
      "text/html": [
       "<div>\n",
       "<style scoped>\n",
       "    .dataframe tbody tr th:only-of-type {\n",
       "        vertical-align: middle;\n",
       "    }\n",
       "\n",
       "    .dataframe tbody tr th {\n",
       "        vertical-align: top;\n",
       "    }\n",
       "\n",
       "    .dataframe thead th {\n",
       "        text-align: right;\n",
       "    }\n",
       "</style>\n",
       "<table border=\"1\" class=\"dataframe\">\n",
       "  <thead>\n",
       "    <tr style=\"text-align: right;\">\n",
       "      <th></th>\n",
       "      <th>fund_id</th>\n",
       "      <th>fund_name</th>\n",
       "      <th>statistic_date</th>\n",
       "      <th>benchmark</th>\n",
       "      <th>year_hurst</th>\n",
       "      <th>total_hurst</th>\n",
       "      <th>m6_hurst</th>\n",
       "      <th>y1_hurst</th>\n",
       "      <th>y2_hurst</th>\n",
       "      <th>y3_hurst</th>\n",
       "      <th>...</th>\n",
       "      <th>y5_kappa_a</th>\n",
       "      <th>year_omega</th>\n",
       "      <th>total_omega</th>\n",
       "      <th>m6_omega</th>\n",
       "      <th>y1_omega</th>\n",
       "      <th>y2_omega</th>\n",
       "      <th>y3_omega</th>\n",
       "      <th>y5_omega</th>\n",
       "      <th>entry_time</th>\n",
       "      <th>update_time</th>\n",
       "    </tr>\n",
       "  </thead>\n",
       "  <tbody>\n",
       "    <tr>\n",
       "      <th>0</th>\n",
       "      <td>000008</td>\n",
       "      <td>嘉实中证500ETF联接A</td>\n",
       "      <td>2017-01-31</td>\n",
       "      <td>1</td>\n",
       "      <td>0.615450</td>\n",
       "      <td>0.566823</td>\n",
       "      <td>0.508478</td>\n",
       "      <td>0.436225</td>\n",
       "      <td>0.564427</td>\n",
       "      <td>0.577154</td>\n",
       "      <td>...</td>\n",
       "      <td>1.346106</td>\n",
       "      <td>0.569993</td>\n",
       "      <td>0.763532</td>\n",
       "      <td>0.732545</td>\n",
       "      <td>0.762367</td>\n",
       "      <td>0.765959</td>\n",
       "      <td>0.741523</td>\n",
       "      <td>0.771073</td>\n",
       "      <td>2017-10-24 09:18:40</td>\n",
       "      <td>2020-09-27 05:36:58</td>\n",
       "    </tr>\n",
       "    <tr>\n",
       "      <th>1</th>\n",
       "      <td>000008</td>\n",
       "      <td>嘉实中证500ETF联接A</td>\n",
       "      <td>2017-02-28</td>\n",
       "      <td>1</td>\n",
       "      <td>0.574555</td>\n",
       "      <td>0.565558</td>\n",
       "      <td>0.520371</td>\n",
       "      <td>0.499556</td>\n",
       "      <td>0.562788</td>\n",
       "      <td>0.577288</td>\n",
       "      <td>...</td>\n",
       "      <td>1.441279</td>\n",
       "      <td>0.573788</td>\n",
       "      <td>0.758654</td>\n",
       "      <td>0.712248</td>\n",
       "      <td>0.756135</td>\n",
       "      <td>0.750643</td>\n",
       "      <td>0.725432</td>\n",
       "      <td>0.766096</td>\n",
       "      <td>2017-10-24 09:26:13</td>\n",
       "      <td>2020-09-27 05:52:40</td>\n",
       "    </tr>\n",
       "    <tr>\n",
       "      <th>2</th>\n",
       "      <td>000008</td>\n",
       "      <td>嘉实中证500ETF联接A</td>\n",
       "      <td>2017-03-31</td>\n",
       "      <td>1</td>\n",
       "      <td>0.538198</td>\n",
       "      <td>0.566038</td>\n",
       "      <td>0.539620</td>\n",
       "      <td>0.474289</td>\n",
       "      <td>0.550277</td>\n",
       "      <td>0.576571</td>\n",
       "      <td>...</td>\n",
       "      <td>1.394552</td>\n",
       "      <td>0.692175</td>\n",
       "      <td>0.765432</td>\n",
       "      <td>0.745435</td>\n",
       "      <td>0.780752</td>\n",
       "      <td>0.750707</td>\n",
       "      <td>0.725868</td>\n",
       "      <td>0.772908</td>\n",
       "      <td>2017-10-24 09:35:27</td>\n",
       "      <td>2020-09-27 04:54:12</td>\n",
       "    </tr>\n",
       "    <tr>\n",
       "      <th>3</th>\n",
       "      <td>000008</td>\n",
       "      <td>嘉实中证500ETF联接A</td>\n",
       "      <td>2017-04-30</td>\n",
       "      <td>1</td>\n",
       "      <td>0.575811</td>\n",
       "      <td>0.567219</td>\n",
       "      <td>0.541371</td>\n",
       "      <td>0.484227</td>\n",
       "      <td>0.541004</td>\n",
       "      <td>0.577288</td>\n",
       "      <td>...</td>\n",
       "      <td>1.258009</td>\n",
       "      <td>0.633375</td>\n",
       "      <td>0.764173</td>\n",
       "      <td>0.699162</td>\n",
       "      <td>0.751805</td>\n",
       "      <td>0.758155</td>\n",
       "      <td>0.727343</td>\n",
       "      <td>0.771586</td>\n",
       "      <td>2017-10-24 09:45:17</td>\n",
       "      <td>2020-09-27 05:12:10</td>\n",
       "    </tr>\n",
       "    <tr>\n",
       "      <th>4</th>\n",
       "      <td>000008</td>\n",
       "      <td>嘉实中证500ETF联接A</td>\n",
       "      <td>2017-05-31</td>\n",
       "      <td>1</td>\n",
       "      <td>0.595949</td>\n",
       "      <td>0.569586</td>\n",
       "      <td>0.585112</td>\n",
       "      <td>0.509870</td>\n",
       "      <td>0.537458</td>\n",
       "      <td>0.581472</td>\n",
       "      <td>...</td>\n",
       "      <td>1.013948</td>\n",
       "      <td>0.568243</td>\n",
       "      <td>0.761003</td>\n",
       "      <td>0.654853</td>\n",
       "      <td>0.697675</td>\n",
       "      <td>0.708756</td>\n",
       "      <td>0.730113</td>\n",
       "      <td>0.768305</td>\n",
       "      <td>2017-10-24 09:55:27</td>\n",
       "      <td>2020-09-27 05:28:01</td>\n",
       "    </tr>\n",
       "    <tr>\n",
       "      <th>...</th>\n",
       "      <td>...</td>\n",
       "      <td>...</td>\n",
       "      <td>...</td>\n",
       "      <td>...</td>\n",
       "      <td>...</td>\n",
       "      <td>...</td>\n",
       "      <td>...</td>\n",
       "      <td>...</td>\n",
       "      <td>...</td>\n",
       "      <td>...</td>\n",
       "      <td>...</td>\n",
       "      <td>...</td>\n",
       "      <td>...</td>\n",
       "      <td>...</td>\n",
       "      <td>...</td>\n",
       "      <td>...</td>\n",
       "      <td>...</td>\n",
       "      <td>...</td>\n",
       "      <td>...</td>\n",
       "      <td>...</td>\n",
       "      <td>...</td>\n",
       "    </tr>\n",
       "    <tr>\n",
       "      <th>17355</th>\n",
       "      <td>968031</td>\n",
       "      <td>中银香港全天候香港股票A7</td>\n",
       "      <td>2021-10-31</td>\n",
       "      <td>1</td>\n",
       "      <td>0.406822</td>\n",
       "      <td>0.557396</td>\n",
       "      <td>0.465353</td>\n",
       "      <td>0.601568</td>\n",
       "      <td>None</td>\n",
       "      <td>None</td>\n",
       "      <td>...</td>\n",
       "      <td>None</td>\n",
       "      <td>0.807561</td>\n",
       "      <td>0.721042</td>\n",
       "      <td>0.672635</td>\n",
       "      <td>0.734234</td>\n",
       "      <td>None</td>\n",
       "      <td>None</td>\n",
       "      <td>None</td>\n",
       "      <td>2021-11-02 17:45:21</td>\n",
       "      <td>2021-11-02 17:45:21</td>\n",
       "    </tr>\n",
       "    <tr>\n",
       "      <th>17356</th>\n",
       "      <td>968031</td>\n",
       "      <td>中银香港全天候香港股票A7</td>\n",
       "      <td>2021-11-30</td>\n",
       "      <td>1</td>\n",
       "      <td>0.361932</td>\n",
       "      <td>0.570361</td>\n",
       "      <td>0.314190</td>\n",
       "      <td>0.536851</td>\n",
       "      <td>None</td>\n",
       "      <td>None</td>\n",
       "      <td>...</td>\n",
       "      <td>None</td>\n",
       "      <td>0.724996</td>\n",
       "      <td>0.676964</td>\n",
       "      <td>0.639585</td>\n",
       "      <td>0.658742</td>\n",
       "      <td>None</td>\n",
       "      <td>None</td>\n",
       "      <td>None</td>\n",
       "      <td>2021-12-02 18:08:22</td>\n",
       "      <td>2021-12-02 18:08:22</td>\n",
       "    </tr>\n",
       "    <tr>\n",
       "      <th>17357</th>\n",
       "      <td>968031</td>\n",
       "      <td>中银香港全天候香港股票A7</td>\n",
       "      <td>2021-12-31</td>\n",
       "      <td>1</td>\n",
       "      <td>0.415637</td>\n",
       "      <td>0.578059</td>\n",
       "      <td>0.212257</td>\n",
       "      <td>0.473400</td>\n",
       "      <td>0.578059</td>\n",
       "      <td>None</td>\n",
       "      <td>...</td>\n",
       "      <td>None</td>\n",
       "      <td>0.625974</td>\n",
       "      <td>0.631328</td>\n",
       "      <td>0.639701</td>\n",
       "      <td>0.544938</td>\n",
       "      <td>0.631328</td>\n",
       "      <td>None</td>\n",
       "      <td>None</td>\n",
       "      <td>2022-01-03 03:13:06</td>\n",
       "      <td>2022-01-03 03:13:06</td>\n",
       "    </tr>\n",
       "    <tr>\n",
       "      <th>17358</th>\n",
       "      <td>968031</td>\n",
       "      <td>中银香港全天候香港股票A7</td>\n",
       "      <td>2022-01-31</td>\n",
       "      <td>1</td>\n",
       "      <td>None</td>\n",
       "      <td>0.584727</td>\n",
       "      <td>0.378691</td>\n",
       "      <td>0.464364</td>\n",
       "      <td>0.620176</td>\n",
       "      <td>None</td>\n",
       "      <td>...</td>\n",
       "      <td>None</td>\n",
       "      <td>None</td>\n",
       "      <td>0.682700</td>\n",
       "      <td>0.475534</td>\n",
       "      <td>0.736411</td>\n",
       "      <td>0.636842</td>\n",
       "      <td>None</td>\n",
       "      <td>None</td>\n",
       "      <td>2022-02-02 18:58:52</td>\n",
       "      <td>2022-02-02 18:58:52</td>\n",
       "    </tr>\n",
       "    <tr>\n",
       "      <th>17359</th>\n",
       "      <td>968031</td>\n",
       "      <td>中银香港全天候香港股票A7</td>\n",
       "      <td>2022-02-28</td>\n",
       "      <td>1</td>\n",
       "      <td>None</td>\n",
       "      <td>0.589682</td>\n",
       "      <td>0.339015</td>\n",
       "      <td>0.424180</td>\n",
       "      <td>0.626154</td>\n",
       "      <td>None</td>\n",
       "      <td>...</td>\n",
       "      <td>None</td>\n",
       "      <td>None</td>\n",
       "      <td>0.702448</td>\n",
       "      <td>0.171998</td>\n",
       "      <td>0.717666</td>\n",
       "      <td>0.634414</td>\n",
       "      <td>None</td>\n",
       "      <td>None</td>\n",
       "      <td>2022-03-03 02:08:58</td>\n",
       "      <td>2022-03-03 02:08:58</td>\n",
       "    </tr>\n",
       "  </tbody>\n",
       "</table>\n",
       "<p>17360 rows × 62 columns</p>\n",
       "</div>"
      ],
      "text/plain": [
       "      fund_id      fund_name statistic_date  benchmark year_hurst total_hurst  \\\n",
       "0      000008  嘉实中证500ETF联接A     2017-01-31          1   0.615450    0.566823   \n",
       "1      000008  嘉实中证500ETF联接A     2017-02-28          1   0.574555    0.565558   \n",
       "2      000008  嘉实中证500ETF联接A     2017-03-31          1   0.538198    0.566038   \n",
       "3      000008  嘉实中证500ETF联接A     2017-04-30          1   0.575811    0.567219   \n",
       "4      000008  嘉实中证500ETF联接A     2017-05-31          1   0.595949    0.569586   \n",
       "...       ...            ...            ...        ...        ...         ...   \n",
       "17355  968031  中银香港全天候香港股票A7     2021-10-31          1   0.406822    0.557396   \n",
       "17356  968031  中银香港全天候香港股票A7     2021-11-30          1   0.361932    0.570361   \n",
       "17357  968031  中银香港全天候香港股票A7     2021-12-31          1   0.415637    0.578059   \n",
       "17358  968031  中银香港全天候香港股票A7     2022-01-31          1       None    0.584727   \n",
       "17359  968031  中银香港全天候香港股票A7     2022-02-28          1       None    0.589682   \n",
       "\n",
       "       m6_hurst  y1_hurst  y2_hurst  y3_hurst  ... y5_kappa_a year_omega  \\\n",
       "0      0.508478  0.436225  0.564427  0.577154  ...   1.346106   0.569993   \n",
       "1      0.520371  0.499556  0.562788  0.577288  ...   1.441279   0.573788   \n",
       "2      0.539620  0.474289  0.550277  0.576571  ...   1.394552   0.692175   \n",
       "3      0.541371  0.484227  0.541004  0.577288  ...   1.258009   0.633375   \n",
       "4      0.585112  0.509870  0.537458  0.581472  ...   1.013948   0.568243   \n",
       "...         ...       ...       ...       ...  ...        ...        ...   \n",
       "17355  0.465353  0.601568      None      None  ...       None   0.807561   \n",
       "17356  0.314190  0.536851      None      None  ...       None   0.724996   \n",
       "17357  0.212257  0.473400  0.578059      None  ...       None   0.625974   \n",
       "17358  0.378691  0.464364  0.620176      None  ...       None       None   \n",
       "17359  0.339015  0.424180  0.626154      None  ...       None       None   \n",
       "\n",
       "      total_omega  m6_omega  y1_omega  y2_omega  y3_omega  y5_omega  \\\n",
       "0        0.763532  0.732545  0.762367  0.765959  0.741523  0.771073   \n",
       "1        0.758654  0.712248  0.756135  0.750643  0.725432  0.766096   \n",
       "2        0.765432  0.745435  0.780752  0.750707  0.725868  0.772908   \n",
       "3        0.764173  0.699162  0.751805  0.758155  0.727343  0.771586   \n",
       "4        0.761003  0.654853  0.697675  0.708756  0.730113  0.768305   \n",
       "...           ...       ...       ...       ...       ...       ...   \n",
       "17355    0.721042  0.672635  0.734234      None      None      None   \n",
       "17356    0.676964  0.639585  0.658742      None      None      None   \n",
       "17357    0.631328  0.639701  0.544938  0.631328      None      None   \n",
       "17358    0.682700  0.475534  0.736411  0.636842      None      None   \n",
       "17359    0.702448  0.171998  0.717666  0.634414      None      None   \n",
       "\n",
       "               entry_time         update_time  \n",
       "0     2017-10-24 09:18:40 2020-09-27 05:36:58  \n",
       "1     2017-10-24 09:26:13 2020-09-27 05:52:40  \n",
       "2     2017-10-24 09:35:27 2020-09-27 04:54:12  \n",
       "3     2017-10-24 09:45:17 2020-09-27 05:12:10  \n",
       "4     2017-10-24 09:55:27 2020-09-27 05:28:01  \n",
       "...                   ...                 ...  \n",
       "17355 2021-11-02 17:45:21 2021-11-02 17:45:21  \n",
       "17356 2021-12-02 18:08:22 2021-12-02 18:08:22  \n",
       "17357 2022-01-03 03:13:06 2022-01-03 03:13:06  \n",
       "17358 2022-02-02 18:58:52 2022-02-02 18:58:52  \n",
       "17359 2022-03-03 02:08:58 2022-03-03 02:08:58  \n",
       "\n",
       "[17360 rows x 62 columns]"
      ]
     },
     "execution_count": 81,
     "metadata": {},
     "output_type": "execute_result"
    }
   ],
   "source": [
    "fund_monthly_subsidiary_3"
   ]
  },
  {
   "cell_type": "code",
   "execution_count": 157,
   "id": "e059d923",
   "metadata": {},
   "outputs": [],
   "source": [
    "data_frames = [fund_monthly_return,fund_monthly_risk,fund_monthly_risk_2,fund_monthly_subsidiary,fund_monthly_subsidiary_2,fund_monthly_subsidiary_3, manager_monthly_return]"
   ]
  },
  {
   "cell_type": "code",
   "execution_count": 158,
   "id": "87371940",
   "metadata": {},
   "outputs": [],
   "source": [
    "df_merged = reduce(lambda  left,right: pd.merge(left,right,on=['statistic_date','fund_id'],\n",
    "                                            how='outer',suffixes=('', '_drop')), data_frames)\n",
    "df_merged.drop([col for col in df_merged.columns if 'drop' in col], axis=1, inplace=True)"
   ]
  },
  {
   "cell_type": "code",
   "execution_count": 84,
   "id": "809680f9",
   "metadata": {},
   "outputs": [
    {
     "data": {
      "text/html": [
       "<div>\n",
       "<style scoped>\n",
       "    .dataframe tbody tr th:only-of-type {\n",
       "        vertical-align: middle;\n",
       "    }\n",
       "\n",
       "    .dataframe tbody tr th {\n",
       "        vertical-align: top;\n",
       "    }\n",
       "\n",
       "    .dataframe thead th {\n",
       "        text-align: right;\n",
       "    }\n",
       "</style>\n",
       "<table border=\"1\" class=\"dataframe\">\n",
       "  <thead>\n",
       "    <tr style=\"text-align: right;\">\n",
       "      <th></th>\n",
       "      <th>fund_id</th>\n",
       "      <th>fund_name</th>\n",
       "      <th>statistic_date</th>\n",
       "      <th>benchmark</th>\n",
       "      <th>quarter_return</th>\n",
       "      <th>year_return</th>\n",
       "      <th>total_return</th>\n",
       "      <th>m3_return</th>\n",
       "      <th>m6_return</th>\n",
       "      <th>y1_return</th>\n",
       "      <th>...</th>\n",
       "      <th>y5_kappa_a</th>\n",
       "      <th>year_omega</th>\n",
       "      <th>total_omega</th>\n",
       "      <th>m6_omega</th>\n",
       "      <th>y1_omega</th>\n",
       "      <th>y2_omega</th>\n",
       "      <th>y3_omega</th>\n",
       "      <th>y5_omega</th>\n",
       "      <th>weighted_score</th>\n",
       "      <th>star</th>\n",
       "    </tr>\n",
       "  </thead>\n",
       "  <tbody>\n",
       "    <tr>\n",
       "      <th>0</th>\n",
       "      <td>000008</td>\n",
       "      <td>嘉实中证500ETF联接A</td>\n",
       "      <td>2017-01-31</td>\n",
       "      <td>1.0</td>\n",
       "      <td>-0.004176</td>\n",
       "      <td>-0.004176</td>\n",
       "      <td>0.706825</td>\n",
       "      <td>-0.027570</td>\n",
       "      <td>0.015780</td>\n",
       "      <td>0.150058</td>\n",
       "      <td>...</td>\n",
       "      <td>1.346106</td>\n",
       "      <td>0.569993</td>\n",
       "      <td>0.763532</td>\n",
       "      <td>0.732545</td>\n",
       "      <td>0.762367</td>\n",
       "      <td>0.765959</td>\n",
       "      <td>0.741523</td>\n",
       "      <td>0.771073</td>\n",
       "      <td>56.403967</td>\n",
       "      <td>3.5</td>\n",
       "    </tr>\n",
       "    <tr>\n",
       "      <th>1</th>\n",
       "      <td>000008</td>\n",
       "      <td>嘉实中证500ETF联接A</td>\n",
       "      <td>2017-02-28</td>\n",
       "      <td>1.0</td>\n",
       "      <td>0.031469</td>\n",
       "      <td>0.031469</td>\n",
       "      <td>0.767920</td>\n",
       "      <td>-0.013224</td>\n",
       "      <td>0.013290</td>\n",
       "      <td>0.216679</td>\n",
       "      <td>...</td>\n",
       "      <td>1.441279</td>\n",
       "      <td>0.573788</td>\n",
       "      <td>0.758654</td>\n",
       "      <td>0.712248</td>\n",
       "      <td>0.756135</td>\n",
       "      <td>0.750643</td>\n",
       "      <td>0.725432</td>\n",
       "      <td>0.766096</td>\n",
       "      <td>40.437047</td>\n",
       "      <td>2.5</td>\n",
       "    </tr>\n",
       "    <tr>\n",
       "      <th>2</th>\n",
       "      <td>000008</td>\n",
       "      <td>嘉实中证500ETF联接A</td>\n",
       "      <td>2017-03-31</td>\n",
       "      <td>1.0</td>\n",
       "      <td>0.027587</td>\n",
       "      <td>0.027587</td>\n",
       "      <td>0.761266</td>\n",
       "      <td>0.027587</td>\n",
       "      <td>0.022894</td>\n",
       "      <td>0.062458</td>\n",
       "      <td>...</td>\n",
       "      <td>1.394552</td>\n",
       "      <td>0.692175</td>\n",
       "      <td>0.765432</td>\n",
       "      <td>0.745435</td>\n",
       "      <td>0.780752</td>\n",
       "      <td>0.750707</td>\n",
       "      <td>0.725868</td>\n",
       "      <td>0.772908</td>\n",
       "      <td>50.991497</td>\n",
       "      <td>3.0</td>\n",
       "    </tr>\n",
       "    <tr>\n",
       "      <th>3</th>\n",
       "      <td>000008</td>\n",
       "      <td>嘉实中证500ETF联接A</td>\n",
       "      <td>2017-04-30</td>\n",
       "      <td>1.0</td>\n",
       "      <td>-0.028563</td>\n",
       "      <td>-0.001765</td>\n",
       "      <td>0.710959</td>\n",
       "      <td>0.002422</td>\n",
       "      <td>-0.025215</td>\n",
       "      <td>0.061616</td>\n",
       "      <td>...</td>\n",
       "      <td>1.258009</td>\n",
       "      <td>0.633375</td>\n",
       "      <td>0.764173</td>\n",
       "      <td>0.699162</td>\n",
       "      <td>0.751805</td>\n",
       "      <td>0.758155</td>\n",
       "      <td>0.727343</td>\n",
       "      <td>0.771586</td>\n",
       "      <td>51.104899</td>\n",
       "      <td>3.0</td>\n",
       "    </tr>\n",
       "    <tr>\n",
       "      <th>4</th>\n",
       "      <td>000008</td>\n",
       "      <td>嘉实中证500ETF联接A</td>\n",
       "      <td>2017-05-31</td>\n",
       "      <td>1.0</td>\n",
       "      <td>-0.084259</td>\n",
       "      <td>-0.058997</td>\n",
       "      <td>0.612864</td>\n",
       "      <td>-0.087705</td>\n",
       "      <td>-0.099769</td>\n",
       "      <td>0.003198</td>\n",
       "      <td>...</td>\n",
       "      <td>1.013948</td>\n",
       "      <td>0.568243</td>\n",
       "      <td>0.761003</td>\n",
       "      <td>0.654853</td>\n",
       "      <td>0.697675</td>\n",
       "      <td>0.708756</td>\n",
       "      <td>0.730113</td>\n",
       "      <td>0.768305</td>\n",
       "      <td>49.631864</td>\n",
       "      <td>3.0</td>\n",
       "    </tr>\n",
       "    <tr>\n",
       "      <th>...</th>\n",
       "      <td>...</td>\n",
       "      <td>...</td>\n",
       "      <td>...</td>\n",
       "      <td>...</td>\n",
       "      <td>...</td>\n",
       "      <td>...</td>\n",
       "      <td>...</td>\n",
       "      <td>...</td>\n",
       "      <td>...</td>\n",
       "      <td>...</td>\n",
       "      <td>...</td>\n",
       "      <td>...</td>\n",
       "      <td>...</td>\n",
       "      <td>...</td>\n",
       "      <td>...</td>\n",
       "      <td>...</td>\n",
       "      <td>...</td>\n",
       "      <td>...</td>\n",
       "      <td>...</td>\n",
       "      <td>...</td>\n",
       "      <td>...</td>\n",
       "    </tr>\n",
       "    <tr>\n",
       "      <th>26014</th>\n",
       "      <td>690008</td>\n",
       "      <td>NaN</td>\n",
       "      <td>2020-07-31</td>\n",
       "      <td>NaN</td>\n",
       "      <td>NaN</td>\n",
       "      <td>NaN</td>\n",
       "      <td>NaN</td>\n",
       "      <td>NaN</td>\n",
       "      <td>NaN</td>\n",
       "      <td>NaN</td>\n",
       "      <td>...</td>\n",
       "      <td>NaN</td>\n",
       "      <td>NaN</td>\n",
       "      <td>NaN</td>\n",
       "      <td>NaN</td>\n",
       "      <td>NaN</td>\n",
       "      <td>NaN</td>\n",
       "      <td>NaN</td>\n",
       "      <td>NaN</td>\n",
       "      <td>14.312003</td>\n",
       "      <td>1.5</td>\n",
       "    </tr>\n",
       "    <tr>\n",
       "      <th>26015</th>\n",
       "      <td>690008</td>\n",
       "      <td>NaN</td>\n",
       "      <td>2020-08-31</td>\n",
       "      <td>NaN</td>\n",
       "      <td>NaN</td>\n",
       "      <td>NaN</td>\n",
       "      <td>NaN</td>\n",
       "      <td>NaN</td>\n",
       "      <td>NaN</td>\n",
       "      <td>NaN</td>\n",
       "      <td>...</td>\n",
       "      <td>NaN</td>\n",
       "      <td>NaN</td>\n",
       "      <td>NaN</td>\n",
       "      <td>NaN</td>\n",
       "      <td>NaN</td>\n",
       "      <td>NaN</td>\n",
       "      <td>NaN</td>\n",
       "      <td>NaN</td>\n",
       "      <td>15.350416</td>\n",
       "      <td>1.5</td>\n",
       "    </tr>\n",
       "    <tr>\n",
       "      <th>26016</th>\n",
       "      <td>690008</td>\n",
       "      <td>NaN</td>\n",
       "      <td>2020-10-31</td>\n",
       "      <td>NaN</td>\n",
       "      <td>NaN</td>\n",
       "      <td>NaN</td>\n",
       "      <td>NaN</td>\n",
       "      <td>NaN</td>\n",
       "      <td>NaN</td>\n",
       "      <td>NaN</td>\n",
       "      <td>...</td>\n",
       "      <td>NaN</td>\n",
       "      <td>NaN</td>\n",
       "      <td>NaN</td>\n",
       "      <td>NaN</td>\n",
       "      <td>NaN</td>\n",
       "      <td>NaN</td>\n",
       "      <td>NaN</td>\n",
       "      <td>NaN</td>\n",
       "      <td>26.996690</td>\n",
       "      <td>2.5</td>\n",
       "    </tr>\n",
       "    <tr>\n",
       "      <th>26017</th>\n",
       "      <td>690008</td>\n",
       "      <td>NaN</td>\n",
       "      <td>2020-12-31</td>\n",
       "      <td>NaN</td>\n",
       "      <td>NaN</td>\n",
       "      <td>NaN</td>\n",
       "      <td>NaN</td>\n",
       "      <td>NaN</td>\n",
       "      <td>NaN</td>\n",
       "      <td>NaN</td>\n",
       "      <td>...</td>\n",
       "      <td>NaN</td>\n",
       "      <td>NaN</td>\n",
       "      <td>NaN</td>\n",
       "      <td>NaN</td>\n",
       "      <td>NaN</td>\n",
       "      <td>NaN</td>\n",
       "      <td>NaN</td>\n",
       "      <td>NaN</td>\n",
       "      <td>35.581466</td>\n",
       "      <td>2.5</td>\n",
       "    </tr>\n",
       "    <tr>\n",
       "      <th>26018</th>\n",
       "      <td>690008</td>\n",
       "      <td>NaN</td>\n",
       "      <td>2021-01-31</td>\n",
       "      <td>NaN</td>\n",
       "      <td>NaN</td>\n",
       "      <td>NaN</td>\n",
       "      <td>NaN</td>\n",
       "      <td>NaN</td>\n",
       "      <td>NaN</td>\n",
       "      <td>NaN</td>\n",
       "      <td>...</td>\n",
       "      <td>NaN</td>\n",
       "      <td>NaN</td>\n",
       "      <td>NaN</td>\n",
       "      <td>NaN</td>\n",
       "      <td>NaN</td>\n",
       "      <td>NaN</td>\n",
       "      <td>NaN</td>\n",
       "      <td>NaN</td>\n",
       "      <td>35.549059</td>\n",
       "      <td>2.5</td>\n",
       "    </tr>\n",
       "  </tbody>\n",
       "</table>\n",
       "<p>26019 rows × 434 columns</p>\n",
       "</div>"
      ],
      "text/plain": [
       "      fund_id      fund_name statistic_date  benchmark quarter_return  \\\n",
       "0      000008  嘉实中证500ETF联接A     2017-01-31        1.0      -0.004176   \n",
       "1      000008  嘉实中证500ETF联接A     2017-02-28        1.0       0.031469   \n",
       "2      000008  嘉实中证500ETF联接A     2017-03-31        1.0       0.027587   \n",
       "3      000008  嘉实中证500ETF联接A     2017-04-30        1.0      -0.028563   \n",
       "4      000008  嘉实中证500ETF联接A     2017-05-31        1.0      -0.084259   \n",
       "...       ...            ...            ...        ...            ...   \n",
       "26014  690008            NaN     2020-07-31        NaN            NaN   \n",
       "26015  690008            NaN     2020-08-31        NaN            NaN   \n",
       "26016  690008            NaN     2020-10-31        NaN            NaN   \n",
       "26017  690008            NaN     2020-12-31        NaN            NaN   \n",
       "26018  690008            NaN     2021-01-31        NaN            NaN   \n",
       "\n",
       "      year_return total_return  m3_return  m6_return y1_return  ...  \\\n",
       "0       -0.004176     0.706825  -0.027570   0.015780  0.150058  ...   \n",
       "1        0.031469     0.767920  -0.013224   0.013290  0.216679  ...   \n",
       "2        0.027587     0.761266   0.027587   0.022894  0.062458  ...   \n",
       "3       -0.001765     0.710959   0.002422  -0.025215  0.061616  ...   \n",
       "4       -0.058997     0.612864  -0.087705  -0.099769  0.003198  ...   \n",
       "...           ...          ...        ...        ...       ...  ...   \n",
       "26014         NaN          NaN        NaN        NaN       NaN  ...   \n",
       "26015         NaN          NaN        NaN        NaN       NaN  ...   \n",
       "26016         NaN          NaN        NaN        NaN       NaN  ...   \n",
       "26017         NaN          NaN        NaN        NaN       NaN  ...   \n",
       "26018         NaN          NaN        NaN        NaN       NaN  ...   \n",
       "\n",
       "      y5_kappa_a year_omega total_omega  m6_omega  y1_omega  y2_omega  \\\n",
       "0       1.346106   0.569993    0.763532  0.732545  0.762367  0.765959   \n",
       "1       1.441279   0.573788    0.758654  0.712248  0.756135  0.750643   \n",
       "2       1.394552   0.692175    0.765432  0.745435  0.780752  0.750707   \n",
       "3       1.258009   0.633375    0.764173  0.699162  0.751805  0.758155   \n",
       "4       1.013948   0.568243    0.761003  0.654853  0.697675  0.708756   \n",
       "...          ...        ...         ...       ...       ...       ...   \n",
       "26014        NaN        NaN         NaN       NaN       NaN       NaN   \n",
       "26015        NaN        NaN         NaN       NaN       NaN       NaN   \n",
       "26016        NaN        NaN         NaN       NaN       NaN       NaN   \n",
       "26017        NaN        NaN         NaN       NaN       NaN       NaN   \n",
       "26018        NaN        NaN         NaN       NaN       NaN       NaN   \n",
       "\n",
       "       y3_omega  y5_omega weighted_score star  \n",
       "0      0.741523  0.771073      56.403967  3.5  \n",
       "1      0.725432  0.766096      40.437047  2.5  \n",
       "2      0.725868  0.772908      50.991497  3.0  \n",
       "3      0.727343  0.771586      51.104899  3.0  \n",
       "4      0.730113  0.768305      49.631864  3.0  \n",
       "...         ...       ...            ...  ...  \n",
       "26014       NaN       NaN      14.312003  1.5  \n",
       "26015       NaN       NaN      15.350416  1.5  \n",
       "26016       NaN       NaN      26.996690  2.5  \n",
       "26017       NaN       NaN      35.581466  2.5  \n",
       "26018       NaN       NaN      35.549059  2.5  \n",
       "\n",
       "[26019 rows x 434 columns]"
      ]
     },
     "execution_count": 84,
     "metadata": {},
     "output_type": "execute_result"
    }
   ],
   "source": [
    "df_merged"
   ]
  },
  {
   "cell_type": "code",
   "execution_count": 159,
   "id": "070fea13",
   "metadata": {},
   "outputs": [],
   "source": [
    "df_merged = df_merged.fillna(value=np.nan)"
   ]
  },
  {
   "cell_type": "code",
   "execution_count": 160,
   "id": "bfc0ea38",
   "metadata": {},
   "outputs": [],
   "source": [
    "df_merged = df_merged.loc[df_merged['fund_id'].isin(fund_scale_selected.fund_id)]"
   ]
  },
  {
   "cell_type": "code",
   "execution_count": 161,
   "id": "1c5f2dc2",
   "metadata": {},
   "outputs": [
    {
     "data": {
      "text/plain": [
       "429"
      ]
     },
     "execution_count": 161,
     "metadata": {},
     "output_type": "execute_result"
    }
   ],
   "source": [
    "len(df_merged.columns) - 5"
   ]
  },
  {
   "cell_type": "markdown",
   "id": "30c3cf7f",
   "metadata": {},
   "source": [
    "##### Total number of funds satisfying the requirement"
   ]
  },
  {
   "cell_type": "code",
   "execution_count": 170,
   "id": "ca3781eb",
   "metadata": {},
   "outputs": [
    {
     "data": {
      "text/plain": [
       "498"
      ]
     },
     "execution_count": 170,
     "metadata": {},
     "output_type": "execute_result"
    }
   ],
   "source": [
    "df_merged.statistic_date = pd.to_datetime(df_merged.statistic_date)\n",
    "len(set(df_merged.fund_id))"
   ]
  },
  {
   "cell_type": "markdown",
   "id": "af512452",
   "metadata": {},
   "source": [
    "##### Fetch Fund returns, with Net Asset Value accounting for dividend payment and compute monthly data"
   ]
  },
  {
   "cell_type": "code",
   "execution_count": 171,
   "id": "9527b054",
   "metadata": {},
   "outputs": [],
   "source": [
    "return_query = (\"select fund_id, statistic_date,added_nav from fund_nv \"\n",
    "\"where fund_id = '{fund_id}' \"\n",
    "\"and statistic_date > '2017-01-01'\")\n"
   ]
  },
  {
   "cell_type": "code",
   "execution_count": 172,
   "id": "8555c1ff",
   "metadata": {},
   "outputs": [],
   "source": [
    "def get_returns(fund_id):\n",
    "    df = s.fetch(return_query.format(fund_id = fund_id))\n",
    "    df['statistic_date'] = pd.to_datetime(df['statistic_date'])\n",
    "    df = df.set_index('statistic_date')\n",
    "    df = df.resample('M').last()\n",
    "    return df"
   ]
  },
  {
   "cell_type": "code",
   "execution_count": 173,
   "id": "dd7b6da7",
   "metadata": {},
   "outputs": [],
   "source": [
    "fund_ids = list(set(df_merged.fund_id))"
   ]
  },
  {
   "cell_type": "code",
   "execution_count": 175,
   "id": "b6b8ec30",
   "metadata": {},
   "outputs": [
    {
     "data": {
      "application/vnd.jupyter.widget-view+json": {
       "model_id": "73a8f033906f4ef7a791bcd9df9d9e76",
       "version_major": 2,
       "version_minor": 0
      },
      "text/plain": [
       "  0%|          | 0/498 [00:00<?, ?it/s]"
      ]
     },
     "metadata": {},
     "output_type": "display_data"
    },
    {
     "name": "stdout",
     "output_type": "stream",
     "text": [
      "MySQL Connection not available.\n",
      "Retrying Connection...\n",
      "Connection Success\n"
     ]
    }
   ],
   "source": [
    "frames = [get_returns(id)['added_nav'] for id in tqdm(fund_ids)]"
   ]
  },
  {
   "cell_type": "code",
   "execution_count": 176,
   "id": "77871aac",
   "metadata": {},
   "outputs": [],
   "source": [
    "df_ret = pd.concat(frames,axis=1)\n",
    "df_ret.columns = fund_ids"
   ]
  },
  {
   "cell_type": "code",
   "execution_count": 177,
   "id": "a2ac4c1f",
   "metadata": {},
   "outputs": [],
   "source": [
    "for col in df_ret.columns:\n",
    "    df_ret[col] = pd.to_numeric(df_ret[col])\n",
    "df_ret_1m = df_ret.pct_change().shift(-1)\n",
    "df_ret_2m = df_ret.pct_change(2).shift(-2)\n",
    "df_ret_3m = df_ret.pct_change(3).shift(-3)"
   ]
  },
  {
   "cell_type": "code",
   "execution_count": 178,
   "id": "71541299",
   "metadata": {},
   "outputs": [],
   "source": [
    "df_merged['ret'] = df_merged.apply(lambda x: df_ret_1m.loc[x.statistic_date,x.fund_id],axis=1)\n",
    "df_merged['ret_2m'] = df_merged.apply(lambda x: df_ret_2m.loc[x.statistic_date,x.fund_id],axis=1)\n",
    "df_merged['ret_3m'] = df_merged.apply(lambda x: df_ret_3m.loc[x.statistic_date,x.fund_id],axis=1)"
   ]
  },
  {
   "cell_type": "markdown",
   "id": "d2479260",
   "metadata": {},
   "source": [
    "#### Fundamental Features"
   ]
  },
  {
   "cell_type": "markdown",
   "id": "2f105767",
   "metadata": {},
   "source": [
    "#####  Fund Asset:  fund total asset data"
   ]
  },
  {
   "cell_type": "code",
   "execution_count": 179,
   "id": "3589e1ee",
   "metadata": {},
   "outputs": [],
   "source": [
    "asset_query = (\"SELECT fund_id,statistic_date,total_assets\"\n",
    "\" FROM fund_balance\")"
   ]
  },
  {
   "cell_type": "code",
   "execution_count": 180,
   "id": "263ff17e",
   "metadata": {},
   "outputs": [],
   "source": [
    "total_assets = s.fetch(asset_query)"
   ]
  },
  {
   "cell_type": "code",
   "execution_count": 181,
   "id": "4c5bcc88",
   "metadata": {},
   "outputs": [],
   "source": [
    "total_assets['statistic_date'] = pd.to_datetime(total_assets['statistic_date'] )\n",
    "total_assets['total_assets'] = pd.to_numeric(total_assets['total_assets'])\n",
    "total_assets_pivoted = pd.pivot_table(data=total_assets,index=['statistic_date'],columns= ['fund_id'],values=['total_assets'])"
   ]
  },
  {
   "cell_type": "code",
   "execution_count": 182,
   "id": "ebefc769",
   "metadata": {},
   "outputs": [],
   "source": [
    "total_assets_pivoted = total_assets_pivoted.reindex(df_ret.index).ffill()"
   ]
  },
  {
   "cell_type": "code",
   "execution_count": 183,
   "id": "605983a9",
   "metadata": {},
   "outputs": [],
   "source": [
    "df_merged['asset'] = df_merged.apply(lambda x: total_assets_pivoted.loc[x.statistic_date,('total_assets',x.fund_id)],axis=1)"
   ]
  },
  {
   "cell_type": "markdown",
   "id": "34dc144e",
   "metadata": {},
   "source": [
    "#####  Flow Data \n",
    "Flow = Purchase Amount - Redemption Amount\n"
   ]
  },
  {
   "cell_type": "code",
   "execution_count": 184,
   "id": "89fbe507",
   "metadata": {},
   "outputs": [],
   "source": [
    "scale_query = (\"SELECT fund_id,statistic_date,purchase_amount, redemption_amount \"\n",
    "\" FROM fund_asset_scale\")"
   ]
  },
  {
   "cell_type": "code",
   "execution_count": 185,
   "id": "61d604b2",
   "metadata": {},
   "outputs": [],
   "source": [
    "flow = s.fetch(scale_query)"
   ]
  },
  {
   "cell_type": "code",
   "execution_count": 186,
   "id": "cc1ed1cd",
   "metadata": {},
   "outputs": [],
   "source": [
    "flow['statistic_date'] = pd.to_datetime(flow['statistic_date'] )\n",
    "flow['purchase_amount'] = pd.to_numeric(flow['purchase_amount'])\n",
    "flow['redemption_amount'] = pd.to_numeric(flow['redemption_amount'])\n",
    "flow['flow'] = flow['purchase_amount'] - flow['redemption_amount']\n"
   ]
  },
  {
   "cell_type": "code",
   "execution_count": 187,
   "id": "6a07bf9d",
   "metadata": {},
   "outputs": [],
   "source": [
    "flow_pivoted = pd.pivot_table(data=flow,index=['statistic_date'],columns= ['fund_id'],values=['flow'])"
   ]
  },
  {
   "cell_type": "code",
   "execution_count": 188,
   "id": "a96edb22",
   "metadata": {},
   "outputs": [],
   "source": [
    "flow_pivoted = flow_pivoted.reindex(df_ret.index).ffill()"
   ]
  },
  {
   "cell_type": "code",
   "execution_count": 189,
   "id": "6b6b5a2f",
   "metadata": {},
   "outputs": [],
   "source": [
    "df_merged['flow'] = df_merged.apply(lambda x: flow_pivoted.loc[x.statistic_date,('flow',x.fund_id)] if x.fund_id in flow_pivoted.flow.columns else 0,axis=1)"
   ]
  },
  {
   "cell_type": "markdown",
   "id": "83380972",
   "metadata": {},
   "source": [
    "##### Fund Fee \n",
    "Fund management fee"
   ]
  },
  {
   "cell_type": "code",
   "execution_count": 190,
   "id": "0c0219f2",
   "metadata": {},
   "outputs": [],
   "source": [
    "fee_query = (\"select fund_id, fee, min(tmstamp) from fund_fee_data \"\n",
    "\"where limit_name ='管理费' \"\n",
    "\"and fund_id in ( \"\n",
    "\"select fund_id from fund_info where foundation_date < '2020-01-01' and is_main_fund = 1 \"\n",
    "\"and fund_type = '股票型基金') \"\n",
    "\"group by fund_id\")"
   ]
  },
  {
   "cell_type": "code",
   "execution_count": 191,
   "id": "2396d063",
   "metadata": {},
   "outputs": [
    {
     "data": {
      "text/plain": [
       "\"select fund_id, fee, min(tmstamp) from fund_fee_data where limit_name ='管理费' and fund_id in ( select fund_id from fund_info where foundation_date < '2020-01-01' and is_main_fund = 1 and fund_type = '股票型基金') group by fund_id\""
      ]
     },
     "execution_count": 191,
     "metadata": {},
     "output_type": "execute_result"
    }
   ],
   "source": [
    "fee_query"
   ]
  },
  {
   "cell_type": "code",
   "execution_count": 192,
   "id": "71ed126f",
   "metadata": {},
   "outputs": [],
   "source": [
    "fee =  s.fetch(fee_query).set_index('fund_id')"
   ]
  },
  {
   "cell_type": "code",
   "execution_count": 193,
   "id": "9f0175cd",
   "metadata": {},
   "outputs": [],
   "source": [
    "df_merged['fee'] = df_merged.apply(lambda x: fee.loc[x.fund_id]['fee'],axis=1)"
   ]
  },
  {
   "cell_type": "markdown",
   "id": "97e9f6e1",
   "metadata": {},
   "source": [
    "##### Operational Features "
   ]
  },
  {
   "cell_type": "code",
   "execution_count": 194,
   "id": "e3a4e968",
   "metadata": {},
   "outputs": [],
   "source": [
    "operations_query = (\"SELECT *\"\n",
    "\" FROM fund_balance\")"
   ]
  },
  {
   "cell_type": "code",
   "execution_count": 195,
   "id": "0eabf673",
   "metadata": {},
   "outputs": [],
   "source": [
    "operations= s.fetch(operations_query)"
   ]
  },
  {
   "cell_type": "code",
   "execution_count": 196,
   "id": "1fb322f1",
   "metadata": {},
   "outputs": [],
   "source": [
    "operations.statistic_date = pd.to_datetime(operations.statistic_date)"
   ]
  },
  {
   "cell_type": "code",
   "execution_count": 197,
   "id": "ffe45f60",
   "metadata": {},
   "outputs": [],
   "source": [
    "exempt = ['fund_id', 'fund_name', 'statistic_date', 'data_source', 'entry_time','update_time']"
   ]
  },
  {
   "cell_type": "code",
   "execution_count": 198,
   "id": "bf4c182a",
   "metadata": {},
   "outputs": [
    {
     "name": "stdout",
     "output_type": "stream",
     "text": [
      "Process  bank_deposit\n",
      "Process  provision_settlement_fund\n",
      "Process  refundable_deposits\n",
      "Process  transaction_monetary_assets\n",
      "Process  stock_income\n",
      "Process  bonds_income\n",
      "Process  abs_income\n",
      "Process  derivatives_income\n",
      "Process  buying_back_income\n",
      "Process  securities_settlement_receivable\n",
      "Process  interest_revenue\n",
      "Process  dividend_income\n",
      "Process  subscription_receivable\n",
      "Process  other_assets\n",
      "Process  total_assets\n",
      "Process  short_term_loan\n",
      "Process  transaction_financial_liabilities\n",
      "Process  derivative_financial_liabilities\n",
      "Process  sold_repurchase_payment\n",
      "Process  securities_settlement_payable\n",
      "Process  redemption_payable\n",
      "Process  org_compensation_payable\n",
      "Process  trustee_payable\n",
      "Process  sales_service_payable\n",
      "Process  transaction_payable\n",
      "Process  tax_payable\n",
      "Process  interest_payable\n",
      "Process  profit_payable\n",
      "Process  other_liabilities\n",
      "Process  total_liabilities\n",
      "Process  paid_up_capital\n",
      "Process  undistributed_profit\n",
      "Process  owner_equity\n",
      "Process  total_liabilities_and_owners_equity\n"
     ]
    }
   ],
   "source": [
    "for col in operations.columns:\n",
    "    if col not in exempt:\n",
    "        print('Process ',col)\n",
    "        df_pivoted = pd.pivot_table(data=operations,index=['statistic_date'],columns= ['fund_id'],values=[col])\n",
    "        df_pivoted = df_pivoted.reindex(df_ret.index).ffill()\n",
    "        df_merged[col] = df_merged.apply(lambda x: df_pivoted.loc[x.statistic_date,(col,x.fund_id)] if x.fund_id in df_pivoted[col].columns else np.nan,axis=1)"
   ]
  },
  {
   "cell_type": "markdown",
   "id": "8330861c",
   "metadata": {},
   "source": [
    "#####  Feature Processing\n",
    "\n",
    "Get rid of features that have over 10 pecent missing values"
   ]
  },
  {
   "cell_type": "code",
   "execution_count": 199,
   "id": "c799290e",
   "metadata": {},
   "outputs": [],
   "source": [
    "fundamental_features_cols = [x for x in operations.columns if x not in exempt]\n",
    "performance_features_cols = [x for x in df_merged.columns if (x not in fundamental_features_cols and x not in exempt) ]"
   ]
  },
  {
   "cell_type": "code",
   "execution_count": 200,
   "id": "e7f10e93",
   "metadata": {},
   "outputs": [
    {
     "data": {
      "text/plain": [
       "34"
      ]
     },
     "execution_count": 200,
     "metadata": {},
     "output_type": "execute_result"
    }
   ],
   "source": [
    "len(fundamental_features_cols)"
   ]
  },
  {
   "cell_type": "code",
   "execution_count": null,
   "id": "824569d1",
   "metadata": {},
   "outputs": [],
   "source": [
    "all_data_na = (df_merged[performance_features_cols].isnull().sum() / len(df_merged[performance_features_cols])) * 100\n",
    "all_data_na = all_data_na.drop(all_data_na[all_data_na == 0].index).sort_values(ascending=False)\n",
    "#all_data_na = all_data_na.sort_values(ascending=False)\n",
    "missing_data = pd.DataFrame({'Missing Ratio' :all_data_na})\n",
    "missing_data.head()\n",
    "if missing_data.size> 0:\n",
    "    f, ax = plt.subplots(figsize=(30, 10))\n",
    "    plt.xticks(rotation='90')\n",
    "    sns.barplot(x=all_data_na.index, y=all_data_na)\n",
    "    plt.xlabel('Features', fontsize=5)\n",
    "    plt.ylabel('Percent of missing values', fontsize=15)\n",
    "    plt.title('Percent missing data by feature', fontsize=15)\n",
    "    plt.show()"
   ]
  },
  {
   "cell_type": "code",
   "execution_count": null,
   "id": "a033383d",
   "metadata": {},
   "outputs": [],
   "source": [
    "performance_features = missing_data[missing_data < 16 ].dropna()\n",
    "print('# of performance features ',len(performance_features))"
   ]
  },
  {
   "cell_type": "code",
   "execution_count": null,
   "id": "fe35eab3",
   "metadata": {
    "scrolled": false
   },
   "outputs": [],
   "source": [
    "all_data_na = (df_merged[fundamental_features_cols].isnull().sum() / len(df_merged[fundamental_features_cols])) * 100\n",
    "all_data_na = all_data_na.drop(all_data_na[all_data_na == 0].index).sort_values(ascending=False)\n",
    "#all_data_na = all_data_na.sort_values(ascending=False)\n",
    "missing_data = pd.DataFrame({'Missing Ratio' :all_data_na})\n",
    "missing_data.head()\n",
    "if missing_data.size> 0:\n",
    "    f, ax = plt.subplots(figsize=(30, 10))\n",
    "    plt.xticks(rotation='90')\n",
    "    sns.barplot(x=all_data_na.index, y=all_data_na)\n",
    "    plt.xlabel('Features', fontsize=5)\n",
    "    plt.ylabel('Percent of missing values', fontsize=15)\n",
    "    plt.title('Percent missing data by feature', fontsize=15)\n",
    "    plt.show()"
   ]
  },
  {
   "cell_type": "code",
   "execution_count": null,
   "id": "4d133915",
   "metadata": {},
   "outputs": [],
   "source": [
    "fundamental_features = missing_data[missing_data < 16 ].dropna()\n",
    "print('# of fundamental features ',len(fundamental_features))"
   ]
  },
  {
   "cell_type": "code",
   "execution_count": 223,
   "id": "b2a02085",
   "metadata": {},
   "outputs": [],
   "source": [
    "features = ['ret'] + ['fee'] + list(fundamental_features.index) + list(performance_features.index)"
   ]
  },
  {
   "cell_type": "code",
   "execution_count": 224,
   "id": "dd39c143",
   "metadata": {},
   "outputs": [],
   "source": [
    "data = df_merged[['statistic_date','fund_id']  + features ]"
   ]
  },
  {
   "cell_type": "code",
   "execution_count": 225,
   "id": "e55f2e7a",
   "metadata": {},
   "outputs": [],
   "source": [
    "data.to_pickle('data_new_1.pickle')"
   ]
  },
  {
   "cell_type": "markdown",
   "id": "e6bf9c37",
   "metadata": {},
   "source": [
    "##### This results in a total of 234 features"
   ]
  },
  {
   "cell_type": "code",
   "execution_count": 208,
   "id": "2577b3ad",
   "metadata": {},
   "outputs": [
    {
     "data": {
      "text/plain": [
       "234"
      ]
     },
     "execution_count": 208,
     "metadata": {},
     "output_type": "execute_result"
    }
   ],
   "source": [
    "len(data.columns)"
   ]
  },
  {
   "cell_type": "code",
   "execution_count": 209,
   "id": "448c97fe",
   "metadata": {},
   "outputs": [
    {
     "data": {
      "text/plain": [
       "Index(['statistic_date', 'fund_id', 'ret', 'fee',\n",
       "       'securities_settlement_receivable', 'subscription_receivable',\n",
       "       'redemption_payable', 'provision_settlement_fund', 'stock_income',\n",
       "       'total_assets',\n",
       "       ...\n",
       "       'total_kurtosis', 'total_stdev', 'total_con_fall_days',\n",
       "       'total_con_rise_days', 'quarter_return', 'total_n_earning_days',\n",
       "       'total_odds', 'total_p_earning_days', 'total_max_drawdown',\n",
       "       'total_return'],\n",
       "      dtype='object', length=234)"
      ]
     },
     "execution_count": 209,
     "metadata": {},
     "output_type": "execute_result"
    }
   ],
   "source": [
    "data.m3_"
   ]
  },
  {
   "cell_type": "markdown",
   "id": "2ae14d34",
   "metadata": {},
   "source": [
    "### EDA Analysis "
   ]
  },
  {
   "cell_type": "markdown",
   "id": "60efd2fb",
   "metadata": {},
   "source": [
    "##### Correlation Plot (10 most correlated features)"
   ]
  },
  {
   "cell_type": "code",
   "execution_count": 263,
   "id": "e97747da",
   "metadata": {},
   "outputs": [],
   "source": [
    "corrmat = data.corr()"
   ]
  },
  {
   "cell_type": "code",
   "execution_count": 264,
   "id": "f125842a",
   "metadata": {},
   "outputs": [
    {
     "data": {
      "text/plain": [
       "Text(0.5, 1.0, '1-Month return distrbution')"
      ]
     },
     "execution_count": 264,
     "metadata": {},
     "output_type": "execute_result"
    },
    {
     "data": {
      "image/png": "[encoded data removed]",
      "text/plain": [
       "<Figure size 360x360 with 1 Axes>"
      ]
     },
     "metadata": {},
     "output_type": "display_data"
    }
   ],
   "source": [
    "sns.displot(data.ret)\n",
    "plt.title('1-Month return distrbution')\n"
   ]
  },
  {
   "cell_type": "code",
   "execution_count": 265,
   "id": "a11a848d",
   "metadata": {},
   "outputs": [
    {
     "data": {
      "image/png": "[encoded data removed]",
      "text/plain": [
       "<Figure size 864x648 with 2 Axes>"
      ]
     },
     "metadata": {},
     "output_type": "display_data"
    }
   ],
   "source": [
    "corrmat = data.corr(method='spearman')\n",
    "f, ax = plt.subplots(figsize=(12, 9))\n",
    "k = 15 #number of variables for heatmap\n",
    "cols = corrmat.nlargest(k, 'ret')['ret'].index\n",
    "cm = df_merged[cols].corr()\n",
    "sns.set(font_scale=1.25)\n",
    "sns.heatmap(cm, cbar=True, annot=True, square=True, fmt='.2f', annot_kws={'size': 10}, yticklabels=cols.values, xticklabels=cols.values)\n",
    "plt.show()"
   ]
  },
  {
   "cell_type": "code",
   "execution_count": null,
   "id": "8f9e0511",
   "metadata": {},
   "outputs": [],
   "source": [
    "from pandas_profiling import ProfileReport"
   ]
  },
  {
   "cell_type": "code",
   "execution_count": null,
   "id": "27fcf67a",
   "metadata": {},
   "outputs": [],
   "source": [
    "design_report = ProfileReport(df_merged_filtered[cols],explorative = True)"
   ]
  },
  {
   "cell_type": "code",
   "execution_count": null,
   "id": "9d597cf7",
   "metadata": {},
   "outputs": [],
   "source": [
    "design_report.to_file('report.html')"
   ]
  },
  {
   "cell_type": "markdown",
   "id": "d1d99da8",
   "metadata": {},
   "source": [
    "#### Feature Normalization"
   ]
  },
  {
   "cell_type": "code",
   "execution_count": 234,
   "id": "93c1d3bd",
   "metadata": {},
   "outputs": [
    {
     "name": "stderr",
     "output_type": "stream",
     "text": [
      "*c* argument looks like a single numeric RGB or RGBA sequence, which should be avoided as value-mapping will have precedence in case its length matches with *x* & *y*.  Please use the *color* keyword-argument or provide a 2D array with a single row if you intend to specify the same RGB or RGBA value for all points.\n"
     ]
    },
    {
     "data": {
      "text/plain": [
       "Text(0.5, 0, 'score')"
      ]
     },
     "execution_count": 234,
     "metadata": {},
     "output_type": "execute_result"
    },
    {
     "data": {
      "image/png": "[encoded data removed]",
      "text/plain": [
       "<Figure size 432x288 with 1 Axes>"
      ]
     },
     "metadata": {},
     "output_type": "display_data"
    }
   ],
   "source": [
    "data.plot('weighted_score','ret',kind = 'scatter')\n",
    "plt.title('Manager skill vs 1-month future return')\n",
    "plt.xlabel('score')"
   ]
  },
  {
   "cell_type": "code",
   "execution_count": 235,
   "id": "5cac2c7f",
   "metadata": {},
   "outputs": [
    {
     "name": "stderr",
     "output_type": "stream",
     "text": [
      "*c* argument looks like a single numeric RGB or RGBA sequence, which should be avoided as value-mapping will have precedence in case its length matches with *x* & *y*.  Please use the *color* keyword-argument or provide a 2D array with a single row if you intend to specify the same RGB or RGBA value for all points.\n"
     ]
    },
    {
     "data": {
      "text/plain": [
       "Text(0.5, 0, 'days')"
      ]
     },
     "execution_count": 235,
     "metadata": {},
     "output_type": "execute_result"
    },
    {
     "data": {
      "image/png": "[encoded data removed]",
      "text/plain": [
       "<Figure size 432x288 with 1 Axes>"
      ]
     },
     "metadata": {},
     "output_type": "display_data"
    }
   ],
   "source": [
    "data.plot('total_mdd_time','ret',kind = 'scatter')\n",
    "plt.title('Days leading to Max Draw down vs 1-month future return')\n",
    "plt.xlabel('days')"
   ]
  },
  {
   "cell_type": "code",
   "execution_count": 236,
   "id": "a5071492",
   "metadata": {
    "scrolled": true
   },
   "outputs": [
    {
     "name": "stderr",
     "output_type": "stream",
     "text": [
      "*c* argument looks like a single numeric RGB or RGBA sequence, which should be avoided as value-mapping will have precedence in case its length matches with *x* & *y*.  Please use the *color* keyword-argument or provide a 2D array with a single row if you intend to specify the same RGB or RGBA value for all points.\n"
     ]
    },
    {
     "data": {
      "text/plain": [
       "Text(0.5, 0, 'days')"
      ]
     },
     "execution_count": 236,
     "metadata": {},
     "output_type": "execute_result"
    },
    {
     "data": {
      "image/png": "[encoded data removed]",
      "text/plain": [
       "<Figure size 432x288 with 1 Axes>"
      ]
     },
     "metadata": {},
     "output_type": "display_data"
    }
   ],
   "source": [
    "data.plot('m6_p_earning_days','ret',kind = 'scatter')\n",
    "plt.title('number of profitable days over the past 6 month vs 1-month future return')\n",
    "plt.xlabel('days')"
   ]
  },
  {
   "cell_type": "code",
   "execution_count": 237,
   "id": "5a81352e",
   "metadata": {},
   "outputs": [
    {
     "name": "stderr",
     "output_type": "stream",
     "text": [
      "*c* argument looks like a single numeric RGB or RGBA sequence, which should be avoided as value-mapping will have precedence in case its length matches with *x* & *y*.  Please use the *color* keyword-argument or provide a 2D array with a single row if you intend to specify the same RGB or RGBA value for all points.\n"
     ]
    },
    {
     "data": {
      "text/plain": [
       "Text(0.5, 0, 'days')"
      ]
     },
     "execution_count": 237,
     "metadata": {},
     "output_type": "execute_result"
    },
    {
     "data": {
      "image/png": "[encoded data removed]",
      "text/plain": [
       "<Figure size 432x288 with 1 Axes>"
      ]
     },
     "metadata": {},
     "output_type": "display_data"
    }
   ],
   "source": [
    "data.plot('m6_con_rise_days','ret',kind = 'scatter')\n",
    "plt.title('number of profitable days over the past 6 month vs 1-month future return')\n",
    "plt.xlabel('days')"
   ]
  },
  {
   "cell_type": "code",
   "execution_count": 238,
   "id": "41113378",
   "metadata": {
    "scrolled": true
   },
   "outputs": [
    {
     "name": "stderr",
     "output_type": "stream",
     "text": [
      "*c* argument looks like a single numeric RGB or RGBA sequence, which should be avoided as value-mapping will have precedence in case its length matches with *x* & *y*.  Please use the *color* keyword-argument or provide a 2D array with a single row if you intend to specify the same RGB or RGBA value for all points.\n"
     ]
    },
    {
     "data": {
      "text/plain": [
       "Text(0.5, 0, '¥')"
      ]
     },
     "execution_count": 238,
     "metadata": {},
     "output_type": "execute_result"
    },
    {
     "data": {
      "image/png": "[encoded data removed]",
      "text/plain": [
       "<Figure size 432x288 with 1 Axes>"
      ]
     },
     "metadata": {},
     "output_type": "display_data"
    }
   ],
   "source": [
    "data.plot('asset','ret',kind = 'scatter')\n",
    "plt.title('Fund total assets vs 1-month future return')\n",
    "plt.xlabel('¥')"
   ]
  },
  {
   "cell_type": "code",
   "execution_count": 239,
   "id": "8f44c171",
   "metadata": {},
   "outputs": [
    {
     "name": "stderr",
     "output_type": "stream",
     "text": [
      "*c* argument looks like a single numeric RGB or RGBA sequence, which should be avoided as value-mapping will have precedence in case its length matches with *x* & *y*.  Please use the *color* keyword-argument or provide a 2D array with a single row if you intend to specify the same RGB or RGBA value for all points.\n"
     ]
    },
    {
     "data": {
      "text/plain": [
       "Text(0.5, 0, '¥')"
      ]
     },
     "execution_count": 239,
     "metadata": {},
     "output_type": "execute_result"
    },
    {
     "data": {
      "image/png": "[encoded data removed]",
      "text/plain": [
       "<Figure size 432x288 with 1 Axes>"
      ]
     },
     "metadata": {},
     "output_type": "display_data"
    }
   ],
   "source": [
    "data.plot('flow','ret',kind = 'scatter')\n",
    "plt.title('Fund Flow vs 1-month future return')\n",
    "plt.xlabel('¥')"
   ]
  },
  {
   "cell_type": "markdown",
   "id": "8c15d193",
   "metadata": {},
   "source": [
    "##### Normalization / Demean"
   ]
  },
  {
   "cell_type": "code",
   "execution_count": null,
   "id": "8094a67a",
   "metadata": {},
   "outputs": [],
   "source": [
    "# data_records = []\n",
    "# for col in tqdm(data.columns[2:]):\n",
    "        \n",
    "#     col_pivoted = pd.pivot_table(data=df_merged,index=['statistic_date'],columns= ['fund_id'],values=[col])\n",
    "#     col_pivoted = col_pivoted.reindex(df_ret.index).ffill()\n",
    "#     if col != 'ret':\n",
    "#         col_pivoted_demean = (col_pivoted - col_pivoted.rolling(5).mean()) / col_pivoted.rolling(5).std()\n",
    "#     else:\n",
    "#         col_pivoted_demean = col_pivoted\n",
    "#     #col_pivoted_demean_rank = col_pivoted_demean.rank(axis=1)\n",
    "#     data_records.append(col_pivoted_demean)"
   ]
  },
  {
   "cell_type": "markdown",
   "id": "0631899e",
   "metadata": {},
   "source": [
    "##### Reconstruct DataFrame"
   ]
  },
  {
   "cell_type": "code",
   "execution_count": null,
   "id": "fa5deae7",
   "metadata": {
    "scrolled": true
   },
   "outputs": [],
   "source": [
    "# data_new = pd.pivot_table(df_combined.unstack().reset_index(),columns='level_0',values=0,index=['fund_id','statistic_date']).reset_index()"
   ]
  },
  {
   "cell_type": "markdown",
   "id": "8156af1b",
   "metadata": {},
   "source": [
    "### PCA"
   ]
  },
  {
   "cell_type": "code",
   "execution_count": 240,
   "id": "c1d247a7",
   "metadata": {},
   "outputs": [
    {
     "name": "stderr",
     "output_type": "stream",
     "text": [
      "/Users/charles/opt/anaconda3/lib/python3.9/site-packages/pandas/core/frame.py:5238: SettingWithCopyWarning: \n",
      "A value is trying to be set on a copy of a slice from a DataFrame\n",
      "\n",
      "See the caveats in the documentation: https://pandas.pydata.org/pandas-docs/stable/user_guide/indexing.html#returning-a-view-versus-a-copy\n",
      "  return super().replace(\n",
      "/var/folders/sj/x531msr155b2cnd1db8frnr00000gn/T/ipykernel_35280/2532898798.py:2: SettingWithCopyWarning: \n",
      "A value is trying to be set on a copy of a slice from a DataFrame.\n",
      "Try using .loc[row_indexer,col_indexer] = value instead\n",
      "\n",
      "See the caveats in the documentation: https://pandas.pydata.org/pandas-docs/stable/user_guide/indexing.html#returning-a-view-versus-a-copy\n",
      "  data['ret_var'] = data['ret'] > 0\n"
     ]
    },
    {
     "data": {
      "text/plain": [
       "<matplotlib.legend.Legend at 0x7fe839cf1340>"
      ]
     },
     "execution_count": 240,
     "metadata": {},
     "output_type": "execute_result"
    },
    {
     "data": {
      "image/png": "[encoded data removed]",
      "text/plain": [
       "<Figure size 432x288 with 1 Axes>"
      ]
     },
     "metadata": {},
     "output_type": "display_data"
    }
   ],
   "source": [
    "data.replace([np.inf, -np.inf], np.nan, inplace=True)\n",
    "data['ret_var'] = data['ret'] > 0\n",
    "data = data.apply(pd.to_numeric)\n",
    "data = data.dropna()\n",
    "standardized = data[data.columns[1:-1]].apply(zscore)\n",
    "pca = PCA(n_components=10)\n",
    "X = pca.fit_transform(standardized)\n",
    "plot = plt.scatter(X[:300,0], X[:300,1], c=data['ret_var'][:300])\n",
    "plt.title('Top two pricinpal components for positive and negative return')\n",
    "plt.xlabel('PC1')\n",
    "plt.ylabel('PC2')\n",
    "plt.legend(handles=plot.legend_elements()[0], labels=['positive return', 'negative return'])"
   ]
  },
  {
   "cell_type": "code",
   "execution_count": 241,
   "id": "00deb23a",
   "metadata": {},
   "outputs": [
    {
     "data": {
      "text/plain": [
       "Text(0, 0.5, 'Variance explained')"
      ]
     },
     "execution_count": 241,
     "metadata": {},
     "output_type": "execute_result"
    },
    {
     "data": {
      "image/png": "[encoded data removed]",
      "text/plain": [
       "<Figure size 432x288 with 1 Axes>"
      ]
     },
     "metadata": {},
     "output_type": "display_data"
    }
   ],
   "source": [
    "plt.plot(np.arange(1,11),np.array(pca.explained_variance_ratio_).cumsum())\n",
    "plt.title('Number of principal components vs variance explained')\n",
    "plt.xlabel('Number of principal components')\n",
    "plt.ylabel('Variance explained')"
   ]
  },
  {
   "cell_type": "markdown",
   "id": "c8dd2b2a",
   "metadata": {},
   "source": [
    "### Ridge Regression"
   ]
  },
  {
   "cell_type": "markdown",
   "id": "a0792796",
   "metadata": {},
   "source": [
    "##### Attached in feature_selection.py"
   ]
  },
  {
   "cell_type": "code",
   "execution_count": null,
   "id": "c1fdffbc",
   "metadata": {},
   "outputs": [],
   "source": [
    "data = pd.read_pickle('data.pickle')"
   ]
  }
 ],
 "metadata": {
  "kernelspec": {
   "display_name": "Python 3 (ipykernel)",
   "language": "python",
   "name": "python3"
  },
  "language_info": {
   "codemirror_mode": {
    "name": "ipython",
    "version": 3
   },
   "file_extension": ".py",
   "mimetype": "text/x-python",
   "name": "python",
   "nbconvert_exporter": "python",
   "pygments_lexer": "ipython3",
   "version": "3.9.7"
  }
 },
 "nbformat": 4,
 "nbformat_minor": 5
}
