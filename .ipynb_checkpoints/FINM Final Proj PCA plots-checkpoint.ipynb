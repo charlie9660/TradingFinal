{
 "cells": [
  {
   "cell_type": "code",
   "execution_count": 1,
   "id": "76b59b75",
   "metadata": {},
   "outputs": [],
   "source": [
    "import pandas as pd\n",
    "import matplotlib.pyplot as plt\n",
    "import credentials\n",
    "import numpy as np\n",
    "import sqlconnector as sql\n",
    "import pickle5 as pickle\n"
   ]
  },
  {
   "cell_type": "code",
   "execution_count": null,
   "id": "c2cc6204",
   "metadata": {},
   "outputs": [],
   "source": [
    "data = pickle.load(open('data.pickle', \"rb\"))"
   ]
  },
  {
   "cell_type": "code",
   "execution_count": null,
   "id": "7859c396",
   "metadata": {},
   "outputs": [],
   "source": [
    "data.replace([np.inf, -np.inf], np.nan, inplace=True)\n",
    "data['ret_var'] = data['ret'] > 0\n",
    "data = data.apply(pd.to_numeric)\n",
    "data = data.dropna()\n",
    "standardized = data[data.columns[1:-1]].apply(zscore)\n",
    "pca = PCA(n_components=10)\n",
    "X = pca.fit_transform(standardized)\n",
    "plot = plt.scatter(X[:300,0], X[:300,1], c=data['ret_var'][:300])\n",
    "plt.title('Top two pricinpal components for positive and negative return')\n",
    "plt.xlabel('PC1')\n",
    "plt.ylabel('PC2')\n",
    "plt.legend(handles=plot.legend_elements()[0], labels=['positive return', 'negative return'])"
   ]
  },
  {
   "cell_type": "code",
   "execution_count": null,
   "id": "259b7c9a",
   "metadata": {},
   "outputs": [],
   "source": [
    "plt.plot(np.arange(1,11),np.array(pca.explained_variance_ratio_).cumsum())\n",
    "plt.title('Number of principal components vs variance explained')\n",
    "plt.xlabel('Number of principal components')\n",
    "plt.ylabel('Variance explained')"
   ]
  }
 ],
 "metadata": {
  "kernelspec": {
   "display_name": "Python 3 (ipykernel)",
   "language": "python",
   "name": "python3"
  },
  "language_info": {
   "codemirror_mode": {
    "name": "ipython",
    "version": 3
   },
   "file_extension": ".py",
   "mimetype": "text/x-python",
   "name": "python",
   "nbconvert_exporter": "python",
   "pygments_lexer": "ipython3",
   "version": "3.9.7"
  }
 },
 "nbformat": 4,
 "nbformat_minor": 5
}
