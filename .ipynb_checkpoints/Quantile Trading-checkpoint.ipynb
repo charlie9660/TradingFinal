{
 "cells": [
  {
   "cell_type": "code",
   "execution_count": 1,
   "id": "497fcc01",
   "metadata": {},
   "outputs": [],
   "source": [
    "import pandas as pd\n",
    "import matplotlib.pyplot as plt\n",
    "import credentials\n",
    "import numpy as np\n",
    "import sqlconnector as sql\n",
    "import pickle5 as pickle\n",
    "from scipy.stats import zscore\n",
    "from sklearn.decomposition import PCA\n",
    "from scipy import stats\n",
    "from random import sample\n",
    "import math\n",
    "import credentials\n",
    "import sqlconnector as sql\n",
    "import credentials\n",
    "from tqdm.notebook import tqdm"
   ]
  },
  {
   "cell_type": "code",
   "execution_count": 2,
   "id": "3c87ffa8",
   "metadata": {},
   "outputs": [],
   "source": [
    "# Sort features in terms of total cumulative pnl and pick top 20\n",
    "def top_features(dic, top):\n",
    "    cumul_pnl = {}\n",
    "    for key, val in dic.items():\n",
    "        cumul_pnl[key] = sum(val)\n",
    "    \n",
    "    sort_dic = dict(sorted(cumul_pnl.items(), key=lambda item: item[1]))\n",
    "    return list(sort_dic.keys())[-top:]"
   ]
  },
  {
   "cell_type": "code",
   "execution_count": 3,
   "id": "ebe30e71",
   "metadata": {},
   "outputs": [],
   "source": [
    "def quantile(data, features, num_funds=50, month=1):\n",
    "    '''\n",
    "    function that computes pnl over time for quantile trading with rebalancing every (t=month) months\n",
    "        \n",
    "    inputs: data(pd dataframe), features(list), num_funds(integer) - number of\n",
    "        funds we hold every month, month(integer) - number of month we are rebalancing\n",
    "        for\n",
    "    output: a dict where keys are features and values are list of pnls over time\n",
    "    '''\n",
    "    \n",
    "    dates = sorted(pd.to_datetime(data.statistic_date.unique()))\n",
    "    pnl = {}\n",
    "    for feature in features:\n",
    "        pnl[feature] = []\n",
    "        for date in dates[::month]:\n",
    "            df = data[(data.statistic_date == date) & (data[feature].isna() == False)].sort_values(by=feature, ascending=False)\n",
    "            ret = 0\n",
    "            funds = df.fund_id[:num_funds]\n",
    "            if month == 1:\n",
    "                ret += sum(df.ret[:num_funds])/num_funds\n",
    "            else:\n",
    "                \n",
    "                # Iterate through funds and calculate t - month look ahead return\n",
    "                for fund in funds:\n",
    "                    ret_per_fund = 1\n",
    "                    for i in range(month):\n",
    "                        if i == 0:\n",
    "                            ret_per_fund *= (1+df[df.fund_id == fund].ret.values[0]/num_funds)\n",
    "                        else:\n",
    "                            month_ret = data[(data.statistic_date == (date + pd.DateOffset(months=i))) & (data.fund_id == fund)].ret.values\n",
    "                            if month_ret.size > 0:\n",
    "                                ret_per_fund *= (1 + month_ret[0]/num_funds)\n",
    "                            else:\n",
    "                                break\n",
    "                    ret += ret_per_fund-1\n",
    "            pnl[feature].append(ret)\n",
    "    return pnl"
   ]
  },
  {
   "cell_type": "code",
   "execution_count": 4,
   "id": "df7a8c57",
   "metadata": {},
   "outputs": [],
   "source": [
    "def performance_matrix(df,metrics,annualized_factor = 12):\n",
    "\n",
    "    performance_matrix = []\n",
    "    for metric in metrics:\n",
    "        if metric == 'mean':\n",
    "            performance_matrix.append(df.mean() * annualized_factor)\n",
    "        elif metric == 'volatility':\n",
    "            performance_matrix.append(df.std() * np.sqrt(annualized_factor))\n",
    "        elif metric == 'sharpe':\n",
    "            performance_matrix.append(df.mean() * annualized_factor / (df.std() * np.sqrt(annualized_factor)))\n",
    "        elif metric == 'skew':\n",
    "            performance_matrix.append(df.skew())\n",
    "        elif metric == 'excess_kurtosis':\n",
    "            performance_matrix.append(df.kurtosis() - 3)\n",
    "        elif metric == 'var':\n",
    "            performance_matrix.append(df.quantile(0.05))\n",
    "        elif metric =='cvar':\n",
    "            performance_matrix.append(df[df < df.quantile(0.05)].mean())\n",
    "        elif metric =='max_drawdown':\n",
    "            cum_returns = (1 + df).cumprod()\n",
    "            rolling_max = cum_returns.cummax()\n",
    "            drawdown = (cum_returns - rolling_max) / rolling_max\n",
    "            performance_matrix.append(drawdown.min())\n",
    "        else:\n",
    "            raise NoSuchMetricError( 'Metric ' + metric + ' is not valid!')\n",
    "            \n",
    "    performance_matrix = pd.concat(performance_matrix,axis=1)\n",
    "    performance_matrix.columns = metrics\n",
    "\n",
    "    return performance_matrix.T"
   ]
  },
  {
   "cell_type": "code",
   "execution_count": 5,
   "id": "f1de8bf2",
   "metadata": {},
   "outputs": [],
   "source": [
    "def quantile_delayed(data, return_data, features, num_funds=50, month=1, delay=5):\n",
    "    '''\n",
    "    function that computes pnl over time for quantile trading with rebalancing every (t=month) months with delay\n",
    "        \n",
    "    inputs: data(pd dataframe), features(list), num_funds(integer) - number of\n",
    "        funds we hold every month, month(integer) - number of month we are rebalancing\n",
    "        for, delay (integer) - number of days it takes for us to buy funds\n",
    "    output: a dict where keys are features and values are list of pnls over time\n",
    "    '''\n",
    "    \n",
    "    dates = sorted(pd.to_datetime(data.statistic_date.unique()))\n",
    "    pnl = {}\n",
    "    for feature in features:\n",
    "        pnl[feature] = []\n",
    "        for date in dates[::month]:\n",
    "            df = data[(data.statistic_date == date) & (data[feature].isna() == False)].sort_values(by=feature, ascending=False)\n",
    "            ret = 0\n",
    "            funds = df.fund_id[:num_funds]\n",
    "            \n",
    "            # Iterate through funds and calculate t - month look ahead return\n",
    "            for fund in funds:\n",
    "                ret_per_fund = 1\n",
    "                for i in range(month):\n",
    "                    month_ret = return_data[(return_data.statistic_date == (date + pd.DateOffset(months=i)+pd.Timedelta(str(delay)+'d'))) & (return_data.fund_id == fund)].ret.values\n",
    "                    if month_ret.size > 0:\n",
    "                        ret_per_fund *= (1 + month_ret[0]/num_funds)\n",
    "                    else:\n",
    "                        break\n",
    "                ret += ret_per_fund-1\n",
    "            pnl[feature].append(ret)\n",
    "    return pnl"
   ]
  },
  {
   "cell_type": "code",
   "execution_count": 6,
   "id": "f87f8ed0",
   "metadata": {},
   "outputs": [],
   "source": [
    "def quantile_all_features(data, features, num_funds=50, month=1):\n",
    "    \n",
    "    '''\n",
    "    function that computes pnl over time for quantile trading with rebalancing every (t=month) months\n",
    "    but with using scores of multiple specified features\n",
    "        \n",
    "    inputs: data(pd dataframe), features(list), num_funds(integer) - number of\n",
    "        funds we hold every month, month(integer) - number of month we are rebalancing\n",
    "        for\n",
    "    output: a dict where keys are features and values are list of pnls over time\n",
    "    '''\n",
    "            \n",
    "    col = features+['fund_id', 'ret']\n",
    "    dates = sorted(pd.to_datetime(data.statistic_date.unique()))\n",
    "    pnl = []\n",
    "    for date in dates[::month]:\n",
    "        df = data[data.statistic_date == date][col].dropna()\n",
    "        #print(df.columns)\n",
    "        df['score'] = stats.zscore(df[features]).sum(axis=1)\n",
    "        ret = 0\n",
    "        df = df.sort_values(by='score', ascending=False)\n",
    "        funds = list(df.fund_id[:num_funds])\n",
    "\n",
    "        if month == 1:\n",
    "            ret += sum(df.ret[:num_funds])/num_funds\n",
    "        else:\n",
    "\n",
    "            # Iterate through funds and calculate t - month look ahead return\n",
    "            for fund in funds:\n",
    "                ret_per_fund = 1\n",
    "                for i in range(month):\n",
    "                    if i == 0:\n",
    "                        ret_per_fund *= (1+df[df.fund_id == fund].ret.values[0]/num_funds)\n",
    "                    else:\n",
    "                        month_ret = data[(data.statistic_date == (date + pd.DateOffset(months=i))) & (data.fund_id == fund)].ret.values\n",
    "                        if month_ret.size > 0:\n",
    "                            ret_per_fund *= (1 + month_ret[0]/num_funds)\n",
    "                        else:\n",
    "                            break\n",
    "                ret += ret_per_fund-1\n",
    "        pnl.append(ret)\n",
    "    return pnl"
   ]
  },
  {
   "cell_type": "code",
   "execution_count": 7,
   "id": "3e92e237",
   "metadata": {},
   "outputs": [],
   "source": [
    "def random_feature_quantile(data, features, num_funds, month, num_comb):\n",
    "    pnl = {}\n",
    "    already_selected = []\n",
    "    \n",
    "    for i in range(num_comb):\n",
    "        selected_feature = sample(features, 5)\n",
    "        if selected_feature not in already_selected:\n",
    "            already_selected.append(selected_feature)\n",
    "            pnl[tuple(selected_feature)] = quantile_all_features(data, selected_feature, num_funds, month)\n",
    "    \n",
    "    return pnl"
   ]
  },
  {
   "cell_type": "code",
   "execution_count": 8,
   "id": "08b701ae",
   "metadata": {},
   "outputs": [],
   "source": [
    "def plot_features(pnl, features):\n",
    "    for fea in features[:]:\n",
    "        ts = pnl[fea]\n",
    "        ts = [0 if math.isinf(x) else x for x in ts] \n",
    "        plt.plot(dates,np.cumsum(ts)+1)\n",
    "    \n",
    "    (df_csi.Price/df_csi.Price[0]).plot(label='CSI')\n",
    "\n",
    "    plt.legend(features[:]+['csi'],bbox_to_anchor=(1, 1))\n",
    "    plt.title('Top Performaing Features')\n",
    "    plt.xlabel('time')\n",
    "    plt.ylabel('initial capital + cumulative pnl')\n",
    "    plt.show()"
   ]
  },
  {
   "cell_type": "code",
   "execution_count": 9,
   "id": "e2b1d98c",
   "metadata": {},
   "outputs": [],
   "source": [
    "def quantile_all_features_delayed(data, return_data, features, num_funds=50, month=1, delay=5):\n",
    "    \n",
    "    '''\n",
    "    function that computes pnl over time for quantile trading with rebalancing every (t=month) months with delay\n",
    "    but with using scores of multiple specified features\n",
    "        \n",
    "    inputs: data(pd dataframe), features(list), num_funds(integer) - number of\n",
    "        funds we hold every month, month(integer) - number of month we are rebalancing\n",
    "        for\n",
    "    output: a dict where keys are features and values are list of pnls over time\n",
    "    '''\n",
    "            \n",
    "    col = features+['fund_id', 'ret']\n",
    "    dates = sorted(pd.to_datetime(data.statistic_date.unique()))\n",
    "    pnl = []\n",
    "    for date in dates[::month]:\n",
    "        df = data[data.statistic_date == date][col].dropna()\n",
    "        df['score'] = stats.zscore(df[features]).sum(axis=1)\n",
    "        ret = 0\n",
    "        df = df.sort_values(by='score', ascending=False)\n",
    "        funds = list(df.fund_id[:num_funds])\n",
    "        # Iterate through funds and calculate t - month look ahead return\n",
    "        for fund in funds:\n",
    "            ret_per_fund = 1\n",
    "            for i in range(month):\n",
    "                month_ret = return_data[(return_data.statistic_date == (date + pd.DateOffset(months=i)+pd.Timedelta(str(delay)+'d'))) & (return_data.fund_id == fund)].ret.values\n",
    "                if month_ret.size > 0:\n",
    "                    ret_per_fund *= (1 + month_ret[0]/num_funds)\n",
    "                else:\n",
    "                    break\n",
    "            ret += ret_per_fund-1\n",
    "        pnl.append(ret)\n",
    "    return pnl"
   ]
  },
  {
   "cell_type": "code",
   "execution_count": 10,
   "id": "ce0dfc36",
   "metadata": {},
   "outputs": [],
   "source": [
    "def random_feature_quantile_delayed(data, return_data, features, num_funds=50, month=1, num_comb=10, num_feature=5, delay=5):\n",
    "    pnl = {}\n",
    "    already_selected = []\n",
    "    \n",
    "    for i in range(num_comb):\n",
    "        selected_feature = sample(features, num_feature)\n",
    "        if selected_feature not in already_selected:\n",
    "            already_selected.append(selected_feature)\n",
    "            pnl[tuple(selected_feature)] = quantile_all_features_delayed(data, return_data, selected_feature, num_funds, month, delay)\n",
    "    \n",
    "    return pnl"
   ]
  },
  {
   "cell_type": "code",
   "execution_count": 11,
   "id": "24ecc3a0",
   "metadata": {},
   "outputs": [],
   "source": [
    "def load_data(filename):\n",
    "    data = pickle.load(open(filename, \"rb\"))\n",
    "    data.iloc[:,1:] = data.iloc[:,1:].apply(pd.to_numeric)\n",
    "    data.statistic_date = pd.to_datetime(data.statistic_date)\n",
    "    return data"
   ]
  },
  {
   "cell_type": "markdown",
   "id": "49b230f4",
   "metadata": {},
   "source": [
    "# Data Loading"
   ]
  },
  {
   "cell_type": "markdown",
   "id": "9614d17f",
   "metadata": {},
   "source": [
    "### load pickle data"
   ]
  },
  {
   "cell_type": "code",
   "execution_count": 123,
   "id": "3b150298",
   "metadata": {},
   "outputs": [
    {
     "data": {
      "text/html": [
       "<div>\n",
       "<style scoped>\n",
       "    .dataframe tbody tr th:only-of-type {\n",
       "        vertical-align: middle;\n",
       "    }\n",
       "\n",
       "    .dataframe tbody tr th {\n",
       "        vertical-align: top;\n",
       "    }\n",
       "\n",
       "    .dataframe thead th {\n",
       "        text-align: right;\n",
       "    }\n",
       "</style>\n",
       "<table border=\"1\" class=\"dataframe\">\n",
       "  <thead>\n",
       "    <tr style=\"text-align: right;\">\n",
       "      <th></th>\n",
       "      <th>statistic_date</th>\n",
       "      <th>fund_id</th>\n",
       "      <th>ret</th>\n",
       "      <th>fee</th>\n",
       "      <th>securities_settlement_receivable</th>\n",
       "      <th>subscription_receivable</th>\n",
       "      <th>redemption_payable</th>\n",
       "      <th>provision_settlement_fund</th>\n",
       "      <th>stock_income</th>\n",
       "      <th>total_assets</th>\n",
       "      <th>...</th>\n",
       "      <th>total_kurtosis</th>\n",
       "      <th>total_stdev</th>\n",
       "      <th>total_con_fall_days</th>\n",
       "      <th>total_con_rise_days</th>\n",
       "      <th>quarter_return</th>\n",
       "      <th>total_n_earning_days</th>\n",
       "      <th>total_odds</th>\n",
       "      <th>total_p_earning_days</th>\n",
       "      <th>total_max_drawdown</th>\n",
       "      <th>total_return</th>\n",
       "    </tr>\n",
       "  </thead>\n",
       "  <tbody>\n",
       "    <tr>\n",
       "      <th>0</th>\n",
       "      <td>2017-01-31</td>\n",
       "      <td>8</td>\n",
       "      <td>0.035794</td>\n",
       "      <td>0.005</td>\n",
       "      <td>NaN</td>\n",
       "      <td>NaN</td>\n",
       "      <td>NaN</td>\n",
       "      <td>NaN</td>\n",
       "      <td>NaN</td>\n",
       "      <td>NaN</td>\n",
       "      <td>...</td>\n",
       "      <td>3.479692</td>\n",
       "      <td>0.018549</td>\n",
       "      <td>6.0</td>\n",
       "      <td>9.0</td>\n",
       "      <td>-0.004176</td>\n",
       "      <td>392.0</td>\n",
       "      <td>0.585526</td>\n",
       "      <td>522.0</td>\n",
       "      <td>0.530764</td>\n",
       "      <td>0.706825</td>\n",
       "    </tr>\n",
       "    <tr>\n",
       "      <th>1</th>\n",
       "      <td>2017-02-28</td>\n",
       "      <td>8</td>\n",
       "      <td>-0.003764</td>\n",
       "      <td>0.005</td>\n",
       "      <td>NaN</td>\n",
       "      <td>NaN</td>\n",
       "      <td>NaN</td>\n",
       "      <td>NaN</td>\n",
       "      <td>NaN</td>\n",
       "      <td>NaN</td>\n",
       "      <td>...</td>\n",
       "      <td>3.587010</td>\n",
       "      <td>0.018387</td>\n",
       "      <td>6.0</td>\n",
       "      <td>9.0</td>\n",
       "      <td>0.031469</td>\n",
       "      <td>397.0</td>\n",
       "      <td>0.588172</td>\n",
       "      <td>534.0</td>\n",
       "      <td>0.530764</td>\n",
       "      <td>0.767920</td>\n",
       "    </tr>\n",
       "    <tr>\n",
       "      <th>2</th>\n",
       "      <td>2017-03-31</td>\n",
       "      <td>8</td>\n",
       "      <td>-0.028563</td>\n",
       "      <td>0.005</td>\n",
       "      <td>NaN</td>\n",
       "      <td>NaN</td>\n",
       "      <td>NaN</td>\n",
       "      <td>NaN</td>\n",
       "      <td>NaN</td>\n",
       "      <td>NaN</td>\n",
       "      <td>...</td>\n",
       "      <td>3.712064</td>\n",
       "      <td>0.018186</td>\n",
       "      <td>6.0</td>\n",
       "      <td>9.0</td>\n",
       "      <td>0.027587</td>\n",
       "      <td>408.0</td>\n",
       "      <td>0.585519</td>\n",
       "      <td>546.0</td>\n",
       "      <td>0.530764</td>\n",
       "      <td>0.761266</td>\n",
       "    </tr>\n",
       "    <tr>\n",
       "      <th>3</th>\n",
       "      <td>2017-04-30</td>\n",
       "      <td>8</td>\n",
       "      <td>-0.057333</td>\n",
       "      <td>0.005</td>\n",
       "      <td>NaN</td>\n",
       "      <td>NaN</td>\n",
       "      <td>NaN</td>\n",
       "      <td>NaN</td>\n",
       "      <td>NaN</td>\n",
       "      <td>NaN</td>\n",
       "      <td>...</td>\n",
       "      <td>3.762351</td>\n",
       "      <td>0.018065</td>\n",
       "      <td>7.0</td>\n",
       "      <td>9.0</td>\n",
       "      <td>-0.028563</td>\n",
       "      <td>417.0</td>\n",
       "      <td>0.583934</td>\n",
       "      <td>555.0</td>\n",
       "      <td>0.530764</td>\n",
       "      <td>0.710959</td>\n",
       "    </tr>\n",
       "    <tr>\n",
       "      <th>4</th>\n",
       "      <td>2017-05-31</td>\n",
       "      <td>8</td>\n",
       "      <td>0.054007</td>\n",
       "      <td>0.005</td>\n",
       "      <td>NaN</td>\n",
       "      <td>NaN</td>\n",
       "      <td>NaN</td>\n",
       "      <td>NaN</td>\n",
       "      <td>NaN</td>\n",
       "      <td>NaN</td>\n",
       "      <td>...</td>\n",
       "      <td>3.797064</td>\n",
       "      <td>0.017944</td>\n",
       "      <td>7.0</td>\n",
       "      <td>9.0</td>\n",
       "      <td>-0.084259</td>\n",
       "      <td>430.0</td>\n",
       "      <td>0.579213</td>\n",
       "      <td>562.0</td>\n",
       "      <td>0.530764</td>\n",
       "      <td>0.612864</td>\n",
       "    </tr>\n",
       "  </tbody>\n",
       "</table>\n",
       "<p>5 rows × 234 columns</p>\n",
       "</div>"
      ],
      "text/plain": [
       "  statistic_date  fund_id       ret    fee  securities_settlement_receivable  \\\n",
       "0     2017-01-31        8  0.035794  0.005                               NaN   \n",
       "1     2017-02-28        8 -0.003764  0.005                               NaN   \n",
       "2     2017-03-31        8 -0.028563  0.005                               NaN   \n",
       "3     2017-04-30        8 -0.057333  0.005                               NaN   \n",
       "4     2017-05-31        8  0.054007  0.005                               NaN   \n",
       "\n",
       "   subscription_receivable  redemption_payable  provision_settlement_fund  \\\n",
       "0                      NaN                 NaN                        NaN   \n",
       "1                      NaN                 NaN                        NaN   \n",
       "2                      NaN                 NaN                        NaN   \n",
       "3                      NaN                 NaN                        NaN   \n",
       "4                      NaN                 NaN                        NaN   \n",
       "\n",
       "   stock_income  total_assets  ...  total_kurtosis  total_stdev  \\\n",
       "0           NaN           NaN  ...        3.479692     0.018549   \n",
       "1           NaN           NaN  ...        3.587010     0.018387   \n",
       "2           NaN           NaN  ...        3.712064     0.018186   \n",
       "3           NaN           NaN  ...        3.762351     0.018065   \n",
       "4           NaN           NaN  ...        3.797064     0.017944   \n",
       "\n",
       "   total_con_fall_days  total_con_rise_days  quarter_return  \\\n",
       "0                  6.0                  9.0       -0.004176   \n",
       "1                  6.0                  9.0        0.031469   \n",
       "2                  6.0                  9.0        0.027587   \n",
       "3                  7.0                  9.0       -0.028563   \n",
       "4                  7.0                  9.0       -0.084259   \n",
       "\n",
       "   total_n_earning_days  total_odds  total_p_earning_days  total_max_drawdown  \\\n",
       "0                 392.0    0.585526                 522.0            0.530764   \n",
       "1                 397.0    0.588172                 534.0            0.530764   \n",
       "2                 408.0    0.585519                 546.0            0.530764   \n",
       "3                 417.0    0.583934                 555.0            0.530764   \n",
       "4                 430.0    0.579213                 562.0            0.530764   \n",
       "\n",
       "   total_return  \n",
       "0      0.706825  \n",
       "1      0.767920  \n",
       "2      0.761266  \n",
       "3      0.710959  \n",
       "4      0.612864  \n",
       "\n",
       "[5 rows x 234 columns]"
      ]
     },
     "execution_count": 123,
     "metadata": {},
     "output_type": "execute_result"
    }
   ],
   "source": [
    "# Cleaning on pickle data\n",
    "data = pickle.load(open('data_new.pickle', \"rb\"))\n",
    "data.iloc[:,1:] = data.iloc[:,1:].apply(pd.to_numeric)\n",
    "data.statistic_date = pd.to_datetime(data.statistic_date)\n",
    "data.head()"
   ]
  },
  {
   "cell_type": "code",
   "execution_count": 124,
   "id": "14c78126",
   "metadata": {},
   "outputs": [],
   "source": [
    "dates = sorted(data.statistic_date.unique())"
   ]
  },
  {
   "cell_type": "markdown",
   "id": "6e9d21a4",
   "metadata": {},
   "source": [
    "### load benchmark CSI 300 data"
   ]
  },
  {
   "cell_type": "code",
   "execution_count": 32,
   "id": "ceed6a8f",
   "metadata": {},
   "outputs": [],
   "source": [
    "# Data cleaning for CSI 300 - download daily historical data from https://www.investing.com/indices/csi300-historical-data\n",
    "df_csi = pd.read_csv('CSI300.csv')\n",
    "\n",
    "df_csi = df_csi.apply(lambda x: x.str.replace(',',''))\n",
    "df_csi = df_csi.apply(lambda x: x.str.replace('K','000'))\n",
    "df_csi = df_csi.apply(lambda x: x.str.replace('%',''))\n",
    "\n",
    "df_csi.Date = pd.to_datetime(df_csi.Date)\n",
    "df_csi = df_csi.sort_values(by='Date')\n",
    "df_csi = df_csi[df_csi.Date >= dates[0] - pd.Timedelta('5d')]\n",
    "\n",
    "df_csi = df_csi.reset_index(drop=True)\n",
    "df_csi.index = df_csi.Date\n",
    "df_csi.head()\n",
    "\n",
    "df_csi = df_csi.iloc[:,1:].apply(pd.to_numeric)"
   ]
  },
  {
   "cell_type": "code",
   "execution_count": 33,
   "id": "21ca82cc",
   "metadata": {},
   "outputs": [],
   "source": [
    "# Fill in dates that have no data\n",
    "idx = pd.date_range(df_csi.index[0], df_csi.index[-1])\n",
    "df_csi = df_csi.reindex(idx).fillna(method='ffill')"
   ]
  },
  {
   "cell_type": "code",
   "execution_count": 34,
   "id": "ee5d941d",
   "metadata": {},
   "outputs": [
    {
     "data": {
      "text/html": [
       "<div>\n",
       "<style scoped>\n",
       "    .dataframe tbody tr th:only-of-type {\n",
       "        vertical-align: middle;\n",
       "    }\n",
       "\n",
       "    .dataframe tbody tr th {\n",
       "        vertical-align: top;\n",
       "    }\n",
       "\n",
       "    .dataframe thead th {\n",
       "        text-align: right;\n",
       "    }\n",
       "</style>\n",
       "<table border=\"1\" class=\"dataframe\">\n",
       "  <thead>\n",
       "    <tr style=\"text-align: right;\">\n",
       "      <th></th>\n",
       "      <th>Price</th>\n",
       "      <th>Open</th>\n",
       "      <th>High</th>\n",
       "      <th>Low</th>\n",
       "      <th>Vol.</th>\n",
       "      <th>Change %</th>\n",
       "    </tr>\n",
       "  </thead>\n",
       "  <tbody>\n",
       "    <tr>\n",
       "      <th>2017-01-26</th>\n",
       "      <td>3387.96</td>\n",
       "      <td>3378.26</td>\n",
       "      <td>3395.88</td>\n",
       "      <td>3378.26</td>\n",
       "      <td>65.32</td>\n",
       "      <td>0.36</td>\n",
       "    </tr>\n",
       "    <tr>\n",
       "      <th>2017-01-27</th>\n",
       "      <td>3387.96</td>\n",
       "      <td>3378.26</td>\n",
       "      <td>3395.88</td>\n",
       "      <td>3378.26</td>\n",
       "      <td>65.32</td>\n",
       "      <td>0.36</td>\n",
       "    </tr>\n",
       "    <tr>\n",
       "      <th>2017-01-28</th>\n",
       "      <td>3387.96</td>\n",
       "      <td>3378.26</td>\n",
       "      <td>3395.88</td>\n",
       "      <td>3378.26</td>\n",
       "      <td>65.32</td>\n",
       "      <td>0.36</td>\n",
       "    </tr>\n",
       "    <tr>\n",
       "      <th>2017-01-29</th>\n",
       "      <td>3387.96</td>\n",
       "      <td>3378.26</td>\n",
       "      <td>3395.88</td>\n",
       "      <td>3378.26</td>\n",
       "      <td>65.32</td>\n",
       "      <td>0.36</td>\n",
       "    </tr>\n",
       "    <tr>\n",
       "      <th>2017-01-30</th>\n",
       "      <td>3387.96</td>\n",
       "      <td>3378.26</td>\n",
       "      <td>3395.88</td>\n",
       "      <td>3378.26</td>\n",
       "      <td>65.32</td>\n",
       "      <td>0.36</td>\n",
       "    </tr>\n",
       "  </tbody>\n",
       "</table>\n",
       "</div>"
      ],
      "text/plain": [
       "              Price     Open     High      Low   Vol.  Change %\n",
       "2017-01-26  3387.96  3378.26  3395.88  3378.26  65.32      0.36\n",
       "2017-01-27  3387.96  3378.26  3395.88  3378.26  65.32      0.36\n",
       "2017-01-28  3387.96  3378.26  3395.88  3378.26  65.32      0.36\n",
       "2017-01-29  3387.96  3378.26  3395.88  3378.26  65.32      0.36\n",
       "2017-01-30  3387.96  3378.26  3395.88  3378.26  65.32      0.36"
      ]
     },
     "execution_count": 34,
     "metadata": {},
     "output_type": "execute_result"
    }
   ],
   "source": [
    "df_csi.head()"
   ]
  },
  {
   "cell_type": "code",
   "execution_count": 35,
   "id": "eceb9e32",
   "metadata": {},
   "outputs": [],
   "source": [
    "# Calculate one month ahead return\n",
    "after = df_csi.reindex(df_csi.index + pd.DateOffset(months=1))\n",
    "after.index = df_csi.index\n",
    "df_csi['ret'] = (after['Price']/df_csi['Price'] - 1).fillna(method='ffill')"
   ]
  },
  {
   "cell_type": "code",
   "execution_count": 129,
   "id": "28c7f95a",
   "metadata": {},
   "outputs": [],
   "source": [
    "df_csi.to_pickle('benchmark.pickle')"
   ]
  },
  {
   "cell_type": "code",
   "execution_count": 130,
   "id": "06932fd4",
   "metadata": {
    "scrolled": true
   },
   "outputs": [],
   "source": [
    "#benchmark = df_csi.loc[dates]['ret'].values"
   ]
  },
  {
   "cell_type": "code",
   "execution_count": 131,
   "id": "b4c90ff0",
   "metadata": {},
   "outputs": [],
   "source": [
    "features = data.columns[5:]"
   ]
  },
  {
   "cell_type": "markdown",
   "id": "12106571",
   "metadata": {},
   "source": [
    "### In Sasmple Quantile Trading with no delay"
   ]
  },
  {
   "cell_type": "code",
   "execution_count": 142,
   "id": "8b66c284",
   "metadata": {
    "scrolled": true
   },
   "outputs": [],
   "source": [
    "top_20_feature = ['y1_excess_a',\n",
    " 'm6_ddr3_a',\n",
    " 'y1_return_a',\n",
    " 'y1_tr_a',\n",
    " 'm3_unsys_risk',\n",
    " 'm3_sor_a',\n",
    " 'm3_max_return',\n",
    " 'y1_calmar_a',\n",
    " 'y1_stock_hm',\n",
    " 'total_mdd_time',\n",
    " 'y1_downbeta_cl',\n",
    " 'm6_downbeta_cl',\n",
    " 'm6_stdev_a',\n",
    " 'm6_stdev',\n",
    " 'm6_max_return',\n",
    " 'm6_unsys_risk',\n",
    " 'y1_jensen_a',\n",
    " 'm3_tracking_error_a',\n",
    " 'm6_tracking_error_a',\n",
    " 'y1_s_security']"
   ]
  },
  {
   "cell_type": "code",
   "execution_count": 143,
   "id": "a81038a2",
   "metadata": {},
   "outputs": [],
   "source": [
    "data_df = data.copy()"
   ]
  },
  {
   "cell_type": "code",
   "execution_count": 144,
   "id": "f4cf8173",
   "metadata": {},
   "outputs": [],
   "source": [
    "# test = data_df[[]]\n",
    "# test[top_20_feature[-5:]] = data_df[top_20_feature[-5:]]\n",
    "# test['composite'] = (test.subtract(test.mean(axis=1),axis=0)).div(test.std(axis=1),axis=0).sum(axis=1)\n",
    "# test['ret'] = data_df.ret\n",
    "# test['fund_id'] = data_df.fund_id\n",
    "# test['statistic_date'] = data_df.statistic_date"
   ]
  },
  {
   "cell_type": "code",
   "execution_count": 145,
   "id": "0e97dd59",
   "metadata": {},
   "outputs": [],
   "source": [
    "data_df[features] = data_df[features] - data_df[features].rolling(3).median()"
   ]
  },
  {
   "cell_type": "code",
   "execution_count": 146,
   "id": "b5c89b40",
   "metadata": {},
   "outputs": [],
   "source": [
    "pnl = quantile(data, features, 5, 1)"
   ]
  },
  {
   "cell_type": "code",
   "execution_count": 147,
   "id": "1022f332",
   "metadata": {},
   "outputs": [],
   "source": [
    "del pnl['ret_2m']\n",
    "del pnl['ret_3m']"
   ]
  },
  {
   "cell_type": "code",
   "execution_count": 148,
   "id": "7d0c9e21",
   "metadata": {},
   "outputs": [],
   "source": [
    "pnl_df = pd.DataFrame(pnl)"
   ]
  },
  {
   "cell_type": "code",
   "execution_count": 149,
   "id": "6ad339b8",
   "metadata": {},
   "outputs": [],
   "source": [
    "import math"
   ]
  },
  {
   "cell_type": "code",
   "execution_count": 151,
   "id": "d1b06af9",
   "metadata": {},
   "outputs": [],
   "source": [
    "for fea in top_20_feature[:]:\n",
    "    ts = pnl[fea]\n",
    "    ts = [0 if math.isinf(x) else x for x in ts] \n",
    "    plt.plot(dates,np.cumsum(ts)+1)\n",
    "    \n",
    "(df_csi.Price/df_csi.Price[0]).plot(label='CSI')\n",
    "\n",
    "plt.legend(top_20_feature[:],bbox_to_anchor=(1, 1))\n",
    "plt.title('Top Performaing Features')\n",
    "plt.xlabel('time')\n",
    "plt.ylabel('initial capital + cumulative pnl')\n",
    "plt.show()\n"
   ]
  },
  {
   "cell_type": "code",
   "execution_count": 28,
   "id": "a6d20559",
   "metadata": {},
   "outputs": [],
   "source": [
    "# excess_pnl = {}\n",
    "# for key, val in pnl.items():\n",
    "#     excess_pnl[key] = val - benchmark\n",
    "# excess_pnl_df = pd.DataFrame(excess_pnl)"
   ]
  },
  {
   "cell_type": "code",
   "execution_count": 29,
   "id": "3792679a",
   "metadata": {},
   "outputs": [],
   "source": [
    "# excess_pnl_df"
   ]
  },
  {
   "cell_type": "code",
   "execution_count": 152,
   "id": "4b718139",
   "metadata": {},
   "outputs": [],
   "source": [
    "performance_df = performance_matrix(pnl_df, ['mean', 'volatility', 'sharpe', 'max_drawdown']).transpose()"
   ]
  },
  {
   "cell_type": "code",
   "execution_count": 153,
   "id": "8b95843c",
   "metadata": {},
   "outputs": [
    {
     "data": {
      "text/html": [
       "<div>\n",
       "<style scoped>\n",
       "    .dataframe tbody tr th:only-of-type {\n",
       "        vertical-align: middle;\n",
       "    }\n",
       "\n",
       "    .dataframe tbody tr th {\n",
       "        vertical-align: top;\n",
       "    }\n",
       "\n",
       "    .dataframe thead th {\n",
       "        text-align: right;\n",
       "    }\n",
       "</style>\n",
       "<table border=\"1\" class=\"dataframe\">\n",
       "  <thead>\n",
       "    <tr style=\"text-align: right;\">\n",
       "      <th></th>\n",
       "      <th>mean</th>\n",
       "      <th>volatility</th>\n",
       "      <th>sharpe</th>\n",
       "      <th>max_drawdown</th>\n",
       "    </tr>\n",
       "  </thead>\n",
       "  <tbody>\n",
       "    <tr>\n",
       "      <th>y1_pain_ratio</th>\n",
       "      <td>0.179827</td>\n",
       "      <td>0.162796</td>\n",
       "      <td>1.104619</td>\n",
       "      <td>-0.213418</td>\n",
       "    </tr>\n",
       "    <tr>\n",
       "      <th>y1_calmar_a</th>\n",
       "      <td>0.186663</td>\n",
       "      <td>0.169246</td>\n",
       "      <td>1.102908</td>\n",
       "      <td>-0.175274</td>\n",
       "    </tr>\n",
       "    <tr>\n",
       "      <th>y1_sterling_a</th>\n",
       "      <td>0.173670</td>\n",
       "      <td>0.158329</td>\n",
       "      <td>1.096888</td>\n",
       "      <td>-0.199960</td>\n",
       "    </tr>\n",
       "    <tr>\n",
       "      <th>y1_kappa_a</th>\n",
       "      <td>0.152049</td>\n",
       "      <td>0.144550</td>\n",
       "      <td>1.051881</td>\n",
       "      <td>-0.189915</td>\n",
       "    </tr>\n",
       "    <tr>\n",
       "      <th>y1_sor_a</th>\n",
       "      <td>0.158247</td>\n",
       "      <td>0.153056</td>\n",
       "      <td>1.033919</td>\n",
       "      <td>-0.200076</td>\n",
       "    </tr>\n",
       "    <tr>\n",
       "      <th>y1_jensen_a</th>\n",
       "      <td>0.221614</td>\n",
       "      <td>0.219352</td>\n",
       "      <td>1.010312</td>\n",
       "      <td>-0.261133</td>\n",
       "    </tr>\n",
       "    <tr>\n",
       "      <th>m6_stdev_a</th>\n",
       "      <td>0.238310</td>\n",
       "      <td>0.236800</td>\n",
       "      <td>1.006375</td>\n",
       "      <td>-0.239071</td>\n",
       "    </tr>\n",
       "    <tr>\n",
       "      <th>m6_stdev</th>\n",
       "      <td>0.238310</td>\n",
       "      <td>0.236800</td>\n",
       "      <td>1.006375</td>\n",
       "      <td>-0.239071</td>\n",
       "    </tr>\n",
       "    <tr>\n",
       "      <th>total_kurtosis</th>\n",
       "      <td>0.102448</td>\n",
       "      <td>0.102183</td>\n",
       "      <td>1.002590</td>\n",
       "      <td>-0.104307</td>\n",
       "    </tr>\n",
       "    <tr>\n",
       "      <th>year_persistence</th>\n",
       "      <td>0.150285</td>\n",
       "      <td>0.151190</td>\n",
       "      <td>0.994010</td>\n",
       "      <td>-0.187177</td>\n",
       "    </tr>\n",
       "  </tbody>\n",
       "</table>\n",
       "</div>"
      ],
      "text/plain": [
       "                      mean  volatility    sharpe  max_drawdown\n",
       "y1_pain_ratio     0.179827    0.162796  1.104619     -0.213418\n",
       "y1_calmar_a       0.186663    0.169246  1.102908     -0.175274\n",
       "y1_sterling_a     0.173670    0.158329  1.096888     -0.199960\n",
       "y1_kappa_a        0.152049    0.144550  1.051881     -0.189915\n",
       "y1_sor_a          0.158247    0.153056  1.033919     -0.200076\n",
       "y1_jensen_a       0.221614    0.219352  1.010312     -0.261133\n",
       "m6_stdev_a        0.238310    0.236800  1.006375     -0.239071\n",
       "m6_stdev          0.238310    0.236800  1.006375     -0.239071\n",
       "total_kurtosis    0.102448    0.102183  1.002590     -0.104307\n",
       "year_persistence  0.150285    0.151190  0.994010     -0.187177"
      ]
     },
     "execution_count": 153,
     "metadata": {},
     "output_type": "execute_result"
    }
   ],
   "source": [
    "performance_df.sort_values(by='sharpe', ascending=False).head(10)"
   ]
  },
  {
   "cell_type": "code",
   "execution_count": 154,
   "id": "2b2f0446",
   "metadata": {},
   "outputs": [
    {
     "data": {
      "text/html": [
       "<div>\n",
       "<style scoped>\n",
       "    .dataframe tbody tr th:only-of-type {\n",
       "        vertical-align: middle;\n",
       "    }\n",
       "\n",
       "    .dataframe tbody tr th {\n",
       "        vertical-align: top;\n",
       "    }\n",
       "\n",
       "    .dataframe thead th {\n",
       "        text-align: right;\n",
       "    }\n",
       "</style>\n",
       "<table border=\"1\" class=\"dataframe\">\n",
       "  <thead>\n",
       "    <tr style=\"text-align: right;\">\n",
       "      <th></th>\n",
       "      <th>mean</th>\n",
       "      <th>volatility</th>\n",
       "      <th>sharpe</th>\n",
       "      <th>max_drawdown</th>\n",
       "    </tr>\n",
       "  </thead>\n",
       "  <tbody>\n",
       "    <tr>\n",
       "      <th>stock_income</th>\n",
       "      <td>0.091249</td>\n",
       "      <td>0.116551</td>\n",
       "      <td>0.782910</td>\n",
       "      <td>-0.104101</td>\n",
       "    </tr>\n",
       "    <tr>\n",
       "      <th>total_kurtosis</th>\n",
       "      <td>0.102448</td>\n",
       "      <td>0.102183</td>\n",
       "      <td>1.002590</td>\n",
       "      <td>-0.104307</td>\n",
       "    </tr>\n",
       "    <tr>\n",
       "      <th>trustee_payable</th>\n",
       "      <td>0.086017</td>\n",
       "      <td>0.114385</td>\n",
       "      <td>0.752000</td>\n",
       "      <td>-0.106165</td>\n",
       "    </tr>\n",
       "    <tr>\n",
       "      <th>paid_up_capital</th>\n",
       "      <td>0.038507</td>\n",
       "      <td>0.087806</td>\n",
       "      <td>0.438549</td>\n",
       "      <td>-0.111458</td>\n",
       "    </tr>\n",
       "    <tr>\n",
       "      <th>total_sterling_a</th>\n",
       "      <td>0.099591</td>\n",
       "      <td>0.151370</td>\n",
       "      <td>0.657932</td>\n",
       "      <td>-0.129332</td>\n",
       "    </tr>\n",
       "    <tr>\n",
       "      <th>...</th>\n",
       "      <td>...</td>\n",
       "      <td>...</td>\n",
       "      <td>...</td>\n",
       "      <td>...</td>\n",
       "    </tr>\n",
       "    <tr>\n",
       "      <th>m3_beta</th>\n",
       "      <td>0.101952</td>\n",
       "      <td>0.203506</td>\n",
       "      <td>0.500979</td>\n",
       "      <td>-0.369731</td>\n",
       "    </tr>\n",
       "    <tr>\n",
       "      <th>quarter_return</th>\n",
       "      <td>0.134461</td>\n",
       "      <td>0.223318</td>\n",
       "      <td>0.602104</td>\n",
       "      <td>-0.376827</td>\n",
       "    </tr>\n",
       "    <tr>\n",
       "      <th>m3_stdev_a</th>\n",
       "      <td>0.144172</td>\n",
       "      <td>0.216883</td>\n",
       "      <td>0.664747</td>\n",
       "      <td>-0.407719</td>\n",
       "    </tr>\n",
       "    <tr>\n",
       "      <th>m3_stdev</th>\n",
       "      <td>0.147421</td>\n",
       "      <td>0.217277</td>\n",
       "      <td>0.678494</td>\n",
       "      <td>-0.407719</td>\n",
       "    </tr>\n",
       "    <tr>\n",
       "      <th>m6_beta</th>\n",
       "      <td>0.135343</td>\n",
       "      <td>0.211970</td>\n",
       "      <td>0.638499</td>\n",
       "      <td>-0.408565</td>\n",
       "    </tr>\n",
       "  </tbody>\n",
       "</table>\n",
       "<p>227 rows × 4 columns</p>\n",
       "</div>"
      ],
      "text/plain": [
       "                      mean  volatility    sharpe  max_drawdown\n",
       "stock_income      0.091249    0.116551  0.782910     -0.104101\n",
       "total_kurtosis    0.102448    0.102183  1.002590     -0.104307\n",
       "trustee_payable   0.086017    0.114385  0.752000     -0.106165\n",
       "paid_up_capital   0.038507    0.087806  0.438549     -0.111458\n",
       "total_sterling_a  0.099591    0.151370  0.657932     -0.129332\n",
       "...                    ...         ...       ...           ...\n",
       "m3_beta           0.101952    0.203506  0.500979     -0.369731\n",
       "quarter_return    0.134461    0.223318  0.602104     -0.376827\n",
       "m3_stdev_a        0.144172    0.216883  0.664747     -0.407719\n",
       "m3_stdev          0.147421    0.217277  0.678494     -0.407719\n",
       "m6_beta           0.135343    0.211970  0.638499     -0.408565\n",
       "\n",
       "[227 rows x 4 columns]"
      ]
     },
     "execution_count": 154,
     "metadata": {},
     "output_type": "execute_result"
    }
   ],
   "source": [
    "performance_df.sort_values(by='max_drawdown', ascending=False)"
   ]
  },
  {
   "cell_type": "code",
   "execution_count": 155,
   "id": "3e5586e4",
   "metadata": {},
   "outputs": [
    {
     "data": {
      "text/html": [
       "<div>\n",
       "<style scoped>\n",
       "    .dataframe tbody tr th:only-of-type {\n",
       "        vertical-align: middle;\n",
       "    }\n",
       "\n",
       "    .dataframe tbody tr th {\n",
       "        vertical-align: top;\n",
       "    }\n",
       "\n",
       "    .dataframe thead th {\n",
       "        text-align: right;\n",
       "    }\n",
       "</style>\n",
       "<table border=\"1\" class=\"dataframe\">\n",
       "  <thead>\n",
       "    <tr style=\"text-align: right;\">\n",
       "      <th></th>\n",
       "      <th>mean</th>\n",
       "      <th>volatility</th>\n",
       "      <th>sharpe</th>\n",
       "      <th>max_drawdown</th>\n",
       "    </tr>\n",
       "  </thead>\n",
       "  <tbody>\n",
       "    <tr>\n",
       "      <th>y1_assess_ratio</th>\n",
       "      <td>0.021531</td>\n",
       "      <td>0.075036</td>\n",
       "      <td>0.286941</td>\n",
       "      <td>-0.132329</td>\n",
       "    </tr>\n",
       "    <tr>\n",
       "      <th>total_con_rise_days</th>\n",
       "      <td>0.005353</td>\n",
       "      <td>0.083791</td>\n",
       "      <td>0.063890</td>\n",
       "      <td>-0.184093</td>\n",
       "    </tr>\n",
       "    <tr>\n",
       "      <th>total_return_Msqr</th>\n",
       "      <td>-0.008555</td>\n",
       "      <td>0.084407</td>\n",
       "      <td>-0.101350</td>\n",
       "      <td>-0.222066</td>\n",
       "    </tr>\n",
       "    <tr>\n",
       "      <th>m6_assess_ratio</th>\n",
       "      <td>0.001614</td>\n",
       "      <td>0.087170</td>\n",
       "      <td>0.018515</td>\n",
       "      <td>-0.157462</td>\n",
       "    </tr>\n",
       "    <tr>\n",
       "      <th>total_assess_ratio</th>\n",
       "      <td>0.007980</td>\n",
       "      <td>0.087189</td>\n",
       "      <td>0.091525</td>\n",
       "      <td>-0.181950</td>\n",
       "    </tr>\n",
       "    <tr>\n",
       "      <th>...</th>\n",
       "      <td>...</td>\n",
       "      <td>...</td>\n",
       "      <td>...</td>\n",
       "      <td>...</td>\n",
       "    </tr>\n",
       "    <tr>\n",
       "      <th>m3_return_a</th>\n",
       "      <td>0.171814</td>\n",
       "      <td>0.245652</td>\n",
       "      <td>0.699419</td>\n",
       "      <td>-0.271329</td>\n",
       "    </tr>\n",
       "    <tr>\n",
       "      <th>m3_return</th>\n",
       "      <td>0.175931</td>\n",
       "      <td>0.245697</td>\n",
       "      <td>0.716048</td>\n",
       "      <td>-0.271329</td>\n",
       "    </tr>\n",
       "    <tr>\n",
       "      <th>m6_max_return</th>\n",
       "      <td>0.208173</td>\n",
       "      <td>0.249539</td>\n",
       "      <td>0.834232</td>\n",
       "      <td>-0.293471</td>\n",
       "    </tr>\n",
       "    <tr>\n",
       "      <th>m3_unsys_risk</th>\n",
       "      <td>0.207635</td>\n",
       "      <td>0.253251</td>\n",
       "      <td>0.819879</td>\n",
       "      <td>-0.261258</td>\n",
       "    </tr>\n",
       "    <tr>\n",
       "      <th>m6_unsys_risk</th>\n",
       "      <td>0.246465</td>\n",
       "      <td>0.260582</td>\n",
       "      <td>0.945826</td>\n",
       "      <td>-0.231077</td>\n",
       "    </tr>\n",
       "  </tbody>\n",
       "</table>\n",
       "<p>227 rows × 4 columns</p>\n",
       "</div>"
      ],
      "text/plain": [
       "                         mean  volatility    sharpe  max_drawdown\n",
       "y1_assess_ratio      0.021531    0.075036  0.286941     -0.132329\n",
       "total_con_rise_days  0.005353    0.083791  0.063890     -0.184093\n",
       "total_return_Msqr   -0.008555    0.084407 -0.101350     -0.222066\n",
       "m6_assess_ratio      0.001614    0.087170  0.018515     -0.157462\n",
       "total_assess_ratio   0.007980    0.087189  0.091525     -0.181950\n",
       "...                       ...         ...       ...           ...\n",
       "m3_return_a          0.171814    0.245652  0.699419     -0.271329\n",
       "m3_return            0.175931    0.245697  0.716048     -0.271329\n",
       "m6_max_return        0.208173    0.249539  0.834232     -0.293471\n",
       "m3_unsys_risk        0.207635    0.253251  0.819879     -0.261258\n",
       "m6_unsys_risk        0.246465    0.260582  0.945826     -0.231077\n",
       "\n",
       "[227 rows x 4 columns]"
      ]
     },
     "execution_count": 155,
     "metadata": {},
     "output_type": "execute_result"
    }
   ],
   "source": [
    "performance_df.sort_values(by='volatility')"
   ]
  },
  {
   "cell_type": "markdown",
   "id": "148727b6",
   "metadata": {},
   "source": [
    "### In Sasmple Quantile Trading top 5 random features with no delay"
   ]
  },
  {
   "cell_type": "code",
   "execution_count": 160,
   "id": "58485f6e",
   "metadata": {},
   "outputs": [],
   "source": [
    "pnl_5_feature_random = random_feature_quantile(data, top_20_feature, 5, 1, 100)"
   ]
  },
  {
   "cell_type": "code",
   "execution_count": 39,
   "id": "5a5c7696",
   "metadata": {},
   "outputs": [],
   "source": [
    "# Sort features in terms of total cumulative pnl and pick top 20\n",
    "\n",
    "top_5_comb = top_features(pnl_5_feature_random, 5)"
   ]
  },
  {
   "cell_type": "code",
   "execution_count": 40,
   "id": "7130bd7d",
   "metadata": {},
   "outputs": [
    {
     "data": {
      "image/png": "[encoded data removed]",
      "text/plain": [
       "<Figure size 432x288 with 1 Axes>"
      ]
     },
     "metadata": {
      "needs_background": "light"
     },
     "output_type": "display_data"
    }
   ],
   "source": [
    "plot_features(pnl_5_feature_random, top_5_comb)"
   ]
  },
  {
   "cell_type": "code",
   "execution_count": 399,
   "id": "d5106801",
   "metadata": {},
   "outputs": [],
   "source": [
    "# pnl_top_20 = quantile_all_features(data, top_20_feature, 5, 1)"
   ]
  },
  {
   "cell_type": "code",
   "execution_count": 400,
   "id": "c0dea878",
   "metadata": {},
   "outputs": [],
   "source": [
    "# for fea in top_20_feature[-5:]:\n",
    "#     plt.plot(np.cumsum(pnl_top_20[fea]))\n",
    "# plt.legend(top_20_feature[-5:])\n",
    "# plt.title('cumulative pnl over 60 months using quantile trading with one feature but with rebalacing every two months')\n",
    "# plt.xlabel('month since 2017-01-01')\n",
    "# plt.ylabel('dollar')"
   ]
  },
  {
   "cell_type": "markdown",
   "id": "2f714e36",
   "metadata": {},
   "source": [
    "### Process Return Data"
   ]
  },
  {
   "cell_type": "code",
   "execution_count": 132,
   "id": "e8e9da4d",
   "metadata": {},
   "outputs": [],
   "source": [
    "# Fund ids in the pickle data\n",
    "fund_ids = list(data.fund_id.unique())\n",
    "fund_ids = tuple([f\"{x:06d}\" for x in fund_ids])"
   ]
  },
  {
   "cell_type": "code",
   "execution_count": 133,
   "id": "b95878a9",
   "metadata": {},
   "outputs": [],
   "source": [
    "return_query = (\"\"\"select fund_id, statistic_date,added_nav from fund_nv\n",
    "where fund_id in {fund_id}\n",
    "and \n",
    "statistic_date > '2017-01-01'\"\"\")"
   ]
  },
  {
   "cell_type": "code",
   "execution_count": 134,
   "id": "240da850",
   "metadata": {},
   "outputs": [],
   "source": [
    "s = sql.sqlconnector(credentials.HOST,credentials.USER,credentials.PASSWORD,credentials.PORT,'product_mutual')"
   ]
  },
  {
   "cell_type": "code",
   "execution_count": 135,
   "id": "a4316aa6",
   "metadata": {},
   "outputs": [
    {
     "name": "stdout",
     "output_type": "stream",
     "text": [
      "Connection Success\n"
     ]
    }
   ],
   "source": [
    "s.connect()"
   ]
  },
  {
   "cell_type": "code",
   "execution_count": 136,
   "id": "93ef8bcf",
   "metadata": {},
   "outputs": [],
   "source": [
    "df_return = s.fetch(return_query.format(fund_id = fund_ids))"
   ]
  },
  {
   "cell_type": "code",
   "execution_count": 137,
   "id": "c749b4f3",
   "metadata": {
    "scrolled": true
   },
   "outputs": [],
   "source": [
    "# Calculate forward monthly return\n",
    "df_return.fund_id = pd.to_numeric(df_return.fund_id)\n",
    "df_return.statistic_date = pd.to_datetime(df_return.statistic_date)\n",
    "#df.added_nav = pd.to_numeric(df.added_nav)\n",
    "\n",
    "df_monthly_return = []\n",
    "\n",
    "for fund in fund_ids:\n",
    "    df = df_return[df_return.fund_id == int(fund)].copy()\n",
    "    df['added_nav'] = df['added_nav'].replace({0:np.nan})\n",
    "    df.index = df.statistic_date\n",
    "    idx = pd.date_range(df.index[0], df.index[-1])\n",
    "    df = df.reindex(idx).fillna(method='ffill')\n",
    "    \n",
    "    after = df.reindex(df.index + pd.DateOffset(months=1))\n",
    "    after.index = df.index\n",
    "    df['added_return_monthly'] = after['added_nav']/df['added_nav'] - 1\n",
    "    \n",
    "    df_monthly_return.append(df)"
   ]
  },
  {
   "cell_type": "code",
   "execution_count": 138,
   "id": "1d0f2dde",
   "metadata": {},
   "outputs": [],
   "source": [
    "df_ret = pd.concat(df_monthly_return,axis=0)\n",
    "df_ret = df_ret.rename({'added_return_monthly': 'ret'}, axis=1)\n",
    "df_ret.ret = pd.to_numeric(df_ret.ret)\n",
    "df_ret = df_ret.drop(['statistic_date'], axis=1)\n",
    "df_ret.reset_index(inplace=True)\n",
    "df_ret = df_ret.rename({'index': 'statistic_date'}, axis=1)\n",
    "df_ret['ret'] = df_ret['ret'].replace({np.nan:0})"
   ]
  },
  {
   "cell_type": "code",
   "execution_count": 139,
   "id": "4dab027d",
   "metadata": {},
   "outputs": [
    {
     "data": {
      "text/html": [
       "<div>\n",
       "<style scoped>\n",
       "    .dataframe tbody tr th:only-of-type {\n",
       "        vertical-align: middle;\n",
       "    }\n",
       "\n",
       "    .dataframe tbody tr th {\n",
       "        vertical-align: top;\n",
       "    }\n",
       "\n",
       "    .dataframe thead th {\n",
       "        text-align: right;\n",
       "    }\n",
       "</style>\n",
       "<table border=\"1\" class=\"dataframe\">\n",
       "  <thead>\n",
       "    <tr style=\"text-align: right;\">\n",
       "      <th></th>\n",
       "      <th>statistic_date</th>\n",
       "      <th>fund_id</th>\n",
       "      <th>added_nav</th>\n",
       "      <th>ret</th>\n",
       "    </tr>\n",
       "  </thead>\n",
       "  <tbody>\n",
       "    <tr>\n",
       "      <th>0</th>\n",
       "      <td>2017-01-03</td>\n",
       "      <td>8.0</td>\n",
       "      <td>1.714600</td>\n",
       "      <td>-0.015164</td>\n",
       "    </tr>\n",
       "    <tr>\n",
       "      <th>1</th>\n",
       "      <td>2017-01-04</td>\n",
       "      <td>8.0</td>\n",
       "      <td>1.733500</td>\n",
       "      <td>-0.025901</td>\n",
       "    </tr>\n",
       "    <tr>\n",
       "      <th>2</th>\n",
       "      <td>2017-01-05</td>\n",
       "      <td>8.0</td>\n",
       "      <td>1.734700</td>\n",
       "      <td>-0.026575</td>\n",
       "    </tr>\n",
       "    <tr>\n",
       "      <th>3</th>\n",
       "      <td>2017-01-06</td>\n",
       "      <td>8.0</td>\n",
       "      <td>1.728000</td>\n",
       "      <td>-0.015162</td>\n",
       "    </tr>\n",
       "    <tr>\n",
       "      <th>4</th>\n",
       "      <td>2017-01-07</td>\n",
       "      <td>8.0</td>\n",
       "      <td>1.728000</td>\n",
       "      <td>-0.015683</td>\n",
       "    </tr>\n",
       "  </tbody>\n",
       "</table>\n",
       "</div>"
      ],
      "text/plain": [
       "  statistic_date  fund_id added_nav       ret\n",
       "0     2017-01-03      8.0  1.714600 -0.015164\n",
       "1     2017-01-04      8.0  1.733500 -0.025901\n",
       "2     2017-01-05      8.0  1.734700 -0.026575\n",
       "3     2017-01-06      8.0  1.728000 -0.015162\n",
       "4     2017-01-07      8.0  1.728000 -0.015683"
      ]
     },
     "execution_count": 139,
     "metadata": {},
     "output_type": "execute_result"
    }
   ],
   "source": [
    "df_ret.head()"
   ]
  },
  {
   "cell_type": "code",
   "execution_count": 140,
   "id": "9817c82a",
   "metadata": {},
   "outputs": [],
   "source": [
    "df_ret.to_pickle('ret.pickle')"
   ]
  },
  {
   "cell_type": "markdown",
   "id": "864b8ecf",
   "metadata": {},
   "source": [
    "### Delayed Quantile Trading"
   ]
  },
  {
   "cell_type": "code",
   "execution_count": 12,
   "id": "67c2226d",
   "metadata": {},
   "outputs": [],
   "source": [
    "pnl_5d_delay = quantile_delayed(data, df_ret, top_20_feature, num_funds=5)"
   ]
  },
  {
   "cell_type": "code",
   "execution_count": 64,
   "id": "9ff5687e",
   "metadata": {},
   "outputs": [
    {
     "data": {
      "image/png": "[encoded data removed]",
      "text/plain": [
       "<Figure size 432x288 with 1 Axes>"
      ]
     },
     "metadata": {
      "needs_background": "light"
     },
     "output_type": "display_data"
    }
   ],
   "source": [
    "top_5_delay = top_features(pnl_5d_delay, 5)\n",
    "plot_features(pnl_5d_delay, top_5_delay)"
   ]
  },
  {
   "cell_type": "code",
   "execution_count": 65,
   "id": "999273f8",
   "metadata": {},
   "outputs": [
    {
     "data": {
      "text/plain": [
       "['y1_jensen_a',\n",
       " 'm6_stdev_a',\n",
       " 'm6_stdev',\n",
       " 'm6_tracking_error_a',\n",
       " 'm3_tracking_error_a']"
      ]
     },
     "execution_count": 65,
     "metadata": {},
     "output_type": "execute_result"
    }
   ],
   "source": [
    "top_5_delay"
   ]
  },
  {
   "cell_type": "code",
   "execution_count": 66,
   "id": "8949eefd",
   "metadata": {},
   "outputs": [],
   "source": [
    "pnl_random_delayed = random_feature_quantile_delayed(data, df_ret, top_20_feature, num_comb=100,num_funds=5)"
   ]
  },
  {
   "cell_type": "code",
   "execution_count": 67,
   "id": "9de47588",
   "metadata": {},
   "outputs": [
    {
     "data": {
      "image/png": "[encoded data removed]",
      "text/plain": [
       "<Figure size 432x288 with 1 Axes>"
      ]
     },
     "metadata": {
      "needs_background": "light"
     },
     "output_type": "display_data"
    }
   ],
   "source": [
    "top_5_delay_ran = top_features(pnl_random_delayed, 5)\n",
    "plot_features(pnl_random_delayed, top_5_delay_ran)"
   ]
  },
  {
   "cell_type": "code",
   "execution_count": 68,
   "id": "7fdaf513",
   "metadata": {},
   "outputs": [],
   "source": [
    "pnl_random_delayed_10 = random_feature_quantile_delayed(data, df_ret, top_20_feature, num_comb=100,num_feature=10,num_funds=5)"
   ]
  },
  {
   "cell_type": "code",
   "execution_count": 69,
   "id": "042b62b3",
   "metadata": {},
   "outputs": [
    {
     "data": {
      "image/png": "[encoded data removed]",
      "text/plain": [
       "<Figure size 432x288 with 1 Axes>"
      ]
     },
     "metadata": {
      "needs_background": "light"
     },
     "output_type": "display_data"
    }
   ],
   "source": [
    "top_10_delay_ran = top_features(pnl_random_delayed_10, 5)\n",
    "plot_features(pnl_random_delayed_10, top_10_delay_ran)"
   ]
  },
  {
   "cell_type": "markdown",
   "id": "e5bee668",
   "metadata": {},
   "source": [
    "### Backtesting"
   ]
  },
  {
   "cell_type": "code",
   "execution_count": 99,
   "id": "16ef0649",
   "metadata": {},
   "outputs": [],
   "source": [
    "# def backtest(data, return_data, all_features, num_features = 5, num_funds=50, month=1, look_back=3, delay=5 , positioning = True, redemption_cost = 0.001):\n",
    "    \n",
    "#     selected_features_all = []\n",
    "#     dates = sorted(pd.to_datetime(data.statistic_date.unique()))\n",
    "#     pnl = []\n",
    "#     selected_funds = []\n",
    "#     for i, date in enumerate(dates[look_back::month]):\n",
    "#         #print(i, date)\n",
    "#         pnl_period = quantile_delayed(data[(data.statistic_date >= dates[i-look_back]) & (data.statistic_date <= date)], return_data[(return_data.statistic_date >= dates[i-look_back]) & (return_data.statistic_date <= date)], all_features, num_funds=5, month=1, delay=5)\n",
    "#         features = top_features(pnl_period, num_features)\n",
    "#         selected_features_all.append(features)\n",
    "#         col = features+['fund_id', 'ret']\n",
    "#         df = data[data.statistic_date == date][col].dropna()\n",
    "#         df['score'] = stats.zscore(df[features]).sum(axis=1)\n",
    "#         ret = 0\n",
    "#         df = df.sort_values(by='score', ascending=False)\n",
    "#         funds = list(df.fund_id[:num_funds])\n",
    "#         selected_funds.append(funds)\n",
    "        \n",
    "#         if positioning:\n",
    "#             size = np.array([max(1/(i+1) - 1/50,0) for i in range(num_funds)])\n",
    "#             size = 1 / sum(size) * size\n",
    "#         else:\n",
    "#             size = [1 / num_funds for i in range(num_fund)]\n",
    "        \n",
    "#         for j,fund in enumerate(funds):\n",
    "#             ret_per_fund = 1\n",
    "#             management_cost = data[(data.statistic_date == date) & (data.fund_id==fund)]['fee'].values[0] \n",
    "#             purchase_cost = management_cost / 10\n",
    "#             for i in range(month):\n",
    "#                 month_ret = return_data[(return_data.statistic_date == (date + pd.DateOffset(months=i)+pd.Timedelta(str(delay)+'d'))) & (return_data.fund_id == fund)].ret.values\n",
    "#                 if month_ret.size > 0:\n",
    "#                     ret_per_fund *= ((1 + month_ret[0] * size[j]) * (1 - purchase_cost - management_cost / 12 - redemption_cost))\n",
    "#                 else:\n",
    "#                     break\n",
    "#             ret_per_fund = ret_per_fund\n",
    "#             ret += ret_per_fund-1\n",
    "#         pnl.append(ret)\n",
    "        \n",
    "#     return pnl, selected_features_all, selected_funds"
   ]
  },
  {
   "cell_type": "code",
   "execution_count": 101,
   "id": "882f846f",
   "metadata": {},
   "outputs": [],
   "source": [
    "def backtest(data, return_data, all_features, num_features = 5, num_funds=50, month=1, look_back=3, delay=5 , positioning = True, redemption_cost = 0.001, K = 200):\n",
    "    \n",
    "    selected_features_all = []\n",
    "    dates = sorted(pd.to_datetime(data.statistic_date.unique()))\n",
    "    pnl = []\n",
    "    selected_funds = []\n",
    "    for i, date in enumerate(dates[look_back:-1:month]):\n",
    "        pnl_period = quantile_delayed(data[(data.statistic_date >= dates[i-look_back]) & (data.statistic_date < date)], return_data[(return_data.statistic_date >= dates[i-look_back]) & (return_data.statistic_date < date)], all_features, num_funds=num_funds, month=month, delay=delay)\n",
    "        features = top_features(pnl_period, num_features)\n",
    "        selected_features_all.append(features)\n",
    "        col = features+['fund_id', 'ret']\n",
    "        df = data[data.statistic_date == date][col].dropna()\n",
    "        df['score'] = stats.zscore(df[features]).sum(axis=1)\n",
    "        ret = 0\n",
    "        df = df.sort_values(by='score', ascending=False)\n",
    "        funds = list(df.fund_id[:num_funds])\n",
    "        selected_funds.append(funds)\n",
    "        \n",
    "        \n",
    "        if positioning:\n",
    "            size = np.array([max(1/(i+1) - 1/50,0) if len(funds) > 0 else 1 for i in range(len(funds))])\n",
    "            if len(size) > 0:\n",
    "                size = 1 / sum(size) * size\n",
    "            else:\n",
    "                size = 1\n",
    "        else:\n",
    "            size = [1 / num_funds for i in range(num_fund)]\n",
    "\n",
    "        \n",
    "        temp_df = return_data[(return_data.statistic_date >= (dates[look_back::month][i] + pd.Timedelta(str(delay)+'d'))) & (return_data.statistic_date <= (dates[look_back::month][i+1]  + pd.Timedelta(str(delay)+'d')))]\n",
    "        temp_df = temp_df.loc[temp_df['fund_id'].isin(funds)]\n",
    "        temp_df = pd.pivot_table(data=temp_df,index=['statistic_date'],columns= ['fund_id'],values=['added_nav'])\n",
    "\n",
    "        if temp_df.shape[0] > 0:\n",
    "            profit = K * (((size) / temp_df.iloc[0] * temp_df).sum(axis=1)).iloc[-1] * (1 - 0.01/10 - 0.01 / 12 - redemption_cost) - K\n",
    "            pnl.append(profit)\n",
    "        else:\n",
    "            pnl.append(0)\n",
    "        \n",
    "    return pnl, selected_features_all, selected_funds"
   ]
  },
  {
   "cell_type": "markdown",
   "id": "3de393da",
   "metadata": {},
   "source": [
    "### Load Optimal Features"
   ]
  },
  {
   "cell_type": "code",
   "execution_count": 102,
   "id": "3ee03387",
   "metadata": {},
   "outputs": [],
   "source": [
    "optimal_features = pd.read_pickle('rf_optimal_features_monthly.pickle')\n",
    "from collections import Counter"
   ]
  },
  {
   "cell_type": "code",
   "execution_count": 103,
   "id": "3c7a1054",
   "metadata": {},
   "outputs": [],
   "source": [
    "opt = [np.array(optimal_features[i]) for i in range(len(optimal_features))]\n",
    "ordered_feat = Counter(np.concatenate(opt,axis=0)).most_common()\n",
    "most_common_feat = [x[0] for x in ordered_feat if x[1]>5]"
   ]
  },
  {
   "cell_type": "markdown",
   "id": "6aaf6d06",
   "metadata": {},
   "source": [
    "### Optimization"
   ]
  },
  {
   "cell_type": "code",
   "execution_count": 104,
   "id": "ecb72958",
   "metadata": {},
   "outputs": [],
   "source": [
    "import optuna\n",
    "from optuna.trial import Trial\n",
    "optuna.logging.set_verbosity(optuna.logging.FATAL)\n",
    "import warnings\n",
    "import pickle\n",
    "warnings.filterwarnings(\"ignore\")\n",
    "from functools import partial"
   ]
  },
  {
   "cell_type": "code",
   "execution_count": 105,
   "id": "d1431b71",
   "metadata": {},
   "outputs": [],
   "source": [
    "def objective(trial:Trial, data = None, df_ret = None, most_common_feat = None):\n",
    "    look_back = trial.suggest_int('look_back', 1,6,step=1)\n",
    "    delay = trial.suggest_int('delay', 3,5,step=1)\n",
    "    num_funds = trial.suggest_int('num_funds', 4,20,step=2)\n",
    "    num_features = trial.suggest_int('num_features', 1,50,step=5)\n",
    "    pl, f, _ = backtest(data, df_ret, most_common_feat, num_features = num_features, num_funds= num_funds,month=1,look_back=look_back, delay=delay)\n",
    "    profit = (np.cumsum(pl)+1)[-1]\n",
    "    return profit"
   ]
  },
  {
   "cell_type": "code",
   "execution_count": 18,
   "id": "0c7ed6e5",
   "metadata": {},
   "outputs": [],
   "source": [
    "data = load_data('data_new.pickle')\n",
    "df_ret = pd.read_pickle('ret.pickle')\n",
    "df_csi = pd.read_pickle('benchmark.pickle')\n",
    "optimal_features = pd.read_pickle('rf_optimal_features_monthly.pickle')\n",
    "dates = sorted(data.statistic_date.unique())"
   ]
  },
  {
   "cell_type": "code",
   "execution_count": 106,
   "id": "825a2fa0",
   "metadata": {},
   "outputs": [],
   "source": [
    "study = optuna.create_study(direction=\"maximize\")"
   ]
  },
  {
   "cell_type": "code",
   "execution_count": null,
   "id": "23abfa3a",
   "metadata": {
    "scrolled": true
   },
   "outputs": [],
   "source": [
    "%%time\n",
    "study.optimize(partial(objective,data = data, df_ret = df_ret, most_common_feat = most_common_feat), n_trials=2,n_jobs=-1)"
   ]
  },
  {
   "cell_type": "code",
   "execution_count": 21,
   "id": "242981ed",
   "metadata": {},
   "outputs": [],
   "source": [
    "study.best_params"
   ]
  },
  {
   "cell_type": "code",
   "execution_count": 50,
   "id": "d1e1fc95",
   "metadata": {},
   "outputs": [],
   "source": [
    "best_params_saved = {'look_back': 3, 'delay': 3, 'num_funds': 4, 'num_features': 11}"
   ]
  },
  {
   "cell_type": "code",
   "execution_count": 94,
   "id": "5f9b1db6",
   "metadata": {
    "scrolled": true
   },
   "outputs": [
    {
     "name": "stdout",
     "output_type": "stream",
     "text": [
      "0 2017-04-30 00:00:00\n",
      "1 2017-05-31 00:00:00\n",
      "2 2017-06-30 00:00:00\n",
      "3 2017-07-31 00:00:00\n",
      "4 2017-08-31 00:00:00\n",
      "5 2017-09-30 00:00:00\n",
      "6 2017-10-31 00:00:00\n",
      "7 2017-11-30 00:00:00\n",
      "8 2017-12-31 00:00:00\n",
      "9 2018-01-31 00:00:00\n",
      "10 2018-02-28 00:00:00\n",
      "11 2018-03-31 00:00:00\n",
      "12 2018-04-30 00:00:00\n",
      "13 2018-05-31 00:00:00\n",
      "14 2018-06-30 00:00:00\n",
      "15 2018-07-31 00:00:00\n",
      "16 2018-08-31 00:00:00\n",
      "17 2018-09-30 00:00:00\n",
      "18 2018-10-31 00:00:00\n",
      "19 2018-11-30 00:00:00\n",
      "20 2018-12-31 00:00:00\n",
      "21 2019-01-31 00:00:00\n",
      "22 2019-02-28 00:00:00\n",
      "23 2019-03-31 00:00:00\n",
      "24 2019-04-30 00:00:00\n",
      "25 2019-05-31 00:00:00\n",
      "26 2019-06-30 00:00:00\n",
      "27 2019-07-31 00:00:00\n",
      "28 2019-08-31 00:00:00\n",
      "29 2019-09-30 00:00:00\n",
      "30 2019-10-31 00:00:00\n",
      "31 2019-11-30 00:00:00\n",
      "32 2019-12-31 00:00:00\n",
      "33 2020-01-31 00:00:00\n",
      "34 2020-02-29 00:00:00\n",
      "35 2020-03-31 00:00:00\n",
      "36 2020-04-30 00:00:00\n",
      "37 2020-05-31 00:00:00\n",
      "38 2020-06-30 00:00:00\n",
      "39 2020-07-31 00:00:00\n",
      "40 2020-08-31 00:00:00\n",
      "41 2020-09-30 00:00:00\n",
      "42 2020-10-31 00:00:00\n",
      "43 2020-11-30 00:00:00\n",
      "44 2020-12-31 00:00:00\n",
      "45 2021-01-31 00:00:00\n",
      "46 2021-02-28 00:00:00\n",
      "47 2021-03-31 00:00:00\n",
      "48 2021-04-30 00:00:00\n",
      "49 2021-05-31 00:00:00\n",
      "50 2021-06-30 00:00:00\n",
      "51 2021-07-31 00:00:00\n",
      "52 2021-08-31 00:00:00\n",
      "53 2021-09-30 00:00:00\n",
      "54 2021-10-31 00:00:00\n",
      "55 2021-11-30 00:00:00\n",
      "56 2021-12-31 00:00:00\n",
      "57 2022-01-31 00:00:00\n",
      "CPU times: user 36.3 s, sys: 142 ms, total: 36.4 s\n",
      "Wall time: 36.5 s\n"
     ]
    }
   ],
   "source": [
    "%%time\n",
    "pl, f, funds = backtest(data, df_ret,  most_common_feat,month =1, redemption_cost= 0.005, **best_params_saved )"
   ]
  },
  {
   "cell_type": "code",
   "execution_count": 98,
   "id": "ace09c0e",
   "metadata": {},
   "outputs": [
    {
     "data": {
      "text/plain": [
       "Text(0.5, 1.0, 'Best Performing Strategy')"
      ]
     },
     "execution_count": 98,
     "metadata": {},
     "output_type": "execute_result"
    },
    {
     "data": {
      "image/png": "[encoded data removed]",
      "text/plain": [
       "<Figure size 432x288 with 1 Axes>"
      ]
     },
     "metadata": {
      "needs_background": "light"
     },
     "output_type": "display_data"
    }
   ],
   "source": [
    "plt.plot(1 + np.cumsum(pl))\n",
    "plt.title('Best Performing Strategy')"
   ]
  },
  {
   "cell_type": "markdown",
   "id": "e8a798d1",
   "metadata": {},
   "source": [
    "# Cost Analysis"
   ]
  },
  {
   "cell_type": "code",
   "execution_count": 75,
   "id": "7522a136",
   "metadata": {},
   "outputs": [
    {
     "data": {
      "application/vnd.jupyter.widget-view+json": {
       "model_id": "defdec2cfc7848b1b6f3a9d46923946d",
       "version_major": 2,
       "version_minor": 0
      },
      "text/plain": [
       "  0%|          | 0/4 [00:00<?, ?it/s]"
      ]
     },
     "metadata": {},
     "output_type": "display_data"
    },
    {
     "name": "stdout",
     "output_type": "stream",
     "text": [
      "0 2017-04-30 00:00:00\n",
      "1 2017-05-31 00:00:00\n",
      "2 2017-06-30 00:00:00\n",
      "3 2017-07-31 00:00:00\n",
      "4 2017-08-31 00:00:00\n",
      "5 2017-09-30 00:00:00\n",
      "6 2017-10-31 00:00:00\n",
      "7 2017-11-30 00:00:00\n",
      "8 2017-12-31 00:00:00\n",
      "9 2018-01-31 00:00:00\n",
      "10 2018-02-28 00:00:00\n",
      "11 2018-03-31 00:00:00\n",
      "12 2018-04-30 00:00:00\n",
      "13 2018-05-31 00:00:00\n",
      "14 2018-06-30 00:00:00\n",
      "15 2018-07-31 00:00:00\n",
      "16 2018-08-31 00:00:00\n",
      "17 2018-09-30 00:00:00\n",
      "18 2018-10-31 00:00:00\n",
      "19 2018-11-30 00:00:00\n",
      "20 2018-12-31 00:00:00\n",
      "21 2019-01-31 00:00:00\n",
      "22 2019-02-28 00:00:00\n",
      "23 2019-03-31 00:00:00\n",
      "24 2019-04-30 00:00:00\n",
      "25 2019-05-31 00:00:00\n",
      "26 2019-06-30 00:00:00\n",
      "27 2019-07-31 00:00:00\n",
      "28 2019-08-31 00:00:00\n",
      "29 2019-09-30 00:00:00\n",
      "30 2019-10-31 00:00:00\n",
      "31 2019-11-30 00:00:00\n",
      "32 2019-12-31 00:00:00\n",
      "33 2020-01-31 00:00:00\n",
      "34 2020-02-29 00:00:00\n",
      "35 2020-03-31 00:00:00\n",
      "36 2020-04-30 00:00:00\n",
      "37 2020-05-31 00:00:00\n",
      "38 2020-06-30 00:00:00\n",
      "39 2020-07-31 00:00:00\n",
      "40 2020-08-31 00:00:00\n",
      "41 2020-09-30 00:00:00\n",
      "42 2020-10-31 00:00:00\n",
      "43 2020-11-30 00:00:00\n",
      "44 2020-12-31 00:00:00\n",
      "45 2021-01-31 00:00:00\n",
      "46 2021-02-28 00:00:00\n",
      "47 2021-03-31 00:00:00\n",
      "48 2021-04-30 00:00:00\n",
      "49 2021-05-31 00:00:00\n",
      "50 2021-06-30 00:00:00\n",
      "51 2021-07-31 00:00:00\n",
      "52 2021-08-31 00:00:00\n",
      "53 2021-09-30 00:00:00\n",
      "54 2021-10-31 00:00:00\n",
      "55 2021-11-30 00:00:00\n",
      "56 2021-12-31 00:00:00\n",
      "57 2022-01-31 00:00:00\n",
      "0 2017-04-30 00:00:00\n",
      "1 2017-05-31 00:00:00\n",
      "2 2017-06-30 00:00:00\n",
      "3 2017-07-31 00:00:00\n",
      "4 2017-08-31 00:00:00\n",
      "5 2017-09-30 00:00:00\n",
      "6 2017-10-31 00:00:00\n",
      "7 2017-11-30 00:00:00\n",
      "8 2017-12-31 00:00:00\n",
      "9 2018-01-31 00:00:00\n",
      "10 2018-02-28 00:00:00\n",
      "11 2018-03-31 00:00:00\n",
      "12 2018-04-30 00:00:00\n",
      "13 2018-05-31 00:00:00\n",
      "14 2018-06-30 00:00:00\n",
      "15 2018-07-31 00:00:00\n",
      "16 2018-08-31 00:00:00\n",
      "17 2018-09-30 00:00:00\n",
      "18 2018-10-31 00:00:00\n",
      "19 2018-11-30 00:00:00\n",
      "20 2018-12-31 00:00:00\n",
      "21 2019-01-31 00:00:00\n",
      "22 2019-02-28 00:00:00\n",
      "23 2019-03-31 00:00:00\n",
      "24 2019-04-30 00:00:00\n",
      "25 2019-05-31 00:00:00\n",
      "26 2019-06-30 00:00:00\n",
      "27 2019-07-31 00:00:00\n",
      "28 2019-08-31 00:00:00\n",
      "29 2019-09-30 00:00:00\n",
      "30 2019-10-31 00:00:00\n",
      "31 2019-11-30 00:00:00\n",
      "32 2019-12-31 00:00:00\n",
      "33 2020-01-31 00:00:00\n",
      "34 2020-02-29 00:00:00\n",
      "35 2020-03-31 00:00:00\n",
      "36 2020-04-30 00:00:00\n",
      "37 2020-05-31 00:00:00\n",
      "38 2020-06-30 00:00:00\n",
      "39 2020-07-31 00:00:00\n",
      "40 2020-08-31 00:00:00\n",
      "41 2020-09-30 00:00:00\n",
      "42 2020-10-31 00:00:00\n",
      "43 2020-11-30 00:00:00\n",
      "44 2020-12-31 00:00:00\n",
      "45 2021-01-31 00:00:00\n",
      "46 2021-02-28 00:00:00\n",
      "47 2021-03-31 00:00:00\n",
      "48 2021-04-30 00:00:00\n",
      "49 2021-05-31 00:00:00\n",
      "50 2021-06-30 00:00:00\n",
      "51 2021-07-31 00:00:00\n",
      "52 2021-08-31 00:00:00\n",
      "53 2021-09-30 00:00:00\n",
      "54 2021-10-31 00:00:00\n",
      "55 2021-11-30 00:00:00\n",
      "56 2021-12-31 00:00:00\n",
      "57 2022-01-31 00:00:00\n",
      "0 2017-04-30 00:00:00\n",
      "1 2017-05-31 00:00:00\n",
      "2 2017-06-30 00:00:00\n",
      "3 2017-07-31 00:00:00\n",
      "4 2017-08-31 00:00:00\n",
      "5 2017-09-30 00:00:00\n",
      "6 2017-10-31 00:00:00\n",
      "7 2017-11-30 00:00:00\n",
      "8 2017-12-31 00:00:00\n",
      "9 2018-01-31 00:00:00\n",
      "10 2018-02-28 00:00:00\n",
      "11 2018-03-31 00:00:00\n",
      "12 2018-04-30 00:00:00\n",
      "13 2018-05-31 00:00:00\n",
      "14 2018-06-30 00:00:00\n",
      "15 2018-07-31 00:00:00\n",
      "16 2018-08-31 00:00:00\n",
      "17 2018-09-30 00:00:00\n",
      "18 2018-10-31 00:00:00\n",
      "19 2018-11-30 00:00:00\n",
      "20 2018-12-31 00:00:00\n",
      "21 2019-01-31 00:00:00\n",
      "22 2019-02-28 00:00:00\n",
      "23 2019-03-31 00:00:00\n",
      "24 2019-04-30 00:00:00\n",
      "25 2019-05-31 00:00:00\n",
      "26 2019-06-30 00:00:00\n",
      "27 2019-07-31 00:00:00\n",
      "28 2019-08-31 00:00:00\n",
      "29 2019-09-30 00:00:00\n",
      "30 2019-10-31 00:00:00\n",
      "31 2019-11-30 00:00:00\n",
      "32 2019-12-31 00:00:00\n",
      "33 2020-01-31 00:00:00\n",
      "34 2020-02-29 00:00:00\n",
      "35 2020-03-31 00:00:00\n",
      "36 2020-04-30 00:00:00\n",
      "37 2020-05-31 00:00:00\n",
      "38 2020-06-30 00:00:00\n",
      "39 2020-07-31 00:00:00\n",
      "40 2020-08-31 00:00:00\n",
      "41 2020-09-30 00:00:00\n",
      "42 2020-10-31 00:00:00\n",
      "43 2020-11-30 00:00:00\n",
      "44 2020-12-31 00:00:00\n",
      "45 2021-01-31 00:00:00\n",
      "46 2021-02-28 00:00:00\n",
      "47 2021-03-31 00:00:00\n",
      "48 2021-04-30 00:00:00\n",
      "49 2021-05-31 00:00:00\n",
      "50 2021-06-30 00:00:00\n",
      "51 2021-07-31 00:00:00\n",
      "52 2021-08-31 00:00:00\n",
      "53 2021-09-30 00:00:00\n",
      "54 2021-10-31 00:00:00\n",
      "55 2021-11-30 00:00:00\n",
      "56 2021-12-31 00:00:00\n",
      "57 2022-01-31 00:00:00\n",
      "0 2017-04-30 00:00:00\n",
      "1 2017-05-31 00:00:00\n",
      "2 2017-06-30 00:00:00\n",
      "3 2017-07-31 00:00:00\n",
      "4 2017-08-31 00:00:00\n",
      "5 2017-09-30 00:00:00\n",
      "6 2017-10-31 00:00:00\n",
      "7 2017-11-30 00:00:00\n",
      "8 2017-12-31 00:00:00\n",
      "9 2018-01-31 00:00:00\n",
      "10 2018-02-28 00:00:00\n",
      "11 2018-03-31 00:00:00\n",
      "12 2018-04-30 00:00:00\n",
      "13 2018-05-31 00:00:00\n",
      "14 2018-06-30 00:00:00\n",
      "15 2018-07-31 00:00:00\n",
      "16 2018-08-31 00:00:00\n",
      "17 2018-09-30 00:00:00\n",
      "18 2018-10-31 00:00:00\n",
      "19 2018-11-30 00:00:00\n",
      "20 2018-12-31 00:00:00\n",
      "21 2019-01-31 00:00:00\n",
      "22 2019-02-28 00:00:00\n",
      "23 2019-03-31 00:00:00\n",
      "24 2019-04-30 00:00:00\n",
      "25 2019-05-31 00:00:00\n",
      "26 2019-06-30 00:00:00\n",
      "27 2019-07-31 00:00:00\n",
      "28 2019-08-31 00:00:00\n",
      "29 2019-09-30 00:00:00\n",
      "30 2019-10-31 00:00:00\n",
      "31 2019-11-30 00:00:00\n",
      "32 2019-12-31 00:00:00\n",
      "33 2020-01-31 00:00:00\n",
      "34 2020-02-29 00:00:00\n",
      "35 2020-03-31 00:00:00\n",
      "36 2020-04-30 00:00:00\n",
      "37 2020-05-31 00:00:00\n",
      "38 2020-06-30 00:00:00\n",
      "39 2020-07-31 00:00:00\n",
      "40 2020-08-31 00:00:00\n",
      "41 2020-09-30 00:00:00\n",
      "42 2020-10-31 00:00:00\n",
      "43 2020-11-30 00:00:00\n",
      "44 2020-12-31 00:00:00\n",
      "45 2021-01-31 00:00:00\n",
      "46 2021-02-28 00:00:00\n",
      "47 2021-03-31 00:00:00\n",
      "48 2021-04-30 00:00:00\n",
      "49 2021-05-31 00:00:00\n",
      "50 2021-06-30 00:00:00\n",
      "51 2021-07-31 00:00:00\n",
      "52 2021-08-31 00:00:00\n",
      "53 2021-09-30 00:00:00\n",
      "54 2021-10-31 00:00:00\n",
      "55 2021-11-30 00:00:00\n",
      "56 2021-12-31 00:00:00\n",
      "57 2022-01-31 00:00:00\n"
     ]
    }
   ],
   "source": [
    "cost = [0, 0.001, 0.002,0.005]\n",
    "PnL = []\n",
    "for _, redemption_cost in enumerate(tqdm(cost)):\n",
    "    pl, _, _ = backtest(data, df_ret, most_common_feat,month =1, redemption_cost= redemption_cost, **best_params_saved )\n",
    "    PnL.append(pl)"
   ]
  },
  {
   "cell_type": "code",
   "execution_count": 78,
   "id": "f2477cca",
   "metadata": {},
   "outputs": [],
   "source": [
    "PnL_df = pd.DataFrame(index = dates[best_params_saved['look_back']:-1:1])"
   ]
  },
  {
   "cell_type": "code",
   "execution_count": 79,
   "id": "7dfefe81",
   "metadata": {},
   "outputs": [
    {
     "data": {
      "image/png": "[encoded data removed]",
      "text/plain": [
       "<Figure size 432x288 with 1 Axes>"
      ]
     },
     "metadata": {
      "needs_background": "light"
     },
     "output_type": "display_data"
    }
   ],
   "source": [
    "\n",
    "for i, p in enumerate(PnL):\n",
    "    #plt.plot(dates[best_params_saved['look_back']::1],np.cumsum(p) + 1 , label = cost[i])\n",
    "    PnL_df[cost[i]] = np.cumsum(p)+1\n",
    "    #perf = pd.DataFrame(np.cumsum(pl)+1,index = dates[best_params_saved['look_back']::1],columns = ['Strategy'])\n",
    "PnL_df['CSI 300'] = df_csi.Price/df_csi.Price[0]\n",
    "PnL_df.plot(title = 'Strategy Return with Varying Redemption Cost vs CSI 300')\n",
    "plt.savefig('Redemption_Fee.png')"
   ]
  },
  {
   "cell_type": "code",
   "execution_count": 37,
   "id": "c8f84b04",
   "metadata": {},
   "outputs": [],
   "source": [
    "# plt.plot(dates[study.best_params['look_back']:],np.cumsum(pl)+1)\n",
    "# (df_csi.Price/df_csi.Price[0]).plot(label='CSI')\n",
    "\n",
    "# plt.legend(['calculating top {num_features} features every month'.format(num_features = study.best_params['num_features']),'csi'],bbox_to_anchor=(1, 1))\n",
    "# plt.title('PnL')\n",
    "# plt.xlabel('time')\n",
    "# plt.ylabel('initial capital + cumulative pnl')\n",
    "# plt.show()"
   ]
  },
  {
   "cell_type": "code",
   "execution_count": 38,
   "id": "7d25059b",
   "metadata": {},
   "outputs": [],
   "source": [
    "metrics = ['mean','sharpe','max_drawdown','volatility','skew','excess_kurtosis','var','cvar']"
   ]
  },
  {
   "cell_type": "code",
   "execution_count": 39,
   "id": "ab61e5ee",
   "metadata": {},
   "outputs": [
    {
     "data": {
      "text/html": [
       "<div>\n",
       "<style scoped>\n",
       "    .dataframe tbody tr th:only-of-type {\n",
       "        vertical-align: middle;\n",
       "    }\n",
       "\n",
       "    .dataframe tbody tr th {\n",
       "        vertical-align: top;\n",
       "    }\n",
       "\n",
       "    .dataframe thead th {\n",
       "        text-align: right;\n",
       "    }\n",
       "</style>\n",
       "<table border=\"1\" class=\"dataframe\">\n",
       "  <thead>\n",
       "    <tr style=\"text-align: right;\">\n",
       "      <th></th>\n",
       "      <th>mean</th>\n",
       "      <th>sharpe</th>\n",
       "      <th>max_drawdown</th>\n",
       "      <th>volatility</th>\n",
       "      <th>skew</th>\n",
       "      <th>excess_kurtosis</th>\n",
       "      <th>var</th>\n",
       "      <th>cvar</th>\n",
       "    </tr>\n",
       "  </thead>\n",
       "  <tbody>\n",
       "    <tr>\n",
       "      <th>0.0</th>\n",
       "      <td>0.168352</td>\n",
       "      <td>0.992731</td>\n",
       "      <td>-0.106337</td>\n",
       "      <td>0.169585</td>\n",
       "      <td>1.143653</td>\n",
       "      <td>-0.164057</td>\n",
       "      <td>-0.045373</td>\n",
       "      <td>-0.069490</td>\n",
       "    </tr>\n",
       "    <tr>\n",
       "      <th>0.001</th>\n",
       "      <td>0.146733</td>\n",
       "      <td>0.802621</td>\n",
       "      <td>-0.119011</td>\n",
       "      <td>0.182817</td>\n",
       "      <td>1.074128</td>\n",
       "      <td>-0.558398</td>\n",
       "      <td>-0.052589</td>\n",
       "      <td>-0.078511</td>\n",
       "    </tr>\n",
       "    <tr>\n",
       "      <th>0.002</th>\n",
       "      <td>0.122568</td>\n",
       "      <td>0.616304</td>\n",
       "      <td>-0.134253</td>\n",
       "      <td>0.198875</td>\n",
       "      <td>1.001305</td>\n",
       "      <td>-0.953852</td>\n",
       "      <td>-0.061302</td>\n",
       "      <td>-0.089398</td>\n",
       "    </tr>\n",
       "    <tr>\n",
       "      <th>0.005</th>\n",
       "      <td>0.026792</td>\n",
       "      <td>0.096206</td>\n",
       "      <td>-0.291156</td>\n",
       "      <td>0.278481</td>\n",
       "      <td>0.790533</td>\n",
       "      <td>-1.928084</td>\n",
       "      <td>-0.100997</td>\n",
       "      <td>-0.142262</td>\n",
       "    </tr>\n",
       "    <tr>\n",
       "      <th>CSI 300</th>\n",
       "      <td>0.072306</td>\n",
       "      <td>0.431011</td>\n",
       "      <td>-0.295903</td>\n",
       "      <td>0.167758</td>\n",
       "      <td>0.296757</td>\n",
       "      <td>-2.471853</td>\n",
       "      <td>-0.076290</td>\n",
       "      <td>-0.079519</td>\n",
       "    </tr>\n",
       "  </tbody>\n",
       "</table>\n",
       "</div>"
      ],
      "text/plain": [
       "             mean    sharpe  max_drawdown  volatility      skew  \\\n",
       "0.0      0.168352  0.992731     -0.106337    0.169585  1.143653   \n",
       "0.001    0.146733  0.802621     -0.119011    0.182817  1.074128   \n",
       "0.002    0.122568  0.616304     -0.134253    0.198875  1.001305   \n",
       "0.005    0.026792  0.096206     -0.291156    0.278481  0.790533   \n",
       "CSI 300  0.072306  0.431011     -0.295903    0.167758  0.296757   \n",
       "\n",
       "         excess_kurtosis       var      cvar  \n",
       "0.0            -0.164057 -0.045373 -0.069490  \n",
       "0.001          -0.558398 -0.052589 -0.078511  \n",
       "0.002          -0.953852 -0.061302 -0.089398  \n",
       "0.005          -1.928084 -0.100997 -0.142262  \n",
       "CSI 300        -2.471853 -0.076290 -0.079519  "
      ]
     },
     "execution_count": 39,
     "metadata": {},
     "output_type": "execute_result"
    }
   ],
   "source": [
    "performance_matrix(PnL_df.pct_change(),metrics = metrics).T"
   ]
  },
  {
   "cell_type": "code",
   "execution_count": 40,
   "id": "575ccd6b",
   "metadata": {},
   "outputs": [
    {
     "data": {
      "text/plain": [
       "[[8, 50021, 519167, 160224],\n",
       " [8, 240014, 519167, 1048],\n",
       " [8, 240014, 42, 519167],\n",
       " [1899, 42, 519167, 510410],\n",
       " [1496, 161723, 3624, 165520],\n",
       " [206012, 161725, 1496, 165520],\n",
       " [1496, 159923, 40180, 519167],\n",
       " [200002, 159923, 8, 160629],\n",
       " [320010, 217027, 311, 1626],\n",
       " [8],\n",
       " [502014, 8, 160706, 150184],\n",
       " [8, 1223, 160706, 110003],\n",
       " [160706, 1766, 161032, 168204],\n",
       " [1344, 4616, 168204, 161032],\n",
       " [150036, 150064, 502014, 150213],\n",
       " [150200, 150036, 150064, 502014],\n",
       " [150200, 150231, 150196, 150186],\n",
       " [150200, 150186, 150231, 150196],\n",
       " [150200, 150186, 150231, 150223],\n",
       " [150231, 150186, 150196, 150055],\n",
       " [150200, 150231, 150184, 150186],\n",
       " [8],\n",
       " [8, 502008, 161122, 159909],\n",
       " [161122, 161726, 501009, 501005],\n",
       " [168001, 502008, 161725, 512330],\n",
       " [3190, 502008, 168001, 512900],\n",
       " [502008, 168001, 3190, 512900],\n",
       " [3190, 1956, 502008, 5310],\n",
       " [3190, 161725, 1956, 913],\n",
       " [867, 510660, 960, 671030],\n",
       " [3634, 510660, 6002, 3190],\n",
       " [1696, 913, 4851, 1717],\n",
       " [1790, 3834, 540008, 161028],\n",
       " [5927, 290010, 3834, 1790],\n",
       " [162412, 3745, 5495, 1956],\n",
       " [6002, 4851, 4189, 1717],\n",
       " [1717, 4851, 4189, 162412],\n",
       " [8],\n",
       " [6002, 3230, 161035, 4851],\n",
       " [510230, 4997, 502008, 510130],\n",
       " [163118, 6002, 510130, 6081],\n",
       " [596, 409, 594, 513],\n",
       " [4640, 163118, 4997, 4812],\n",
       " [160135, 4640, 512400, 165520],\n",
       " [4640, 2168, 5927, 160135],\n",
       " [5970, 6341, 1490, 512770],\n",
       " [4730, 3834, 2300, 5669],\n",
       " [5635, 3834, 5669, 1245],\n",
       " [5635, 159967, 828, 3834],\n",
       " [5669, 828, 3834, 1245],\n",
       " [512670, 160630, 160643, 164402],\n",
       " [160221, 8085, 165520, 512400],\n",
       " [1404, 512480, 7300, 160221],\n",
       " [512400, 160221, 1404, 165520],\n",
       " [161032, 512400, 1404, 168204],\n",
       " [161032, 161724, 168204, 159945],\n",
       " [2300, 161032, 828, 512400],\n",
       " [],\n",
       " [512670, 160630, 160643, 164402]]"
      ]
     },
     "execution_count": 40,
     "metadata": {},
     "output_type": "execute_result"
    }
   ],
   "source": [
    "funds"
   ]
  },
  {
   "cell_type": "code",
   "execution_count": 43,
   "id": "0a11b01c",
   "metadata": {},
   "outputs": [],
   "source": [
    "with open('funds.pickle','wb') as file:\n",
    "    pickle.dump(funds, file)"
   ]
  },
  {
   "cell_type": "code",
   "execution_count": 44,
   "id": "41758a60",
   "metadata": {},
   "outputs": [],
   "source": [
    "with open('features.pickle','wb') as file:\n",
    "    pickle.dump(f, file)"
   ]
  },
  {
   "cell_type": "markdown",
   "id": "50f12063",
   "metadata": {},
   "source": [
    "##### Get most common features"
   ]
  },
  {
   "cell_type": "code",
   "execution_count": 45,
   "id": "2dfa6349",
   "metadata": {},
   "outputs": [],
   "source": [
    "feature_dic = {}\n",
    "for ls in f:\n",
    "    for element in ls:\n",
    "        feature_dic[element] = feature_dic.get(element, 0) + 1\n",
    "sort_feature_dic = dict(sorted(feature_dic.items(), key=lambda item: item[1]))"
   ]
  },
  {
   "cell_type": "code",
   "execution_count": 46,
   "id": "e6440ff5",
   "metadata": {},
   "outputs": [
    {
     "data": {
      "text/plain": [
       "[('m6_stdev', 26),\n",
       " ('m3_return', 27),\n",
       " ('quarter_return', 28),\n",
       " ('m3_max_return', 28),\n",
       " ('m3_VaR', 29),\n",
       " ('m3_stdev', 30),\n",
       " ('m3_dd_a', 31),\n",
       " ('y1_sterling_a', 32),\n",
       " ('m3_sor_a', 32),\n",
       " ('m3_unsys_risk', 34)]"
      ]
     },
     "execution_count": 46,
     "metadata": {},
     "output_type": "execute_result"
    }
   ],
   "source": [
    "# Top 10 features that appeared the most (and how many times they appeared)\n",
    "list(sort_feature_dic.items())[-10:]"
   ]
  }
 ],
 "metadata": {
  "kernelspec": {
   "display_name": "Python 3 (ipykernel)",
   "language": "python",
   "name": "python3"
  },
  "language_info": {
   "codemirror_mode": {
    "name": "ipython",
    "version": 3
   },
   "file_extension": ".py",
   "mimetype": "text/x-python",
   "name": "python",
   "nbconvert_exporter": "python",
   "pygments_lexer": "ipython3",
   "version": "3.9.7"
  }
 },
 "nbformat": 4,
 "nbformat_minor": 5
}
