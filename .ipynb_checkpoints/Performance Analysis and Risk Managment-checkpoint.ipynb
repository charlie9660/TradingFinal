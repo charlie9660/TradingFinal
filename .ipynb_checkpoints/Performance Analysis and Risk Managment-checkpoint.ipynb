{
 "cells": [
  {
   "cell_type": "code",
   "execution_count": 5,
   "id": "bd81b083",
   "metadata": {},
   "outputs": [],
   "source": [
    "import pandas as pd\n",
    "import pickle"
   ]
  },
  {
   "cell_type": "code",
   "execution_count": 6,
   "id": "361df242",
   "metadata": {},
   "outputs": [],
   "source": [
    "def load_data(filename):\n",
    "    data = pickle.load(open(filename, \"rb\"))\n",
    "    data.iloc[:,1:] = data.iloc[:,1:].apply(pd.to_numeric)\n",
    "    data.statistic_date = pd.to_datetime(data.statistic_date)\n",
    "    return data"
   ]
  },
  {
   "cell_type": "code",
   "execution_count": null,
   "id": "78541b30",
   "metadata": {},
   "outputs": [],
   "source": [
    "data = load_data('data_new.pickle')\n",
    "df_ret = pd.read_pickle('ret.pickle')\n",
    "df_csi = pd.read_pickle('benchmark.pickle')\n",
    "funds = pd.read_pickle('funds.pickle')\n",
    "features = pd.read_pickle('features.pickle')\n",
    "dates = sorted(data.statistic_date.unique())"
   ]
  },
  {
   "cell_type": "code",
   "execution_count": null,
   "id": "d466712e",
   "metadata": {},
   "outputs": [],
   "source": []
  }
 ],
 "metadata": {
  "kernelspec": {
   "display_name": "Python 3 (ipykernel)",
   "language": "python",
   "name": "python3"
  },
  "language_info": {
   "codemirror_mode": {
    "name": "ipython",
    "version": 3
   },
   "file_extension": ".py",
   "mimetype": "text/x-python",
   "name": "python",
   "nbconvert_exporter": "python",
   "pygments_lexer": "ipython3",
   "version": "3.9.7"
  }
 },
 "nbformat": 4,
 "nbformat_minor": 5
}
