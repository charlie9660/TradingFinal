{
 "cells": [
  {
   "cell_type": "code",
   "execution_count": 1,
   "id": "d6282583",
   "metadata": {},
   "outputs": [],
   "source": [
    "import pandas as pd\n",
    "import matplotlib.pyplot as plt\n",
    "import credentials\n",
    "import sqlconnector as sql"
   ]
  },
  {
   "cell_type": "code",
   "execution_count": 2,
   "id": "6e90010c",
   "metadata": {},
   "outputs": [],
   "source": [
    "#pip install mysql-connector-python"
   ]
  },
  {
   "cell_type": "code",
   "execution_count": 3,
   "id": "529e47c9",
   "metadata": {},
   "outputs": [],
   "source": [
    "s = sql.sqlconnector(credentials.HOST,credentials.USER,credentials.PASSWORD,credentials.PORT,'product_mutual')"
   ]
  },
  {
   "cell_type": "code",
   "execution_count": 18,
   "id": "02bd9daf",
   "metadata": {},
   "outputs": [
    {
     "data": {
      "text/plain": [
       "146484375.0"
      ]
     },
     "execution_count": 18,
     "metadata": {},
     "output_type": "execute_result"
    }
   ],
   "source": []
  },
  {
   "cell_type": "code",
   "execution_count": 4,
   "id": "0e4da2e2",
   "metadata": {
    "scrolled": false
   },
   "outputs": [
    {
     "name": "stdout",
     "output_type": "stream",
     "text": [
      "Connection Success\n"
     ]
    }
   ],
   "source": [
    "s.connect()"
   ]
  },
  {
   "cell_type": "code",
   "execution_count": 5,
   "id": "2829f715",
   "metadata": {},
   "outputs": [],
   "source": [
    "query = \"\"\" SELECT * from \n",
    "fund_weekly_return \n",
    "where \n",
    "statistic_date > '2018-01-01'\n",
    "AND \n",
    "statistic_date < '2018-12-01'\n",
    "AND\n",
    "benchmark = 1\n",
    "LIMIT 10000\"\"\""
   ]
  },
  {
   "cell_type": "code",
   "execution_count": 12,
   "id": "da27d533",
   "metadata": {},
   "outputs": [],
   "source": [
    "query =  \"\"\"\n",
    "select * from \n",
    "fund_nv\n",
    "where fund_id = 1\n",
    "\"\"\""
   ]
  },
  {
   "cell_type": "code",
   "execution_count": 20,
   "id": "83973b34",
   "metadata": {},
   "outputs": [],
   "source": [
    "query = \"\"\"\n",
    "select max(fund_id) from \n",
    "fund_nv\n",
    "where statistic_date > '2021-12-01'\n",
    "\"\"\""
   ]
  },
  {
   "cell_type": "code",
   "execution_count": 8,
   "id": "5accd7c8",
   "metadata": {},
   "outputs": [],
   "source": [
    "query = \"\"\"\n",
    "select count(DISTINCT fund_id),statistic_date\n",
    "from fund_monthly_return \n",
    "where \n",
    "benchmark = 1\n",
    "group by\n",
    "statistic_date \n",
    "having \n",
    "statistic_date\n",
    "between \n",
    "'2010-01-01' and '2022-12-10'\n",
    "\"\"\""
   ]
  },
  {
   "cell_type": "code",
   "execution_count": 14,
   "id": "cb792ab7",
   "metadata": {},
   "outputs": [],
   "source": [
    "df_ret = s.fetch(query)"
   ]
  },
  {
   "cell_type": "code",
   "execution_count": 15,
   "id": "0c4e5596",
   "metadata": {},
   "outputs": [
    {
     "data": {
      "text/html": [
       "<div>\n",
       "<style scoped>\n",
       "    .dataframe tbody tr th:only-of-type {\n",
       "        vertical-align: middle;\n",
       "    }\n",
       "\n",
       "    .dataframe tbody tr th {\n",
       "        vertical-align: top;\n",
       "    }\n",
       "\n",
       "    .dataframe thead th {\n",
       "        text-align: right;\n",
       "    }\n",
       "</style>\n",
       "<table border=\"1\" class=\"dataframe\">\n",
       "  <thead>\n",
       "    <tr style=\"text-align: right;\">\n",
       "      <th></th>\n",
       "      <th>fund_id</th>\n",
       "      <th>fund_name</th>\n",
       "      <th>statistic_date</th>\n",
       "      <th>data_source</th>\n",
       "      <th>nav</th>\n",
       "      <th>added_nav</th>\n",
       "      <th>swanav</th>\n",
       "      <th>entry_time</th>\n",
       "      <th>update_time</th>\n",
       "    </tr>\n",
       "  </thead>\n",
       "  <tbody>\n",
       "    <tr>\n",
       "      <th>0</th>\n",
       "      <td>000001</td>\n",
       "      <td>华夏成长混合</td>\n",
       "      <td>2001-12-18</td>\n",
       "      <td>020002</td>\n",
       "      <td>1.000000</td>\n",
       "      <td>1.000000</td>\n",
       "      <td>1.000000</td>\n",
       "      <td>2017-07-12 10:44:40</td>\n",
       "      <td>2019-01-15 19:15:10</td>\n",
       "    </tr>\n",
       "    <tr>\n",
       "      <th>1</th>\n",
       "      <td>000001</td>\n",
       "      <td>华夏成长混合</td>\n",
       "      <td>2001-12-21</td>\n",
       "      <td>020002</td>\n",
       "      <td>1.000000</td>\n",
       "      <td>1.000000</td>\n",
       "      <td>1.000000</td>\n",
       "      <td>2017-08-23 17:33:15</td>\n",
       "      <td>2019-01-15 19:15:10</td>\n",
       "    </tr>\n",
       "    <tr>\n",
       "      <th>2</th>\n",
       "      <td>000001</td>\n",
       "      <td>华夏成长混合</td>\n",
       "      <td>2001-12-28</td>\n",
       "      <td>020002</td>\n",
       "      <td>1.000000</td>\n",
       "      <td>1.000000</td>\n",
       "      <td>1.000000</td>\n",
       "      <td>2017-08-23 17:33:15</td>\n",
       "      <td>2019-01-15 19:15:10</td>\n",
       "    </tr>\n",
       "    <tr>\n",
       "      <th>3</th>\n",
       "      <td>000001</td>\n",
       "      <td>华夏成长混合</td>\n",
       "      <td>2002-01-04</td>\n",
       "      <td>020002</td>\n",
       "      <td>1.000000</td>\n",
       "      <td>1.000000</td>\n",
       "      <td>1.000000</td>\n",
       "      <td>2017-07-12 10:44:40</td>\n",
       "      <td>2019-01-15 19:15:10</td>\n",
       "    </tr>\n",
       "    <tr>\n",
       "      <th>4</th>\n",
       "      <td>000001</td>\n",
       "      <td>华夏成长混合</td>\n",
       "      <td>2002-01-11</td>\n",
       "      <td>020002</td>\n",
       "      <td>1.001000</td>\n",
       "      <td>1.001000</td>\n",
       "      <td>1.001000</td>\n",
       "      <td>2017-08-23 17:33:15</td>\n",
       "      <td>2019-01-15 19:15:10</td>\n",
       "    </tr>\n",
       "    <tr>\n",
       "      <th>...</th>\n",
       "      <td>...</td>\n",
       "      <td>...</td>\n",
       "      <td>...</td>\n",
       "      <td>...</td>\n",
       "      <td>...</td>\n",
       "      <td>...</td>\n",
       "      <td>...</td>\n",
       "      <td>...</td>\n",
       "      <td>...</td>\n",
       "    </tr>\n",
       "    <tr>\n",
       "      <th>4883</th>\n",
       "      <td>000001</td>\n",
       "      <td>华夏成长混合</td>\n",
       "      <td>2022-02-07</td>\n",
       "      <td>010006</td>\n",
       "      <td>1.053000</td>\n",
       "      <td>3.614000</td>\n",
       "      <td>6.802185</td>\n",
       "      <td>2022-02-07 20:49:24</td>\n",
       "      <td>2022-02-07 20:49:25</td>\n",
       "    </tr>\n",
       "    <tr>\n",
       "      <th>4884</th>\n",
       "      <td>000001</td>\n",
       "      <td>华夏成长混合</td>\n",
       "      <td>2022-02-08</td>\n",
       "      <td>010006</td>\n",
       "      <td>1.043000</td>\n",
       "      <td>3.604000</td>\n",
       "      <td>6.737586</td>\n",
       "      <td>2022-02-08 20:45:54</td>\n",
       "      <td>2022-02-08 20:45:54</td>\n",
       "    </tr>\n",
       "    <tr>\n",
       "      <th>4885</th>\n",
       "      <td>000001</td>\n",
       "      <td>华夏成长混合</td>\n",
       "      <td>2022-02-09</td>\n",
       "      <td>020001</td>\n",
       "      <td>1.054000</td>\n",
       "      <td>3.615000</td>\n",
       "      <td>6.808644</td>\n",
       "      <td>2022-02-09 20:25:33</td>\n",
       "      <td>2022-02-09 20:25:34</td>\n",
       "    </tr>\n",
       "    <tr>\n",
       "      <th>4886</th>\n",
       "      <td>000001</td>\n",
       "      <td>华夏成长混合</td>\n",
       "      <td>2022-02-10</td>\n",
       "      <td>010006</td>\n",
       "      <td>1.048000</td>\n",
       "      <td>3.609000</td>\n",
       "      <td>6.769886</td>\n",
       "      <td>2022-02-10 20:49:51</td>\n",
       "      <td>2022-02-10 20:49:51</td>\n",
       "    </tr>\n",
       "    <tr>\n",
       "      <th>4887</th>\n",
       "      <td>000001</td>\n",
       "      <td>华夏成长混合</td>\n",
       "      <td>2022-02-11</td>\n",
       "      <td>010006</td>\n",
       "      <td>1.031000</td>\n",
       "      <td>3.592000</td>\n",
       "      <td>6.660069</td>\n",
       "      <td>2022-02-11 20:47:43</td>\n",
       "      <td>2022-02-11 20:47:44</td>\n",
       "    </tr>\n",
       "  </tbody>\n",
       "</table>\n",
       "<p>4888 rows × 9 columns</p>\n",
       "</div>"
      ],
      "text/plain": [
       "     fund_id fund_name statistic_date data_source       nav added_nav  \\\n",
       "0     000001    华夏成长混合     2001-12-18      020002  1.000000  1.000000   \n",
       "1     000001    华夏成长混合     2001-12-21      020002  1.000000  1.000000   \n",
       "2     000001    华夏成长混合     2001-12-28      020002  1.000000  1.000000   \n",
       "3     000001    华夏成长混合     2002-01-04      020002  1.000000  1.000000   \n",
       "4     000001    华夏成长混合     2002-01-11      020002  1.001000  1.001000   \n",
       "...      ...       ...            ...         ...       ...       ...   \n",
       "4883  000001    华夏成长混合     2022-02-07      010006  1.053000  3.614000   \n",
       "4884  000001    华夏成长混合     2022-02-08      010006  1.043000  3.604000   \n",
       "4885  000001    华夏成长混合     2022-02-09      020001  1.054000  3.615000   \n",
       "4886  000001    华夏成长混合     2022-02-10      010006  1.048000  3.609000   \n",
       "4887  000001    华夏成长混合     2022-02-11      010006  1.031000  3.592000   \n",
       "\n",
       "        swanav          entry_time         update_time  \n",
       "0     1.000000 2017-07-12 10:44:40 2019-01-15 19:15:10  \n",
       "1     1.000000 2017-08-23 17:33:15 2019-01-15 19:15:10  \n",
       "2     1.000000 2017-08-23 17:33:15 2019-01-15 19:15:10  \n",
       "3     1.000000 2017-07-12 10:44:40 2019-01-15 19:15:10  \n",
       "4     1.001000 2017-08-23 17:33:15 2019-01-15 19:15:10  \n",
       "...        ...                 ...                 ...  \n",
       "4883  6.802185 2022-02-07 20:49:24 2022-02-07 20:49:25  \n",
       "4884  6.737586 2022-02-08 20:45:54 2022-02-08 20:45:54  \n",
       "4885  6.808644 2022-02-09 20:25:33 2022-02-09 20:25:34  \n",
       "4886  6.769886 2022-02-10 20:49:51 2022-02-10 20:49:51  \n",
       "4887  6.660069 2022-02-11 20:47:43 2022-02-11 20:47:44  \n",
       "\n",
       "[4888 rows x 9 columns]"
      ]
     },
     "execution_count": 15,
     "metadata": {},
     "output_type": "execute_result"
    }
   ],
   "source": [
    "df_ret"
   ]
  },
  {
   "cell_type": "code",
   "execution_count": 11,
   "id": "6749bc4e",
   "metadata": {},
   "outputs": [
    {
     "data": {
      "text/plain": [
       "(array([13879., 14610., 15340., 16071., 16801., 17532., 18262., 18993.]),\n",
       " [Text(0, 0, ''),\n",
       "  Text(0, 0, ''),\n",
       "  Text(0, 0, ''),\n",
       "  Text(0, 0, ''),\n",
       "  Text(0, 0, ''),\n",
       "  Text(0, 0, ''),\n",
       "  Text(0, 0, ''),\n",
       "  Text(0, 0, '')])"
      ]
     },
     "execution_count": 11,
     "metadata": {},
     "output_type": "execute_result"
    },
    {
     "data": {
      "image/png": "[encoded data removed]",
      "text/plain": [
       "<Figure size 432x288 with 1 Axes>"
      ]
     },
     "metadata": {
      "needs_background": "light"
     },
     "output_type": "display_data"
    }
   ],
   "source": [
    "df_ret.set_index('statistic_date', inplace=True)\n",
    "df_ret.plot()\n",
    "plt.xticks(rotation = 90)"
   ]
  },
  {
   "cell_type": "code",
   "execution_count": null,
   "id": "eacbd39c",
   "metadata": {},
   "outputs": [],
   "source": []
  }
 ],
 "metadata": {
  "kernelspec": {
   "display_name": "Python 3 (ipykernel)",
   "language": "python",
   "name": "python3"
  },
  "language_info": {
   "codemirror_mode": {
    "name": "ipython",
    "version": 3
   },
   "file_extension": ".py",
   "mimetype": "text/x-python",
   "name": "python",
   "nbconvert_exporter": "python",
   "pygments_lexer": "ipython3",
   "version": "3.9.7"
  }
 },
 "nbformat": 4,
 "nbformat_minor": 5
}
