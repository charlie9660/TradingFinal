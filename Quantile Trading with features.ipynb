{
 "cells": [
  {
   "cell_type": "code",
   "execution_count": 2,
   "id": "497fcc01",
   "metadata": {},
   "outputs": [],
   "source": [
    "import pandas as pd\n",
    "import matplotlib.pyplot as plt\n",
    "import credentials\n",
    "import numpy as np\n",
    "import sqlconnector as sql\n",
    "import pickle5 as pickle\n",
    "from scipy.stats import zscore\n",
    "from sklearn.decomposition import PCA\n",
    "from scipy import stats"
   ]
  },
  {
   "cell_type": "code",
   "execution_count": 3,
   "id": "3b150298",
   "metadata": {},
   "outputs": [],
   "source": [
    "data = pickle.load(open('data_new.pickle', \"rb\"))"
   ]
  },
  {
   "cell_type": "code",
   "execution_count": 11,
   "id": "ceed6a8f",
   "metadata": {},
   "outputs": [],
   "source": [
    "# Data cleaning for CSI 300 - download daily historical data from https://www.investing.com/indices/csi300-historical-data\n",
    "\n",
    "df_csi = pd.read_csv('CSI300.csv')\n",
    "\n",
    "df_csi = df_csi.apply(lambda x: x.str.replace(',',''))\n",
    "df_csi = df_csi.apply(lambda x: x.str.replace('K','000'))\n",
    "df_csi = df_csi.apply(lambda x: x.str.replace('%',''))\n",
    "\n",
    "df_csi.Date = pd.to_datetime(df_csi.Date)\n",
    "df_csi = df_csi.sort_values(by='Date')\n",
    "df_csi = df_csi[df_csi.Date >= dates[0] - pd.Timedelta('5d')]\n",
    "\n",
    "df_csi = df_csi.reset_index(drop=True)\n",
    "df_csi.index = df_csi.Date\n",
    "df_csi.head()\n",
    "\n",
    "df_csi = df_csi.iloc[:,1:].apply(pd.to_numeric)"
   ]
  },
  {
   "cell_type": "code",
   "execution_count": 12,
   "id": "21ca82cc",
   "metadata": {},
   "outputs": [],
   "source": [
    "# Fill in dates that have no data\n",
    "\n",
    "idx = pd.date_range(df_csi.index[0], df_csi.index[-1])\n",
    "df_csi = df_csi.reindex(idx).fillna(method='ffill')"
   ]
  },
  {
   "cell_type": "code",
   "execution_count": 13,
   "id": "ee5d941d",
   "metadata": {},
   "outputs": [
    {
     "data": {
      "text/html": [
       "<div>\n",
       "<style scoped>\n",
       "    .dataframe tbody tr th:only-of-type {\n",
       "        vertical-align: middle;\n",
       "    }\n",
       "\n",
       "    .dataframe tbody tr th {\n",
       "        vertical-align: top;\n",
       "    }\n",
       "\n",
       "    .dataframe thead th {\n",
       "        text-align: right;\n",
       "    }\n",
       "</style>\n",
       "<table border=\"1\" class=\"dataframe\">\n",
       "  <thead>\n",
       "    <tr style=\"text-align: right;\">\n",
       "      <th></th>\n",
       "      <th>Price</th>\n",
       "      <th>Open</th>\n",
       "      <th>High</th>\n",
       "      <th>Low</th>\n",
       "      <th>Vol.</th>\n",
       "      <th>Change %</th>\n",
       "    </tr>\n",
       "  </thead>\n",
       "  <tbody>\n",
       "    <tr>\n",
       "      <th>2017-01-26</th>\n",
       "      <td>3387.96</td>\n",
       "      <td>3378.26</td>\n",
       "      <td>3395.88</td>\n",
       "      <td>3378.26</td>\n",
       "      <td>65.32</td>\n",
       "      <td>0.36</td>\n",
       "    </tr>\n",
       "    <tr>\n",
       "      <th>2017-01-27</th>\n",
       "      <td>3387.96</td>\n",
       "      <td>3378.26</td>\n",
       "      <td>3395.88</td>\n",
       "      <td>3378.26</td>\n",
       "      <td>65.32</td>\n",
       "      <td>0.36</td>\n",
       "    </tr>\n",
       "    <tr>\n",
       "      <th>2017-01-28</th>\n",
       "      <td>3387.96</td>\n",
       "      <td>3378.26</td>\n",
       "      <td>3395.88</td>\n",
       "      <td>3378.26</td>\n",
       "      <td>65.32</td>\n",
       "      <td>0.36</td>\n",
       "    </tr>\n",
       "    <tr>\n",
       "      <th>2017-01-29</th>\n",
       "      <td>3387.96</td>\n",
       "      <td>3378.26</td>\n",
       "      <td>3395.88</td>\n",
       "      <td>3378.26</td>\n",
       "      <td>65.32</td>\n",
       "      <td>0.36</td>\n",
       "    </tr>\n",
       "    <tr>\n",
       "      <th>2017-01-30</th>\n",
       "      <td>3387.96</td>\n",
       "      <td>3378.26</td>\n",
       "      <td>3395.88</td>\n",
       "      <td>3378.26</td>\n",
       "      <td>65.32</td>\n",
       "      <td>0.36</td>\n",
       "    </tr>\n",
       "  </tbody>\n",
       "</table>\n",
       "</div>"
      ],
      "text/plain": [
       "              Price     Open     High      Low   Vol.  Change %\n",
       "2017-01-26  3387.96  3378.26  3395.88  3378.26  65.32      0.36\n",
       "2017-01-27  3387.96  3378.26  3395.88  3378.26  65.32      0.36\n",
       "2017-01-28  3387.96  3378.26  3395.88  3378.26  65.32      0.36\n",
       "2017-01-29  3387.96  3378.26  3395.88  3378.26  65.32      0.36\n",
       "2017-01-30  3387.96  3378.26  3395.88  3378.26  65.32      0.36"
      ]
     },
     "execution_count": 13,
     "metadata": {},
     "output_type": "execute_result"
    }
   ],
   "source": [
    "df_csi.head()"
   ]
  },
  {
   "cell_type": "code",
   "execution_count": 14,
   "id": "eceb9e32",
   "metadata": {},
   "outputs": [],
   "source": [
    "# Calculate one month ahead return\n",
    "\n",
    "after = df_csi.reindex(df_csi.index + pd.DateOffset(months=1))\n",
    "after.index = df_csi.index\n",
    "df_csi['ret'] = (after['Price']/df_csi['Price'] - 1).fillna(method='ffill')"
   ]
  },
  {
   "cell_type": "code",
   "execution_count": null,
   "id": "06932fd4",
   "metadata": {
    "scrolled": true
   },
   "outputs": [],
   "source": [
    "#benchmark = df_csi.loc[dates]['ret'].values"
   ]
  },
  {
   "cell_type": "code",
   "execution_count": 6,
   "id": "5974b7df",
   "metadata": {},
   "outputs": [],
   "source": [
    "data.iloc[:,1:] = data.iloc[:,1:].apply(pd.to_numeric)\n"
   ]
  },
  {
   "cell_type": "code",
   "execution_count": 7,
   "id": "b647e050",
   "metadata": {},
   "outputs": [],
   "source": [
    "data.statistic_date = pd.to_datetime(data.statistic_date)"
   ]
  },
  {
   "cell_type": "code",
   "execution_count": 8,
   "id": "832e5492",
   "metadata": {},
   "outputs": [
    {
     "data": {
      "text/html": [
       "<div>\n",
       "<style scoped>\n",
       "    .dataframe tbody tr th:only-of-type {\n",
       "        vertical-align: middle;\n",
       "    }\n",
       "\n",
       "    .dataframe tbody tr th {\n",
       "        vertical-align: top;\n",
       "    }\n",
       "\n",
       "    .dataframe thead th {\n",
       "        text-align: right;\n",
       "    }\n",
       "</style>\n",
       "<table border=\"1\" class=\"dataframe\">\n",
       "  <thead>\n",
       "    <tr style=\"text-align: right;\">\n",
       "      <th></th>\n",
       "      <th>statistic_date</th>\n",
       "      <th>fund_id</th>\n",
       "      <th>ret</th>\n",
       "      <th>fee</th>\n",
       "      <th>securities_settlement_receivable</th>\n",
       "      <th>provision_settlement_fund</th>\n",
       "      <th>stock_income</th>\n",
       "      <th>total_assets</th>\n",
       "      <th>total_liabilities</th>\n",
       "      <th>refundable_deposits</th>\n",
       "      <th>...</th>\n",
       "      <th>total_skewness</th>\n",
       "      <th>total_kurtosis</th>\n",
       "      <th>total_con_rise_days</th>\n",
       "      <th>total_con_fall_days</th>\n",
       "      <th>quarter_return</th>\n",
       "      <th>total_n_earning_days</th>\n",
       "      <th>total_odds</th>\n",
       "      <th>total_max_drawdown</th>\n",
       "      <th>total_p_earning_days</th>\n",
       "      <th>total_return</th>\n",
       "    </tr>\n",
       "  </thead>\n",
       "  <tbody>\n",
       "    <tr>\n",
       "      <th>0</th>\n",
       "      <td>2017-01-31</td>\n",
       "      <td>8</td>\n",
       "      <td>0.035794</td>\n",
       "      <td>0.005</td>\n",
       "      <td>NaN</td>\n",
       "      <td>NaN</td>\n",
       "      <td>NaN</td>\n",
       "      <td>NaN</td>\n",
       "      <td>NaN</td>\n",
       "      <td>NaN</td>\n",
       "      <td>...</td>\n",
       "      <td>-1.031244</td>\n",
       "      <td>3.479692</td>\n",
       "      <td>9.0</td>\n",
       "      <td>6.0</td>\n",
       "      <td>-0.004176</td>\n",
       "      <td>392.0</td>\n",
       "      <td>0.585526</td>\n",
       "      <td>0.530764</td>\n",
       "      <td>522.0</td>\n",
       "      <td>0.706825</td>\n",
       "    </tr>\n",
       "    <tr>\n",
       "      <th>1</th>\n",
       "      <td>2017-02-28</td>\n",
       "      <td>8</td>\n",
       "      <td>-0.003764</td>\n",
       "      <td>0.005</td>\n",
       "      <td>NaN</td>\n",
       "      <td>NaN</td>\n",
       "      <td>NaN</td>\n",
       "      <td>NaN</td>\n",
       "      <td>NaN</td>\n",
       "      <td>NaN</td>\n",
       "      <td>...</td>\n",
       "      <td>-1.042016</td>\n",
       "      <td>3.587010</td>\n",
       "      <td>9.0</td>\n",
       "      <td>6.0</td>\n",
       "      <td>0.031469</td>\n",
       "      <td>397.0</td>\n",
       "      <td>0.588172</td>\n",
       "      <td>0.530764</td>\n",
       "      <td>534.0</td>\n",
       "      <td>0.767920</td>\n",
       "    </tr>\n",
       "    <tr>\n",
       "      <th>2</th>\n",
       "      <td>2017-03-31</td>\n",
       "      <td>8</td>\n",
       "      <td>-0.028563</td>\n",
       "      <td>0.005</td>\n",
       "      <td>NaN</td>\n",
       "      <td>NaN</td>\n",
       "      <td>NaN</td>\n",
       "      <td>NaN</td>\n",
       "      <td>NaN</td>\n",
       "      <td>NaN</td>\n",
       "      <td>...</td>\n",
       "      <td>-1.047920</td>\n",
       "      <td>3.712064</td>\n",
       "      <td>9.0</td>\n",
       "      <td>6.0</td>\n",
       "      <td>0.027587</td>\n",
       "      <td>408.0</td>\n",
       "      <td>0.585519</td>\n",
       "      <td>0.530764</td>\n",
       "      <td>546.0</td>\n",
       "      <td>0.761266</td>\n",
       "    </tr>\n",
       "    <tr>\n",
       "      <th>3</th>\n",
       "      <td>2017-04-30</td>\n",
       "      <td>8</td>\n",
       "      <td>-0.057333</td>\n",
       "      <td>0.005</td>\n",
       "      <td>NaN</td>\n",
       "      <td>NaN</td>\n",
       "      <td>NaN</td>\n",
       "      <td>NaN</td>\n",
       "      <td>NaN</td>\n",
       "      <td>NaN</td>\n",
       "      <td>...</td>\n",
       "      <td>-1.044859</td>\n",
       "      <td>3.762351</td>\n",
       "      <td>9.0</td>\n",
       "      <td>7.0</td>\n",
       "      <td>-0.028563</td>\n",
       "      <td>417.0</td>\n",
       "      <td>0.583934</td>\n",
       "      <td>0.530764</td>\n",
       "      <td>555.0</td>\n",
       "      <td>0.710959</td>\n",
       "    </tr>\n",
       "    <tr>\n",
       "      <th>4</th>\n",
       "      <td>2017-05-31</td>\n",
       "      <td>8</td>\n",
       "      <td>0.054007</td>\n",
       "      <td>0.005</td>\n",
       "      <td>NaN</td>\n",
       "      <td>NaN</td>\n",
       "      <td>NaN</td>\n",
       "      <td>NaN</td>\n",
       "      <td>NaN</td>\n",
       "      <td>NaN</td>\n",
       "      <td>...</td>\n",
       "      <td>-1.036409</td>\n",
       "      <td>3.797064</td>\n",
       "      <td>9.0</td>\n",
       "      <td>7.0</td>\n",
       "      <td>-0.084259</td>\n",
       "      <td>430.0</td>\n",
       "      <td>0.579213</td>\n",
       "      <td>0.530764</td>\n",
       "      <td>562.0</td>\n",
       "      <td>0.612864</td>\n",
       "    </tr>\n",
       "  </tbody>\n",
       "</table>\n",
       "<p>5 rows × 233 columns</p>\n",
       "</div>"
      ],
      "text/plain": [
       "  statistic_date  fund_id       ret    fee  securities_settlement_receivable  \\\n",
       "0     2017-01-31        8  0.035794  0.005                               NaN   \n",
       "1     2017-02-28        8 -0.003764  0.005                               NaN   \n",
       "2     2017-03-31        8 -0.028563  0.005                               NaN   \n",
       "3     2017-04-30        8 -0.057333  0.005                               NaN   \n",
       "4     2017-05-31        8  0.054007  0.005                               NaN   \n",
       "\n",
       "   provision_settlement_fund  stock_income  total_assets  total_liabilities  \\\n",
       "0                        NaN           NaN           NaN                NaN   \n",
       "1                        NaN           NaN           NaN                NaN   \n",
       "2                        NaN           NaN           NaN                NaN   \n",
       "3                        NaN           NaN           NaN                NaN   \n",
       "4                        NaN           NaN           NaN                NaN   \n",
       "\n",
       "   refundable_deposits  ...  total_skewness  total_kurtosis  \\\n",
       "0                  NaN  ...       -1.031244        3.479692   \n",
       "1                  NaN  ...       -1.042016        3.587010   \n",
       "2                  NaN  ...       -1.047920        3.712064   \n",
       "3                  NaN  ...       -1.044859        3.762351   \n",
       "4                  NaN  ...       -1.036409        3.797064   \n",
       "\n",
       "   total_con_rise_days  total_con_fall_days  quarter_return  \\\n",
       "0                  9.0                  6.0       -0.004176   \n",
       "1                  9.0                  6.0        0.031469   \n",
       "2                  9.0                  6.0        0.027587   \n",
       "3                  9.0                  7.0       -0.028563   \n",
       "4                  9.0                  7.0       -0.084259   \n",
       "\n",
       "   total_n_earning_days  total_odds  total_max_drawdown  total_p_earning_days  \\\n",
       "0                 392.0    0.585526            0.530764                 522.0   \n",
       "1                 397.0    0.588172            0.530764                 534.0   \n",
       "2                 408.0    0.585519            0.530764                 546.0   \n",
       "3                 417.0    0.583934            0.530764                 555.0   \n",
       "4                 430.0    0.579213            0.530764                 562.0   \n",
       "\n",
       "   total_return  \n",
       "0      0.706825  \n",
       "1      0.767920  \n",
       "2      0.761266  \n",
       "3      0.710959  \n",
       "4      0.612864  \n",
       "\n",
       "[5 rows x 233 columns]"
      ]
     },
     "execution_count": 8,
     "metadata": {},
     "output_type": "execute_result"
    }
   ],
   "source": [
    "data.head()"
   ]
  },
  {
   "cell_type": "code",
   "execution_count": 9,
   "id": "c674f3db",
   "metadata": {},
   "outputs": [],
   "source": [
    "dates = sorted(data.statistic_date.unique())"
   ]
  },
  {
   "cell_type": "code",
   "execution_count": 59,
   "id": "b4c90ff0",
   "metadata": {},
   "outputs": [],
   "source": [
    "features = data.columns[5:]"
   ]
  },
  {
   "cell_type": "code",
   "execution_count": 60,
   "id": "ebe30e71",
   "metadata": {},
   "outputs": [],
   "source": [
    "def quantile(data, features, num_funds=50, month=1):\n",
    "    '''\n",
    "    function that computes pnl over time for quantile trading with rebalancing every (t=month) months\n",
    "        \n",
    "    inputs: data(pd dataframe), features(list), num_funds(integer) - number of\n",
    "        funds we hold every month, month(integer) - number of month we are rebalancing\n",
    "        for\n",
    "    output: a dict where keys are features and values are list of pnls over time\n",
    "    '''\n",
    "    \n",
    "    dates = sorted(pd.to_datetime(data.statistic_date.unique()))\n",
    "    pnl = {}\n",
    "    for feature in features:\n",
    "        pnl[feature] = []\n",
    "        for date in dates[::month]:\n",
    "            df = data[(data.statistic_date == date) & (data[feature].isna() == False)].sort_values(by=feature, ascending=False)\n",
    "            ret = 0\n",
    "            funds = df.fund_id[:num_funds]\n",
    "            if month == 1:\n",
    "                ret += sum(df.ret[:num_funds])/num_funds\n",
    "            else:\n",
    "                \n",
    "                # Iterate through funds and calculate t - month look ahead return\n",
    "                for fund in funds:\n",
    "                    ret_per_fund = 1\n",
    "                    for i in range(month):\n",
    "                        if i == 0:\n",
    "                            ret_per_fund *= (1+df[df.fund_id == fund].ret.values[0]/num_funds)\n",
    "                        else:\n",
    "                            month_ret = data[(data.statistic_date == (date + pd.DateOffset(months=i))) & (data.fund_id == fund)].ret.values\n",
    "                            if month_ret.size > 0:\n",
    "                                ret_per_fund *= (1 + month_ret[0]/num_funds)\n",
    "                            else:\n",
    "                                break\n",
    "                    ret += ret_per_fund-1\n",
    "            pnl[feature].append(ret)\n",
    "    return pnl"
   ]
  },
  {
   "cell_type": "code",
   "execution_count": 77,
   "id": "a81038a2",
   "metadata": {},
   "outputs": [],
   "source": [
    "data_df = data.copy()"
   ]
  },
  {
   "cell_type": "code",
   "execution_count": 88,
   "id": "f4cf8173",
   "metadata": {},
   "outputs": [
    {
     "name": "stderr",
     "output_type": "stream",
     "text": [
      "/Users/charles/opt/anaconda3/lib/python3.9/site-packages/pandas/core/frame.py:3641: SettingWithCopyWarning: \n",
      "A value is trying to be set on a copy of a slice from a DataFrame.\n",
      "Try using .loc[row_indexer,col_indexer] = value instead\n",
      "\n",
      "See the caveats in the documentation: https://pandas.pydata.org/pandas-docs/stable/user_guide/indexing.html#returning-a-view-versus-a-copy\n",
      "  self[k1] = value[k2]\n",
      "/var/folders/sj/x531msr155b2cnd1db8frnr00000gn/T/ipykernel_62429/2514961121.py:3: SettingWithCopyWarning: \n",
      "A value is trying to be set on a copy of a slice from a DataFrame.\n",
      "Try using .loc[row_indexer,col_indexer] = value instead\n",
      "\n",
      "See the caveats in the documentation: https://pandas.pydata.org/pandas-docs/stable/user_guide/indexing.html#returning-a-view-versus-a-copy\n",
      "  test['composite'] = (test.subtract(test.mean(axis=1),axis=0)).div(test.std(axis=1),axis=0).sum(axis=1)\n",
      "/var/folders/sj/x531msr155b2cnd1db8frnr00000gn/T/ipykernel_62429/2514961121.py:4: SettingWithCopyWarning: \n",
      "A value is trying to be set on a copy of a slice from a DataFrame.\n",
      "Try using .loc[row_indexer,col_indexer] = value instead\n",
      "\n",
      "See the caveats in the documentation: https://pandas.pydata.org/pandas-docs/stable/user_guide/indexing.html#returning-a-view-versus-a-copy\n",
      "  test['ret'] = data_df.ret\n",
      "/var/folders/sj/x531msr155b2cnd1db8frnr00000gn/T/ipykernel_62429/2514961121.py:5: SettingWithCopyWarning: \n",
      "A value is trying to be set on a copy of a slice from a DataFrame.\n",
      "Try using .loc[row_indexer,col_indexer] = value instead\n",
      "\n",
      "See the caveats in the documentation: https://pandas.pydata.org/pandas-docs/stable/user_guide/indexing.html#returning-a-view-versus-a-copy\n",
      "  test['fund_id'] = data_df.fund_id\n",
      "/var/folders/sj/x531msr155b2cnd1db8frnr00000gn/T/ipykernel_62429/2514961121.py:6: SettingWithCopyWarning: \n",
      "A value is trying to be set on a copy of a slice from a DataFrame.\n",
      "Try using .loc[row_indexer,col_indexer] = value instead\n",
      "\n",
      "See the caveats in the documentation: https://pandas.pydata.org/pandas-docs/stable/user_guide/indexing.html#returning-a-view-versus-a-copy\n",
      "  test['statistic_date'] = data_df.statistic_date\n"
     ]
    }
   ],
   "source": [
    "test = data_df[[]]\n",
    "test[top_20_feature[-5:]] = data_df[top_20_feature[-5:]]\n",
    "test['composite'] = (test.subtract(test.mean(axis=1),axis=0)).div(test.std(axis=1),axis=0).sum(axis=1)\n",
    "test['ret'] = data_df.ret\n",
    "test['fund_id'] = data_df.fund_id\n",
    "test['statistic_date'] = data_df.statistic_date"
   ]
  },
  {
   "cell_type": "code",
   "execution_count": 79,
   "id": "0e97dd59",
   "metadata": {},
   "outputs": [],
   "source": [
    "data_df[features] = data_df[features] - data_df[features].rolling(3).median()"
   ]
  },
  {
   "cell_type": "code",
   "execution_count": 107,
   "id": "b5c89b40",
   "metadata": {},
   "outputs": [],
   "source": [
    "pnl = quantile(data, features, 5, 1)"
   ]
  },
  {
   "cell_type": "code",
   "execution_count": 108,
   "id": "1022f332",
   "metadata": {},
   "outputs": [],
   "source": [
    "del pnl['ret_2m']\n",
    "del pnl['ret_3m']"
   ]
  },
  {
   "cell_type": "code",
   "execution_count": 109,
   "id": "7d0c9e21",
   "metadata": {},
   "outputs": [],
   "source": [
    "pnl_df = pd.DataFrame(pnl)"
   ]
  },
  {
   "cell_type": "code",
   "execution_count": 110,
   "id": "3c87ffa8",
   "metadata": {},
   "outputs": [],
   "source": [
    "# Sort features in terms of total cumulative pnl and pick top 20\n",
    "\n",
    "cumul_pnl = {}\n",
    "for key, val in pnl.items():\n",
    "    cumul_pnl[key] = sum(val)\n",
    "    \n",
    "sort_dic = dict(sorted(cumul_pnl.items(), key=lambda item: item[1]))\n",
    "top_20_feature = list(sort_dic.keys())[-20:]"
   ]
  },
  {
   "cell_type": "code",
   "execution_count": 123,
   "id": "0ab78ac1",
   "metadata": {},
   "outputs": [
    {
     "data": {
      "text/plain": [
       "['y1_excess_a',\n",
       " 'm6_ddr3_a',\n",
       " 'y1_return_a',\n",
       " 'y1_tr_a',\n",
       " 'm3_unsys_risk',\n",
       " 'm3_sor_a',\n",
       " 'm3_max_return',\n",
       " 'y1_calmar_a',\n",
       " 'y1_stock_hm',\n",
       " 'total_mdd_time',\n",
       " 'y1_downbeta_cl',\n",
       " 'm6_downbeta_cl',\n",
       " 'm6_stdev_a',\n",
       " 'm6_stdev',\n",
       " 'm6_max_return',\n",
       " 'm6_unsys_risk',\n",
       " 'y1_jensen_a',\n",
       " 'm3_tracking_error_a',\n",
       " 'm6_tracking_error_a',\n",
       " 'y1_s_security']"
      ]
     },
     "execution_count": 123,
     "metadata": {},
     "output_type": "execute_result"
    }
   ],
   "source": [
    "top_20_feature"
   ]
  },
  {
   "cell_type": "code",
   "execution_count": 112,
   "id": "6ad339b8",
   "metadata": {},
   "outputs": [],
   "source": [
    "import math"
   ]
  },
  {
   "cell_type": "code",
   "execution_count": 113,
   "id": "d1b06af9",
   "metadata": {},
   "outputs": [
    {
     "data": {
      "image/png": "[encoded data removed]",
      "text/plain": [
       "<Figure size 432x288 with 1 Axes>"
      ]
     },
     "metadata": {
      "needs_background": "light"
     },
     "output_type": "display_data"
    }
   ],
   "source": [
    "for fea in top_20_feature[:]:\n",
    "    ts = pnl[fea]\n",
    "    ts = [0 if math.isinf(x) else x for x in ts] \n",
    "    plt.plot(dates,np.cumsum(ts)+1)\n",
    "    \n",
    "(df_csi.Price/df_csi.Price[0]).plot(label='CSI')\n",
    "\n",
    "plt.legend(top_20_feature[:],bbox_to_anchor=(1, 1))\n",
    "plt.title('Top Performaing Features')\n",
    "plt.xlabel('time')\n",
    "plt.ylabel('initial capital + cumulative pnl')\n",
    "plt.show()\n"
   ]
  },
  {
   "cell_type": "code",
   "execution_count": 114,
   "id": "a6d20559",
   "metadata": {},
   "outputs": [],
   "source": [
    "# excess_pnl = {}\n",
    "# for key, val in pnl.items():\n",
    "#     excess_pnl[key] = val - benchmark\n",
    "# excess_pnl_df = pd.DataFrame(excess_pnl)"
   ]
  },
  {
   "cell_type": "code",
   "execution_count": 115,
   "id": "3792679a",
   "metadata": {},
   "outputs": [],
   "source": [
    "# excess_pnl_df"
   ]
  },
  {
   "cell_type": "code",
   "execution_count": 116,
   "id": "df7a8c57",
   "metadata": {},
   "outputs": [],
   "source": [
    "def performance_matrix(df,metrics,annualized_factor = 12):\n",
    "\n",
    "    performance_matrix = []\n",
    "    for metric in metrics:\n",
    "        if metric == 'mean':\n",
    "            performance_matrix.append(df.mean() * annualized_factor)\n",
    "        elif metric == 'volatility':\n",
    "            performance_matrix.append(df.std() * np.sqrt(annualized_factor))\n",
    "        elif metric == 'sharpe':\n",
    "            performance_matrix.append(df.mean() * annualized_factor / (df.std() * np.sqrt(annualized_factor)))\n",
    "        elif metric == 'skew':\n",
    "            performance_matrix.append(df.skew())\n",
    "        elif metric == 'excess_kurtosis':\n",
    "            performance_matrix.append(df.kurtosis() - 3)\n",
    "        elif metric == 'var':\n",
    "            performance_matrix.append(df.quantile(0.05))\n",
    "        elif metric =='cvar':\n",
    "            performance_matrix.append(df[df < df.quantile(0.05)].mean())\n",
    "        elif metric =='max_drawdown':\n",
    "            cum_returns = (1 + df).cumprod()\n",
    "            rolling_max = cum_returns.cummax()\n",
    "            drawdown = (cum_returns - rolling_max) / rolling_max\n",
    "            performance_matrix.append(drawdown.min())\n",
    "        else:\n",
    "            raise NoSuchMetricError( 'Metric ' + metric + ' is not valid!')\n",
    "            \n",
    "    performance_matrix = pd.concat(performance_matrix,axis=1)\n",
    "    performance_matrix.columns = metrics\n",
    "\n",
    "    return performance_matrix.T"
   ]
  },
  {
   "cell_type": "code",
   "execution_count": 117,
   "id": "4b718139",
   "metadata": {},
   "outputs": [],
   "source": [
    "performance_df = performance_matrix(pnl_df, ['mean', 'volatility', 'sharpe', 'max_drawdown']).transpose()"
   ]
  },
  {
   "cell_type": "code",
   "execution_count": 118,
   "id": "8b95843c",
   "metadata": {},
   "outputs": [
    {
     "data": {
      "text/html": [
       "<div>\n",
       "<style scoped>\n",
       "    .dataframe tbody tr th:only-of-type {\n",
       "        vertical-align: middle;\n",
       "    }\n",
       "\n",
       "    .dataframe tbody tr th {\n",
       "        vertical-align: top;\n",
       "    }\n",
       "\n",
       "    .dataframe thead th {\n",
       "        text-align: right;\n",
       "    }\n",
       "</style>\n",
       "<table border=\"1\" class=\"dataframe\">\n",
       "  <thead>\n",
       "    <tr style=\"text-align: right;\">\n",
       "      <th></th>\n",
       "      <th>mean</th>\n",
       "      <th>volatility</th>\n",
       "      <th>sharpe</th>\n",
       "      <th>max_drawdown</th>\n",
       "    </tr>\n",
       "  </thead>\n",
       "  <tbody>\n",
       "    <tr>\n",
       "      <th>y1_tr_a</th>\n",
       "      <td>0.197885</td>\n",
       "      <td>0.163427</td>\n",
       "      <td>1.210842</td>\n",
       "      <td>-0.108319</td>\n",
       "    </tr>\n",
       "    <tr>\n",
       "      <th>y1_calmar_a</th>\n",
       "      <td>0.208647</td>\n",
       "      <td>0.172459</td>\n",
       "      <td>1.209835</td>\n",
       "      <td>-0.140212</td>\n",
       "    </tr>\n",
       "    <tr>\n",
       "      <th>m6_tracking_error_a</th>\n",
       "      <td>0.264453</td>\n",
       "      <td>0.230094</td>\n",
       "      <td>1.149325</td>\n",
       "      <td>-0.226873</td>\n",
       "    </tr>\n",
       "    <tr>\n",
       "      <th>y1_kappa_a</th>\n",
       "      <td>0.162224</td>\n",
       "      <td>0.141877</td>\n",
       "      <td>1.143414</td>\n",
       "      <td>-0.150577</td>\n",
       "    </tr>\n",
       "    <tr>\n",
       "      <th>y1_sor_a</th>\n",
       "      <td>0.171997</td>\n",
       "      <td>0.151747</td>\n",
       "      <td>1.133442</td>\n",
       "      <td>-0.169077</td>\n",
       "    </tr>\n",
       "    <tr>\n",
       "      <th>y1_jensen_a</th>\n",
       "      <td>0.256994</td>\n",
       "      <td>0.229834</td>\n",
       "      <td>1.118174</td>\n",
       "      <td>-0.263229</td>\n",
       "    </tr>\n",
       "    <tr>\n",
       "      <th>m3_sor_a</th>\n",
       "      <td>0.200748</td>\n",
       "      <td>0.179657</td>\n",
       "      <td>1.117396</td>\n",
       "      <td>-0.221941</td>\n",
       "    </tr>\n",
       "    <tr>\n",
       "      <th>m6_unsys_risk</th>\n",
       "      <td>0.252005</td>\n",
       "      <td>0.226240</td>\n",
       "      <td>1.113885</td>\n",
       "      <td>-0.236060</td>\n",
       "    </tr>\n",
       "    <tr>\n",
       "      <th>m6_downbeta_cl</th>\n",
       "      <td>0.229404</td>\n",
       "      <td>0.208304</td>\n",
       "      <td>1.101295</td>\n",
       "      <td>-0.260470</td>\n",
       "    </tr>\n",
       "    <tr>\n",
       "      <th>y1_sterling_a</th>\n",
       "      <td>0.169279</td>\n",
       "      <td>0.158061</td>\n",
       "      <td>1.070977</td>\n",
       "      <td>-0.191763</td>\n",
       "    </tr>\n",
       "  </tbody>\n",
       "</table>\n",
       "</div>"
      ],
      "text/plain": [
       "                         mean  volatility    sharpe  max_drawdown\n",
       "y1_tr_a              0.197885    0.163427  1.210842     -0.108319\n",
       "y1_calmar_a          0.208647    0.172459  1.209835     -0.140212\n",
       "m6_tracking_error_a  0.264453    0.230094  1.149325     -0.226873\n",
       "y1_kappa_a           0.162224    0.141877  1.143414     -0.150577\n",
       "y1_sor_a             0.171997    0.151747  1.133442     -0.169077\n",
       "y1_jensen_a          0.256994    0.229834  1.118174     -0.263229\n",
       "m3_sor_a             0.200748    0.179657  1.117396     -0.221941\n",
       "m6_unsys_risk        0.252005    0.226240  1.113885     -0.236060\n",
       "m6_downbeta_cl       0.229404    0.208304  1.101295     -0.260470\n",
       "y1_sterling_a        0.169279    0.158061  1.070977     -0.191763"
      ]
     },
     "execution_count": 118,
     "metadata": {},
     "output_type": "execute_result"
    }
   ],
   "source": [
    "performance_df.sort_values(by='sharpe', ascending=False).head(10)"
   ]
  },
  {
   "cell_type": "code",
   "execution_count": 119,
   "id": "2b2f0446",
   "metadata": {},
   "outputs": [
    {
     "data": {
      "text/html": [
       "<div>\n",
       "<style scoped>\n",
       "    .dataframe tbody tr th:only-of-type {\n",
       "        vertical-align: middle;\n",
       "    }\n",
       "\n",
       "    .dataframe tbody tr th {\n",
       "        vertical-align: top;\n",
       "    }\n",
       "\n",
       "    .dataframe thead th {\n",
       "        text-align: right;\n",
       "    }\n",
       "</style>\n",
       "<table border=\"1\" class=\"dataframe\">\n",
       "  <thead>\n",
       "    <tr style=\"text-align: right;\">\n",
       "      <th></th>\n",
       "      <th>mean</th>\n",
       "      <th>volatility</th>\n",
       "      <th>sharpe</th>\n",
       "      <th>max_drawdown</th>\n",
       "    </tr>\n",
       "  </thead>\n",
       "  <tbody>\n",
       "    <tr>\n",
       "      <th>y1_tr_a</th>\n",
       "      <td>0.197885</td>\n",
       "      <td>0.163427</td>\n",
       "      <td>1.210842</td>\n",
       "      <td>-0.108319</td>\n",
       "    </tr>\n",
       "    <tr>\n",
       "      <th>y1_ERCVaR</th>\n",
       "      <td>0.056949</td>\n",
       "      <td>0.106252</td>\n",
       "      <td>0.535974</td>\n",
       "      <td>-0.121864</td>\n",
       "    </tr>\n",
       "    <tr>\n",
       "      <th>total_calmar_a</th>\n",
       "      <td>0.109674</td>\n",
       "      <td>0.151306</td>\n",
       "      <td>0.724850</td>\n",
       "      <td>-0.122049</td>\n",
       "    </tr>\n",
       "    <tr>\n",
       "      <th>y1_min_return</th>\n",
       "      <td>0.053601</td>\n",
       "      <td>0.125008</td>\n",
       "      <td>0.428780</td>\n",
       "      <td>-0.123685</td>\n",
       "    </tr>\n",
       "    <tr>\n",
       "      <th>y1_adjusted_jensen_a</th>\n",
       "      <td>0.144194</td>\n",
       "      <td>0.148913</td>\n",
       "      <td>0.968309</td>\n",
       "      <td>-0.123904</td>\n",
       "    </tr>\n",
       "    <tr>\n",
       "      <th>...</th>\n",
       "      <td>...</td>\n",
       "      <td>...</td>\n",
       "      <td>...</td>\n",
       "      <td>...</td>\n",
       "    </tr>\n",
       "    <tr>\n",
       "      <th>total_VaR</th>\n",
       "      <td>0.097737</td>\n",
       "      <td>0.199557</td>\n",
       "      <td>0.489772</td>\n",
       "      <td>-0.357144</td>\n",
       "    </tr>\n",
       "    <tr>\n",
       "      <th>total_dd_a</th>\n",
       "      <td>0.066452</td>\n",
       "      <td>0.205096</td>\n",
       "      <td>0.324007</td>\n",
       "      <td>-0.361834</td>\n",
       "    </tr>\n",
       "    <tr>\n",
       "      <th>total_CVaR</th>\n",
       "      <td>0.171996</td>\n",
       "      <td>0.360625</td>\n",
       "      <td>0.476939</td>\n",
       "      <td>-0.363813</td>\n",
       "    </tr>\n",
       "    <tr>\n",
       "      <th>quarter_return</th>\n",
       "      <td>0.153342</td>\n",
       "      <td>0.240445</td>\n",
       "      <td>0.637743</td>\n",
       "      <td>-0.371150</td>\n",
       "    </tr>\n",
       "    <tr>\n",
       "      <th>m6_beta</th>\n",
       "      <td>0.172746</td>\n",
       "      <td>0.227843</td>\n",
       "      <td>0.758180</td>\n",
       "      <td>-0.391639</td>\n",
       "    </tr>\n",
       "  </tbody>\n",
       "</table>\n",
       "<p>226 rows × 4 columns</p>\n",
       "</div>"
      ],
      "text/plain": [
       "                          mean  volatility    sharpe  max_drawdown\n",
       "y1_tr_a               0.197885    0.163427  1.210842     -0.108319\n",
       "y1_ERCVaR             0.056949    0.106252  0.535974     -0.121864\n",
       "total_calmar_a        0.109674    0.151306  0.724850     -0.122049\n",
       "y1_min_return         0.053601    0.125008  0.428780     -0.123685\n",
       "y1_adjusted_jensen_a  0.144194    0.148913  0.968309     -0.123904\n",
       "...                        ...         ...       ...           ...\n",
       "total_VaR             0.097737    0.199557  0.489772     -0.357144\n",
       "total_dd_a            0.066452    0.205096  0.324007     -0.361834\n",
       "total_CVaR            0.171996    0.360625  0.476939     -0.363813\n",
       "quarter_return        0.153342    0.240445  0.637743     -0.371150\n",
       "m6_beta               0.172746    0.227843  0.758180     -0.391639\n",
       "\n",
       "[226 rows x 4 columns]"
      ]
     },
     "execution_count": 119,
     "metadata": {},
     "output_type": "execute_result"
    }
   ],
   "source": [
    "performance_df.sort_values(by='max_drawdown', ascending=False)"
   ]
  },
  {
   "cell_type": "code",
   "execution_count": 120,
   "id": "3e5586e4",
   "metadata": {},
   "outputs": [
    {
     "data": {
      "text/html": [
       "<div>\n",
       "<style scoped>\n",
       "    .dataframe tbody tr th:only-of-type {\n",
       "        vertical-align: middle;\n",
       "    }\n",
       "\n",
       "    .dataframe tbody tr th {\n",
       "        vertical-align: top;\n",
       "    }\n",
       "\n",
       "    .dataframe thead th {\n",
       "        text-align: right;\n",
       "    }\n",
       "</style>\n",
       "<table border=\"1\" class=\"dataframe\">\n",
       "  <thead>\n",
       "    <tr style=\"text-align: right;\">\n",
       "      <th></th>\n",
       "      <th>mean</th>\n",
       "      <th>volatility</th>\n",
       "      <th>sharpe</th>\n",
       "      <th>max_drawdown</th>\n",
       "    </tr>\n",
       "  </thead>\n",
       "  <tbody>\n",
       "    <tr>\n",
       "      <th>total_kurtosis</th>\n",
       "      <td>0.062072</td>\n",
       "      <td>0.105493</td>\n",
       "      <td>0.588395</td>\n",
       "      <td>-0.133726</td>\n",
       "    </tr>\n",
       "    <tr>\n",
       "      <th>y1_ERCVaR</th>\n",
       "      <td>0.056949</td>\n",
       "      <td>0.106252</td>\n",
       "      <td>0.535974</td>\n",
       "      <td>-0.121864</td>\n",
       "    </tr>\n",
       "    <tr>\n",
       "      <th>total_p_earning_days</th>\n",
       "      <td>0.052512</td>\n",
       "      <td>0.106357</td>\n",
       "      <td>0.493735</td>\n",
       "      <td>-0.173412</td>\n",
       "    </tr>\n",
       "    <tr>\n",
       "      <th>y1_assess_ratio</th>\n",
       "      <td>0.050638</td>\n",
       "      <td>0.106471</td>\n",
       "      <td>0.475607</td>\n",
       "      <td>-0.152645</td>\n",
       "    </tr>\n",
       "    <tr>\n",
       "      <th>total_n_earning_days</th>\n",
       "      <td>0.051715</td>\n",
       "      <td>0.108610</td>\n",
       "      <td>0.476155</td>\n",
       "      <td>-0.177194</td>\n",
       "    </tr>\n",
       "    <tr>\n",
       "      <th>...</th>\n",
       "      <td>...</td>\n",
       "      <td>...</td>\n",
       "      <td>...</td>\n",
       "      <td>...</td>\n",
       "    </tr>\n",
       "    <tr>\n",
       "      <th>y1_s_security</th>\n",
       "      <td>0.264630</td>\n",
       "      <td>0.251097</td>\n",
       "      <td>1.053895</td>\n",
       "      <td>-0.301029</td>\n",
       "    </tr>\n",
       "    <tr>\n",
       "      <th>m6_jensen_a</th>\n",
       "      <td>0.147822</td>\n",
       "      <td>0.252009</td>\n",
       "      <td>0.586572</td>\n",
       "      <td>-0.331760</td>\n",
       "    </tr>\n",
       "    <tr>\n",
       "      <th>m6_max_return</th>\n",
       "      <td>0.250989</td>\n",
       "      <td>0.260091</td>\n",
       "      <td>0.965005</td>\n",
       "      <td>-0.310126</td>\n",
       "    </tr>\n",
       "    <tr>\n",
       "      <th>m6_s_security</th>\n",
       "      <td>0.159943</td>\n",
       "      <td>0.260185</td>\n",
       "      <td>0.614729</td>\n",
       "      <td>-0.331187</td>\n",
       "    </tr>\n",
       "    <tr>\n",
       "      <th>total_CVaR</th>\n",
       "      <td>0.171996</td>\n",
       "      <td>0.360625</td>\n",
       "      <td>0.476939</td>\n",
       "      <td>-0.363813</td>\n",
       "    </tr>\n",
       "  </tbody>\n",
       "</table>\n",
       "<p>226 rows × 4 columns</p>\n",
       "</div>"
      ],
      "text/plain": [
       "                          mean  volatility    sharpe  max_drawdown\n",
       "total_kurtosis        0.062072    0.105493  0.588395     -0.133726\n",
       "y1_ERCVaR             0.056949    0.106252  0.535974     -0.121864\n",
       "total_p_earning_days  0.052512    0.106357  0.493735     -0.173412\n",
       "y1_assess_ratio       0.050638    0.106471  0.475607     -0.152645\n",
       "total_n_earning_days  0.051715    0.108610  0.476155     -0.177194\n",
       "...                        ...         ...       ...           ...\n",
       "y1_s_security         0.264630    0.251097  1.053895     -0.301029\n",
       "m6_jensen_a           0.147822    0.252009  0.586572     -0.331760\n",
       "m6_max_return         0.250989    0.260091  0.965005     -0.310126\n",
       "m6_s_security         0.159943    0.260185  0.614729     -0.331187\n",
       "total_CVaR            0.171996    0.360625  0.476939     -0.363813\n",
       "\n",
       "[226 rows x 4 columns]"
      ]
     },
     "execution_count": 120,
     "metadata": {},
     "output_type": "execute_result"
    }
   ],
   "source": [
    "performance_df.sort_values(by='volatility')"
   ]
  },
  {
   "cell_type": "code",
   "execution_count": 121,
   "id": "f87f8ed0",
   "metadata": {},
   "outputs": [],
   "source": [
    "def quantile_all_features(data, features):\n",
    "    \n",
    "    col = features+['fund_id']\n",
    "    dates = data.statistic_date.unique()\n",
    "    pnl = []\n",
    "    hold = []\n",
    "    for date in dates[1:]:\n",
    "        ret = 0\n",
    "        for company in hold:\n",
    "            try:\n",
    "                ret += data[(data.statistic_date == date) & (data.fund_id == company)].ret.values[0]*0.05\n",
    "            except:\n",
    "                ret += 0\n",
    "        pnl.append(ret)\n",
    "        df = data[data.statistic_date == date][col].dropna()\n",
    "        #print(df.columns)\n",
    "        df['score'] = stats.zscore(df[features]).sum(axis=1)\n",
    "        df = df.sort_values(by='score', ascending=False)\n",
    "        #print(df.fund_id)\n",
    "        hold = list(df.fund_id[:20])\n",
    "        #print(hold)\n",
    "            #print(len(df.fund_id), date)\n",
    "    return pnl"
   ]
  },
  {
   "cell_type": "code",
   "execution_count": 122,
   "id": "8b66c284",
   "metadata": {
    "scrolled": true
   },
   "outputs": [
    {
     "data": {
      "text/plain": [
       "['y1_excess_a',\n",
       " 'm6_ddr3_a',\n",
       " 'y1_return_a',\n",
       " 'y1_tr_a',\n",
       " 'm3_unsys_risk',\n",
       " 'm3_sor_a',\n",
       " 'm3_max_return',\n",
       " 'y1_calmar_a',\n",
       " 'y1_stock_hm',\n",
       " 'total_mdd_time',\n",
       " 'y1_downbeta_cl',\n",
       " 'm6_downbeta_cl',\n",
       " 'm6_stdev_a',\n",
       " 'm6_stdev',\n",
       " 'm6_max_return',\n",
       " 'm6_unsys_risk',\n",
       " 'y1_jensen_a',\n",
       " 'm3_tracking_error_a',\n",
       " 'm6_tracking_error_a',\n",
       " 'y1_s_security']"
      ]
     },
     "execution_count": 122,
     "metadata": {},
     "output_type": "execute_result"
    }
   ],
   "source": [
    "top_20_feature"
   ]
  },
  {
   "cell_type": "code",
   "execution_count": 417,
   "id": "380b535f",
   "metadata": {
    "scrolled": true
   },
   "outputs": [],
   "source": [
    "pnl = quantile(data, features)"
   ]
  },
  {
   "cell_type": "code",
   "execution_count": 217,
   "id": "6ea7eb13",
   "metadata": {},
   "outputs": [],
   "source": [
    "pnl_top = quantile(data, features)"
   ]
  },
  {
   "cell_type": "code",
   "execution_count": 30,
   "id": "7969cea0",
   "metadata": {},
   "outputs": [],
   "source": [
    "pnl_all_feature = quantile_all_features(data,top_20_feature)"
   ]
  },
  {
   "cell_type": "code",
   "execution_count": 31,
   "id": "e1bf5880",
   "metadata": {},
   "outputs": [
    {
     "data": {
      "text/plain": [
       "Text(0, 0.5, 'dollar')"
      ]
     },
     "execution_count": 31,
     "metadata": {},
     "output_type": "execute_result"
    },
    {
     "data": {
      "image/png": "[encoded data removed]",
      "text/plain": [
       "<Figure size 432x288 with 1 Axes>"
      ]
     },
     "metadata": {
      "needs_background": "light"
     },
     "output_type": "display_data"
    }
   ],
   "source": [
    "plt.plot(np.cumsum(pnl_all_feature))\n",
    "plt.title('cumulative pnl over 60 months using quantile trading with top 20 features')\n",
    "plt.xlabel('month since 2017-01-01')\n",
    "plt.ylabel('dollar')"
   ]
  },
  {
   "cell_type": "code",
   "execution_count": 32,
   "id": "da54a528",
   "metadata": {},
   "outputs": [],
   "source": [
    "pnl_top_5_feature = quantile_all_features(data,top_20_feature[-5:])"
   ]
  },
  {
   "cell_type": "code",
   "execution_count": 33,
   "id": "ec8bb838",
   "metadata": {},
   "outputs": [
    {
     "data": {
      "text/plain": [
       "Text(0, 0.5, 'dollar')"
      ]
     },
     "execution_count": 33,
     "metadata": {},
     "output_type": "execute_result"
    },
    {
     "data": {
      "image/png": "[encoded data removed]",
      "text/plain": [
       "<Figure size 432x288 with 1 Axes>"
      ]
     },
     "metadata": {
      "needs_background": "light"
     },
     "output_type": "display_data"
    }
   ],
   "source": [
    "plt.plot(np.cumsum(pnl_top_5_feature))\n",
    "plt.title('cumulative pnl over 60 months using quantile trading with top 5 features')\n",
    "plt.xlabel('month since 2017-01-01')\n",
    "plt.ylabel('dollar')"
   ]
  },
  {
   "cell_type": "code",
   "execution_count": 34,
   "id": "3b3740cc",
   "metadata": {},
   "outputs": [],
   "source": [
    "pnl_top_10_feature = quantile_all_features(data,top_20_feature[-10:])"
   ]
  },
  {
   "cell_type": "code",
   "execution_count": 35,
   "id": "692e1b61",
   "metadata": {},
   "outputs": [
    {
     "data": {
      "text/plain": [
       "Text(0, 0.5, 'dollar')"
      ]
     },
     "execution_count": 35,
     "metadata": {},
     "output_type": "execute_result"
    },
    {
     "data": {
      "image/png": "[encoded data removed]",
      "text/plain": [
       "<Figure size 432x288 with 1 Axes>"
      ]
     },
     "metadata": {
      "needs_background": "light"
     },
     "output_type": "display_data"
    }
   ],
   "source": [
    "plt.plot(np.cumsum(pnl_top_10_feature))\n",
    "plt.title('cumulative pnl over 60 months using quantile trading with top 10 features')\n",
    "plt.xlabel('month since 2017-01-01')\n",
    "plt.ylabel('dollar')"
   ]
  },
  {
   "cell_type": "code",
   "execution_count": 36,
   "id": "de861843",
   "metadata": {},
   "outputs": [
    {
     "ename": "NameError",
     "evalue": "name 'quantile_all_features_two_month' is not defined",
     "output_type": "error",
     "traceback": [
      "\u001b[0;31m---------------------------------------------------------------------------\u001b[0m",
      "\u001b[0;31mNameError\u001b[0m                                 Traceback (most recent call last)",
      "\u001b[0;32m/var/folders/sj/x531msr155b2cnd1db8frnr00000gn/T/ipykernel_51088/1341717910.py\u001b[0m in \u001b[0;36m<module>\u001b[0;34m\u001b[0m\n\u001b[0;32m----> 1\u001b[0;31m \u001b[0mpnl_all_feature_20_two\u001b[0m \u001b[0;34m=\u001b[0m \u001b[0mquantile_all_features_two_month\u001b[0m\u001b[0;34m(\u001b[0m\u001b[0mdata\u001b[0m\u001b[0;34m,\u001b[0m\u001b[0mtop_20_feature\u001b[0m\u001b[0;34m)\u001b[0m\u001b[0;34m\u001b[0m\u001b[0;34m\u001b[0m\u001b[0m\n\u001b[0m",
      "\u001b[0;31mNameError\u001b[0m: name 'quantile_all_features_two_month' is not defined"
     ]
    }
   ],
   "source": [
    "pnl_all_feature_20_two = quantile_all_features_two_month(data,top_20_feature)"
   ]
  },
  {
   "cell_type": "code",
   "execution_count": 201,
   "id": "4524d690",
   "metadata": {},
   "outputs": [
    {
     "data": {
      "text/plain": [
       "Text(0, 0.5, 'dollar')"
      ]
     },
     "execution_count": 201,
     "metadata": {},
     "output_type": "execute_result"
    },
    {
     "data": {
      "image/png": "[encoded data removed]",
      "text/plain": [
       "<Figure size 432x288 with 1 Axes>"
      ]
     },
     "metadata": {
      "needs_background": "light"
     },
     "output_type": "display_data"
    }
   ],
   "source": [
    "plt.plot(np.cumsum(pnl_all_feature_20_two))\n",
    "plt.title('cumulative pnl over 60 months using quantile trading with top 20 features rebalancing every two months')\n",
    "plt.xlabel('month since 2017-01-01')\n",
    "plt.ylabel('dollar')"
   ]
  },
  {
   "cell_type": "code",
   "execution_count": 203,
   "id": "01ae2e22",
   "metadata": {},
   "outputs": [],
   "source": [
    "pnl_all_feature_10_two = quantile_all_features_two_month(data,top_20_feature[-10:])"
   ]
  },
  {
   "cell_type": "code",
   "execution_count": 204,
   "id": "6c752d99",
   "metadata": {},
   "outputs": [
    {
     "data": {
      "text/plain": [
       "Text(0, 0.5, 'dollar')"
      ]
     },
     "execution_count": 204,
     "metadata": {},
     "output_type": "execute_result"
    },
    {
     "data": {
      "image/png": "[encoded data removed]",
      "text/plain": [
       "<Figure size 432x288 with 1 Axes>"
      ]
     },
     "metadata": {
      "needs_background": "light"
     },
     "output_type": "display_data"
    }
   ],
   "source": [
    "plt.plot(np.cumsum(pnl_all_feature_10_two))\n",
    "plt.title('cumulative pnl over 60 months using quantile trading with top 10 features rebalancing every two months')\n",
    "plt.xlabel('month since 2017-01-01')\n",
    "plt.ylabel('dollar')"
   ]
  },
  {
   "cell_type": "code",
   "execution_count": 206,
   "id": "5aa70360",
   "metadata": {},
   "outputs": [],
   "source": [
    "pnl_two = quantile_two(data, top_20_feature)"
   ]
  },
  {
   "cell_type": "code",
   "execution_count": 208,
   "id": "c0dea878",
   "metadata": {},
   "outputs": [
    {
     "data": {
      "text/plain": [
       "Text(0, 0.5, 'dollar')"
      ]
     },
     "execution_count": 208,
     "metadata": {},
     "output_type": "execute_result"
    },
    {
     "data": {
      "image/png": "[encoded data removed]",
      "text/plain": [
       "<Figure size 432x288 with 1 Axes>"
      ]
     },
     "metadata": {
      "needs_background": "light"
     },
     "output_type": "display_data"
    }
   ],
   "source": [
    "for fea in top_20_feature[-5:]:\n",
    "    plt.plot(np.cumsum(pnl_two[fea]))\n",
    "plt.legend(top_20_feature[-5:])\n",
    "plt.title('cumulative pnl over 60 months using quantile trading with one feature but with rebalacing every two months')\n",
    "plt.xlabel('month since 2017-01-01')\n",
    "plt.ylabel('dollar')"
   ]
  },
  {
   "cell_type": "code",
   "execution_count": 455,
   "id": "7cd22e81",
   "metadata": {},
   "outputs": [],
   "source": [
    "import performance_matrix"
   ]
  },
  {
   "cell_type": "code",
   "execution_count": 457,
   "id": "57abfff5",
   "metadata": {},
   "outputs": [
    {
     "ename": "TypeError",
     "evalue": "performance_matrix() missing 2 required positional arguments: 'df' and 'metrics'",
     "output_type": "error",
     "traceback": [
      "\u001b[0;31m---------------------------------------------------------------------------\u001b[0m",
      "\u001b[0;31mTypeError\u001b[0m                                 Traceback (most recent call last)",
      "\u001b[0;32m/var/folders/16/81xs89nn50dd6fphfgv2vhk40000gn/T/ipykernel_4256/637317302.py\u001b[0m in \u001b[0;36m<module>\u001b[0;34m\u001b[0m\n\u001b[0;32m----> 1\u001b[0;31m \u001b[0mperformance_matrix\u001b[0m\u001b[0;34m.\u001b[0m\u001b[0mperformance_matrix\u001b[0m\u001b[0;34m(\u001b[0m\u001b[0;34m)\u001b[0m\u001b[0;34m\u001b[0m\u001b[0;34m\u001b[0m\u001b[0m\n\u001b[0m",
      "\u001b[0;31mTypeError\u001b[0m: performance_matrix() missing 2 required positional arguments: 'df' and 'metrics'"
     ]
    }
   ],
   "source": [
    "performance_matrix.performance_matrix()"
   ]
  },
  {
   "cell_type": "code",
   "execution_count": null,
   "id": "e8e9da4d",
   "metadata": {},
   "outputs": [],
   "source": []
  }
 ],
 "metadata": {
  "kernelspec": {
   "display_name": "Python 3 (ipykernel)",
   "language": "python",
   "name": "python3"
  },
  "language_info": {
   "codemirror_mode": {
    "name": "ipython",
    "version": 3
   },
   "file_extension": ".py",
   "mimetype": "text/x-python",
   "name": "python",
   "nbconvert_exporter": "python",
   "pygments_lexer": "ipython3",
   "version": "3.8.8"
  }
 },
 "nbformat": 4,
 "nbformat_minor": 5
}
